{
  "nbformat": 4,
  "nbformat_minor": 0,
  "metadata": {
    "colab": {
      "name": "Killionaire.ipynb",
      "provenance": [],
      "collapsed_sections": [],
      "authorship_tag": "ABX9TyPVBe/fG/ipqK6rWXHDCTYZ",
      "include_colab_link": true
    },
    "kernelspec": {
      "name": "python3",
      "display_name": "Python 3"
    },
    "language_info": {
      "name": "python"
    },
    "accelerator": "GPU"
  },
  "cells": [
    {
      "cell_type": "markdown",
      "metadata": {
        "id": "view-in-github",
        "colab_type": "text"
      },
      "source": [
        "<a href=\"https://colab.research.google.com/github/bibekyess/AI_practice/blob/main/Killionaire.ipynb\" target=\"_parent\"><img src=\"https://colab.research.google.com/assets/colab-badge.svg\" alt=\"Open In Colab\"/></a>"
      ]
    },
    {
      "cell_type": "code",
      "source": [
        "# Importing necessary libraries\n",
        "import pandas as pd\n",
        "import tensorflow as tf\n",
        "import matplotlib.pyplot as plt\n",
        "import numpy as np\n",
        "import tensorflow as tf\n",
        "from tensorflow.keras import layers\n",
        "import os\n"
      ],
      "metadata": {
        "id": "OCmxMZmqt9M_"
      },
      "execution_count": 1,
      "outputs": []
    },
    {
      "cell_type": "code",
      "execution_count": 2,
      "metadata": {
        "colab": {
          "base_uri": "https://localhost:8080/"
        },
        "id": "9stzsHa1m28v",
        "outputId": "db5f7eef-c5f7-4746-f5b0-eb56feb62247"
      },
      "outputs": [
        {
          "output_type": "stream",
          "name": "stdout",
          "text": [
            "--2022-06-05 07:41:39--  https://raw.githubusercontent.com/mlee687/CS470_AI-auto-trading/main/daily_single.csv\n",
            "Resolving raw.githubusercontent.com (raw.githubusercontent.com)... 185.199.109.133, 185.199.108.133, 185.199.110.133, ...\n",
            "Connecting to raw.githubusercontent.com (raw.githubusercontent.com)|185.199.109.133|:443... connected.\n",
            "HTTP request sent, awaiting response... 200 OK\n",
            "Length: 50004 (49K) [text/plain]\n",
            "Saving to: ‘daily_single.csv.1’\n",
            "\n",
            "daily_single.csv.1  100%[===================>]  48.83K  --.-KB/s    in 0.008s  \n",
            "\n",
            "2022-06-05 07:41:39 (6.25 MB/s) - ‘daily_single.csv.1’ saved [50004/50004]\n",
            "\n"
          ]
        }
      ],
      "source": [
        "# Gets the data\n",
        "!wget https://raw.githubusercontent.com/mlee687/CS470_AI-auto-trading/main/daily_single.csv"
      ]
    },
    {
      "cell_type": "code",
      "source": [
        "\"\"\"\n",
        "  Creates a bitcoin dataframe\n",
        "\"\"\"\n",
        "# Parse dates and set date column to index\n",
        "df = pd.read_csv(\"/content/daily_single.csv\", parse_dates=[\"Timestamp\"])\n",
        "df.rename(columns = {\"Daily_Close\": \"Price\"}, inplace = True)\n",
        "df['Timestamp'] = pd.to_datetime(df['Timestamp'].dt.date)\n",
        "btc_df = df.set_index('Timestamp')\n",
        "btc_df.head(), btc_df.tail()"
      ],
      "metadata": {
        "colab": {
          "base_uri": "https://localhost:8080/"
        },
        "id": "dkpM1lhwnR5u",
        "outputId": "30c582c6-13fb-4074-f454-520b930d9c2e"
      },
      "execution_count": 3,
      "outputs": [
        {
          "output_type": "execute_result",
          "data": {
            "text/plain": [
              "(             Price\n",
              " Timestamp         \n",
              " 2014-01-01  754.90\n",
              " 2014-01-02  784.19\n",
              " 2014-01-03  809.40\n",
              " 2014-01-04  828.79\n",
              " 2014-01-05  905.00,                Price\n",
              " Timestamp           \n",
              " 2021-03-26  52734.30\n",
              " 2021-03-27  54508.16\n",
              " 2021-03-28  55871.93\n",
              " 2021-03-29  57788.15\n",
              " 2021-03-30  59069.29)"
            ]
          },
          "metadata": {},
          "execution_count": 3
        }
      ]
    },
    {
      "cell_type": "code",
      "source": [
        "btc_df.info()"
      ],
      "metadata": {
        "colab": {
          "base_uri": "https://localhost:8080/"
        },
        "id": "13FGSRlanW0r",
        "outputId": "d7413a87-abbf-41ea-fd94-3bc97c3f1d59"
      },
      "execution_count": 4,
      "outputs": [
        {
          "output_type": "stream",
          "name": "stdout",
          "text": [
            "<class 'pandas.core.frame.DataFrame'>\n",
            "DatetimeIndex: 2236 entries, 2014-01-01 to 2021-03-30\n",
            "Data columns (total 1 columns):\n",
            " #   Column  Non-Null Count  Dtype  \n",
            "---  ------  --------------  -----  \n",
            " 0   Price   2236 non-null   float64\n",
            "dtypes: float64(1)\n",
            "memory usage: 34.9 KB\n"
          ]
        }
      ]
    },
    {
      "cell_type": "code",
      "source": [
        "# Displays the distribution of dataset\n",
        "btc_df.describe().transpose()"
      ],
      "metadata": {
        "colab": {
          "base_uri": "https://localhost:8080/",
          "height": 81
        },
        "id": "pRR9pZj4nZcO",
        "outputId": "062396cf-8ec2-4e04-822c-11dbcf26fda8"
      },
      "execution_count": 5,
      "outputs": [
        {
          "output_type": "execute_result",
          "data": {
            "text/plain": [
              "        count         mean          std    min       25%       50%       75%  \\\n",
              "Price  2236.0  6692.873421  9291.712386  191.0  588.5375  4563.135  9107.615   \n",
              "\n",
              "            max  \n",
              "Price  60095.59  "
            ],
            "text/html": [
              "\n",
              "  <div id=\"df-79ac9937-e948-40f6-bd5d-35695774ef62\">\n",
              "    <div class=\"colab-df-container\">\n",
              "      <div>\n",
              "<style scoped>\n",
              "    .dataframe tbody tr th:only-of-type {\n",
              "        vertical-align: middle;\n",
              "    }\n",
              "\n",
              "    .dataframe tbody tr th {\n",
              "        vertical-align: top;\n",
              "    }\n",
              "\n",
              "    .dataframe thead th {\n",
              "        text-align: right;\n",
              "    }\n",
              "</style>\n",
              "<table border=\"1\" class=\"dataframe\">\n",
              "  <thead>\n",
              "    <tr style=\"text-align: right;\">\n",
              "      <th></th>\n",
              "      <th>count</th>\n",
              "      <th>mean</th>\n",
              "      <th>std</th>\n",
              "      <th>min</th>\n",
              "      <th>25%</th>\n",
              "      <th>50%</th>\n",
              "      <th>75%</th>\n",
              "      <th>max</th>\n",
              "    </tr>\n",
              "  </thead>\n",
              "  <tbody>\n",
              "    <tr>\n",
              "      <th>Price</th>\n",
              "      <td>2236.0</td>\n",
              "      <td>6692.873421</td>\n",
              "      <td>9291.712386</td>\n",
              "      <td>191.0</td>\n",
              "      <td>588.5375</td>\n",
              "      <td>4563.135</td>\n",
              "      <td>9107.615</td>\n",
              "      <td>60095.59</td>\n",
              "    </tr>\n",
              "  </tbody>\n",
              "</table>\n",
              "</div>\n",
              "      <button class=\"colab-df-convert\" onclick=\"convertToInteractive('df-79ac9937-e948-40f6-bd5d-35695774ef62')\"\n",
              "              title=\"Convert this dataframe to an interactive table.\"\n",
              "              style=\"display:none;\">\n",
              "        \n",
              "  <svg xmlns=\"http://www.w3.org/2000/svg\" height=\"24px\"viewBox=\"0 0 24 24\"\n",
              "       width=\"24px\">\n",
              "    <path d=\"M0 0h24v24H0V0z\" fill=\"none\"/>\n",
              "    <path d=\"M18.56 5.44l.94 2.06.94-2.06 2.06-.94-2.06-.94-.94-2.06-.94 2.06-2.06.94zm-11 1L8.5 8.5l.94-2.06 2.06-.94-2.06-.94L8.5 2.5l-.94 2.06-2.06.94zm10 10l.94 2.06.94-2.06 2.06-.94-2.06-.94-.94-2.06-.94 2.06-2.06.94z\"/><path d=\"M17.41 7.96l-1.37-1.37c-.4-.4-.92-.59-1.43-.59-.52 0-1.04.2-1.43.59L10.3 9.45l-7.72 7.72c-.78.78-.78 2.05 0 2.83L4 21.41c.39.39.9.59 1.41.59.51 0 1.02-.2 1.41-.59l7.78-7.78 2.81-2.81c.8-.78.8-2.07 0-2.86zM5.41 20L4 18.59l7.72-7.72 1.47 1.35L5.41 20z\"/>\n",
              "  </svg>\n",
              "      </button>\n",
              "      \n",
              "  <style>\n",
              "    .colab-df-container {\n",
              "      display:flex;\n",
              "      flex-wrap:wrap;\n",
              "      gap: 12px;\n",
              "    }\n",
              "\n",
              "    .colab-df-convert {\n",
              "      background-color: #E8F0FE;\n",
              "      border: none;\n",
              "      border-radius: 50%;\n",
              "      cursor: pointer;\n",
              "      display: none;\n",
              "      fill: #1967D2;\n",
              "      height: 32px;\n",
              "      padding: 0 0 0 0;\n",
              "      width: 32px;\n",
              "    }\n",
              "\n",
              "    .colab-df-convert:hover {\n",
              "      background-color: #E2EBFA;\n",
              "      box-shadow: 0px 1px 2px rgba(60, 64, 67, 0.3), 0px 1px 3px 1px rgba(60, 64, 67, 0.15);\n",
              "      fill: #174EA6;\n",
              "    }\n",
              "\n",
              "    [theme=dark] .colab-df-convert {\n",
              "      background-color: #3B4455;\n",
              "      fill: #D2E3FC;\n",
              "    }\n",
              "\n",
              "    [theme=dark] .colab-df-convert:hover {\n",
              "      background-color: #434B5C;\n",
              "      box-shadow: 0px 1px 3px 1px rgba(0, 0, 0, 0.15);\n",
              "      filter: drop-shadow(0px 1px 2px rgba(0, 0, 0, 0.3));\n",
              "      fill: #FFFFFF;\n",
              "    }\n",
              "  </style>\n",
              "\n",
              "      <script>\n",
              "        const buttonEl =\n",
              "          document.querySelector('#df-79ac9937-e948-40f6-bd5d-35695774ef62 button.colab-df-convert');\n",
              "        buttonEl.style.display =\n",
              "          google.colab.kernel.accessAllowed ? 'block' : 'none';\n",
              "\n",
              "        async function convertToInteractive(key) {\n",
              "          const element = document.querySelector('#df-79ac9937-e948-40f6-bd5d-35695774ef62');\n",
              "          const dataTable =\n",
              "            await google.colab.kernel.invokeFunction('convertToInteractive',\n",
              "                                                     [key], {});\n",
              "          if (!dataTable) return;\n",
              "\n",
              "          const docLinkHtml = 'Like what you see? Visit the ' +\n",
              "            '<a target=\"_blank\" href=https://colab.research.google.com/notebooks/data_table.ipynb>data table notebook</a>'\n",
              "            + ' to learn more about interactive tables.';\n",
              "          element.innerHTML = '';\n",
              "          dataTable['output_type'] = 'display_data';\n",
              "          await google.colab.output.renderOutput(dataTable, element);\n",
              "          const docLink = document.createElement('div');\n",
              "          docLink.innerHTML = docLinkHtml;\n",
              "          element.appendChild(docLink);\n",
              "        }\n",
              "      </script>\n",
              "    </div>\n",
              "  </div>\n",
              "  "
            ]
          },
          "metadata": {},
          "execution_count": 5
        }
      ]
    },
    {
      "cell_type": "code",
      "source": [
        "# Makes training, validation and test datasets\n",
        "timesteps = btc_df.index.to_numpy()\n",
        "prices = btc_df[\"Price\"].to_numpy()\n",
        "\n",
        "# 70% train, 15% validation, 15% test\n",
        "boundary1 = int(0.7 * len(timesteps))\n",
        "boundary2 = int(0.85 * len(timesteps))\n",
        "\n",
        "X_train, Y_train = timesteps[:boundary1], prices[:boundary1]\n",
        "X_val, Y_val = timesteps[boundary1:boundary2], prices[boundary1:boundary2]\n",
        "X_test, Y_test = timesteps[boundary2:], prices[boundary2:]\n",
        "\n",
        "len(X_train), len(X_val), len(X_test), len(Y_train), len(Y_val), len(Y_test)"
      ],
      "metadata": {
        "colab": {
          "base_uri": "https://localhost:8080/"
        },
        "id": "JdeK3ALHAq9a",
        "outputId": "628d05a6-1e39-4305-8ed9-ba597b61d214"
      },
      "execution_count": 6,
      "outputs": [
        {
          "output_type": "execute_result",
          "data": {
            "text/plain": [
              "(1565, 335, 336, 1565, 335, 336)"
            ]
          },
          "metadata": {},
          "execution_count": 6
        }
      ]
    },
    {
      "cell_type": "code",
      "source": [
        "def plot_time_series(timesteps, values, format='-', start=0, end=None, label=None, xlabel='Timestamp', ylabel='Price'): \n",
        "  # for format, we can go with '.' or '-' [scatter or line] and start means offset\n",
        "  plt.plot(timesteps[start:end], values[start:end], format, label=label)\n",
        "  plt.xlabel(xlabel)\n",
        "  plt.ylabel(ylabel)\n",
        "  if label:\n",
        "    plt.legend(fontsize=14)\n",
        "  plt.grid(True)"
      ],
      "metadata": {
        "id": "3JaF7BOyol5D"
      },
      "execution_count": 7,
      "outputs": []
    },
    {
      "cell_type": "code",
      "source": [
        "plt.figure(figsize=(12,8)) # Creates a figure and adds the following plot to it\n",
        "plot_time_series(X_train, Y_train, label= \"Train\")\n",
        "plot_time_series(X_val, Y_val, label= \"Validation\")\n",
        "plot_time_series(X_test, Y_test, label = \"Test\")\n",
        "# It would be interesting to put start and end as the year"
      ],
      "metadata": {
        "colab": {
          "base_uri": "https://localhost:8080/",
          "height": 497
        },
        "id": "YEiBcnuNo2o7",
        "outputId": "2ffa8726-66a2-41ca-8f59-695cf23c71b0"
      },
      "execution_count": 8,
      "outputs": [
        {
          "output_type": "display_data",
          "data": {
            "text/plain": [
              "<Figure size 864x576 with 1 Axes>"
            ],
            "image/png": "[encoded data removed]"
          },
          "metadata": {
            "needs_background": "light"
          }
        }
      ]
    },
    {
      "cell_type": "markdown",
      "source": [
        "Naive baseline model:\n",
        "$\\hat{y}_{t} = y_{t-1}$"
      ],
      "metadata": {
        "id": "uKuss-Glo7WV"
      }
    },
    {
      "cell_type": "code",
      "source": [
        "naive_forecast = Y_test[:-1] # Gets every value excluding the last value"
      ],
      "metadata": {
        "id": "185PzbjPpHwn"
      },
      "execution_count": 9,
      "outputs": []
    },
    {
      "cell_type": "code",
      "source": [
        "# Comparing naive_forecast with the test data\n",
        "plt.figure(figsize=(10, 8))\n",
        "offset = len(X_test)-50\n",
        "plot_time_series(timesteps=X_test, values=Y_test, start = offset, format=\"-\", label=\"Test data\")\n",
        "plot_time_series(timesteps=X_test[1:], values=naive_forecast, start = offset, format=\"-\", label=\"Naive forecast\");"
      ],
      "metadata": {
        "colab": {
          "base_uri": "https://localhost:8080/",
          "height": 497
        },
        "id": "Ozg6BjEwpR2J",
        "outputId": "d6709ae3-3315-4989-ed5e-ba97a6e40287"
      },
      "execution_count": 10,
      "outputs": [
        {
          "output_type": "display_data",
          "data": {
            "text/plain": [
              "<Figure size 720x576 with 1 Axes>"
            ],
            "image/png": "[encoded data removed]"
          },
          "metadata": {
            "needs_background": "light"
          }
        }
      ]
    },
    {
      "cell_type": "code",
      "source": [
        "\"\"\"\n",
        "  returns error metrics in dictionary form\n",
        "\"\"\"\n",
        "def evaluate_preds(y_true, y_pred):\n",
        "  y_true = tf.cast(y_true, dtype=tf.float32)\n",
        "  y_pred = tf.cast(y_pred, dtype=tf.float32)\n",
        "\n",
        "  # better to use the numpy version of these too\n",
        "  mae = tf.keras.metrics.mean_absolute_error(y_true, y_pred)\n",
        "  mse = tf.keras.metrics.mean_squared_error(y_true, y_pred) # puts an emphasis on outliers (all errors get squared)\n",
        "  rmse = tf.sqrt(mse)\n",
        "  mape = tf.keras.metrics.mean_absolute_percentage_error(y_true, y_pred)\n",
        "  \n",
        "  return_dict =  {\n",
        "                  \"mae\": mae.numpy(),\n",
        "                  \"mse\": mse.numpy(),\n",
        "                  \"rmse\": rmse.numpy(),\n",
        "                  \"mape\": mape.numpy(),\n",
        "                  }\n",
        "  return return_dict\n"
      ],
      "metadata": {
        "id": "okZh1XEWpXal"
      },
      "execution_count": 11,
      "outputs": []
    },
    {
      "cell_type": "code",
      "source": [
        "naive_results = evaluate_preds(y_true=Y_test[1:],\n",
        "                               y_pred=naive_forecast)\n",
        "naive_results"
      ],
      "metadata": {
        "colab": {
          "base_uri": "https://localhost:8080/"
        },
        "id": "7LtimGKCuf-G",
        "outputId": "e014dbe9-b180-4c10-f09a-601116091fcc"
      },
      "execution_count": 12,
      "outputs": [
        {
          "output_type": "execute_result",
          "data": {
            "text/plain": [
              "{'mae': 685.7829, 'mape': 2.5663245, 'mse': 1749616.9, 'rmse': 1322.7308}"
            ]
          },
          "metadata": {},
          "execution_count": 12
        }
      ]
    },
    {
      "cell_type": "code",
      "source": [
        "\"\"\"\n",
        "  Windowing a dataset\n",
        "  Using previous 7 days data to predict the price of 1 day\n",
        "\"\"\"\n",
        "WINDOW_SIZE = 7\n",
        "HORIZON = 1"
      ],
      "metadata": {
        "id": "QN1wHHOGuiQ0"
      },
      "execution_count": 13,
      "outputs": []
    },
    {
      "cell_type": "code",
      "source": [
        "def get_labelled_windows(x, horizon=HORIZON):\n",
        "  \"\"\"\n",
        "  Creates labels for windowed dataset.\n",
        "\n",
        "  E.g. if horizon=1 (default)\n",
        "  Input: [0, 1, 2, 3, 4, 5, 6, 7] -> Output: ([0, 1, 2, 3, 4, 5, 6], [7])\n",
        "  \"\"\"\n",
        "  return x[:, :-horizon], x[:, -horizon:]"
      ],
      "metadata": {
        "id": "Wka9ojJUuuC6"
      },
      "execution_count": 14,
      "outputs": []
    },
    {
      "cell_type": "code",
      "source": [
        "def make_windows(x, window_size=WINDOW_SIZE, horizon=HORIZON):\n",
        "    \"\"\"\n",
        "    makes windows using numpy arrays' indexing\n",
        "    returns 2D array of sequential windows of window size\n",
        "    \"\"\"\n",
        "    window_step = np.expand_dims(np.arange(window_size+horizon), axis=0)\n",
        "  \n",
        "    window_indexes = window_step + np.expand_dims(np.arange(len(x) - (window_size+horizon-1)), axis=0).T # -1 to prevent window going off the last value\n",
        "\n",
        "    # Here window_indexes gives the position of the value of respective indexes, so using x[window_indexes] puts the respective x values in the position\n",
        "    # specified in the window_indexes. It only works with numpy arrays\n",
        "    windowed_array = x[window_indexes]\n",
        "    windows, labels = get_labelled_windows(windowed_array, horizon=HORIZON)\n",
        "    return windows, labels\n"
      ],
      "metadata": {
        "id": "hD3MCrQDv1xh"
      },
      "execution_count": 15,
      "outputs": []
    },
    {
      "cell_type": "code",
      "source": [
        "\"\"\"\n",
        "  Makes training, validation and test datasets in windows\n",
        "  70% train, 15% validation, 15% test\n",
        "\"\"\"\n",
        "boundary1 = int(0.85 * len(timesteps))\n",
        "prices_test = prices[boundary1:]\n",
        "prices_train_temp = prices[:boundary1]\n",
        "mean = prices_train_temp.mean()\n",
        "sd = prices_train_temp.std()\n",
        "prices_train_temp = (prices_train_temp-mean)/sd\n",
        "val_split = (0.85-0.7)/0.85\n",
        "boundary2 = int((1-val_split) * len(prices_train_temp))\n",
        "prices_train = prices_train_temp[:boundary2]\n",
        "prices_val = prices_train_temp[boundary2:]\n",
        "\n",
        "len(prices_train), len(prices_val), len(prices_test)"
      ],
      "metadata": {
        "colab": {
          "base_uri": "https://localhost:8080/"
        },
        "id": "xh8zoq3JSEcF",
        "outputId": "26745b9e-5796-4e36-da2f-dfae80c53ec5"
      },
      "execution_count": 16,
      "outputs": [
        {
          "output_type": "execute_result",
          "data": {
            "text/plain": [
              "(1564, 336, 336)"
            ]
          },
          "metadata": {},
          "execution_count": 16
        }
      ]
    },
    {
      "cell_type": "code",
      "source": [
        "train_windows, train_labels = make_windows(prices_train, WINDOW_SIZE, HORIZON)\n",
        "val_windows, val_labels = make_windows(prices_val, WINDOW_SIZE, HORIZON)\n",
        "test_windows, test_labels = make_windows(prices_test, WINDOW_SIZE, HORIZON )\n",
        "len(train_windows), len(val_windows), len(test_windows)"
      ],
      "metadata": {
        "colab": {
          "base_uri": "https://localhost:8080/"
        },
        "id": "qI5KDgdYJcBq",
        "outputId": "11dfcd94-17e4-462d-9f4c-1f7752af3f75"
      },
      "execution_count": 17,
      "outputs": [
        {
          "output_type": "execute_result",
          "data": {
            "text/plain": [
              "(1557, 329, 329)"
            ]
          },
          "metadata": {},
          "execution_count": 17
        }
      ]
    },
    {
      "cell_type": "code",
      "source": [
        "\"\"\"\n",
        "  Since we are comparing different model's performance, it is better to compare each model's best performance with another model's best\n",
        "  Model's performance is going to fluctuate epoch to epoch\n",
        "  Create a function to implement a ModelCheckpoint callback with a specific filename \n",
        "\"\"\"\n",
        "\n",
        "def create_model_checkpoint(model_name, save_path=\"models\"):\n",
        "  return tf.keras.callbacks.ModelCheckpoint(filepath=os.path.join(save_path, model_name),\n",
        "                                            monitor='val_loss',\n",
        "                                            verbose=0, # elsewise continously printout if saved or not\n",
        "                                            save_best_only=True)"
      ],
      "metadata": {
        "id": "mQRC5xqYxC9N"
      },
      "execution_count": 18,
      "outputs": []
    },
    {
      "cell_type": "code",
      "source": [
        "def early_stopping(): \n",
        "  return tf.keras.callbacks.EarlyStopping(monitor=\"val_loss\",\n",
        "                                          patience=40,\n",
        "                                          restore_best_weights=True)"
      ],
      "metadata": {
        "id": "izQblktUmwjA"
      },
      "execution_count": 19,
      "outputs": []
    },
    {
      "cell_type": "markdown",
      "source": [
        "## Finetuning the hyperparameters\n",
        "First, with a simple dense model, lets try to find out a good value for WINDOW_SIZE and batch_size"
      ],
      "metadata": {
        "id": "d7HzXmNaRnLq"
      }
    },
    {
      "cell_type": "code",
      "source": [
        "# for i in range(1, 31):\n",
        "#   WINDOW_SIZE = i\n",
        "\n",
        "#   # Make windowed data with appropriate horizon and window sizes\n",
        "#   train_windows, train_labels = make_windows(prices_train, WINDOW_SIZE, HORIZON)\n",
        "#   val_windows, val_labels = make_windows(prices_val, WINDOW_SIZE, HORIZON)\n",
        "\n",
        "#   tf.random.set_seed(42)\n",
        "#   model_2 = tf.keras.Sequential([\n",
        "#       layers.Dense(128, activation=\"relu\"),\n",
        "#       layers.Dense(HORIZON, activation=\"relu\")\n",
        "#   ], name=\"fine_tuning_window_\"+str(i))\n",
        "\n",
        "#   model_2.compile(loss='mae',\n",
        "#                   optimizer=tf.keras.optimizers.Adam())\n",
        "\n",
        "#   model_2.fit(train_windows,\n",
        "#               train_labels,\n",
        "#               epochs=100,\n",
        "#               batch_size=128,\n",
        "#               verbose=0,\n",
        "#               validation_data=(val_windows, val_labels),\n",
        "#               callbacks=[create_model_checkpoint(model_name=model_2.name)])\n"
      ],
      "metadata": {
        "colab": {
          "base_uri": "https://localhost:8080/"
        },
        "id": "IGF3zR2nSLll",
        "outputId": "81acc7f8-852a-4b93-d2d6-642f17d15b0c"
      },
      "execution_count": 27,
      "outputs": [
        {
          "output_type": "stream",
          "name": "stdout",
          "text": [
            "INFO:tensorflow:Assets written to: models/fine_tuning_window_1/assets\n",
            "INFO:tensorflow:Assets written to: models/fine_tuning_window_1/assets\n",
            "INFO:tensorflow:Assets written to: models/fine_tuning_window_1/assets\n",
            "INFO:tensorflow:Assets written to: models/fine_tuning_window_1/assets\n",
            "INFO:tensorflow:Assets written to: models/fine_tuning_window_1/assets\n",
            "INFO:tensorflow:Assets written to: models/fine_tuning_window_1/assets\n",
            "INFO:tensorflow:Assets written to: models/fine_tuning_window_1/assets\n",
            "INFO:tensorflow:Assets written to: models/fine_tuning_window_1/assets\n",
            "INFO:tensorflow:Assets written to: models/fine_tuning_window_1/assets\n",
            "INFO:tensorflow:Assets written to: models/fine_tuning_window_1/assets\n",
            "INFO:tensorflow:Assets written to: models/fine_tuning_window_1/assets\n",
            "INFO:tensorflow:Assets written to: models/fine_tuning_window_1/assets\n",
            "INFO:tensorflow:Assets written to: models/fine_tuning_window_2/assets\n",
            "INFO:tensorflow:Assets written to: models/fine_tuning_window_2/assets\n",
            "INFO:tensorflow:Assets written to: models/fine_tuning_window_2/assets\n",
            "INFO:tensorflow:Assets written to: models/fine_tuning_window_2/assets\n",
            "INFO:tensorflow:Assets written to: models/fine_tuning_window_2/assets\n",
            "INFO:tensorflow:Assets written to: models/fine_tuning_window_2/assets\n",
            "INFO:tensorflow:Assets written to: models/fine_tuning_window_2/assets\n",
            "INFO:tensorflow:Assets written to: models/fine_tuning_window_2/assets\n",
            "INFO:tensorflow:Assets written to: models/fine_tuning_window_2/assets\n",
            "INFO:tensorflow:Assets written to: models/fine_tuning_window_2/assets\n",
            "INFO:tensorflow:Assets written to: models/fine_tuning_window_2/assets\n",
            "INFO:tensorflow:Assets written to: models/fine_tuning_window_2/assets\n",
            "INFO:tensorflow:Assets written to: models/fine_tuning_window_2/assets\n",
            "INFO:tensorflow:Assets written to: models/fine_tuning_window_2/assets\n",
            "INFO:tensorflow:Assets written to: models/fine_tuning_window_2/assets\n",
            "INFO:tensorflow:Assets written to: models/fine_tuning_window_2/assets\n",
            "INFO:tensorflow:Assets written to: models/fine_tuning_window_2/assets\n",
            "INFO:tensorflow:Assets written to: models/fine_tuning_window_2/assets\n",
            "INFO:tensorflow:Assets written to: models/fine_tuning_window_2/assets\n",
            "INFO:tensorflow:Assets written to: models/fine_tuning_window_2/assets\n",
            "INFO:tensorflow:Assets written to: models/fine_tuning_window_2/assets\n",
            "INFO:tensorflow:Assets written to: models/fine_tuning_window_2/assets\n",
            "INFO:tensorflow:Assets written to: models/fine_tuning_window_2/assets\n",
            "INFO:tensorflow:Assets written to: models/fine_tuning_window_2/assets\n",
            "INFO:tensorflow:Assets written to: models/fine_tuning_window_2/assets\n",
            "INFO:tensorflow:Assets written to: models/fine_tuning_window_2/assets\n",
            "INFO:tensorflow:Assets written to: models/fine_tuning_window_3/assets\n",
            "INFO:tensorflow:Assets written to: models/fine_tuning_window_3/assets\n",
            "INFO:tensorflow:Assets written to: models/fine_tuning_window_3/assets\n",
            "INFO:tensorflow:Assets written to: models/fine_tuning_window_3/assets\n",
            "INFO:tensorflow:Assets written to: models/fine_tuning_window_3/assets\n",
            "INFO:tensorflow:Assets written to: models/fine_tuning_window_3/assets\n",
            "INFO:tensorflow:Assets written to: models/fine_tuning_window_3/assets\n",
            "INFO:tensorflow:Assets written to: models/fine_tuning_window_3/assets\n",
            "INFO:tensorflow:Assets written to: models/fine_tuning_window_3/assets\n",
            "INFO:tensorflow:Assets written to: models/fine_tuning_window_3/assets\n",
            "INFO:tensorflow:Assets written to: models/fine_tuning_window_3/assets\n",
            "INFO:tensorflow:Assets written to: models/fine_tuning_window_3/assets\n",
            "INFO:tensorflow:Assets written to: models/fine_tuning_window_3/assets\n",
            "INFO:tensorflow:Assets written to: models/fine_tuning_window_3/assets\n",
            "INFO:tensorflow:Assets written to: models/fine_tuning_window_3/assets\n",
            "INFO:tensorflow:Assets written to: models/fine_tuning_window_3/assets\n",
            "INFO:tensorflow:Assets written to: models/fine_tuning_window_3/assets\n",
            "INFO:tensorflow:Assets written to: models/fine_tuning_window_3/assets\n",
            "INFO:tensorflow:Assets written to: models/fine_tuning_window_3/assets\n",
            "INFO:tensorflow:Assets written to: models/fine_tuning_window_3/assets\n",
            "INFO:tensorflow:Assets written to: models/fine_tuning_window_3/assets\n",
            "INFO:tensorflow:Assets written to: models/fine_tuning_window_3/assets\n",
            "INFO:tensorflow:Assets written to: models/fine_tuning_window_3/assets\n",
            "INFO:tensorflow:Assets written to: models/fine_tuning_window_3/assets\n",
            "INFO:tensorflow:Assets written to: models/fine_tuning_window_3/assets\n",
            "INFO:tensorflow:Assets written to: models/fine_tuning_window_3/assets\n",
            "INFO:tensorflow:Assets written to: models/fine_tuning_window_3/assets\n",
            "INFO:tensorflow:Assets written to: models/fine_tuning_window_3/assets\n",
            "INFO:tensorflow:Assets written to: models/fine_tuning_window_3/assets\n",
            "INFO:tensorflow:Assets written to: models/fine_tuning_window_3/assets\n",
            "INFO:tensorflow:Assets written to: models/fine_tuning_window_3/assets\n",
            "INFO:tensorflow:Assets written to: models/fine_tuning_window_3/assets\n",
            "INFO:tensorflow:Assets written to: models/fine_tuning_window_3/assets\n",
            "INFO:tensorflow:Assets written to: models/fine_tuning_window_3/assets\n",
            "INFO:tensorflow:Assets written to: models/fine_tuning_window_3/assets\n",
            "INFO:tensorflow:Assets written to: models/fine_tuning_window_4/assets\n",
            "INFO:tensorflow:Assets written to: models/fine_tuning_window_4/assets\n",
            "INFO:tensorflow:Assets written to: models/fine_tuning_window_4/assets\n",
            "INFO:tensorflow:Assets written to: models/fine_tuning_window_4/assets\n",
            "INFO:tensorflow:Assets written to: models/fine_tuning_window_4/assets\n",
            "INFO:tensorflow:Assets written to: models/fine_tuning_window_4/assets\n",
            "INFO:tensorflow:Assets written to: models/fine_tuning_window_4/assets\n",
            "INFO:tensorflow:Assets written to: models/fine_tuning_window_4/assets\n",
            "INFO:tensorflow:Assets written to: models/fine_tuning_window_4/assets\n",
            "INFO:tensorflow:Assets written to: models/fine_tuning_window_4/assets\n",
            "INFO:tensorflow:Assets written to: models/fine_tuning_window_4/assets\n",
            "INFO:tensorflow:Assets written to: models/fine_tuning_window_4/assets\n",
            "INFO:tensorflow:Assets written to: models/fine_tuning_window_4/assets\n",
            "INFO:tensorflow:Assets written to: models/fine_tuning_window_4/assets\n",
            "INFO:tensorflow:Assets written to: models/fine_tuning_window_4/assets\n",
            "INFO:tensorflow:Assets written to: models/fine_tuning_window_4/assets\n",
            "INFO:tensorflow:Assets written to: models/fine_tuning_window_4/assets\n",
            "INFO:tensorflow:Assets written to: models/fine_tuning_window_4/assets\n",
            "INFO:tensorflow:Assets written to: models/fine_tuning_window_4/assets\n",
            "INFO:tensorflow:Assets written to: models/fine_tuning_window_4/assets\n",
            "INFO:tensorflow:Assets written to: models/fine_tuning_window_4/assets\n",
            "INFO:tensorflow:Assets written to: models/fine_tuning_window_4/assets\n",
            "INFO:tensorflow:Assets written to: models/fine_tuning_window_4/assets\n",
            "INFO:tensorflow:Assets written to: models/fine_tuning_window_4/assets\n",
            "INFO:tensorflow:Assets written to: models/fine_tuning_window_4/assets\n",
            "INFO:tensorflow:Assets written to: models/fine_tuning_window_4/assets\n",
            "INFO:tensorflow:Assets written to: models/fine_tuning_window_4/assets\n",
            "INFO:tensorflow:Assets written to: models/fine_tuning_window_5/assets\n",
            "INFO:tensorflow:Assets written to: models/fine_tuning_window_5/assets\n",
            "INFO:tensorflow:Assets written to: models/fine_tuning_window_5/assets\n",
            "INFO:tensorflow:Assets written to: models/fine_tuning_window_5/assets\n",
            "INFO:tensorflow:Assets written to: models/fine_tuning_window_5/assets\n",
            "INFO:tensorflow:Assets written to: models/fine_tuning_window_5/assets\n",
            "INFO:tensorflow:Assets written to: models/fine_tuning_window_5/assets\n",
            "INFO:tensorflow:Assets written to: models/fine_tuning_window_5/assets\n",
            "INFO:tensorflow:Assets written to: models/fine_tuning_window_5/assets\n",
            "INFO:tensorflow:Assets written to: models/fine_tuning_window_5/assets\n",
            "INFO:tensorflow:Assets written to: models/fine_tuning_window_5/assets\n",
            "INFO:tensorflow:Assets written to: models/fine_tuning_window_5/assets\n",
            "INFO:tensorflow:Assets written to: models/fine_tuning_window_5/assets\n",
            "INFO:tensorflow:Assets written to: models/fine_tuning_window_5/assets\n",
            "INFO:tensorflow:Assets written to: models/fine_tuning_window_5/assets\n",
            "INFO:tensorflow:Assets written to: models/fine_tuning_window_5/assets\n",
            "INFO:tensorflow:Assets written to: models/fine_tuning_window_5/assets\n",
            "INFO:tensorflow:Assets written to: models/fine_tuning_window_5/assets\n",
            "INFO:tensorflow:Assets written to: models/fine_tuning_window_5/assets\n",
            "INFO:tensorflow:Assets written to: models/fine_tuning_window_5/assets\n",
            "INFO:tensorflow:Assets written to: models/fine_tuning_window_5/assets\n",
            "INFO:tensorflow:Assets written to: models/fine_tuning_window_5/assets\n",
            "INFO:tensorflow:Assets written to: models/fine_tuning_window_5/assets\n",
            "INFO:tensorflow:Assets written to: models/fine_tuning_window_5/assets\n",
            "INFO:tensorflow:Assets written to: models/fine_tuning_window_5/assets\n",
            "INFO:tensorflow:Assets written to: models/fine_tuning_window_5/assets\n",
            "INFO:tensorflow:Assets written to: models/fine_tuning_window_5/assets\n",
            "INFO:tensorflow:Assets written to: models/fine_tuning_window_5/assets\n",
            "INFO:tensorflow:Assets written to: models/fine_tuning_window_5/assets\n",
            "INFO:tensorflow:Assets written to: models/fine_tuning_window_5/assets\n",
            "INFO:tensorflow:Assets written to: models/fine_tuning_window_6/assets\n",
            "INFO:tensorflow:Assets written to: models/fine_tuning_window_6/assets\n",
            "INFO:tensorflow:Assets written to: models/fine_tuning_window_6/assets\n",
            "INFO:tensorflow:Assets written to: models/fine_tuning_window_6/assets\n",
            "INFO:tensorflow:Assets written to: models/fine_tuning_window_6/assets\n",
            "INFO:tensorflow:Assets written to: models/fine_tuning_window_6/assets\n",
            "INFO:tensorflow:Assets written to: models/fine_tuning_window_6/assets\n",
            "INFO:tensorflow:Assets written to: models/fine_tuning_window_6/assets\n",
            "INFO:tensorflow:Assets written to: models/fine_tuning_window_6/assets\n",
            "INFO:tensorflow:Assets written to: models/fine_tuning_window_6/assets\n",
            "INFO:tensorflow:Assets written to: models/fine_tuning_window_6/assets\n",
            "INFO:tensorflow:Assets written to: models/fine_tuning_window_6/assets\n",
            "INFO:tensorflow:Assets written to: models/fine_tuning_window_6/assets\n",
            "INFO:tensorflow:Assets written to: models/fine_tuning_window_6/assets\n",
            "INFO:tensorflow:Assets written to: models/fine_tuning_window_6/assets\n",
            "INFO:tensorflow:Assets written to: models/fine_tuning_window_6/assets\n",
            "INFO:tensorflow:Assets written to: models/fine_tuning_window_6/assets\n",
            "INFO:tensorflow:Assets written to: models/fine_tuning_window_6/assets\n",
            "INFO:tensorflow:Assets written to: models/fine_tuning_window_6/assets\n",
            "INFO:tensorflow:Assets written to: models/fine_tuning_window_6/assets\n",
            "INFO:tensorflow:Assets written to: models/fine_tuning_window_7/assets\n",
            "INFO:tensorflow:Assets written to: models/fine_tuning_window_7/assets\n",
            "INFO:tensorflow:Assets written to: models/fine_tuning_window_7/assets\n",
            "INFO:tensorflow:Assets written to: models/fine_tuning_window_7/assets\n",
            "INFO:tensorflow:Assets written to: models/fine_tuning_window_7/assets\n",
            "INFO:tensorflow:Assets written to: models/fine_tuning_window_7/assets\n",
            "INFO:tensorflow:Assets written to: models/fine_tuning_window_7/assets\n",
            "INFO:tensorflow:Assets written to: models/fine_tuning_window_7/assets\n",
            "INFO:tensorflow:Assets written to: models/fine_tuning_window_7/assets\n",
            "INFO:tensorflow:Assets written to: models/fine_tuning_window_7/assets\n",
            "INFO:tensorflow:Assets written to: models/fine_tuning_window_7/assets\n",
            "INFO:tensorflow:Assets written to: models/fine_tuning_window_7/assets\n",
            "INFO:tensorflow:Assets written to: models/fine_tuning_window_7/assets\n",
            "INFO:tensorflow:Assets written to: models/fine_tuning_window_7/assets\n",
            "INFO:tensorflow:Assets written to: models/fine_tuning_window_7/assets\n",
            "INFO:tensorflow:Assets written to: models/fine_tuning_window_7/assets\n",
            "INFO:tensorflow:Assets written to: models/fine_tuning_window_7/assets\n",
            "INFO:tensorflow:Assets written to: models/fine_tuning_window_7/assets\n",
            "INFO:tensorflow:Assets written to: models/fine_tuning_window_7/assets\n",
            "INFO:tensorflow:Assets written to: models/fine_tuning_window_7/assets\n",
            "INFO:tensorflow:Assets written to: models/fine_tuning_window_7/assets\n",
            "INFO:tensorflow:Assets written to: models/fine_tuning_window_7/assets\n",
            "INFO:tensorflow:Assets written to: models/fine_tuning_window_7/assets\n",
            "INFO:tensorflow:Assets written to: models/fine_tuning_window_7/assets\n",
            "INFO:tensorflow:Assets written to: models/fine_tuning_window_7/assets\n",
            "INFO:tensorflow:Assets written to: models/fine_tuning_window_7/assets\n",
            "INFO:tensorflow:Assets written to: models/fine_tuning_window_7/assets\n",
            "INFO:tensorflow:Assets written to: models/fine_tuning_window_7/assets\n",
            "INFO:tensorflow:Assets written to: models/fine_tuning_window_7/assets\n",
            "INFO:tensorflow:Assets written to: models/fine_tuning_window_7/assets\n",
            "INFO:tensorflow:Assets written to: models/fine_tuning_window_7/assets\n",
            "INFO:tensorflow:Assets written to: models/fine_tuning_window_7/assets\n",
            "INFO:tensorflow:Assets written to: models/fine_tuning_window_8/assets\n",
            "INFO:tensorflow:Assets written to: models/fine_tuning_window_8/assets\n",
            "INFO:tensorflow:Assets written to: models/fine_tuning_window_8/assets\n",
            "INFO:tensorflow:Assets written to: models/fine_tuning_window_8/assets\n",
            "INFO:tensorflow:Assets written to: models/fine_tuning_window_8/assets\n",
            "INFO:tensorflow:Assets written to: models/fine_tuning_window_8/assets\n",
            "INFO:tensorflow:Assets written to: models/fine_tuning_window_8/assets\n",
            "INFO:tensorflow:Assets written to: models/fine_tuning_window_8/assets\n",
            "INFO:tensorflow:Assets written to: models/fine_tuning_window_8/assets\n",
            "INFO:tensorflow:Assets written to: models/fine_tuning_window_8/assets\n",
            "INFO:tensorflow:Assets written to: models/fine_tuning_window_8/assets\n",
            "INFO:tensorflow:Assets written to: models/fine_tuning_window_8/assets\n",
            "INFO:tensorflow:Assets written to: models/fine_tuning_window_8/assets\n",
            "INFO:tensorflow:Assets written to: models/fine_tuning_window_8/assets\n",
            "INFO:tensorflow:Assets written to: models/fine_tuning_window_8/assets\n",
            "INFO:tensorflow:Assets written to: models/fine_tuning_window_8/assets\n",
            "INFO:tensorflow:Assets written to: models/fine_tuning_window_8/assets\n",
            "INFO:tensorflow:Assets written to: models/fine_tuning_window_8/assets\n",
            "INFO:tensorflow:Assets written to: models/fine_tuning_window_8/assets\n",
            "INFO:tensorflow:Assets written to: models/fine_tuning_window_8/assets\n",
            "INFO:tensorflow:Assets written to: models/fine_tuning_window_8/assets\n",
            "INFO:tensorflow:Assets written to: models/fine_tuning_window_8/assets\n",
            "INFO:tensorflow:Assets written to: models/fine_tuning_window_8/assets\n",
            "INFO:tensorflow:Assets written to: models/fine_tuning_window_8/assets\n",
            "INFO:tensorflow:Assets written to: models/fine_tuning_window_8/assets\n",
            "INFO:tensorflow:Assets written to: models/fine_tuning_window_9/assets\n",
            "INFO:tensorflow:Assets written to: models/fine_tuning_window_9/assets\n",
            "INFO:tensorflow:Assets written to: models/fine_tuning_window_9/assets\n",
            "INFO:tensorflow:Assets written to: models/fine_tuning_window_9/assets\n",
            "INFO:tensorflow:Assets written to: models/fine_tuning_window_9/assets\n",
            "INFO:tensorflow:Assets written to: models/fine_tuning_window_9/assets\n",
            "INFO:tensorflow:Assets written to: models/fine_tuning_window_9/assets\n",
            "INFO:tensorflow:Assets written to: models/fine_tuning_window_9/assets\n",
            "INFO:tensorflow:Assets written to: models/fine_tuning_window_9/assets\n",
            "INFO:tensorflow:Assets written to: models/fine_tuning_window_9/assets\n",
            "INFO:tensorflow:Assets written to: models/fine_tuning_window_9/assets\n",
            "INFO:tensorflow:Assets written to: models/fine_tuning_window_9/assets\n",
            "INFO:tensorflow:Assets written to: models/fine_tuning_window_9/assets\n",
            "INFO:tensorflow:Assets written to: models/fine_tuning_window_9/assets\n",
            "INFO:tensorflow:Assets written to: models/fine_tuning_window_9/assets\n",
            "INFO:tensorflow:Assets written to: models/fine_tuning_window_9/assets\n",
            "INFO:tensorflow:Assets written to: models/fine_tuning_window_9/assets\n",
            "INFO:tensorflow:Assets written to: models/fine_tuning_window_9/assets\n",
            "INFO:tensorflow:Assets written to: models/fine_tuning_window_9/assets\n",
            "INFO:tensorflow:Assets written to: models/fine_tuning_window_9/assets\n",
            "INFO:tensorflow:Assets written to: models/fine_tuning_window_9/assets\n",
            "INFO:tensorflow:Assets written to: models/fine_tuning_window_9/assets\n",
            "INFO:tensorflow:Assets written to: models/fine_tuning_window_9/assets\n",
            "INFO:tensorflow:Assets written to: models/fine_tuning_window_9/assets\n",
            "INFO:tensorflow:Assets written to: models/fine_tuning_window_9/assets\n",
            "INFO:tensorflow:Assets written to: models/fine_tuning_window_9/assets\n",
            "INFO:tensorflow:Assets written to: models/fine_tuning_window_9/assets\n",
            "INFO:tensorflow:Assets written to: models/fine_tuning_window_9/assets\n",
            "INFO:tensorflow:Assets written to: models/fine_tuning_window_10/assets\n",
            "INFO:tensorflow:Assets written to: models/fine_tuning_window_10/assets\n",
            "INFO:tensorflow:Assets written to: models/fine_tuning_window_10/assets\n",
            "INFO:tensorflow:Assets written to: models/fine_tuning_window_10/assets\n",
            "INFO:tensorflow:Assets written to: models/fine_tuning_window_10/assets\n",
            "INFO:tensorflow:Assets written to: models/fine_tuning_window_10/assets\n",
            "INFO:tensorflow:Assets written to: models/fine_tuning_window_10/assets\n",
            "INFO:tensorflow:Assets written to: models/fine_tuning_window_10/assets\n",
            "INFO:tensorflow:Assets written to: models/fine_tuning_window_10/assets\n",
            "INFO:tensorflow:Assets written to: models/fine_tuning_window_10/assets\n",
            "INFO:tensorflow:Assets written to: models/fine_tuning_window_10/assets\n",
            "INFO:tensorflow:Assets written to: models/fine_tuning_window_10/assets\n",
            "INFO:tensorflow:Assets written to: models/fine_tuning_window_10/assets\n",
            "INFO:tensorflow:Assets written to: models/fine_tuning_window_10/assets\n",
            "INFO:tensorflow:Assets written to: models/fine_tuning_window_10/assets\n",
            "INFO:tensorflow:Assets written to: models/fine_tuning_window_10/assets\n",
            "INFO:tensorflow:Assets written to: models/fine_tuning_window_10/assets\n",
            "INFO:tensorflow:Assets written to: models/fine_tuning_window_10/assets\n",
            "INFO:tensorflow:Assets written to: models/fine_tuning_window_10/assets\n",
            "INFO:tensorflow:Assets written to: models/fine_tuning_window_10/assets\n",
            "INFO:tensorflow:Assets written to: models/fine_tuning_window_10/assets\n",
            "INFO:tensorflow:Assets written to: models/fine_tuning_window_10/assets\n",
            "INFO:tensorflow:Assets written to: models/fine_tuning_window_10/assets\n",
            "INFO:tensorflow:Assets written to: models/fine_tuning_window_10/assets\n",
            "INFO:tensorflow:Assets written to: models/fine_tuning_window_10/assets\n",
            "INFO:tensorflow:Assets written to: models/fine_tuning_window_10/assets\n",
            "INFO:tensorflow:Assets written to: models/fine_tuning_window_10/assets\n",
            "INFO:tensorflow:Assets written to: models/fine_tuning_window_11/assets\n",
            "INFO:tensorflow:Assets written to: models/fine_tuning_window_11/assets\n",
            "INFO:tensorflow:Assets written to: models/fine_tuning_window_11/assets\n",
            "INFO:tensorflow:Assets written to: models/fine_tuning_window_11/assets\n",
            "INFO:tensorflow:Assets written to: models/fine_tuning_window_11/assets\n",
            "INFO:tensorflow:Assets written to: models/fine_tuning_window_11/assets\n",
            "INFO:tensorflow:Assets written to: models/fine_tuning_window_11/assets\n",
            "INFO:tensorflow:Assets written to: models/fine_tuning_window_11/assets\n",
            "INFO:tensorflow:Assets written to: models/fine_tuning_window_11/assets\n",
            "INFO:tensorflow:Assets written to: models/fine_tuning_window_11/assets\n",
            "INFO:tensorflow:Assets written to: models/fine_tuning_window_11/assets\n",
            "INFO:tensorflow:Assets written to: models/fine_tuning_window_11/assets\n",
            "INFO:tensorflow:Assets written to: models/fine_tuning_window_11/assets\n",
            "INFO:tensorflow:Assets written to: models/fine_tuning_window_11/assets\n",
            "INFO:tensorflow:Assets written to: models/fine_tuning_window_11/assets\n",
            "INFO:tensorflow:Assets written to: models/fine_tuning_window_11/assets\n",
            "INFO:tensorflow:Assets written to: models/fine_tuning_window_11/assets\n",
            "INFO:tensorflow:Assets written to: models/fine_tuning_window_11/assets\n",
            "INFO:tensorflow:Assets written to: models/fine_tuning_window_11/assets\n",
            "INFO:tensorflow:Assets written to: models/fine_tuning_window_11/assets\n",
            "INFO:tensorflow:Assets written to: models/fine_tuning_window_11/assets\n",
            "INFO:tensorflow:Assets written to: models/fine_tuning_window_11/assets\n",
            "INFO:tensorflow:Assets written to: models/fine_tuning_window_11/assets\n",
            "INFO:tensorflow:Assets written to: models/fine_tuning_window_12/assets\n",
            "INFO:tensorflow:Assets written to: models/fine_tuning_window_12/assets\n",
            "INFO:tensorflow:Assets written to: models/fine_tuning_window_12/assets\n",
            "INFO:tensorflow:Assets written to: models/fine_tuning_window_12/assets\n",
            "INFO:tensorflow:Assets written to: models/fine_tuning_window_12/assets\n",
            "INFO:tensorflow:Assets written to: models/fine_tuning_window_12/assets\n",
            "INFO:tensorflow:Assets written to: models/fine_tuning_window_12/assets\n",
            "INFO:tensorflow:Assets written to: models/fine_tuning_window_12/assets\n",
            "INFO:tensorflow:Assets written to: models/fine_tuning_window_12/assets\n",
            "INFO:tensorflow:Assets written to: models/fine_tuning_window_12/assets\n",
            "INFO:tensorflow:Assets written to: models/fine_tuning_window_12/assets\n",
            "INFO:tensorflow:Assets written to: models/fine_tuning_window_12/assets\n",
            "INFO:tensorflow:Assets written to: models/fine_tuning_window_12/assets\n",
            "INFO:tensorflow:Assets written to: models/fine_tuning_window_12/assets\n",
            "INFO:tensorflow:Assets written to: models/fine_tuning_window_12/assets\n",
            "INFO:tensorflow:Assets written to: models/fine_tuning_window_12/assets\n",
            "INFO:tensorflow:Assets written to: models/fine_tuning_window_13/assets\n",
            "INFO:tensorflow:Assets written to: models/fine_tuning_window_13/assets\n",
            "INFO:tensorflow:Assets written to: models/fine_tuning_window_13/assets\n",
            "INFO:tensorflow:Assets written to: models/fine_tuning_window_13/assets\n",
            "INFO:tensorflow:Assets written to: models/fine_tuning_window_13/assets\n",
            "INFO:tensorflow:Assets written to: models/fine_tuning_window_13/assets\n",
            "INFO:tensorflow:Assets written to: models/fine_tuning_window_13/assets\n",
            "INFO:tensorflow:Assets written to: models/fine_tuning_window_13/assets\n",
            "INFO:tensorflow:Assets written to: models/fine_tuning_window_13/assets\n",
            "INFO:tensorflow:Assets written to: models/fine_tuning_window_13/assets\n",
            "INFO:tensorflow:Assets written to: models/fine_tuning_window_13/assets\n",
            "INFO:tensorflow:Assets written to: models/fine_tuning_window_13/assets\n",
            "INFO:tensorflow:Assets written to: models/fine_tuning_window_13/assets\n",
            "INFO:tensorflow:Assets written to: models/fine_tuning_window_13/assets\n",
            "INFO:tensorflow:Assets written to: models/fine_tuning_window_13/assets\n",
            "INFO:tensorflow:Assets written to: models/fine_tuning_window_13/assets\n",
            "INFO:tensorflow:Assets written to: models/fine_tuning_window_13/assets\n",
            "INFO:tensorflow:Assets written to: models/fine_tuning_window_13/assets\n",
            "INFO:tensorflow:Assets written to: models/fine_tuning_window_13/assets\n",
            "INFO:tensorflow:Assets written to: models/fine_tuning_window_13/assets\n",
            "INFO:tensorflow:Assets written to: models/fine_tuning_window_13/assets\n",
            "INFO:tensorflow:Assets written to: models/fine_tuning_window_14/assets\n",
            "INFO:tensorflow:Assets written to: models/fine_tuning_window_14/assets\n",
            "INFO:tensorflow:Assets written to: models/fine_tuning_window_14/assets\n",
            "INFO:tensorflow:Assets written to: models/fine_tuning_window_14/assets\n",
            "INFO:tensorflow:Assets written to: models/fine_tuning_window_14/assets\n",
            "INFO:tensorflow:Assets written to: models/fine_tuning_window_14/assets\n",
            "INFO:tensorflow:Assets written to: models/fine_tuning_window_14/assets\n",
            "INFO:tensorflow:Assets written to: models/fine_tuning_window_14/assets\n",
            "INFO:tensorflow:Assets written to: models/fine_tuning_window_14/assets\n",
            "INFO:tensorflow:Assets written to: models/fine_tuning_window_14/assets\n",
            "INFO:tensorflow:Assets written to: models/fine_tuning_window_14/assets\n",
            "INFO:tensorflow:Assets written to: models/fine_tuning_window_14/assets\n",
            "INFO:tensorflow:Assets written to: models/fine_tuning_window_14/assets\n",
            "INFO:tensorflow:Assets written to: models/fine_tuning_window_14/assets\n",
            "INFO:tensorflow:Assets written to: models/fine_tuning_window_14/assets\n",
            "INFO:tensorflow:Assets written to: models/fine_tuning_window_14/assets\n",
            "INFO:tensorflow:Assets written to: models/fine_tuning_window_14/assets\n",
            "INFO:tensorflow:Assets written to: models/fine_tuning_window_14/assets\n",
            "INFO:tensorflow:Assets written to: models/fine_tuning_window_15/assets\n",
            "INFO:tensorflow:Assets written to: models/fine_tuning_window_15/assets\n",
            "INFO:tensorflow:Assets written to: models/fine_tuning_window_15/assets\n",
            "INFO:tensorflow:Assets written to: models/fine_tuning_window_15/assets\n",
            "INFO:tensorflow:Assets written to: models/fine_tuning_window_15/assets\n",
            "INFO:tensorflow:Assets written to: models/fine_tuning_window_15/assets\n",
            "INFO:tensorflow:Assets written to: models/fine_tuning_window_15/assets\n",
            "INFO:tensorflow:Assets written to: models/fine_tuning_window_15/assets\n",
            "INFO:tensorflow:Assets written to: models/fine_tuning_window_15/assets\n",
            "INFO:tensorflow:Assets written to: models/fine_tuning_window_15/assets\n",
            "INFO:tensorflow:Assets written to: models/fine_tuning_window_15/assets\n",
            "INFO:tensorflow:Assets written to: models/fine_tuning_window_15/assets\n",
            "INFO:tensorflow:Assets written to: models/fine_tuning_window_15/assets\n",
            "INFO:tensorflow:Assets written to: models/fine_tuning_window_15/assets\n",
            "INFO:tensorflow:Assets written to: models/fine_tuning_window_15/assets\n",
            "INFO:tensorflow:Assets written to: models/fine_tuning_window_15/assets\n",
            "INFO:tensorflow:Assets written to: models/fine_tuning_window_15/assets\n",
            "INFO:tensorflow:Assets written to: models/fine_tuning_window_15/assets\n",
            "INFO:tensorflow:Assets written to: models/fine_tuning_window_15/assets\n",
            "INFO:tensorflow:Assets written to: models/fine_tuning_window_16/assets\n",
            "INFO:tensorflow:Assets written to: models/fine_tuning_window_16/assets\n",
            "INFO:tensorflow:Assets written to: models/fine_tuning_window_16/assets\n",
            "INFO:tensorflow:Assets written to: models/fine_tuning_window_16/assets\n",
            "INFO:tensorflow:Assets written to: models/fine_tuning_window_16/assets\n",
            "INFO:tensorflow:Assets written to: models/fine_tuning_window_16/assets\n",
            "INFO:tensorflow:Assets written to: models/fine_tuning_window_16/assets\n",
            "INFO:tensorflow:Assets written to: models/fine_tuning_window_16/assets\n",
            "INFO:tensorflow:Assets written to: models/fine_tuning_window_16/assets\n",
            "INFO:tensorflow:Assets written to: models/fine_tuning_window_16/assets\n",
            "INFO:tensorflow:Assets written to: models/fine_tuning_window_16/assets\n",
            "INFO:tensorflow:Assets written to: models/fine_tuning_window_16/assets\n",
            "INFO:tensorflow:Assets written to: models/fine_tuning_window_16/assets\n",
            "INFO:tensorflow:Assets written to: models/fine_tuning_window_16/assets\n",
            "INFO:tensorflow:Assets written to: models/fine_tuning_window_16/assets\n",
            "INFO:tensorflow:Assets written to: models/fine_tuning_window_16/assets\n",
            "INFO:tensorflow:Assets written to: models/fine_tuning_window_16/assets\n",
            "INFO:tensorflow:Assets written to: models/fine_tuning_window_16/assets\n",
            "INFO:tensorflow:Assets written to: models/fine_tuning_window_17/assets\n",
            "INFO:tensorflow:Assets written to: models/fine_tuning_window_17/assets\n",
            "INFO:tensorflow:Assets written to: models/fine_tuning_window_17/assets\n",
            "INFO:tensorflow:Assets written to: models/fine_tuning_window_17/assets\n",
            "INFO:tensorflow:Assets written to: models/fine_tuning_window_17/assets\n",
            "INFO:tensorflow:Assets written to: models/fine_tuning_window_17/assets\n",
            "INFO:tensorflow:Assets written to: models/fine_tuning_window_17/assets\n",
            "INFO:tensorflow:Assets written to: models/fine_tuning_window_17/assets\n",
            "INFO:tensorflow:Assets written to: models/fine_tuning_window_17/assets\n",
            "INFO:tensorflow:Assets written to: models/fine_tuning_window_17/assets\n",
            "INFO:tensorflow:Assets written to: models/fine_tuning_window_17/assets\n",
            "INFO:tensorflow:Assets written to: models/fine_tuning_window_17/assets\n",
            "INFO:tensorflow:Assets written to: models/fine_tuning_window_17/assets\n",
            "INFO:tensorflow:Assets written to: models/fine_tuning_window_17/assets\n",
            "INFO:tensorflow:Assets written to: models/fine_tuning_window_17/assets\n",
            "INFO:tensorflow:Assets written to: models/fine_tuning_window_17/assets\n",
            "INFO:tensorflow:Assets written to: models/fine_tuning_window_17/assets\n",
            "INFO:tensorflow:Assets written to: models/fine_tuning_window_17/assets\n",
            "INFO:tensorflow:Assets written to: models/fine_tuning_window_17/assets\n",
            "INFO:tensorflow:Assets written to: models/fine_tuning_window_18/assets\n",
            "INFO:tensorflow:Assets written to: models/fine_tuning_window_18/assets\n",
            "INFO:tensorflow:Assets written to: models/fine_tuning_window_18/assets\n",
            "INFO:tensorflow:Assets written to: models/fine_tuning_window_18/assets\n",
            "INFO:tensorflow:Assets written to: models/fine_tuning_window_18/assets\n",
            "INFO:tensorflow:Assets written to: models/fine_tuning_window_18/assets\n",
            "INFO:tensorflow:Assets written to: models/fine_tuning_window_18/assets\n",
            "INFO:tensorflow:Assets written to: models/fine_tuning_window_18/assets\n",
            "INFO:tensorflow:Assets written to: models/fine_tuning_window_18/assets\n",
            "INFO:tensorflow:Assets written to: models/fine_tuning_window_18/assets\n",
            "INFO:tensorflow:Assets written to: models/fine_tuning_window_18/assets\n",
            "INFO:tensorflow:Assets written to: models/fine_tuning_window_18/assets\n",
            "INFO:tensorflow:Assets written to: models/fine_tuning_window_18/assets\n",
            "INFO:tensorflow:Assets written to: models/fine_tuning_window_18/assets\n",
            "INFO:tensorflow:Assets written to: models/fine_tuning_window_18/assets\n",
            "INFO:tensorflow:Assets written to: models/fine_tuning_window_19/assets\n",
            "INFO:tensorflow:Assets written to: models/fine_tuning_window_19/assets\n",
            "INFO:tensorflow:Assets written to: models/fine_tuning_window_19/assets\n",
            "INFO:tensorflow:Assets written to: models/fine_tuning_window_19/assets\n",
            "INFO:tensorflow:Assets written to: models/fine_tuning_window_19/assets\n",
            "INFO:tensorflow:Assets written to: models/fine_tuning_window_19/assets\n",
            "INFO:tensorflow:Assets written to: models/fine_tuning_window_19/assets\n",
            "INFO:tensorflow:Assets written to: models/fine_tuning_window_19/assets\n",
            "INFO:tensorflow:Assets written to: models/fine_tuning_window_19/assets\n",
            "INFO:tensorflow:Assets written to: models/fine_tuning_window_19/assets\n",
            "INFO:tensorflow:Assets written to: models/fine_tuning_window_19/assets\n",
            "INFO:tensorflow:Assets written to: models/fine_tuning_window_19/assets\n",
            "INFO:tensorflow:Assets written to: models/fine_tuning_window_19/assets\n",
            "INFO:tensorflow:Assets written to: models/fine_tuning_window_19/assets\n",
            "INFO:tensorflow:Assets written to: models/fine_tuning_window_19/assets\n",
            "INFO:tensorflow:Assets written to: models/fine_tuning_window_19/assets\n",
            "INFO:tensorflow:Assets written to: models/fine_tuning_window_19/assets\n",
            "INFO:tensorflow:Assets written to: models/fine_tuning_window_19/assets\n",
            "INFO:tensorflow:Assets written to: models/fine_tuning_window_20/assets\n",
            "INFO:tensorflow:Assets written to: models/fine_tuning_window_20/assets\n",
            "INFO:tensorflow:Assets written to: models/fine_tuning_window_20/assets\n",
            "INFO:tensorflow:Assets written to: models/fine_tuning_window_20/assets\n",
            "INFO:tensorflow:Assets written to: models/fine_tuning_window_20/assets\n",
            "INFO:tensorflow:Assets written to: models/fine_tuning_window_20/assets\n",
            "INFO:tensorflow:Assets written to: models/fine_tuning_window_20/assets\n",
            "INFO:tensorflow:Assets written to: models/fine_tuning_window_20/assets\n",
            "INFO:tensorflow:Assets written to: models/fine_tuning_window_20/assets\n",
            "INFO:tensorflow:Assets written to: models/fine_tuning_window_20/assets\n",
            "INFO:tensorflow:Assets written to: models/fine_tuning_window_20/assets\n",
            "INFO:tensorflow:Assets written to: models/fine_tuning_window_20/assets\n",
            "INFO:tensorflow:Assets written to: models/fine_tuning_window_20/assets\n",
            "INFO:tensorflow:Assets written to: models/fine_tuning_window_20/assets\n",
            "INFO:tensorflow:Assets written to: models/fine_tuning_window_20/assets\n",
            "INFO:tensorflow:Assets written to: models/fine_tuning_window_20/assets\n",
            "INFO:tensorflow:Assets written to: models/fine_tuning_window_20/assets\n",
            "INFO:tensorflow:Assets written to: models/fine_tuning_window_20/assets\n",
            "INFO:tensorflow:Assets written to: models/fine_tuning_window_20/assets\n",
            "INFO:tensorflow:Assets written to: models/fine_tuning_window_20/assets\n",
            "INFO:tensorflow:Assets written to: models/fine_tuning_window_20/assets\n",
            "INFO:tensorflow:Assets written to: models/fine_tuning_window_21/assets\n",
            "INFO:tensorflow:Assets written to: models/fine_tuning_window_21/assets\n",
            "INFO:tensorflow:Assets written to: models/fine_tuning_window_21/assets\n",
            "INFO:tensorflow:Assets written to: models/fine_tuning_window_21/assets\n",
            "INFO:tensorflow:Assets written to: models/fine_tuning_window_21/assets\n",
            "INFO:tensorflow:Assets written to: models/fine_tuning_window_21/assets\n",
            "INFO:tensorflow:Assets written to: models/fine_tuning_window_21/assets\n",
            "INFO:tensorflow:Assets written to: models/fine_tuning_window_21/assets\n",
            "INFO:tensorflow:Assets written to: models/fine_tuning_window_21/assets\n",
            "INFO:tensorflow:Assets written to: models/fine_tuning_window_21/assets\n",
            "INFO:tensorflow:Assets written to: models/fine_tuning_window_21/assets\n",
            "INFO:tensorflow:Assets written to: models/fine_tuning_window_21/assets\n",
            "INFO:tensorflow:Assets written to: models/fine_tuning_window_21/assets\n",
            "INFO:tensorflow:Assets written to: models/fine_tuning_window_21/assets\n",
            "INFO:tensorflow:Assets written to: models/fine_tuning_window_21/assets\n",
            "INFO:tensorflow:Assets written to: models/fine_tuning_window_22/assets\n",
            "INFO:tensorflow:Assets written to: models/fine_tuning_window_22/assets\n",
            "INFO:tensorflow:Assets written to: models/fine_tuning_window_22/assets\n",
            "INFO:tensorflow:Assets written to: models/fine_tuning_window_22/assets\n",
            "INFO:tensorflow:Assets written to: models/fine_tuning_window_22/assets\n",
            "INFO:tensorflow:Assets written to: models/fine_tuning_window_22/assets\n",
            "INFO:tensorflow:Assets written to: models/fine_tuning_window_22/assets\n",
            "INFO:tensorflow:Assets written to: models/fine_tuning_window_22/assets\n",
            "INFO:tensorflow:Assets written to: models/fine_tuning_window_22/assets\n",
            "INFO:tensorflow:Assets written to: models/fine_tuning_window_22/assets\n",
            "INFO:tensorflow:Assets written to: models/fine_tuning_window_22/assets\n",
            "INFO:tensorflow:Assets written to: models/fine_tuning_window_23/assets\n",
            "INFO:tensorflow:Assets written to: models/fine_tuning_window_23/assets\n",
            "INFO:tensorflow:Assets written to: models/fine_tuning_window_23/assets\n",
            "INFO:tensorflow:Assets written to: models/fine_tuning_window_23/assets\n",
            "INFO:tensorflow:Assets written to: models/fine_tuning_window_23/assets\n",
            "INFO:tensorflow:Assets written to: models/fine_tuning_window_23/assets\n",
            "INFO:tensorflow:Assets written to: models/fine_tuning_window_23/assets\n",
            "INFO:tensorflow:Assets written to: models/fine_tuning_window_23/assets\n",
            "INFO:tensorflow:Assets written to: models/fine_tuning_window_23/assets\n",
            "INFO:tensorflow:Assets written to: models/fine_tuning_window_23/assets\n",
            "INFO:tensorflow:Assets written to: models/fine_tuning_window_23/assets\n",
            "INFO:tensorflow:Assets written to: models/fine_tuning_window_23/assets\n",
            "INFO:tensorflow:Assets written to: models/fine_tuning_window_23/assets\n",
            "INFO:tensorflow:Assets written to: models/fine_tuning_window_23/assets\n",
            "INFO:tensorflow:Assets written to: models/fine_tuning_window_23/assets\n",
            "INFO:tensorflow:Assets written to: models/fine_tuning_window_23/assets\n",
            "INFO:tensorflow:Assets written to: models/fine_tuning_window_24/assets\n",
            "INFO:tensorflow:Assets written to: models/fine_tuning_window_24/assets\n",
            "INFO:tensorflow:Assets written to: models/fine_tuning_window_24/assets\n",
            "INFO:tensorflow:Assets written to: models/fine_tuning_window_24/assets\n",
            "INFO:tensorflow:Assets written to: models/fine_tuning_window_24/assets\n",
            "INFO:tensorflow:Assets written to: models/fine_tuning_window_24/assets\n",
            "INFO:tensorflow:Assets written to: models/fine_tuning_window_24/assets\n",
            "INFO:tensorflow:Assets written to: models/fine_tuning_window_24/assets\n",
            "INFO:tensorflow:Assets written to: models/fine_tuning_window_24/assets\n",
            "INFO:tensorflow:Assets written to: models/fine_tuning_window_24/assets\n",
            "INFO:tensorflow:Assets written to: models/fine_tuning_window_24/assets\n",
            "INFO:tensorflow:Assets written to: models/fine_tuning_window_24/assets\n",
            "INFO:tensorflow:Assets written to: models/fine_tuning_window_24/assets\n",
            "INFO:tensorflow:Assets written to: models/fine_tuning_window_24/assets\n",
            "INFO:tensorflow:Assets written to: models/fine_tuning_window_24/assets\n",
            "INFO:tensorflow:Assets written to: models/fine_tuning_window_24/assets\n",
            "INFO:tensorflow:Assets written to: models/fine_tuning_window_24/assets\n",
            "INFO:tensorflow:Assets written to: models/fine_tuning_window_24/assets\n",
            "INFO:tensorflow:Assets written to: models/fine_tuning_window_25/assets\n",
            "INFO:tensorflow:Assets written to: models/fine_tuning_window_25/assets\n",
            "INFO:tensorflow:Assets written to: models/fine_tuning_window_25/assets\n",
            "INFO:tensorflow:Assets written to: models/fine_tuning_window_25/assets\n",
            "INFO:tensorflow:Assets written to: models/fine_tuning_window_25/assets\n",
            "INFO:tensorflow:Assets written to: models/fine_tuning_window_25/assets\n",
            "INFO:tensorflow:Assets written to: models/fine_tuning_window_25/assets\n",
            "INFO:tensorflow:Assets written to: models/fine_tuning_window_25/assets\n",
            "INFO:tensorflow:Assets written to: models/fine_tuning_window_25/assets\n",
            "INFO:tensorflow:Assets written to: models/fine_tuning_window_25/assets\n",
            "INFO:tensorflow:Assets written to: models/fine_tuning_window_25/assets\n",
            "INFO:tensorflow:Assets written to: models/fine_tuning_window_25/assets\n",
            "INFO:tensorflow:Assets written to: models/fine_tuning_window_25/assets\n",
            "INFO:tensorflow:Assets written to: models/fine_tuning_window_25/assets\n",
            "INFO:tensorflow:Assets written to: models/fine_tuning_window_25/assets\n",
            "INFO:tensorflow:Assets written to: models/fine_tuning_window_25/assets\n",
            "INFO:tensorflow:Assets written to: models/fine_tuning_window_26/assets\n",
            "INFO:tensorflow:Assets written to: models/fine_tuning_window_26/assets\n",
            "INFO:tensorflow:Assets written to: models/fine_tuning_window_26/assets\n",
            "INFO:tensorflow:Assets written to: models/fine_tuning_window_26/assets\n",
            "INFO:tensorflow:Assets written to: models/fine_tuning_window_26/assets\n",
            "INFO:tensorflow:Assets written to: models/fine_tuning_window_26/assets\n",
            "INFO:tensorflow:Assets written to: models/fine_tuning_window_26/assets\n",
            "INFO:tensorflow:Assets written to: models/fine_tuning_window_26/assets\n",
            "INFO:tensorflow:Assets written to: models/fine_tuning_window_26/assets\n",
            "INFO:tensorflow:Assets written to: models/fine_tuning_window_26/assets\n",
            "INFO:tensorflow:Assets written to: models/fine_tuning_window_26/assets\n",
            "INFO:tensorflow:Assets written to: models/fine_tuning_window_26/assets\n",
            "INFO:tensorflow:Assets written to: models/fine_tuning_window_26/assets\n",
            "INFO:tensorflow:Assets written to: models/fine_tuning_window_26/assets\n",
            "INFO:tensorflow:Assets written to: models/fine_tuning_window_27/assets\n",
            "INFO:tensorflow:Assets written to: models/fine_tuning_window_27/assets\n",
            "INFO:tensorflow:Assets written to: models/fine_tuning_window_27/assets\n",
            "INFO:tensorflow:Assets written to: models/fine_tuning_window_27/assets\n",
            "INFO:tensorflow:Assets written to: models/fine_tuning_window_27/assets\n",
            "INFO:tensorflow:Assets written to: models/fine_tuning_window_27/assets\n",
            "INFO:tensorflow:Assets written to: models/fine_tuning_window_27/assets\n",
            "INFO:tensorflow:Assets written to: models/fine_tuning_window_27/assets\n",
            "INFO:tensorflow:Assets written to: models/fine_tuning_window_27/assets\n",
            "INFO:tensorflow:Assets written to: models/fine_tuning_window_27/assets\n",
            "INFO:tensorflow:Assets written to: models/fine_tuning_window_27/assets\n",
            "INFO:tensorflow:Assets written to: models/fine_tuning_window_27/assets\n",
            "INFO:tensorflow:Assets written to: models/fine_tuning_window_28/assets\n",
            "INFO:tensorflow:Assets written to: models/fine_tuning_window_28/assets\n",
            "INFO:tensorflow:Assets written to: models/fine_tuning_window_28/assets\n",
            "INFO:tensorflow:Assets written to: models/fine_tuning_window_28/assets\n",
            "INFO:tensorflow:Assets written to: models/fine_tuning_window_28/assets\n",
            "INFO:tensorflow:Assets written to: models/fine_tuning_window_28/assets\n",
            "INFO:tensorflow:Assets written to: models/fine_tuning_window_28/assets\n",
            "INFO:tensorflow:Assets written to: models/fine_tuning_window_28/assets\n",
            "INFO:tensorflow:Assets written to: models/fine_tuning_window_28/assets\n",
            "INFO:tensorflow:Assets written to: models/fine_tuning_window_28/assets\n",
            "INFO:tensorflow:Assets written to: models/fine_tuning_window_28/assets\n",
            "INFO:tensorflow:Assets written to: models/fine_tuning_window_28/assets\n",
            "INFO:tensorflow:Assets written to: models/fine_tuning_window_28/assets\n",
            "INFO:tensorflow:Assets written to: models/fine_tuning_window_28/assets\n",
            "INFO:tensorflow:Assets written to: models/fine_tuning_window_28/assets\n",
            "INFO:tensorflow:Assets written to: models/fine_tuning_window_28/assets\n",
            "INFO:tensorflow:Assets written to: models/fine_tuning_window_28/assets\n",
            "INFO:tensorflow:Assets written to: models/fine_tuning_window_28/assets\n",
            "INFO:tensorflow:Assets written to: models/fine_tuning_window_28/assets\n",
            "INFO:tensorflow:Assets written to: models/fine_tuning_window_28/assets\n",
            "INFO:tensorflow:Assets written to: models/fine_tuning_window_28/assets\n",
            "INFO:tensorflow:Assets written to: models/fine_tuning_window_28/assets\n",
            "INFO:tensorflow:Assets written to: models/fine_tuning_window_28/assets\n",
            "INFO:tensorflow:Assets written to: models/fine_tuning_window_28/assets\n",
            "INFO:tensorflow:Assets written to: models/fine_tuning_window_28/assets\n",
            "INFO:tensorflow:Assets written to: models/fine_tuning_window_29/assets\n",
            "INFO:tensorflow:Assets written to: models/fine_tuning_window_29/assets\n",
            "INFO:tensorflow:Assets written to: models/fine_tuning_window_29/assets\n",
            "INFO:tensorflow:Assets written to: models/fine_tuning_window_29/assets\n",
            "INFO:tensorflow:Assets written to: models/fine_tuning_window_29/assets\n",
            "INFO:tensorflow:Assets written to: models/fine_tuning_window_29/assets\n",
            "INFO:tensorflow:Assets written to: models/fine_tuning_window_29/assets\n",
            "INFO:tensorflow:Assets written to: models/fine_tuning_window_29/assets\n",
            "INFO:tensorflow:Assets written to: models/fine_tuning_window_29/assets\n",
            "INFO:tensorflow:Assets written to: models/fine_tuning_window_29/assets\n",
            "INFO:tensorflow:Assets written to: models/fine_tuning_window_29/assets\n",
            "INFO:tensorflow:Assets written to: models/fine_tuning_window_29/assets\n",
            "INFO:tensorflow:Assets written to: models/fine_tuning_window_29/assets\n",
            "INFO:tensorflow:Assets written to: models/fine_tuning_window_29/assets\n",
            "INFO:tensorflow:Assets written to: models/fine_tuning_window_29/assets\n",
            "INFO:tensorflow:Assets written to: models/fine_tuning_window_29/assets\n",
            "INFO:tensorflow:Assets written to: models/fine_tuning_window_30/assets\n",
            "INFO:tensorflow:Assets written to: models/fine_tuning_window_30/assets\n",
            "INFO:tensorflow:Assets written to: models/fine_tuning_window_30/assets\n",
            "INFO:tensorflow:Assets written to: models/fine_tuning_window_30/assets\n",
            "INFO:tensorflow:Assets written to: models/fine_tuning_window_30/assets\n",
            "INFO:tensorflow:Assets written to: models/fine_tuning_window_30/assets\n",
            "INFO:tensorflow:Assets written to: models/fine_tuning_window_30/assets\n",
            "INFO:tensorflow:Assets written to: models/fine_tuning_window_30/assets\n",
            "INFO:tensorflow:Assets written to: models/fine_tuning_window_30/assets\n",
            "INFO:tensorflow:Assets written to: models/fine_tuning_window_30/assets\n",
            "INFO:tensorflow:Assets written to: models/fine_tuning_window_30/assets\n",
            "INFO:tensorflow:Assets written to: models/fine_tuning_window_30/assets\n",
            "INFO:tensorflow:Assets written to: models/fine_tuning_window_30/assets\n",
            "INFO:tensorflow:Assets written to: models/fine_tuning_window_30/assets\n",
            "INFO:tensorflow:Assets written to: models/fine_tuning_window_30/assets\n",
            "INFO:tensorflow:Assets written to: models/fine_tuning_window_30/assets\n",
            "INFO:tensorflow:Assets written to: models/fine_tuning_window_30/assets\n",
            "INFO:tensorflow:Assets written to: models/fine_tuning_window_30/assets\n",
            "INFO:tensorflow:Assets written to: models/fine_tuning_window_30/assets\n",
            "INFO:tensorflow:Assets written to: models/fine_tuning_window_30/assets\n",
            "INFO:tensorflow:Assets written to: models/fine_tuning_window_30/assets\n",
            "INFO:tensorflow:Assets written to: models/fine_tuning_window_30/assets\n",
            "INFO:tensorflow:Assets written to: models/fine_tuning_window_30/assets\n",
            "INFO:tensorflow:Assets written to: models/fine_tuning_window_30/assets\n",
            "INFO:tensorflow:Assets written to: models/fine_tuning_window_30/assets\n"
          ]
        }
      ]
    },
    {
      "cell_type": "code",
      "source": [
        "# min_loss = -1\n",
        "# WINDOW_SIZE_N = 1\n",
        "# for i in range(1, 31):\n",
        "#   WINDOW_SIZE = i\n",
        "#   test_windows, test_labels = make_windows(prices_test, WINDOW_SIZE, HORIZON )\n",
        "#   model = tf.keras.models.load_model(\"models/fine_tuning_window_\" + str(i))\n",
        "#   loss = model.evaluate(test_windows, test_labels)\n",
        "#   if (min_loss>loss): \n",
        "#     min_loss=loss\n",
        "#     WINDOW_SIZE_N = i\n",
        "#   elif (min_loss == -1): \n",
        "#     min_loss = loss\n",
        "#     WINDOW_SIZE_N = i\n",
        "# model_name = \"models/fine_tuning_window_\" + str(WINDOW_SIZE_N))\n",
        "# WINDOW_SIZE = WINDOW_SIZE_N\n",
        "# model_name, min_loss"
      ],
      "metadata": {
        "colab": {
          "base_uri": "https://localhost:8080/"
        },
        "id": "iaWD1DA2st1a",
        "outputId": "4a0096d3-f884-4058-b2fa-8d0216d6c511"
      },
      "execution_count": 29,
      "outputs": [
        {
          "output_type": "stream",
          "name": "stdout",
          "text": [
            "11/11 [==============================] - 0s 2ms/step - loss: 1208.4014\n",
            "11/11 [==============================] - 0s 2ms/step - loss: 799.2850\n",
            "11/11 [==============================] - 0s 2ms/step - loss: 759.2585\n",
            "11/11 [==============================] - 0s 2ms/step - loss: 751.5822\n",
            "11/11 [==============================] - 0s 2ms/step - loss: 731.8528\n",
            "11/11 [==============================] - 0s 2ms/step - loss: 789.7416\n",
            "11/11 [==============================] - 0s 2ms/step - loss: 727.7195\n",
            "11/11 [==============================] - 0s 2ms/step - loss: 787.4775\n",
            "11/11 [==============================] - 0s 2ms/step - loss: 760.3137\n",
            "11/11 [==============================] - 0s 2ms/step - loss: 739.8402\n",
            "11/11 [==============================] - 0s 2ms/step - loss: 828.8325\n",
            "11/11 [==============================] - 0s 2ms/step - loss: 759.6984\n",
            "11/11 [==============================] - 0s 2ms/step - loss: 864.3558\n",
            "11/11 [==============================] - 0s 3ms/step - loss: 916.3969\n",
            "11/11 [==============================] - 0s 2ms/step - loss: 962.3277\n",
            "10/10 [==============================] - 0s 2ms/step - loss: 989.1617\n",
            "10/10 [==============================] - 0s 2ms/step - loss: 1064.4091\n",
            "10/10 [==============================] - 0s 2ms/step - loss: 1035.8170\n",
            "10/10 [==============================] - 0s 2ms/step - loss: 978.2332\n",
            "10/10 [==============================] - 0s 2ms/step - loss: 896.1876\n",
            "10/10 [==============================] - 0s 2ms/step - loss: 1069.4341\n",
            "10/10 [==============================] - 0s 2ms/step - loss: 920.0266\n",
            "10/10 [==============================] - 0s 2ms/step - loss: 1036.4347\n",
            "10/10 [==============================] - 0s 2ms/step - loss: 934.4759\n",
            "10/10 [==============================] - 0s 2ms/step - loss: 1022.0986\n",
            "10/10 [==============================] - 0s 2ms/step - loss: 820.8044\n",
            "10/10 [==============================] - 0s 2ms/step - loss: 834.9185\n",
            "10/10 [==============================] - 0s 2ms/step - loss: 1145.1912\n",
            "10/10 [==============================] - 0s 2ms/step - loss: 1111.6821\n",
            "10/10 [==============================] - 0s 2ms/step - loss: 1059.4702\n"
          ]
        },
        {
          "output_type": "execute_result",
          "data": {
            "text/plain": [
              "('models/fine_tuning_window_30', 727.719482421875)"
            ]
          },
          "metadata": {},
          "execution_count": 29
        }
      ]
    },
    {
      "cell_type": "code",
      "source": [
        "WINDOW_SIZE = 7"
      ],
      "metadata": {
        "id": "AiMS9S1Czn3R"
      },
      "execution_count": 20,
      "outputs": []
    },
    {
      "cell_type": "code",
      "source": [
        "train_windows, train_labels = make_windows(prices_train, WINDOW_SIZE, HORIZON)\n",
        "val_windows, val_labels = make_windows(prices_val, WINDOW_SIZE, HORIZON)\n",
        "test_windows, test_labels = make_windows(prices_test, WINDOW_SIZE, HORIZON )"
      ],
      "metadata": {
        "id": "m0YlsJvNTYpU"
      },
      "execution_count": 21,
      "outputs": []
    },
    {
      "cell_type": "markdown",
      "source": [
        "**For batch_size**"
      ],
      "metadata": {
        "id": "_HVukXuES0Sw"
      }
    },
    {
      "cell_type": "code",
      "source": [
        "# # Make windowed data with appropriate horizon and window sizes\n",
        "\n",
        "# batch_sizes = [32, 64, 128, 256, 512, 1024]\n",
        "\n",
        "# for i in batch_sizes:\n",
        "#   tf.random.set_seed(42)\n",
        "#   model_tuning = tf.keras.Sequential([\n",
        "#       layers.Dense(128, activation=\"relu\"),\n",
        "#       layers.Dense(HORIZON, activation=\"relu\")\n",
        "#   ], name=\"fine_tuning_batch_size_\"+str(i))\n",
        "\n",
        "#   model_tuning.compile(loss='mae',\n",
        "#                   optimizer=tf.keras.optimizers.Adam())\n",
        "\n",
        "#   model_tuning.fit(train_windows,\n",
        "#               train_labels,\n",
        "#               epochs=100,\n",
        "#               batch_size=i,\n",
        "#               verbose=0,\n",
        "#               validation_data=(val_windows, val_labels),\n",
        "#               callbacks=[create_model_checkpoint(model_name=model_tuning.name)])\n"
      ],
      "metadata": {
        "colab": {
          "base_uri": "https://localhost:8080/"
        },
        "id": "67JgNFFJS45n",
        "outputId": "dedfd2b2-ad29-418e-c01a-11b67578d089"
      },
      "execution_count": 33,
      "outputs": [
        {
          "output_type": "stream",
          "name": "stdout",
          "text": [
            "INFO:tensorflow:Assets written to: models/fine_tuning_batch_size_32/assets\n",
            "INFO:tensorflow:Assets written to: models/fine_tuning_batch_size_32/assets\n",
            "INFO:tensorflow:Assets written to: models/fine_tuning_batch_size_32/assets\n",
            "INFO:tensorflow:Assets written to: models/fine_tuning_batch_size_32/assets\n",
            "INFO:tensorflow:Assets written to: models/fine_tuning_batch_size_32/assets\n",
            "INFO:tensorflow:Assets written to: models/fine_tuning_batch_size_32/assets\n",
            "INFO:tensorflow:Assets written to: models/fine_tuning_batch_size_32/assets\n",
            "INFO:tensorflow:Assets written to: models/fine_tuning_batch_size_32/assets\n",
            "INFO:tensorflow:Assets written to: models/fine_tuning_batch_size_32/assets\n",
            "INFO:tensorflow:Assets written to: models/fine_tuning_batch_size_32/assets\n",
            "INFO:tensorflow:Assets written to: models/fine_tuning_batch_size_32/assets\n",
            "INFO:tensorflow:Assets written to: models/fine_tuning_batch_size_32/assets\n",
            "INFO:tensorflow:Assets written to: models/fine_tuning_batch_size_32/assets\n",
            "INFO:tensorflow:Assets written to: models/fine_tuning_batch_size_64/assets\n",
            "INFO:tensorflow:Assets written to: models/fine_tuning_batch_size_64/assets\n",
            "INFO:tensorflow:Assets written to: models/fine_tuning_batch_size_64/assets\n",
            "INFO:tensorflow:Assets written to: models/fine_tuning_batch_size_64/assets\n",
            "INFO:tensorflow:Assets written to: models/fine_tuning_batch_size_64/assets\n",
            "INFO:tensorflow:Assets written to: models/fine_tuning_batch_size_64/assets\n",
            "INFO:tensorflow:Assets written to: models/fine_tuning_batch_size_64/assets\n",
            "INFO:tensorflow:Assets written to: models/fine_tuning_batch_size_64/assets\n",
            "INFO:tensorflow:Assets written to: models/fine_tuning_batch_size_64/assets\n",
            "INFO:tensorflow:Assets written to: models/fine_tuning_batch_size_64/assets\n",
            "INFO:tensorflow:Assets written to: models/fine_tuning_batch_size_64/assets\n",
            "INFO:tensorflow:Assets written to: models/fine_tuning_batch_size_64/assets\n",
            "INFO:tensorflow:Assets written to: models/fine_tuning_batch_size_64/assets\n",
            "INFO:tensorflow:Assets written to: models/fine_tuning_batch_size_64/assets\n",
            "INFO:tensorflow:Assets written to: models/fine_tuning_batch_size_64/assets\n",
            "INFO:tensorflow:Assets written to: models/fine_tuning_batch_size_64/assets\n",
            "INFO:tensorflow:Assets written to: models/fine_tuning_batch_size_64/assets\n",
            "INFO:tensorflow:Assets written to: models/fine_tuning_batch_size_64/assets\n",
            "INFO:tensorflow:Assets written to: models/fine_tuning_batch_size_128/assets\n",
            "INFO:tensorflow:Assets written to: models/fine_tuning_batch_size_128/assets\n",
            "INFO:tensorflow:Assets written to: models/fine_tuning_batch_size_128/assets\n",
            "INFO:tensorflow:Assets written to: models/fine_tuning_batch_size_128/assets\n",
            "INFO:tensorflow:Assets written to: models/fine_tuning_batch_size_128/assets\n",
            "INFO:tensorflow:Assets written to: models/fine_tuning_batch_size_128/assets\n",
            "INFO:tensorflow:Assets written to: models/fine_tuning_batch_size_128/assets\n",
            "INFO:tensorflow:Assets written to: models/fine_tuning_batch_size_128/assets\n",
            "INFO:tensorflow:Assets written to: models/fine_tuning_batch_size_128/assets\n",
            "INFO:tensorflow:Assets written to: models/fine_tuning_batch_size_128/assets\n",
            "INFO:tensorflow:Assets written to: models/fine_tuning_batch_size_128/assets\n",
            "INFO:tensorflow:Assets written to: models/fine_tuning_batch_size_128/assets\n",
            "INFO:tensorflow:Assets written to: models/fine_tuning_batch_size_128/assets\n",
            "INFO:tensorflow:Assets written to: models/fine_tuning_batch_size_128/assets\n",
            "INFO:tensorflow:Assets written to: models/fine_tuning_batch_size_128/assets\n",
            "INFO:tensorflow:Assets written to: models/fine_tuning_batch_size_128/assets\n",
            "INFO:tensorflow:Assets written to: models/fine_tuning_batch_size_128/assets\n",
            "INFO:tensorflow:Assets written to: models/fine_tuning_batch_size_128/assets\n",
            "INFO:tensorflow:Assets written to: models/fine_tuning_batch_size_128/assets\n",
            "INFO:tensorflow:Assets written to: models/fine_tuning_batch_size_128/assets\n",
            "INFO:tensorflow:Assets written to: models/fine_tuning_batch_size_128/assets\n",
            "INFO:tensorflow:Assets written to: models/fine_tuning_batch_size_128/assets\n",
            "INFO:tensorflow:Assets written to: models/fine_tuning_batch_size_128/assets\n",
            "INFO:tensorflow:Assets written to: models/fine_tuning_batch_size_128/assets\n",
            "INFO:tensorflow:Assets written to: models/fine_tuning_batch_size_128/assets\n",
            "INFO:tensorflow:Assets written to: models/fine_tuning_batch_size_128/assets\n",
            "INFO:tensorflow:Assets written to: models/fine_tuning_batch_size_128/assets\n",
            "INFO:tensorflow:Assets written to: models/fine_tuning_batch_size_128/assets\n",
            "INFO:tensorflow:Assets written to: models/fine_tuning_batch_size_128/assets\n",
            "INFO:tensorflow:Assets written to: models/fine_tuning_batch_size_128/assets\n",
            "INFO:tensorflow:Assets written to: models/fine_tuning_batch_size_128/assets\n",
            "INFO:tensorflow:Assets written to: models/fine_tuning_batch_size_128/assets\n",
            "INFO:tensorflow:Assets written to: models/fine_tuning_batch_size_256/assets\n",
            "INFO:tensorflow:Assets written to: models/fine_tuning_batch_size_256/assets\n",
            "INFO:tensorflow:Assets written to: models/fine_tuning_batch_size_256/assets\n",
            "INFO:tensorflow:Assets written to: models/fine_tuning_batch_size_256/assets\n",
            "INFO:tensorflow:Assets written to: models/fine_tuning_batch_size_256/assets\n",
            "INFO:tensorflow:Assets written to: models/fine_tuning_batch_size_256/assets\n",
            "INFO:tensorflow:Assets written to: models/fine_tuning_batch_size_256/assets\n",
            "INFO:tensorflow:Assets written to: models/fine_tuning_batch_size_256/assets\n",
            "INFO:tensorflow:Assets written to: models/fine_tuning_batch_size_256/assets\n",
            "INFO:tensorflow:Assets written to: models/fine_tuning_batch_size_256/assets\n",
            "INFO:tensorflow:Assets written to: models/fine_tuning_batch_size_256/assets\n",
            "INFO:tensorflow:Assets written to: models/fine_tuning_batch_size_256/assets\n",
            "INFO:tensorflow:Assets written to: models/fine_tuning_batch_size_256/assets\n",
            "INFO:tensorflow:Assets written to: models/fine_tuning_batch_size_256/assets\n",
            "INFO:tensorflow:Assets written to: models/fine_tuning_batch_size_256/assets\n",
            "INFO:tensorflow:Assets written to: models/fine_tuning_batch_size_256/assets\n",
            "INFO:tensorflow:Assets written to: models/fine_tuning_batch_size_256/assets\n",
            "INFO:tensorflow:Assets written to: models/fine_tuning_batch_size_256/assets\n",
            "INFO:tensorflow:Assets written to: models/fine_tuning_batch_size_256/assets\n",
            "INFO:tensorflow:Assets written to: models/fine_tuning_batch_size_256/assets\n",
            "INFO:tensorflow:Assets written to: models/fine_tuning_batch_size_256/assets\n",
            "INFO:tensorflow:Assets written to: models/fine_tuning_batch_size_256/assets\n",
            "INFO:tensorflow:Assets written to: models/fine_tuning_batch_size_256/assets\n",
            "INFO:tensorflow:Assets written to: models/fine_tuning_batch_size_256/assets\n",
            "INFO:tensorflow:Assets written to: models/fine_tuning_batch_size_256/assets\n",
            "INFO:tensorflow:Assets written to: models/fine_tuning_batch_size_256/assets\n",
            "INFO:tensorflow:Assets written to: models/fine_tuning_batch_size_256/assets\n",
            "INFO:tensorflow:Assets written to: models/fine_tuning_batch_size_256/assets\n",
            "INFO:tensorflow:Assets written to: models/fine_tuning_batch_size_256/assets\n",
            "INFO:tensorflow:Assets written to: models/fine_tuning_batch_size_256/assets\n",
            "INFO:tensorflow:Assets written to: models/fine_tuning_batch_size_256/assets\n",
            "INFO:tensorflow:Assets written to: models/fine_tuning_batch_size_256/assets\n",
            "INFO:tensorflow:Assets written to: models/fine_tuning_batch_size_256/assets\n",
            "INFO:tensorflow:Assets written to: models/fine_tuning_batch_size_256/assets\n",
            "INFO:tensorflow:Assets written to: models/fine_tuning_batch_size_256/assets\n",
            "INFO:tensorflow:Assets written to: models/fine_tuning_batch_size_256/assets\n",
            "INFO:tensorflow:Assets written to: models/fine_tuning_batch_size_256/assets\n",
            "INFO:tensorflow:Assets written to: models/fine_tuning_batch_size_256/assets\n",
            "INFO:tensorflow:Assets written to: models/fine_tuning_batch_size_256/assets\n",
            "INFO:tensorflow:Assets written to: models/fine_tuning_batch_size_256/assets\n",
            "INFO:tensorflow:Assets written to: models/fine_tuning_batch_size_256/assets\n",
            "INFO:tensorflow:Assets written to: models/fine_tuning_batch_size_256/assets\n",
            "INFO:tensorflow:Assets written to: models/fine_tuning_batch_size_256/assets\n",
            "INFO:tensorflow:Assets written to: models/fine_tuning_batch_size_512/assets\n",
            "INFO:tensorflow:Assets written to: models/fine_tuning_batch_size_512/assets\n",
            "INFO:tensorflow:Assets written to: models/fine_tuning_batch_size_512/assets\n",
            "INFO:tensorflow:Assets written to: models/fine_tuning_batch_size_512/assets\n",
            "INFO:tensorflow:Assets written to: models/fine_tuning_batch_size_512/assets\n",
            "INFO:tensorflow:Assets written to: models/fine_tuning_batch_size_512/assets\n",
            "INFO:tensorflow:Assets written to: models/fine_tuning_batch_size_512/assets\n",
            "INFO:tensorflow:Assets written to: models/fine_tuning_batch_size_512/assets\n",
            "INFO:tensorflow:Assets written to: models/fine_tuning_batch_size_512/assets\n",
            "INFO:tensorflow:Assets written to: models/fine_tuning_batch_size_512/assets\n",
            "INFO:tensorflow:Assets written to: models/fine_tuning_batch_size_512/assets\n",
            "INFO:tensorflow:Assets written to: models/fine_tuning_batch_size_512/assets\n",
            "INFO:tensorflow:Assets written to: models/fine_tuning_batch_size_512/assets\n",
            "INFO:tensorflow:Assets written to: models/fine_tuning_batch_size_512/assets\n",
            "INFO:tensorflow:Assets written to: models/fine_tuning_batch_size_512/assets\n",
            "INFO:tensorflow:Assets written to: models/fine_tuning_batch_size_512/assets\n",
            "INFO:tensorflow:Assets written to: models/fine_tuning_batch_size_512/assets\n",
            "INFO:tensorflow:Assets written to: models/fine_tuning_batch_size_512/assets\n",
            "INFO:tensorflow:Assets written to: models/fine_tuning_batch_size_512/assets\n",
            "INFO:tensorflow:Assets written to: models/fine_tuning_batch_size_512/assets\n",
            "INFO:tensorflow:Assets written to: models/fine_tuning_batch_size_512/assets\n",
            "INFO:tensorflow:Assets written to: models/fine_tuning_batch_size_512/assets\n",
            "INFO:tensorflow:Assets written to: models/fine_tuning_batch_size_512/assets\n",
            "INFO:tensorflow:Assets written to: models/fine_tuning_batch_size_512/assets\n",
            "INFO:tensorflow:Assets written to: models/fine_tuning_batch_size_512/assets\n",
            "INFO:tensorflow:Assets written to: models/fine_tuning_batch_size_512/assets\n",
            "INFO:tensorflow:Assets written to: models/fine_tuning_batch_size_512/assets\n",
            "INFO:tensorflow:Assets written to: models/fine_tuning_batch_size_512/assets\n",
            "INFO:tensorflow:Assets written to: models/fine_tuning_batch_size_512/assets\n",
            "INFO:tensorflow:Assets written to: models/fine_tuning_batch_size_512/assets\n",
            "INFO:tensorflow:Assets written to: models/fine_tuning_batch_size_512/assets\n",
            "INFO:tensorflow:Assets written to: models/fine_tuning_batch_size_512/assets\n",
            "INFO:tensorflow:Assets written to: models/fine_tuning_batch_size_512/assets\n",
            "INFO:tensorflow:Assets written to: models/fine_tuning_batch_size_512/assets\n",
            "INFO:tensorflow:Assets written to: models/fine_tuning_batch_size_512/assets\n",
            "INFO:tensorflow:Assets written to: models/fine_tuning_batch_size_512/assets\n",
            "INFO:tensorflow:Assets written to: models/fine_tuning_batch_size_512/assets\n",
            "INFO:tensorflow:Assets written to: models/fine_tuning_batch_size_512/assets\n",
            "INFO:tensorflow:Assets written to: models/fine_tuning_batch_size_512/assets\n",
            "INFO:tensorflow:Assets written to: models/fine_tuning_batch_size_512/assets\n",
            "INFO:tensorflow:Assets written to: models/fine_tuning_batch_size_512/assets\n",
            "INFO:tensorflow:Assets written to: models/fine_tuning_batch_size_1024/assets\n",
            "INFO:tensorflow:Assets written to: models/fine_tuning_batch_size_1024/assets\n",
            "INFO:tensorflow:Assets written to: models/fine_tuning_batch_size_1024/assets\n",
            "INFO:tensorflow:Assets written to: models/fine_tuning_batch_size_1024/assets\n",
            "INFO:tensorflow:Assets written to: models/fine_tuning_batch_size_1024/assets\n",
            "INFO:tensorflow:Assets written to: models/fine_tuning_batch_size_1024/assets\n",
            "INFO:tensorflow:Assets written to: models/fine_tuning_batch_size_1024/assets\n",
            "INFO:tensorflow:Assets written to: models/fine_tuning_batch_size_1024/assets\n",
            "INFO:tensorflow:Assets written to: models/fine_tuning_batch_size_1024/assets\n",
            "INFO:tensorflow:Assets written to: models/fine_tuning_batch_size_1024/assets\n",
            "INFO:tensorflow:Assets written to: models/fine_tuning_batch_size_1024/assets\n",
            "INFO:tensorflow:Assets written to: models/fine_tuning_batch_size_1024/assets\n",
            "INFO:tensorflow:Assets written to: models/fine_tuning_batch_size_1024/assets\n",
            "INFO:tensorflow:Assets written to: models/fine_tuning_batch_size_1024/assets\n",
            "INFO:tensorflow:Assets written to: models/fine_tuning_batch_size_1024/assets\n",
            "INFO:tensorflow:Assets written to: models/fine_tuning_batch_size_1024/assets\n",
            "INFO:tensorflow:Assets written to: models/fine_tuning_batch_size_1024/assets\n",
            "INFO:tensorflow:Assets written to: models/fine_tuning_batch_size_1024/assets\n",
            "INFO:tensorflow:Assets written to: models/fine_tuning_batch_size_1024/assets\n",
            "INFO:tensorflow:Assets written to: models/fine_tuning_batch_size_1024/assets\n",
            "INFO:tensorflow:Assets written to: models/fine_tuning_batch_size_1024/assets\n",
            "INFO:tensorflow:Assets written to: models/fine_tuning_batch_size_1024/assets\n",
            "INFO:tensorflow:Assets written to: models/fine_tuning_batch_size_1024/assets\n",
            "INFO:tensorflow:Assets written to: models/fine_tuning_batch_size_1024/assets\n",
            "INFO:tensorflow:Assets written to: models/fine_tuning_batch_size_1024/assets\n",
            "INFO:tensorflow:Assets written to: models/fine_tuning_batch_size_1024/assets\n",
            "INFO:tensorflow:Assets written to: models/fine_tuning_batch_size_1024/assets\n",
            "INFO:tensorflow:Assets written to: models/fine_tuning_batch_size_1024/assets\n",
            "INFO:tensorflow:Assets written to: models/fine_tuning_batch_size_1024/assets\n",
            "INFO:tensorflow:Assets written to: models/fine_tuning_batch_size_1024/assets\n",
            "INFO:tensorflow:Assets written to: models/fine_tuning_batch_size_1024/assets\n",
            "INFO:tensorflow:Assets written to: models/fine_tuning_batch_size_1024/assets\n",
            "INFO:tensorflow:Assets written to: models/fine_tuning_batch_size_1024/assets\n",
            "INFO:tensorflow:Assets written to: models/fine_tuning_batch_size_1024/assets\n",
            "INFO:tensorflow:Assets written to: models/fine_tuning_batch_size_1024/assets\n",
            "INFO:tensorflow:Assets written to: models/fine_tuning_batch_size_1024/assets\n",
            "INFO:tensorflow:Assets written to: models/fine_tuning_batch_size_1024/assets\n",
            "INFO:tensorflow:Assets written to: models/fine_tuning_batch_size_1024/assets\n",
            "INFO:tensorflow:Assets written to: models/fine_tuning_batch_size_1024/assets\n",
            "INFO:tensorflow:Assets written to: models/fine_tuning_batch_size_1024/assets\n",
            "INFO:tensorflow:Assets written to: models/fine_tuning_batch_size_1024/assets\n",
            "INFO:tensorflow:Assets written to: models/fine_tuning_batch_size_1024/assets\n",
            "INFO:tensorflow:Assets written to: models/fine_tuning_batch_size_1024/assets\n",
            "INFO:tensorflow:Assets written to: models/fine_tuning_batch_size_1024/assets\n",
            "INFO:tensorflow:Assets written to: models/fine_tuning_batch_size_1024/assets\n",
            "INFO:tensorflow:Assets written to: models/fine_tuning_batch_size_1024/assets\n",
            "INFO:tensorflow:Assets written to: models/fine_tuning_batch_size_1024/assets\n",
            "INFO:tensorflow:Assets written to: models/fine_tuning_batch_size_1024/assets\n",
            "INFO:tensorflow:Assets written to: models/fine_tuning_batch_size_1024/assets\n",
            "INFO:tensorflow:Assets written to: models/fine_tuning_batch_size_1024/assets\n",
            "INFO:tensorflow:Assets written to: models/fine_tuning_batch_size_1024/assets\n",
            "INFO:tensorflow:Assets written to: models/fine_tuning_batch_size_1024/assets\n",
            "INFO:tensorflow:Assets written to: models/fine_tuning_batch_size_1024/assets\n",
            "INFO:tensorflow:Assets written to: models/fine_tuning_batch_size_1024/assets\n",
            "INFO:tensorflow:Assets written to: models/fine_tuning_batch_size_1024/assets\n",
            "INFO:tensorflow:Assets written to: models/fine_tuning_batch_size_1024/assets\n",
            "INFO:tensorflow:Assets written to: models/fine_tuning_batch_size_1024/assets\n",
            "INFO:tensorflow:Assets written to: models/fine_tuning_batch_size_1024/assets\n",
            "INFO:tensorflow:Assets written to: models/fine_tuning_batch_size_1024/assets\n",
            "INFO:tensorflow:Assets written to: models/fine_tuning_batch_size_1024/assets\n",
            "INFO:tensorflow:Assets written to: models/fine_tuning_batch_size_1024/assets\n",
            "INFO:tensorflow:Assets written to: models/fine_tuning_batch_size_1024/assets\n",
            "INFO:tensorflow:Assets written to: models/fine_tuning_batch_size_1024/assets\n",
            "INFO:tensorflow:Assets written to: models/fine_tuning_batch_size_1024/assets\n",
            "INFO:tensorflow:Assets written to: models/fine_tuning_batch_size_1024/assets\n",
            "INFO:tensorflow:Assets written to: models/fine_tuning_batch_size_1024/assets\n",
            "INFO:tensorflow:Assets written to: models/fine_tuning_batch_size_1024/assets\n",
            "INFO:tensorflow:Assets written to: models/fine_tuning_batch_size_1024/assets\n",
            "INFO:tensorflow:Assets written to: models/fine_tuning_batch_size_1024/assets\n",
            "INFO:tensorflow:Assets written to: models/fine_tuning_batch_size_1024/assets\n",
            "INFO:tensorflow:Assets written to: models/fine_tuning_batch_size_1024/assets\n",
            "INFO:tensorflow:Assets written to: models/fine_tuning_batch_size_1024/assets\n",
            "INFO:tensorflow:Assets written to: models/fine_tuning_batch_size_1024/assets\n",
            "INFO:tensorflow:Assets written to: models/fine_tuning_batch_size_1024/assets\n",
            "INFO:tensorflow:Assets written to: models/fine_tuning_batch_size_1024/assets\n"
          ]
        }
      ]
    },
    {
      "cell_type": "code",
      "source": [
        "# min_loss = -1\n",
        "# BATCH_SIZE = 0\n",
        "# for i in batch_sizes:\n",
        "#   model = tf.keras.models.load_model(\"models/fine_tuning_batch_size_\" + str(i))\n",
        "#   loss = model.evaluate(test_windows, test_labels)\n",
        "#   if (min_loss>loss): \n",
        "#     min_loss=loss\n",
        "#     BATCH_SIZE = i  \n",
        "#   elif (min_loss == -1): \n",
        "#     min_loss=loss\n",
        "#     BATCH_SIZE = i  \n",
        "\n",
        "# model_name = \"models/fine_tuning_batch_size_\" + str(BATCH_SIZE)\n",
        "\n",
        "# model_name, min_loss"
      ],
      "metadata": {
        "colab": {
          "base_uri": "https://localhost:8080/"
        },
        "id": "t4WJkuAaTsIg",
        "outputId": "610e6848-da8c-4f1d-a253-eaf11c770ab6"
      },
      "execution_count": 36,
      "outputs": [
        {
          "output_type": "stream",
          "name": "stdout",
          "text": [
            "11/11 [==============================] - 0s 3ms/step - loss: 803.3865\n",
            "11/11 [==============================] - 0s 3ms/step - loss: 725.7758\n",
            "11/11 [==============================] - 0s 2ms/step - loss: 727.7195\n",
            "11/11 [==============================] - 0s 2ms/step - loss: 797.4476\n",
            "11/11 [==============================] - 0s 3ms/step - loss: 709.0519\n",
            "11/11 [==============================] - 0s 2ms/step - loss: 875.9003\n"
          ]
        },
        {
          "output_type": "execute_result",
          "data": {
            "text/plain": [
              "('models/fine_tuning_batch_size_512', 709.0518798828125)"
            ]
          },
          "metadata": {},
          "execution_count": 36
        }
      ]
    },
    {
      "cell_type": "code",
      "source": [
        "BATCH_SIZE = 512"
      ],
      "metadata": {
        "id": "kpDU45egz31b"
      },
      "execution_count": 22,
      "outputs": []
    },
    {
      "cell_type": "code",
      "source": [
        "print(\"Window size is: \", WINDOW_SIZE)\n",
        "print(\"Batch size is: \", BATCH_SIZE)"
      ],
      "metadata": {
        "colab": {
          "base_uri": "https://localhost:8080/"
        },
        "id": "Ng15LH9qZeCN",
        "outputId": "3a79cab5-5011-42dd-f27a-a610c7a64cb4"
      },
      "execution_count": 23,
      "outputs": [
        {
          "output_type": "stream",
          "name": "stdout",
          "text": [
            "Window size is:  7\n",
            "Batch size is:  512\n"
          ]
        }
      ]
    },
    {
      "cell_type": "code",
      "source": [
        "\"\"\" \n",
        "  Model-1: Dense model (window=7, horizon=1)\n",
        "\"\"\"\n",
        "\n",
        "# Set random seed for as reprodicible results as possible\n",
        "tf.random.set_seed(42)\n",
        "\n",
        "model_1 = tf.keras.Sequential([\n",
        "  layers.Dense(128, activation='relu'),\n",
        "  layers.Dense(HORIZON, activation='relu')\n",
        "], name='model_dense') # we can use it for our checkpoint function\n",
        "\n",
        "# 2. Compile\n",
        "model_1.compile(loss=\"mae\",\n",
        "                 optimizer=tf.keras.optimizers.Adam(),\n",
        "                 metrics=[\"mae\", \"mse\"])\n",
        "\n",
        "# 3. Fit the model\n",
        "model_1.fit(x=train_windows,\n",
        "            y=train_labels,\n",
        "            epochs=1000,\n",
        "            verbose=1, # it refers to how much information we want to print for our models\n",
        "            batch_size=BATCH_SIZE,\n",
        "            validation_data=(val_windows, val_labels),\n",
        "            callbacks=[create_model_checkpoint(model_name=model_1.name), early_stopping()])\n",
        "\n"
      ],
      "metadata": {
        "colab": {
          "base_uri": "https://localhost:8080/"
        },
        "id": "y04xO_ps0qev",
        "outputId": "fa85fde8-30fa-4142-b1c2-a50bc0efa73b"
      },
      "execution_count": 24,
      "outputs": [
        {
          "output_type": "stream",
          "name": "stdout",
          "text": [
            "Epoch 1/1000\n",
            "1/4 [======>.......................] - ETA: 6s - loss: 1.0787 - mae: 1.0787 - mse: 1.5625INFO:tensorflow:Assets written to: models/model_dense/assets\n",
            "4/4 [==============================] - 3s 226ms/step - loss: 1.0550 - mae: 1.0550 - mse: 1.4783 - val_loss: 0.4230 - val_mae: 0.4230 - val_mse: 0.2120\n",
            "Epoch 2/1000\n",
            "1/4 [======>.......................] - ETA: 0s - loss: 0.8803 - mae: 0.8803 - mse: 1.0703INFO:tensorflow:Assets written to: models/model_dense/assets\n",
            "4/4 [==============================] - 0s 145ms/step - loss: 0.8212 - mae: 0.8212 - mse: 0.9484 - val_loss: 0.1626 - val_mae: 0.1626 - val_mse: 0.0427\n",
            "Epoch 3/1000\n",
            "1/4 [======>.......................] - ETA: 0s - loss: 0.6393 - mae: 0.6393 - mse: 0.6225INFO:tensorflow:Assets written to: models/model_dense/assets\n",
            "4/4 [==============================] - 1s 194ms/step - loss: 0.6189 - mae: 0.6189 - mse: 0.5688 - val_loss: 0.1441 - val_mae: 0.1441 - val_mse: 0.0355\n",
            "Epoch 4/1000\n",
            "4/4 [==============================] - 0s 17ms/step - loss: 0.5811 - mae: 0.5811 - mse: 0.4864 - val_loss: 0.1939 - val_mae: 0.1939 - val_mse: 0.0567\n",
            "Epoch 5/1000\n",
            "4/4 [==============================] - 0s 11ms/step - loss: 0.5862 - mae: 0.5862 - mse: 0.4895 - val_loss: 0.1544 - val_mae: 0.1544 - val_mse: 0.0396\n",
            "Epoch 6/1000\n",
            "1/4 [======>.......................] - ETA: 0s - loss: 0.5824 - mae: 0.5824 - mse: 0.4891INFO:tensorflow:Assets written to: models/model_dense/assets\n",
            "4/4 [==============================] - 0s 148ms/step - loss: 0.5765 - mae: 0.5765 - mse: 0.4839 - val_loss: 0.1040 - val_mae: 0.1040 - val_mse: 0.0228\n",
            "Epoch 7/1000\n",
            "4/4 [==============================] - 0s 10ms/step - loss: 0.5697 - mae: 0.5697 - mse: 0.4803 - val_loss: 0.1093 - val_mae: 0.1093 - val_mse: 0.0240\n",
            "Epoch 8/1000\n",
            "4/4 [==============================] - 0s 10ms/step - loss: 0.5705 - mae: 0.5705 - mse: 0.4808 - val_loss: 0.1126 - val_mae: 0.1126 - val_mse: 0.0245\n",
            "Epoch 9/1000\n",
            "1/4 [======>.......................] - ETA: 0s - loss: 0.5593 - mae: 0.5593 - mse: 0.4687INFO:tensorflow:Assets written to: models/model_dense/assets\n",
            "4/4 [==============================] - 0s 155ms/step - loss: 0.5696 - mae: 0.5696 - mse: 0.4804 - val_loss: 0.0973 - val_mae: 0.0973 - val_mse: 0.0205\n",
            "Epoch 10/1000\n",
            "4/4 [==============================] - 0s 10ms/step - loss: 0.5678 - mae: 0.5678 - mse: 0.4795 - val_loss: 0.1000 - val_mae: 0.1000 - val_mse: 0.0208\n",
            "Epoch 11/1000\n",
            "1/4 [======>.......................] - ETA: 0s - loss: 0.5996 - mae: 0.5996 - mse: 0.5106INFO:tensorflow:Assets written to: models/model_dense/assets\n",
            "4/4 [==============================] - 0s 139ms/step - loss: 0.5679 - mae: 0.5679 - mse: 0.4795 - val_loss: 0.0968 - val_mae: 0.0968 - val_mse: 0.0199\n",
            "Epoch 12/1000\n",
            "1/4 [======>.......................] - ETA: 0s - loss: 0.5896 - mae: 0.5896 - mse: 0.4979INFO:tensorflow:Assets written to: models/model_dense/assets\n",
            "4/4 [==============================] - 0s 145ms/step - loss: 0.5669 - mae: 0.5669 - mse: 0.4791 - val_loss: 0.0930 - val_mae: 0.0930 - val_mse: 0.0189\n",
            "Epoch 13/1000\n",
            "4/4 [==============================] - 0s 11ms/step - loss: 0.5660 - mae: 0.5660 - mse: 0.4787 - val_loss: 0.0972 - val_mae: 0.0972 - val_mse: 0.0197\n",
            "Epoch 14/1000\n",
            "4/4 [==============================] - 0s 10ms/step - loss: 0.5660 - mae: 0.5660 - mse: 0.4787 - val_loss: 0.0957 - val_mae: 0.0957 - val_mse: 0.0192\n",
            "Epoch 15/1000\n",
            "4/4 [==============================] - 0s 10ms/step - loss: 0.5653 - mae: 0.5653 - mse: 0.4784 - val_loss: 0.0937 - val_mae: 0.0937 - val_mse: 0.0186\n",
            "Epoch 16/1000\n",
            "1/4 [======>.......................] - ETA: 0s - loss: 0.5996 - mae: 0.5996 - mse: 0.5135INFO:tensorflow:Assets written to: models/model_dense/assets\n",
            "4/4 [==============================] - 0s 141ms/step - loss: 0.5649 - mae: 0.5649 - mse: 0.4782 - val_loss: 0.0914 - val_mae: 0.0914 - val_mse: 0.0179\n",
            "Epoch 17/1000\n",
            "1/4 [======>.......................] - ETA: 0s - loss: 0.5676 - mae: 0.5676 - mse: 0.4815INFO:tensorflow:Assets written to: models/model_dense/assets\n",
            "4/4 [==============================] - 0s 146ms/step - loss: 0.5642 - mae: 0.5642 - mse: 0.4779 - val_loss: 0.0877 - val_mae: 0.0877 - val_mse: 0.0168\n",
            "Epoch 18/1000\n",
            "1/4 [======>.......................] - ETA: 0s - loss: 0.5818 - mae: 0.5818 - mse: 0.4956INFO:tensorflow:Assets written to: models/model_dense/assets\n",
            "4/4 [==============================] - 0s 144ms/step - loss: 0.5641 - mae: 0.5641 - mse: 0.4777 - val_loss: 0.0875 - val_mae: 0.0875 - val_mse: 0.0165\n",
            "Epoch 19/1000\n",
            "1/4 [======>.......................] - ETA: 0s - loss: 0.5240 - mae: 0.5240 - mse: 0.4358INFO:tensorflow:Assets written to: models/model_dense/assets\n",
            "4/4 [==============================] - 0s 145ms/step - loss: 0.5637 - mae: 0.5637 - mse: 0.4775 - val_loss: 0.0867 - val_mae: 0.0867 - val_mse: 0.0163\n",
            "Epoch 20/1000\n",
            "1/4 [======>.......................] - ETA: 0s - loss: 0.5425 - mae: 0.5425 - mse: 0.4557INFO:tensorflow:Assets written to: models/model_dense/assets\n",
            "4/4 [==============================] - 0s 144ms/step - loss: 0.5632 - mae: 0.5632 - mse: 0.4773 - val_loss: 0.0857 - val_mae: 0.0857 - val_mse: 0.0160\n",
            "Epoch 21/1000\n",
            "1/4 [======>.......................] - ETA: 0s - loss: 0.5727 - mae: 0.5727 - mse: 0.4897INFO:tensorflow:Assets written to: models/model_dense/assets\n",
            "4/4 [==============================] - 0s 142ms/step - loss: 0.5629 - mae: 0.5629 - mse: 0.4771 - val_loss: 0.0843 - val_mae: 0.0843 - val_mse: 0.0155\n",
            "Epoch 22/1000\n",
            "4/4 [==============================] - 0s 11ms/step - loss: 0.5626 - mae: 0.5626 - mse: 0.4770 - val_loss: 0.0845 - val_mae: 0.0845 - val_mse: 0.0155\n",
            "Epoch 23/1000\n",
            "1/4 [======>.......................] - ETA: 0s - loss: 0.5579 - mae: 0.5579 - mse: 0.4761INFO:tensorflow:Assets written to: models/model_dense/assets\n",
            "4/4 [==============================] - 0s 142ms/step - loss: 0.5622 - mae: 0.5622 - mse: 0.4769 - val_loss: 0.0826 - val_mae: 0.0826 - val_mse: 0.0149\n",
            "Epoch 24/1000\n",
            "4/4 [==============================] - 0s 10ms/step - loss: 0.5619 - mae: 0.5619 - mse: 0.4766 - val_loss: 0.0827 - val_mae: 0.0827 - val_mse: 0.0147\n",
            "Epoch 25/1000\n",
            "1/4 [======>.......................] - ETA: 0s - loss: 0.5491 - mae: 0.5491 - mse: 0.4631INFO:tensorflow:Assets written to: models/model_dense/assets\n",
            "4/4 [==============================] - 0s 140ms/step - loss: 0.5619 - mae: 0.5619 - mse: 0.4766 - val_loss: 0.0812 - val_mae: 0.0812 - val_mse: 0.0143\n",
            "Epoch 26/1000\n",
            "4/4 [==============================] - 0s 11ms/step - loss: 0.5613 - mae: 0.5613 - mse: 0.4764 - val_loss: 0.0855 - val_mae: 0.0855 - val_mse: 0.0152\n",
            "Epoch 27/1000\n",
            "4/4 [==============================] - 0s 10ms/step - loss: 0.5617 - mae: 0.5617 - mse: 0.4768 - val_loss: 0.0828 - val_mae: 0.0828 - val_mse: 0.0145\n",
            "Epoch 28/1000\n",
            "4/4 [==============================] - 0s 10ms/step - loss: 0.5606 - mae: 0.5606 - mse: 0.4761 - val_loss: 0.0842 - val_mae: 0.0842 - val_mse: 0.0146\n",
            "Epoch 29/1000\n",
            "1/4 [======>.......................] - ETA: 0s - loss: 0.5365 - mae: 0.5365 - mse: 0.4494INFO:tensorflow:Assets written to: models/model_dense/assets\n",
            "4/4 [==============================] - 0s 147ms/step - loss: 0.5619 - mae: 0.5619 - mse: 0.4764 - val_loss: 0.0812 - val_mae: 0.0812 - val_mse: 0.0139\n",
            "Epoch 30/1000\n",
            "1/4 [======>.......................] - ETA: 0s - loss: 0.5927 - mae: 0.5927 - mse: 0.5095INFO:tensorflow:Assets written to: models/model_dense/assets\n",
            "4/4 [==============================] - 0s 146ms/step - loss: 0.5609 - mae: 0.5609 - mse: 0.4760 - val_loss: 0.0791 - val_mae: 0.0791 - val_mse: 0.0135\n",
            "Epoch 31/1000\n",
            "1/4 [======>.......................] - ETA: 0s - loss: 0.5592 - mae: 0.5592 - mse: 0.4739INFO:tensorflow:Assets written to: models/model_dense/assets\n",
            "4/4 [==============================] - 1s 211ms/step - loss: 0.5602 - mae: 0.5602 - mse: 0.4759 - val_loss: 0.0779 - val_mae: 0.0779 - val_mse: 0.0130\n",
            "Epoch 32/1000\n",
            "1/4 [======>.......................] - ETA: 0s - loss: 0.5467 - mae: 0.5467 - mse: 0.4608INFO:tensorflow:Assets written to: models/model_dense/assets\n",
            "4/4 [==============================] - 0s 138ms/step - loss: 0.5599 - mae: 0.5599 - mse: 0.4758 - val_loss: 0.0775 - val_mae: 0.0775 - val_mse: 0.0130\n",
            "Epoch 33/1000\n",
            "1/4 [======>.......................] - ETA: 0s - loss: 0.5673 - mae: 0.5673 - mse: 0.4783INFO:tensorflow:Assets written to: models/model_dense/assets\n",
            "4/4 [==============================] - 0s 145ms/step - loss: 0.5600 - mae: 0.5600 - mse: 0.4758 - val_loss: 0.0769 - val_mae: 0.0769 - val_mse: 0.0128\n",
            "Epoch 34/1000\n",
            "1/4 [======>.......................] - ETA: 0s - loss: 0.5724 - mae: 0.5724 - mse: 0.4884INFO:tensorflow:Assets written to: models/model_dense/assets\n",
            "4/4 [==============================] - 0s 139ms/step - loss: 0.5596 - mae: 0.5596 - mse: 0.4756 - val_loss: 0.0764 - val_mae: 0.0764 - val_mse: 0.0125\n",
            "Epoch 35/1000\n",
            "1/4 [======>.......................] - ETA: 0s - loss: 0.5748 - mae: 0.5748 - mse: 0.4929INFO:tensorflow:Assets written to: models/model_dense/assets\n",
            "4/4 [==============================] - 0s 139ms/step - loss: 0.5594 - mae: 0.5594 - mse: 0.4755 - val_loss: 0.0759 - val_mae: 0.0759 - val_mse: 0.0124\n",
            "Epoch 36/1000\n",
            "1/4 [======>.......................] - ETA: 0s - loss: 0.5671 - mae: 0.5671 - mse: 0.4831INFO:tensorflow:Assets written to: models/model_dense/assets\n",
            "4/4 [==============================] - 0s 147ms/step - loss: 0.5593 - mae: 0.5593 - mse: 0.4755 - val_loss: 0.0753 - val_mae: 0.0753 - val_mse: 0.0122\n",
            "Epoch 37/1000\n",
            "4/4 [==============================] - 0s 12ms/step - loss: 0.5591 - mae: 0.5591 - mse: 0.4754 - val_loss: 0.0754 - val_mae: 0.0754 - val_mse: 0.0122\n",
            "Epoch 38/1000\n",
            "1/4 [======>.......................] - ETA: 0s - loss: 0.5726 - mae: 0.5726 - mse: 0.4878INFO:tensorflow:Assets written to: models/model_dense/assets\n",
            "4/4 [==============================] - 0s 137ms/step - loss: 0.5593 - mae: 0.5593 - mse: 0.4754 - val_loss: 0.0746 - val_mae: 0.0746 - val_mse: 0.0120\n",
            "Epoch 39/1000\n",
            "4/4 [==============================] - 0s 10ms/step - loss: 0.5595 - mae: 0.5595 - mse: 0.4756 - val_loss: 0.0925 - val_mae: 0.0925 - val_mse: 0.0158\n",
            "Epoch 40/1000\n",
            "4/4 [==============================] - 0s 10ms/step - loss: 0.5624 - mae: 0.5624 - mse: 0.4766 - val_loss: 0.0897 - val_mae: 0.0897 - val_mse: 0.0151\n",
            "Epoch 41/1000\n",
            "1/4 [======>.......................] - ETA: 0s - loss: 0.5619 - mae: 0.5619 - mse: 0.4778INFO:tensorflow:Assets written to: models/model_dense/assets\n",
            "4/4 [==============================] - 0s 147ms/step - loss: 0.5603 - mae: 0.5603 - mse: 0.4758 - val_loss: 0.0732 - val_mae: 0.0732 - val_mse: 0.0116\n",
            "Epoch 42/1000\n",
            "4/4 [==============================] - 0s 11ms/step - loss: 0.5589 - mae: 0.5589 - mse: 0.4753 - val_loss: 0.0747 - val_mae: 0.0747 - val_mse: 0.0118\n",
            "Epoch 43/1000\n",
            "4/4 [==============================] - 0s 10ms/step - loss: 0.5583 - mae: 0.5583 - mse: 0.4750 - val_loss: 0.0818 - val_mae: 0.0818 - val_mse: 0.0133\n",
            "Epoch 44/1000\n",
            "4/4 [==============================] - 0s 10ms/step - loss: 0.5602 - mae: 0.5602 - mse: 0.4759 - val_loss: 0.0798 - val_mae: 0.0798 - val_mse: 0.0129\n",
            "Epoch 45/1000\n",
            "4/4 [==============================] - 0s 10ms/step - loss: 0.5587 - mae: 0.5587 - mse: 0.4753 - val_loss: 0.0736 - val_mae: 0.0736 - val_mse: 0.0115\n",
            "Epoch 46/1000\n",
            "4/4 [==============================] - 0s 10ms/step - loss: 0.5593 - mae: 0.5593 - mse: 0.4752 - val_loss: 0.0832 - val_mae: 0.0832 - val_mse: 0.0131\n",
            "Epoch 47/1000\n",
            "1/4 [======>.......................] - ETA: 0s - loss: 0.5765 - mae: 0.5765 - mse: 0.4916INFO:tensorflow:Assets written to: models/model_dense/assets\n",
            "4/4 [==============================] - 0s 143ms/step - loss: 0.5593 - mae: 0.5593 - mse: 0.4753 - val_loss: 0.0717 - val_mae: 0.0717 - val_mse: 0.0112\n",
            "Epoch 48/1000\n",
            "4/4 [==============================] - 0s 10ms/step - loss: 0.5587 - mae: 0.5587 - mse: 0.4752 - val_loss: 0.0801 - val_mae: 0.0801 - val_mse: 0.0128\n",
            "Epoch 49/1000\n",
            "4/4 [==============================] - 0s 10ms/step - loss: 0.5587 - mae: 0.5587 - mse: 0.4752 - val_loss: 0.0718 - val_mae: 0.0718 - val_mse: 0.0111\n",
            "Epoch 50/1000\n",
            "4/4 [==============================] - 0s 10ms/step - loss: 0.5582 - mae: 0.5582 - mse: 0.4749 - val_loss: 0.0785 - val_mae: 0.0785 - val_mse: 0.0122\n",
            "Epoch 51/1000\n",
            "1/4 [======>.......................] - ETA: 0s - loss: 0.5698 - mae: 0.5698 - mse: 0.4861INFO:tensorflow:Assets written to: models/model_dense/assets\n",
            "4/4 [==============================] - 0s 137ms/step - loss: 0.5584 - mae: 0.5584 - mse: 0.4751 - val_loss: 0.0708 - val_mae: 0.0708 - val_mse: 0.0109\n",
            "Epoch 52/1000\n",
            "1/4 [======>.......................] - ETA: 0s - loss: 0.5568 - mae: 0.5568 - mse: 0.4727INFO:tensorflow:Assets written to: models/model_dense/assets\n",
            "4/4 [==============================] - 0s 134ms/step - loss: 0.5577 - mae: 0.5577 - mse: 0.4748 - val_loss: 0.0706 - val_mae: 0.0706 - val_mse: 0.0109\n",
            "Epoch 53/1000\n",
            "4/4 [==============================] - 0s 12ms/step - loss: 0.5579 - mae: 0.5579 - mse: 0.4748 - val_loss: 0.0722 - val_mae: 0.0722 - val_mse: 0.0111\n",
            "Epoch 54/1000\n",
            "1/4 [======>.......................] - ETA: 0s - loss: 0.5667 - mae: 0.5667 - mse: 0.4830INFO:tensorflow:Assets written to: models/model_dense/assets\n",
            "4/4 [==============================] - 0s 141ms/step - loss: 0.5579 - mae: 0.5579 - mse: 0.4748 - val_loss: 0.0703 - val_mae: 0.0703 - val_mse: 0.0108\n",
            "Epoch 55/1000\n",
            "4/4 [==============================] - 0s 10ms/step - loss: 0.5578 - mae: 0.5578 - mse: 0.4750 - val_loss: 0.0749 - val_mae: 0.0749 - val_mse: 0.0116\n",
            "Epoch 56/1000\n",
            "4/4 [==============================] - 0s 10ms/step - loss: 0.5578 - mae: 0.5578 - mse: 0.4748 - val_loss: 0.0727 - val_mae: 0.0727 - val_mse: 0.0111\n",
            "Epoch 57/1000\n",
            "4/4 [==============================] - 0s 10ms/step - loss: 0.5579 - mae: 0.5579 - mse: 0.4748 - val_loss: 0.0729 - val_mae: 0.0729 - val_mse: 0.0112\n",
            "Epoch 58/1000\n",
            "1/4 [======>.......................] - ETA: 0s - loss: 0.5415 - mae: 0.5415 - mse: 0.4584INFO:tensorflow:Assets written to: models/model_dense/assets\n",
            "4/4 [==============================] - 0s 140ms/step - loss: 0.5577 - mae: 0.5577 - mse: 0.4747 - val_loss: 0.0699 - val_mae: 0.0699 - val_mse: 0.0108\n",
            "Epoch 59/1000\n",
            "4/4 [==============================] - 0s 11ms/step - loss: 0.5577 - mae: 0.5577 - mse: 0.4748 - val_loss: 0.0779 - val_mae: 0.0779 - val_mse: 0.0122\n",
            "Epoch 60/1000\n",
            "1/4 [======>.......................] - ETA: 0s - loss: 0.5438 - mae: 0.5438 - mse: 0.4545INFO:tensorflow:Assets written to: models/model_dense/assets\n",
            "4/4 [==============================] - 0s 135ms/step - loss: 0.5582 - mae: 0.5582 - mse: 0.4751 - val_loss: 0.0693 - val_mae: 0.0693 - val_mse: 0.0106\n",
            "Epoch 61/1000\n",
            "4/4 [==============================] - 0s 10ms/step - loss: 0.5577 - mae: 0.5577 - mse: 0.4746 - val_loss: 0.0892 - val_mae: 0.0892 - val_mse: 0.0141\n",
            "Epoch 62/1000\n",
            "4/4 [==============================] - 0s 9ms/step - loss: 0.5599 - mae: 0.5599 - mse: 0.4755 - val_loss: 0.0706 - val_mae: 0.0706 - val_mse: 0.0107\n",
            "Epoch 63/1000\n",
            "4/4 [==============================] - 0s 10ms/step - loss: 0.5576 - mae: 0.5576 - mse: 0.4748 - val_loss: 0.0735 - val_mae: 0.0735 - val_mse: 0.0112\n",
            "Epoch 64/1000\n",
            "4/4 [==============================] - 0s 10ms/step - loss: 0.5576 - mae: 0.5576 - mse: 0.4747 - val_loss: 0.0814 - val_mae: 0.0814 - val_mse: 0.0126\n",
            "Epoch 65/1000\n",
            "4/4 [==============================] - 0s 10ms/step - loss: 0.5585 - mae: 0.5585 - mse: 0.4751 - val_loss: 0.0801 - val_mae: 0.0801 - val_mse: 0.0123\n",
            "Epoch 66/1000\n",
            "1/4 [======>.......................] - ETA: 0s - loss: 0.5484 - mae: 0.5484 - mse: 0.4679INFO:tensorflow:Assets written to: models/model_dense/assets\n",
            "4/4 [==============================] - 1s 208ms/step - loss: 0.5577 - mae: 0.5577 - mse: 0.4748 - val_loss: 0.0680 - val_mae: 0.0680 - val_mse: 0.0103\n",
            "Epoch 67/1000\n",
            "4/4 [==============================] - 0s 10ms/step - loss: 0.5571 - mae: 0.5571 - mse: 0.4744 - val_loss: 0.0698 - val_mae: 0.0698 - val_mse: 0.0106\n",
            "Epoch 68/1000\n",
            "1/4 [======>.......................] - ETA: 0s - loss: 0.5515 - mae: 0.5515 - mse: 0.4657INFO:tensorflow:Assets written to: models/model_dense/assets\n",
            "4/4 [==============================] - 0s 135ms/step - loss: 0.5573 - mae: 0.5573 - mse: 0.4745 - val_loss: 0.0674 - val_mae: 0.0674 - val_mse: 0.0103\n",
            "Epoch 69/1000\n",
            "4/4 [==============================] - 0s 13ms/step - loss: 0.5568 - mae: 0.5568 - mse: 0.4744 - val_loss: 0.0675 - val_mae: 0.0675 - val_mse: 0.0103\n",
            "Epoch 70/1000\n",
            "4/4 [==============================] - 0s 10ms/step - loss: 0.5565 - mae: 0.5565 - mse: 0.4743 - val_loss: 0.0694 - val_mae: 0.0694 - val_mse: 0.0105\n",
            "Epoch 71/1000\n",
            "1/4 [======>.......................] - ETA: 0s - loss: 0.5708 - mae: 0.5708 - mse: 0.4904INFO:tensorflow:Assets written to: models/model_dense/assets\n",
            "4/4 [==============================] - 0s 141ms/step - loss: 0.5567 - mae: 0.5567 - mse: 0.4745 - val_loss: 0.0673 - val_mae: 0.0673 - val_mse: 0.0102\n",
            "Epoch 72/1000\n",
            "4/4 [==============================] - 0s 11ms/step - loss: 0.5569 - mae: 0.5569 - mse: 0.4744 - val_loss: 0.0735 - val_mae: 0.0735 - val_mse: 0.0111\n",
            "Epoch 73/1000\n",
            "1/4 [======>.......................] - ETA: 0s - loss: 0.5616 - mae: 0.5616 - mse: 0.4777INFO:tensorflow:Assets written to: models/model_dense/assets\n",
            "4/4 [==============================] - 0s 143ms/step - loss: 0.5568 - mae: 0.5568 - mse: 0.4743 - val_loss: 0.0667 - val_mae: 0.0667 - val_mse: 0.0101\n",
            "Epoch 74/1000\n",
            "1/4 [======>.......................] - ETA: 0s - loss: 0.5785 - mae: 0.5785 - mse: 0.4956INFO:tensorflow:Assets written to: models/model_dense/assets\n",
            "4/4 [==============================] - 0s 142ms/step - loss: 0.5563 - mae: 0.5563 - mse: 0.4743 - val_loss: 0.0663 - val_mae: 0.0663 - val_mse: 0.0100\n",
            "Epoch 75/1000\n",
            "4/4 [==============================] - 0s 10ms/step - loss: 0.5564 - mae: 0.5564 - mse: 0.4742 - val_loss: 0.0741 - val_mae: 0.0741 - val_mse: 0.0111\n",
            "Epoch 76/1000\n",
            "4/4 [==============================] - 0s 10ms/step - loss: 0.5569 - mae: 0.5569 - mse: 0.4744 - val_loss: 0.0666 - val_mae: 0.0666 - val_mse: 0.0100\n",
            "Epoch 77/1000\n",
            "1/4 [======>.......................] - ETA: 0s - loss: 0.5374 - mae: 0.5374 - mse: 0.4503INFO:tensorflow:Assets written to: models/model_dense/assets\n",
            "4/4 [==============================] - 0s 138ms/step - loss: 0.5564 - mae: 0.5564 - mse: 0.4742 - val_loss: 0.0660 - val_mae: 0.0660 - val_mse: 0.0099\n",
            "Epoch 78/1000\n",
            "1/4 [======>.......................] - ETA: 0s - loss: 0.5727 - mae: 0.5727 - mse: 0.4960INFO:tensorflow:Assets written to: models/model_dense/assets\n",
            "4/4 [==============================] - 0s 139ms/step - loss: 0.5561 - mae: 0.5561 - mse: 0.4742 - val_loss: 0.0657 - val_mae: 0.0657 - val_mse: 0.0099\n",
            "Epoch 79/1000\n",
            "4/4 [==============================] - 0s 11ms/step - loss: 0.5560 - mae: 0.5560 - mse: 0.4742 - val_loss: 0.0672 - val_mae: 0.0672 - val_mse: 0.0101\n",
            "Epoch 80/1000\n",
            "4/4 [==============================] - 0s 13ms/step - loss: 0.5561 - mae: 0.5561 - mse: 0.4742 - val_loss: 0.0660 - val_mae: 0.0660 - val_mse: 0.0099\n",
            "Epoch 81/1000\n",
            "1/4 [======>.......................] - ETA: 0s - loss: 0.5402 - mae: 0.5402 - mse: 0.4564INFO:tensorflow:Assets written to: models/model_dense/assets\n",
            "4/4 [==============================] - 0s 137ms/step - loss: 0.5558 - mae: 0.5558 - mse: 0.4742 - val_loss: 0.0654 - val_mae: 0.0654 - val_mse: 0.0098\n",
            "Epoch 82/1000\n",
            "4/4 [==============================] - 0s 10ms/step - loss: 0.5557 - mae: 0.5557 - mse: 0.4741 - val_loss: 0.0660 - val_mae: 0.0660 - val_mse: 0.0099\n",
            "Epoch 83/1000\n",
            "4/4 [==============================] - 0s 10ms/step - loss: 0.5559 - mae: 0.5559 - mse: 0.4743 - val_loss: 0.0736 - val_mae: 0.0736 - val_mse: 0.0111\n",
            "Epoch 84/1000\n",
            "4/4 [==============================] - 0s 11ms/step - loss: 0.5568 - mae: 0.5568 - mse: 0.4747 - val_loss: 0.0673 - val_mae: 0.0673 - val_mse: 0.0100\n",
            "Epoch 85/1000\n",
            "4/4 [==============================] - 0s 10ms/step - loss: 0.5556 - mae: 0.5556 - mse: 0.4741 - val_loss: 0.0710 - val_mae: 0.0710 - val_mse: 0.0104\n",
            "Epoch 86/1000\n",
            "4/4 [==============================] - 0s 10ms/step - loss: 0.5562 - mae: 0.5562 - mse: 0.4741 - val_loss: 0.0693 - val_mae: 0.0693 - val_mse: 0.0102\n",
            "Epoch 87/1000\n",
            "4/4 [==============================] - 0s 19ms/step - loss: 0.5568 - mae: 0.5568 - mse: 0.4743 - val_loss: 0.0675 - val_mae: 0.0675 - val_mse: 0.0099\n",
            "Epoch 88/1000\n",
            "4/4 [==============================] - 0s 10ms/step - loss: 0.5560 - mae: 0.5560 - mse: 0.4741 - val_loss: 0.0783 - val_mae: 0.0783 - val_mse: 0.0119\n",
            "Epoch 89/1000\n",
            "1/4 [======>.......................] - ETA: 0s - loss: 0.5632 - mae: 0.5632 - mse: 0.4801INFO:tensorflow:Assets written to: models/model_dense/assets\n",
            "4/4 [==============================] - 0s 139ms/step - loss: 0.5570 - mae: 0.5570 - mse: 0.4744 - val_loss: 0.0646 - val_mae: 0.0646 - val_mse: 0.0096\n",
            "Epoch 90/1000\n",
            "4/4 [==============================] - 0s 10ms/step - loss: 0.5556 - mae: 0.5556 - mse: 0.4740 - val_loss: 0.0682 - val_mae: 0.0682 - val_mse: 0.0100\n",
            "Epoch 91/1000\n",
            "4/4 [==============================] - 0s 11ms/step - loss: 0.5557 - mae: 0.5557 - mse: 0.4740 - val_loss: 0.0646 - val_mae: 0.0646 - val_mse: 0.0096\n",
            "Epoch 92/1000\n",
            "4/4 [==============================] - 0s 10ms/step - loss: 0.5560 - mae: 0.5560 - mse: 0.4742 - val_loss: 0.0775 - val_mae: 0.0775 - val_mse: 0.0117\n",
            "Epoch 93/1000\n",
            "4/4 [==============================] - 0s 12ms/step - loss: 0.5575 - mae: 0.5575 - mse: 0.4747 - val_loss: 0.0668 - val_mae: 0.0668 - val_mse: 0.0099\n",
            "Epoch 94/1000\n",
            "4/4 [==============================] - 0s 16ms/step - loss: 0.5552 - mae: 0.5552 - mse: 0.4739 - val_loss: 0.0680 - val_mae: 0.0680 - val_mse: 0.0100\n",
            "Epoch 95/1000\n",
            "4/4 [==============================] - 0s 11ms/step - loss: 0.5557 - mae: 0.5557 - mse: 0.4739 - val_loss: 0.0649 - val_mae: 0.0649 - val_mse: 0.0096\n",
            "Epoch 96/1000\n",
            "4/4 [==============================] - 0s 10ms/step - loss: 0.5556 - mae: 0.5556 - mse: 0.4742 - val_loss: 0.0758 - val_mae: 0.0758 - val_mse: 0.0115\n",
            "Epoch 97/1000\n",
            "4/4 [==============================] - 0s 11ms/step - loss: 0.5562 - mae: 0.5562 - mse: 0.4745 - val_loss: 0.0708 - val_mae: 0.0708 - val_mse: 0.0105\n",
            "Epoch 98/1000\n",
            "4/4 [==============================] - 0s 11ms/step - loss: 0.5562 - mae: 0.5562 - mse: 0.4746 - val_loss: 0.0669 - val_mae: 0.0669 - val_mse: 0.0099\n",
            "Epoch 99/1000\n",
            "4/4 [==============================] - 0s 10ms/step - loss: 0.5558 - mae: 0.5558 - mse: 0.4740 - val_loss: 0.0714 - val_mae: 0.0714 - val_mse: 0.0103\n",
            "Epoch 100/1000\n",
            "1/4 [======>.......................] - ETA: 0s - loss: 0.5474 - mae: 0.5474 - mse: 0.4689INFO:tensorflow:Assets written to: models/model_dense/assets\n",
            "4/4 [==============================] - 0s 141ms/step - loss: 0.5566 - mae: 0.5566 - mse: 0.4741 - val_loss: 0.0644 - val_mae: 0.0644 - val_mse: 0.0094\n",
            "Epoch 101/1000\n",
            "1/4 [======>.......................] - ETA: 0s - loss: 0.5682 - mae: 0.5682 - mse: 0.4844INFO:tensorflow:Assets written to: models/model_dense/assets\n",
            "4/4 [==============================] - 0s 141ms/step - loss: 0.5552 - mae: 0.5552 - mse: 0.4740 - val_loss: 0.0643 - val_mae: 0.0643 - val_mse: 0.0094\n",
            "Epoch 102/1000\n",
            "4/4 [==============================] - 0s 11ms/step - loss: 0.5551 - mae: 0.5551 - mse: 0.4739 - val_loss: 0.0679 - val_mae: 0.0679 - val_mse: 0.0097\n",
            "Epoch 103/1000\n",
            "4/4 [==============================] - 0s 11ms/step - loss: 0.5560 - mae: 0.5560 - mse: 0.4739 - val_loss: 0.0659 - val_mae: 0.0659 - val_mse: 0.0096\n",
            "Epoch 104/1000\n",
            "4/4 [==============================] - 0s 10ms/step - loss: 0.5570 - mae: 0.5570 - mse: 0.4745 - val_loss: 0.0815 - val_mae: 0.0815 - val_mse: 0.0126\n",
            "Epoch 105/1000\n",
            "4/4 [==============================] - 0s 10ms/step - loss: 0.5559 - mae: 0.5559 - mse: 0.4741 - val_loss: 0.0757 - val_mae: 0.0757 - val_mse: 0.0109\n",
            "Epoch 106/1000\n",
            "4/4 [==============================] - 0s 11ms/step - loss: 0.5578 - mae: 0.5578 - mse: 0.4744 - val_loss: 0.0694 - val_mae: 0.0694 - val_mse: 0.0100\n",
            "Epoch 107/1000\n",
            "4/4 [==============================] - 0s 12ms/step - loss: 0.5553 - mae: 0.5553 - mse: 0.4740 - val_loss: 0.0692 - val_mae: 0.0692 - val_mse: 0.0102\n",
            "Epoch 108/1000\n",
            "4/4 [==============================] - 0s 10ms/step - loss: 0.5553 - mae: 0.5553 - mse: 0.4739 - val_loss: 0.0722 - val_mae: 0.0722 - val_mse: 0.0104\n",
            "Epoch 109/1000\n",
            "4/4 [==============================] - 0s 10ms/step - loss: 0.5561 - mae: 0.5561 - mse: 0.4740 - val_loss: 0.0662 - val_mae: 0.0662 - val_mse: 0.0095\n",
            "Epoch 110/1000\n",
            "4/4 [==============================] - 0s 10ms/step - loss: 0.5549 - mae: 0.5549 - mse: 0.4736 - val_loss: 0.0674 - val_mae: 0.0674 - val_mse: 0.0099\n",
            "Epoch 111/1000\n",
            "1/4 [======>.......................] - ETA: 0s - loss: 0.5669 - mae: 0.5669 - mse: 0.4841INFO:tensorflow:Assets written to: models/model_dense/assets\n",
            "4/4 [==============================] - 0s 139ms/step - loss: 0.5552 - mae: 0.5552 - mse: 0.4738 - val_loss: 0.0638 - val_mae: 0.0638 - val_mse: 0.0093\n",
            "Epoch 112/1000\n",
            "1/4 [======>.......................] - ETA: 0s - loss: 0.5529 - mae: 0.5529 - mse: 0.4667INFO:tensorflow:Assets written to: models/model_dense/assets\n",
            "4/4 [==============================] - 0s 139ms/step - loss: 0.5549 - mae: 0.5549 - mse: 0.4737 - val_loss: 0.0636 - val_mae: 0.0636 - val_mse: 0.0093\n",
            "Epoch 113/1000\n",
            "1/4 [======>.......................] - ETA: 0s - loss: 0.5371 - mae: 0.5371 - mse: 0.4583INFO:tensorflow:Assets written to: models/model_dense/assets\n",
            "4/4 [==============================] - 0s 139ms/step - loss: 0.5550 - mae: 0.5550 - mse: 0.4738 - val_loss: 0.0628 - val_mae: 0.0628 - val_mse: 0.0092\n",
            "Epoch 114/1000\n",
            "4/4 [==============================] - 0s 10ms/step - loss: 0.5547 - mae: 0.5547 - mse: 0.4737 - val_loss: 0.0647 - val_mae: 0.0647 - val_mse: 0.0094\n",
            "Epoch 115/1000\n",
            "4/4 [==============================] - 0s 11ms/step - loss: 0.5548 - mae: 0.5548 - mse: 0.4737 - val_loss: 0.0633 - val_mae: 0.0633 - val_mse: 0.0093\n",
            "Epoch 116/1000\n",
            "4/4 [==============================] - 0s 10ms/step - loss: 0.5546 - mae: 0.5546 - mse: 0.4737 - val_loss: 0.0651 - val_mae: 0.0651 - val_mse: 0.0096\n",
            "Epoch 117/1000\n",
            "4/4 [==============================] - 0s 10ms/step - loss: 0.5551 - mae: 0.5551 - mse: 0.4740 - val_loss: 0.0639 - val_mae: 0.0639 - val_mse: 0.0094\n",
            "Epoch 118/1000\n",
            "4/4 [==============================] - 0s 12ms/step - loss: 0.5550 - mae: 0.5550 - mse: 0.4738 - val_loss: 0.0666 - val_mae: 0.0666 - val_mse: 0.0095\n",
            "Epoch 119/1000\n",
            "4/4 [==============================] - 0s 17ms/step - loss: 0.5549 - mae: 0.5549 - mse: 0.4738 - val_loss: 0.0656 - val_mae: 0.0656 - val_mse: 0.0096\n",
            "Epoch 120/1000\n",
            "4/4 [==============================] - 0s 10ms/step - loss: 0.5548 - mae: 0.5548 - mse: 0.4739 - val_loss: 0.0647 - val_mae: 0.0647 - val_mse: 0.0094\n",
            "Epoch 121/1000\n",
            "4/4 [==============================] - 0s 10ms/step - loss: 0.5548 - mae: 0.5548 - mse: 0.4739 - val_loss: 0.0637 - val_mae: 0.0637 - val_mse: 0.0092\n",
            "Epoch 122/1000\n",
            "4/4 [==============================] - 0s 10ms/step - loss: 0.5554 - mae: 0.5554 - mse: 0.4738 - val_loss: 0.0645 - val_mae: 0.0645 - val_mse: 0.0093\n",
            "Epoch 123/1000\n",
            "4/4 [==============================] - 0s 11ms/step - loss: 0.5547 - mae: 0.5547 - mse: 0.4739 - val_loss: 0.0750 - val_mae: 0.0750 - val_mse: 0.0113\n",
            "Epoch 124/1000\n",
            "4/4 [==============================] - 0s 10ms/step - loss: 0.5555 - mae: 0.5555 - mse: 0.4742 - val_loss: 0.0716 - val_mae: 0.0716 - val_mse: 0.0102\n",
            "Epoch 125/1000\n",
            "4/4 [==============================] - 0s 10ms/step - loss: 0.5582 - mae: 0.5582 - mse: 0.4745 - val_loss: 0.0941 - val_mae: 0.0941 - val_mse: 0.0145\n",
            "Epoch 126/1000\n",
            "4/4 [==============================] - 0s 14ms/step - loss: 0.5568 - mae: 0.5568 - mse: 0.4742 - val_loss: 0.0787 - val_mae: 0.0787 - val_mse: 0.0119\n",
            "Epoch 127/1000\n",
            "4/4 [==============================] - 0s 11ms/step - loss: 0.5613 - mae: 0.5613 - mse: 0.4761 - val_loss: 0.1027 - val_mae: 0.1027 - val_mse: 0.0173\n",
            "Epoch 128/1000\n",
            "4/4 [==============================] - 0s 11ms/step - loss: 0.5592 - mae: 0.5592 - mse: 0.4754 - val_loss: 0.0693 - val_mae: 0.0693 - val_mse: 0.0100\n",
            "Epoch 129/1000\n",
            "4/4 [==============================] - 0s 11ms/step - loss: 0.5569 - mae: 0.5569 - mse: 0.4743 - val_loss: 0.0829 - val_mae: 0.0829 - val_mse: 0.0123\n",
            "Epoch 130/1000\n",
            "4/4 [==============================] - 0s 10ms/step - loss: 0.5551 - mae: 0.5551 - mse: 0.4738 - val_loss: 0.0736 - val_mae: 0.0736 - val_mse: 0.0111\n",
            "Epoch 131/1000\n",
            "1/4 [======>.......................] - ETA: 0s - loss: 0.5400 - mae: 0.5400 - mse: 0.4609INFO:tensorflow:Assets written to: models/model_dense/assets\n",
            "4/4 [==============================] - 0s 136ms/step - loss: 0.5567 - mae: 0.5567 - mse: 0.4746 - val_loss: 0.0622 - val_mae: 0.0622 - val_mse: 0.0092\n",
            "Epoch 132/1000\n",
            "4/4 [==============================] - 0s 11ms/step - loss: 0.5557 - mae: 0.5557 - mse: 0.4740 - val_loss: 0.0731 - val_mae: 0.0731 - val_mse: 0.0106\n",
            "Epoch 133/1000\n",
            "4/4 [==============================] - 0s 10ms/step - loss: 0.5553 - mae: 0.5553 - mse: 0.4739 - val_loss: 0.0792 - val_mae: 0.0792 - val_mse: 0.0122\n",
            "Epoch 134/1000\n",
            "4/4 [==============================] - 0s 11ms/step - loss: 0.5580 - mae: 0.5580 - mse: 0.4750 - val_loss: 0.0678 - val_mae: 0.0678 - val_mse: 0.0100\n",
            "Epoch 135/1000\n",
            "4/4 [==============================] - 0s 10ms/step - loss: 0.5549 - mae: 0.5549 - mse: 0.4739 - val_loss: 0.0819 - val_mae: 0.0819 - val_mse: 0.0121\n",
            "Epoch 136/1000\n",
            "4/4 [==============================] - 0s 10ms/step - loss: 0.5580 - mae: 0.5580 - mse: 0.4745 - val_loss: 0.0814 - val_mae: 0.0814 - val_mse: 0.0120\n",
            "Epoch 137/1000\n",
            "4/4 [==============================] - 0s 10ms/step - loss: 0.5560 - mae: 0.5560 - mse: 0.4740 - val_loss: 0.0647 - val_mae: 0.0647 - val_mse: 0.0096\n",
            "Epoch 138/1000\n",
            "4/4 [==============================] - 0s 10ms/step - loss: 0.5558 - mae: 0.5558 - mse: 0.4743 - val_loss: 0.0720 - val_mae: 0.0720 - val_mse: 0.0107\n",
            "Epoch 139/1000\n",
            "4/4 [==============================] - 0s 11ms/step - loss: 0.5551 - mae: 0.5551 - mse: 0.4740 - val_loss: 0.0650 - val_mae: 0.0650 - val_mse: 0.0094\n",
            "Epoch 140/1000\n",
            "4/4 [==============================] - 0s 13ms/step - loss: 0.5550 - mae: 0.5550 - mse: 0.4738 - val_loss: 0.0693 - val_mae: 0.0693 - val_mse: 0.0100\n",
            "Epoch 141/1000\n",
            "1/4 [======>.......................] - ETA: 0s - loss: 0.5549 - mae: 0.5549 - mse: 0.4721INFO:tensorflow:Assets written to: models/model_dense/assets\n",
            "4/4 [==============================] - 1s 332ms/step - loss: 0.5550 - mae: 0.5550 - mse: 0.4737 - val_loss: 0.0619 - val_mae: 0.0619 - val_mse: 0.0091\n",
            "Epoch 142/1000\n",
            "4/4 [==============================] - 0s 11ms/step - loss: 0.5546 - mae: 0.5546 - mse: 0.4737 - val_loss: 0.0629 - val_mae: 0.0629 - val_mse: 0.0091\n",
            "Epoch 143/1000\n",
            "4/4 [==============================] - 0s 11ms/step - loss: 0.5547 - mae: 0.5547 - mse: 0.4737 - val_loss: 0.0859 - val_mae: 0.0859 - val_mse: 0.0129\n",
            "Epoch 144/1000\n",
            "4/4 [==============================] - 0s 10ms/step - loss: 0.5575 - mae: 0.5575 - mse: 0.4745 - val_loss: 0.0665 - val_mae: 0.0665 - val_mse: 0.0095\n",
            "Epoch 145/1000\n",
            "4/4 [==============================] - 0s 10ms/step - loss: 0.5549 - mae: 0.5549 - mse: 0.4738 - val_loss: 0.0723 - val_mae: 0.0723 - val_mse: 0.0105\n",
            "Epoch 146/1000\n",
            "4/4 [==============================] - 0s 12ms/step - loss: 0.5559 - mae: 0.5559 - mse: 0.4740 - val_loss: 0.0626 - val_mae: 0.0626 - val_mse: 0.0090\n",
            "Epoch 147/1000\n",
            "4/4 [==============================] - 0s 11ms/step - loss: 0.5544 - mae: 0.5544 - mse: 0.4736 - val_loss: 0.0630 - val_mae: 0.0630 - val_mse: 0.0091\n",
            "Epoch 148/1000\n",
            "4/4 [==============================] - 0s 11ms/step - loss: 0.5542 - mae: 0.5542 - mse: 0.4736 - val_loss: 0.0658 - val_mae: 0.0658 - val_mse: 0.0096\n",
            "Epoch 149/1000\n",
            "4/4 [==============================] - 0s 10ms/step - loss: 0.5555 - mae: 0.5555 - mse: 0.4741 - val_loss: 0.0778 - val_mae: 0.0778 - val_mse: 0.0118\n",
            "Epoch 150/1000\n",
            "4/4 [==============================] - 0s 38ms/step - loss: 0.5570 - mae: 0.5570 - mse: 0.4747 - val_loss: 0.0625 - val_mae: 0.0625 - val_mse: 0.0092\n",
            "Epoch 151/1000\n",
            "4/4 [==============================] - 0s 34ms/step - loss: 0.5547 - mae: 0.5547 - mse: 0.4737 - val_loss: 0.0769 - val_mae: 0.0769 - val_mse: 0.0111\n",
            "Epoch 152/1000\n",
            "4/4 [==============================] - 0s 31ms/step - loss: 0.5563 - mae: 0.5563 - mse: 0.4740 - val_loss: 0.0619 - val_mae: 0.0619 - val_mse: 0.0091\n",
            "Epoch 153/1000\n",
            "4/4 [==============================] - 0s 36ms/step - loss: 0.5547 - mae: 0.5547 - mse: 0.4738 - val_loss: 0.0656 - val_mae: 0.0656 - val_mse: 0.0097\n",
            "Epoch 154/1000\n",
            "4/4 [==============================] - 0s 26ms/step - loss: 0.5542 - mae: 0.5542 - mse: 0.4737 - val_loss: 0.0720 - val_mae: 0.0720 - val_mse: 0.0104\n",
            "Epoch 155/1000\n",
            "4/4 [==============================] - 0s 11ms/step - loss: 0.5555 - mae: 0.5555 - mse: 0.4738 - val_loss: 0.0620 - val_mae: 0.0620 - val_mse: 0.0091\n",
            "Epoch 156/1000\n",
            "4/4 [==============================] - 0s 10ms/step - loss: 0.5542 - mae: 0.5542 - mse: 0.4738 - val_loss: 0.0642 - val_mae: 0.0642 - val_mse: 0.0095\n",
            "Epoch 157/1000\n",
            "4/4 [==============================] - 0s 12ms/step - loss: 0.5543 - mae: 0.5543 - mse: 0.4737 - val_loss: 0.0687 - val_mae: 0.0687 - val_mse: 0.0100\n",
            "Epoch 158/1000\n",
            "4/4 [==============================] - 0s 12ms/step - loss: 0.5547 - mae: 0.5547 - mse: 0.4737 - val_loss: 0.0634 - val_mae: 0.0634 - val_mse: 0.0095\n",
            "Epoch 159/1000\n",
            "4/4 [==============================] - 0s 10ms/step - loss: 0.5547 - mae: 0.5547 - mse: 0.4740 - val_loss: 0.0649 - val_mae: 0.0649 - val_mse: 0.0096\n",
            "Epoch 160/1000\n",
            "4/4 [==============================] - 0s 10ms/step - loss: 0.5542 - mae: 0.5542 - mse: 0.4738 - val_loss: 0.0626 - val_mae: 0.0626 - val_mse: 0.0092\n",
            "Epoch 161/1000\n",
            "1/4 [======>.......................] - ETA: 0s - loss: 0.5789 - mae: 0.5789 - mse: 0.4941INFO:tensorflow:Assets written to: models/model_dense/assets\n",
            "4/4 [==============================] - 1s 264ms/step - loss: 0.5541 - mae: 0.5541 - mse: 0.4736 - val_loss: 0.0618 - val_mae: 0.0618 - val_mse: 0.0090\n",
            "Epoch 162/1000\n",
            "4/4 [==============================] - 0s 11ms/step - loss: 0.5539 - mae: 0.5539 - mse: 0.4736 - val_loss: 0.0621 - val_mae: 0.0621 - val_mse: 0.0091\n",
            "Epoch 163/1000\n",
            "4/4 [==============================] - 0s 11ms/step - loss: 0.5540 - mae: 0.5540 - mse: 0.4737 - val_loss: 0.0648 - val_mae: 0.0648 - val_mse: 0.0095\n",
            "Epoch 164/1000\n",
            "4/4 [==============================] - 0s 11ms/step - loss: 0.5548 - mae: 0.5548 - mse: 0.4739 - val_loss: 0.0619 - val_mae: 0.0619 - val_mse: 0.0090\n",
            "Epoch 165/1000\n",
            "4/4 [==============================] - 0s 10ms/step - loss: 0.5540 - mae: 0.5540 - mse: 0.4736 - val_loss: 0.0631 - val_mae: 0.0631 - val_mse: 0.0090\n",
            "Epoch 166/1000\n",
            "4/4 [==============================] - 0s 12ms/step - loss: 0.5539 - mae: 0.5539 - mse: 0.4736 - val_loss: 0.0728 - val_mae: 0.0728 - val_mse: 0.0108\n",
            "Epoch 167/1000\n",
            "4/4 [==============================] - 0s 10ms/step - loss: 0.5569 - mae: 0.5569 - mse: 0.4746 - val_loss: 0.0705 - val_mae: 0.0705 - val_mse: 0.0104\n",
            "Epoch 168/1000\n",
            "4/4 [==============================] - 0s 10ms/step - loss: 0.5544 - mae: 0.5544 - mse: 0.4739 - val_loss: 0.0650 - val_mae: 0.0650 - val_mse: 0.0093\n",
            "Epoch 169/1000\n",
            "1/4 [======>.......................] - ETA: 0s - loss: 0.5693 - mae: 0.5693 - mse: 0.4892INFO:tensorflow:Assets written to: models/model_dense/assets\n",
            "4/4 [==============================] - 0s 143ms/step - loss: 0.5542 - mae: 0.5542 - mse: 0.4736 - val_loss: 0.0618 - val_mae: 0.0618 - val_mse: 0.0090\n",
            "Epoch 170/1000\n",
            "4/4 [==============================] - 0s 11ms/step - loss: 0.5538 - mae: 0.5538 - mse: 0.4736 - val_loss: 0.0618 - val_mae: 0.0618 - val_mse: 0.0091\n",
            "Epoch 171/1000\n",
            "1/4 [======>.......................] - ETA: 0s - loss: 0.5322 - mae: 0.5322 - mse: 0.4554INFO:tensorflow:Assets written to: models/model_dense/assets\n",
            "4/4 [==============================] - 0s 142ms/step - loss: 0.5538 - mae: 0.5538 - mse: 0.4737 - val_loss: 0.0615 - val_mae: 0.0615 - val_mse: 0.0090\n",
            "Epoch 172/1000\n",
            "4/4 [==============================] - 0s 16ms/step - loss: 0.5538 - mae: 0.5538 - mse: 0.4736 - val_loss: 0.0662 - val_mae: 0.0662 - val_mse: 0.0095\n",
            "Epoch 173/1000\n",
            "4/4 [==============================] - 0s 11ms/step - loss: 0.5553 - mae: 0.5553 - mse: 0.4738 - val_loss: 0.0657 - val_mae: 0.0657 - val_mse: 0.0094\n",
            "Epoch 174/1000\n",
            "4/4 [==============================] - 0s 11ms/step - loss: 0.5541 - mae: 0.5541 - mse: 0.4737 - val_loss: 0.0729 - val_mae: 0.0729 - val_mse: 0.0109\n",
            "Epoch 175/1000\n",
            "4/4 [==============================] - 0s 11ms/step - loss: 0.5559 - mae: 0.5559 - mse: 0.4743 - val_loss: 0.0621 - val_mae: 0.0621 - val_mse: 0.0091\n",
            "Epoch 176/1000\n",
            "4/4 [==============================] - 0s 12ms/step - loss: 0.5540 - mae: 0.5540 - mse: 0.4736 - val_loss: 0.0690 - val_mae: 0.0690 - val_mse: 0.0099\n",
            "Epoch 177/1000\n",
            "4/4 [==============================] - 0s 10ms/step - loss: 0.5541 - mae: 0.5541 - mse: 0.4736 - val_loss: 0.0626 - val_mae: 0.0626 - val_mse: 0.0092\n",
            "Epoch 178/1000\n",
            "4/4 [==============================] - 0s 10ms/step - loss: 0.5540 - mae: 0.5540 - mse: 0.4737 - val_loss: 0.0698 - val_mae: 0.0698 - val_mse: 0.0100\n",
            "Epoch 179/1000\n",
            "4/4 [==============================] - 0s 11ms/step - loss: 0.5568 - mae: 0.5568 - mse: 0.4743 - val_loss: 0.0878 - val_mae: 0.0878 - val_mse: 0.0132\n",
            "Epoch 180/1000\n",
            "4/4 [==============================] - 0s 10ms/step - loss: 0.5551 - mae: 0.5551 - mse: 0.4737 - val_loss: 0.0762 - val_mae: 0.0762 - val_mse: 0.0113\n",
            "Epoch 181/1000\n",
            "4/4 [==============================] - 0s 11ms/step - loss: 0.5591 - mae: 0.5591 - mse: 0.4752 - val_loss: 0.0836 - val_mae: 0.0836 - val_mse: 0.0127\n",
            "Epoch 182/1000\n",
            "4/4 [==============================] - 0s 13ms/step - loss: 0.5562 - mae: 0.5562 - mse: 0.4743 - val_loss: 0.0773 - val_mae: 0.0773 - val_mse: 0.0112\n",
            "Epoch 183/1000\n",
            "4/4 [==============================] - 0s 11ms/step - loss: 0.5578 - mae: 0.5578 - mse: 0.4746 - val_loss: 0.0871 - val_mae: 0.0871 - val_mse: 0.0130\n",
            "Epoch 184/1000\n",
            "4/4 [==============================] - 0s 10ms/step - loss: 0.5553 - mae: 0.5553 - mse: 0.4737 - val_loss: 0.0804 - val_mae: 0.0804 - val_mse: 0.0121\n",
            "Epoch 185/1000\n",
            "4/4 [==============================] - 0s 11ms/step - loss: 0.5602 - mae: 0.5602 - mse: 0.4756 - val_loss: 0.0869 - val_mae: 0.0869 - val_mse: 0.0135\n",
            "Epoch 186/1000\n",
            "4/4 [==============================] - 0s 11ms/step - loss: 0.5566 - mae: 0.5566 - mse: 0.4743 - val_loss: 0.0772 - val_mae: 0.0772 - val_mse: 0.0111\n",
            "Epoch 187/1000\n",
            "4/4 [==============================] - 0s 11ms/step - loss: 0.5572 - mae: 0.5572 - mse: 0.4742 - val_loss: 0.0847 - val_mae: 0.0847 - val_mse: 0.0125\n",
            "Epoch 188/1000\n",
            "4/4 [==============================] - 0s 12ms/step - loss: 0.5556 - mae: 0.5556 - mse: 0.4740 - val_loss: 0.0677 - val_mae: 0.0677 - val_mse: 0.0098\n",
            "Epoch 189/1000\n",
            "4/4 [==============================] - 0s 10ms/step - loss: 0.5549 - mae: 0.5549 - mse: 0.4739 - val_loss: 0.0616 - val_mae: 0.0616 - val_mse: 0.0088\n",
            "Epoch 190/1000\n",
            "4/4 [==============================] - 0s 10ms/step - loss: 0.5537 - mae: 0.5537 - mse: 0.4734 - val_loss: 0.0616 - val_mae: 0.0616 - val_mse: 0.0089\n",
            "Epoch 191/1000\n",
            "4/4 [==============================] - 0s 10ms/step - loss: 0.5541 - mae: 0.5541 - mse: 0.4737 - val_loss: 0.0636 - val_mae: 0.0636 - val_mse: 0.0093\n",
            "Epoch 192/1000\n",
            "4/4 [==============================] - 0s 10ms/step - loss: 0.5540 - mae: 0.5540 - mse: 0.4737 - val_loss: 0.0652 - val_mae: 0.0652 - val_mse: 0.0093\n",
            "Epoch 193/1000\n",
            "4/4 [==============================] - 0s 11ms/step - loss: 0.5543 - mae: 0.5543 - mse: 0.4735 - val_loss: 0.0622 - val_mae: 0.0622 - val_mse: 0.0091\n",
            "Epoch 194/1000\n",
            "4/4 [==============================] - 0s 10ms/step - loss: 0.5555 - mae: 0.5555 - mse: 0.4743 - val_loss: 0.0720 - val_mae: 0.0720 - val_mse: 0.0107\n",
            "Epoch 195/1000\n",
            "4/4 [==============================] - 0s 10ms/step - loss: 0.5542 - mae: 0.5542 - mse: 0.4736 - val_loss: 0.0811 - val_mae: 0.0811 - val_mse: 0.0118\n",
            "Epoch 196/1000\n",
            "4/4 [==============================] - 0s 11ms/step - loss: 0.5581 - mae: 0.5581 - mse: 0.4745 - val_loss: 0.0845 - val_mae: 0.0845 - val_mse: 0.0125\n",
            "Epoch 197/1000\n",
            "4/4 [==============================] - 0s 13ms/step - loss: 0.5554 - mae: 0.5554 - mse: 0.4737 - val_loss: 0.0766 - val_mae: 0.0766 - val_mse: 0.0114\n",
            "Epoch 198/1000\n",
            "4/4 [==============================] - 0s 11ms/step - loss: 0.5584 - mae: 0.5584 - mse: 0.4750 - val_loss: 0.0727 - val_mae: 0.0727 - val_mse: 0.0107\n",
            "Epoch 199/1000\n",
            "4/4 [==============================] - 0s 11ms/step - loss: 0.5548 - mae: 0.5548 - mse: 0.4737 - val_loss: 0.0857 - val_mae: 0.0857 - val_mse: 0.0127\n",
            "Epoch 200/1000\n",
            "4/4 [==============================] - 0s 10ms/step - loss: 0.5572 - mae: 0.5572 - mse: 0.4744 - val_loss: 0.0727 - val_mae: 0.0727 - val_mse: 0.0104\n",
            "Epoch 201/1000\n",
            "4/4 [==============================] - 0s 10ms/step - loss: 0.5543 - mae: 0.5543 - mse: 0.4736 - val_loss: 0.0658 - val_mae: 0.0658 - val_mse: 0.0095\n",
            "Epoch 202/1000\n",
            "4/4 [==============================] - 0s 11ms/step - loss: 0.5559 - mae: 0.5559 - mse: 0.4740 - val_loss: 0.0676 - val_mae: 0.0676 - val_mse: 0.0098\n",
            "Epoch 203/1000\n",
            "4/4 [==============================] - 0s 12ms/step - loss: 0.5549 - mae: 0.5549 - mse: 0.4738 - val_loss: 0.0645 - val_mae: 0.0645 - val_mse: 0.0091\n",
            "Epoch 204/1000\n",
            "4/4 [==============================] - 0s 12ms/step - loss: 0.5539 - mae: 0.5539 - mse: 0.4735 - val_loss: 0.0668 - val_mae: 0.0668 - val_mse: 0.0094\n",
            "Epoch 205/1000\n",
            "1/4 [======>.......................] - ETA: 0s - loss: 0.5447 - mae: 0.5447 - mse: 0.4633INFO:tensorflow:Assets written to: models/model_dense/assets\n",
            "4/4 [==============================] - 0s 140ms/step - loss: 0.5539 - mae: 0.5539 - mse: 0.4734 - val_loss: 0.0614 - val_mae: 0.0614 - val_mse: 0.0088\n",
            "Epoch 206/1000\n",
            "4/4 [==============================] - 0s 12ms/step - loss: 0.5541 - mae: 0.5541 - mse: 0.4736 - val_loss: 0.0620 - val_mae: 0.0620 - val_mse: 0.0090\n",
            "Epoch 207/1000\n",
            "4/4 [==============================] - 0s 11ms/step - loss: 0.5537 - mae: 0.5537 - mse: 0.4735 - val_loss: 0.0628 - val_mae: 0.0628 - val_mse: 0.0089\n",
            "Epoch 208/1000\n",
            "4/4 [==============================] - 0s 11ms/step - loss: 0.5537 - mae: 0.5537 - mse: 0.4734 - val_loss: 0.0626 - val_mae: 0.0626 - val_mse: 0.0089\n",
            "Epoch 209/1000\n",
            "4/4 [==============================] - 0s 11ms/step - loss: 0.5536 - mae: 0.5536 - mse: 0.4734 - val_loss: 0.0632 - val_mae: 0.0632 - val_mse: 0.0092\n",
            "Epoch 210/1000\n",
            "4/4 [==============================] - 0s 11ms/step - loss: 0.5551 - mae: 0.5551 - mse: 0.4741 - val_loss: 0.0699 - val_mae: 0.0699 - val_mse: 0.0103\n",
            "Epoch 211/1000\n",
            "4/4 [==============================] - 0s 10ms/step - loss: 0.5544 - mae: 0.5544 - mse: 0.4738 - val_loss: 0.0641 - val_mae: 0.0641 - val_mse: 0.0091\n",
            "Epoch 212/1000\n",
            "4/4 [==============================] - 0s 11ms/step - loss: 0.5541 - mae: 0.5541 - mse: 0.4735 - val_loss: 0.0623 - val_mae: 0.0623 - val_mse: 0.0089\n",
            "Epoch 213/1000\n",
            "4/4 [==============================] - 0s 10ms/step - loss: 0.5539 - mae: 0.5539 - mse: 0.4736 - val_loss: 0.0659 - val_mae: 0.0659 - val_mse: 0.0097\n",
            "Epoch 214/1000\n",
            "4/4 [==============================] - 0s 13ms/step - loss: 0.5541 - mae: 0.5541 - mse: 0.4738 - val_loss: 0.0656 - val_mae: 0.0656 - val_mse: 0.0092\n",
            "Epoch 215/1000\n",
            "4/4 [==============================] - 0s 11ms/step - loss: 0.5554 - mae: 0.5554 - mse: 0.4738 - val_loss: 0.0716 - val_mae: 0.0716 - val_mse: 0.0101\n",
            "Epoch 216/1000\n",
            "4/4 [==============================] - 0s 17ms/step - loss: 0.5537 - mae: 0.5537 - mse: 0.4734 - val_loss: 0.0710 - val_mae: 0.0710 - val_mse: 0.0105\n",
            "Epoch 217/1000\n",
            "1/4 [======>.......................] - ETA: 0s - loss: 0.5484 - mae: 0.5484 - mse: 0.4642INFO:tensorflow:Assets written to: models/model_dense/assets\n",
            "4/4 [==============================] - 0s 142ms/step - loss: 0.5554 - mae: 0.5554 - mse: 0.4741 - val_loss: 0.0613 - val_mae: 0.0613 - val_mse: 0.0088\n",
            "Epoch 218/1000\n",
            "4/4 [==============================] - 0s 11ms/step - loss: 0.5542 - mae: 0.5542 - mse: 0.4736 - val_loss: 0.0744 - val_mae: 0.0744 - val_mse: 0.0105\n",
            "Epoch 219/1000\n",
            "4/4 [==============================] - 0s 10ms/step - loss: 0.5543 - mae: 0.5543 - mse: 0.4735 - val_loss: 0.0654 - val_mae: 0.0654 - val_mse: 0.0096\n",
            "Epoch 220/1000\n",
            "1/4 [======>.......................] - ETA: 0s - loss: 0.5692 - mae: 0.5692 - mse: 0.4881INFO:tensorflow:Assets written to: models/model_dense/assets\n",
            "4/4 [==============================] - 0s 141ms/step - loss: 0.5555 - mae: 0.5555 - mse: 0.4742 - val_loss: 0.0609 - val_mae: 0.0609 - val_mse: 0.0088\n",
            "Epoch 221/1000\n",
            "4/4 [==============================] - 0s 12ms/step - loss: 0.5547 - mae: 0.5547 - mse: 0.4737 - val_loss: 0.1008 - val_mae: 0.1008 - val_mse: 0.0158\n",
            "Epoch 222/1000\n",
            "4/4 [==============================] - 0s 11ms/step - loss: 0.5584 - mae: 0.5584 - mse: 0.4747 - val_loss: 0.0620 - val_mae: 0.0620 - val_mse: 0.0089\n",
            "Epoch 223/1000\n",
            "4/4 [==============================] - 0s 14ms/step - loss: 0.5544 - mae: 0.5544 - mse: 0.4736 - val_loss: 0.0795 - val_mae: 0.0795 - val_mse: 0.0120\n",
            "Epoch 224/1000\n",
            "4/4 [==============================] - 0s 11ms/step - loss: 0.5559 - mae: 0.5559 - mse: 0.4742 - val_loss: 0.0665 - val_mae: 0.0665 - val_mse: 0.0094\n",
            "Epoch 225/1000\n",
            "4/4 [==============================] - 0s 11ms/step - loss: 0.5558 - mae: 0.5558 - mse: 0.4739 - val_loss: 0.0744 - val_mae: 0.0744 - val_mse: 0.0106\n",
            "Epoch 226/1000\n",
            "4/4 [==============================] - 0s 11ms/step - loss: 0.5541 - mae: 0.5541 - mse: 0.4736 - val_loss: 0.0680 - val_mae: 0.0680 - val_mse: 0.0099\n",
            "Epoch 227/1000\n",
            "4/4 [==============================] - 0s 11ms/step - loss: 0.5553 - mae: 0.5553 - mse: 0.4740 - val_loss: 0.0615 - val_mae: 0.0615 - val_mse: 0.0087\n",
            "Epoch 228/1000\n",
            "4/4 [==============================] - 0s 11ms/step - loss: 0.5546 - mae: 0.5546 - mse: 0.4737 - val_loss: 0.0758 - val_mae: 0.0758 - val_mse: 0.0108\n",
            "Epoch 229/1000\n",
            "4/4 [==============================] - 0s 11ms/step - loss: 0.5551 - mae: 0.5551 - mse: 0.4737 - val_loss: 0.0622 - val_mae: 0.0622 - val_mse: 0.0087\n",
            "Epoch 230/1000\n",
            "4/4 [==============================] - 0s 11ms/step - loss: 0.5540 - mae: 0.5540 - mse: 0.4736 - val_loss: 0.0638 - val_mae: 0.0638 - val_mse: 0.0092\n",
            "Epoch 231/1000\n",
            "4/4 [==============================] - 0s 13ms/step - loss: 0.5537 - mae: 0.5537 - mse: 0.4735 - val_loss: 0.0640 - val_mae: 0.0640 - val_mse: 0.0090\n",
            "Epoch 232/1000\n",
            "4/4 [==============================] - 0s 11ms/step - loss: 0.5537 - mae: 0.5537 - mse: 0.4734 - val_loss: 0.0622 - val_mae: 0.0622 - val_mse: 0.0090\n",
            "Epoch 233/1000\n",
            "4/4 [==============================] - 0s 17ms/step - loss: 0.5550 - mae: 0.5550 - mse: 0.4741 - val_loss: 0.0642 - val_mae: 0.0642 - val_mse: 0.0094\n",
            "Epoch 234/1000\n",
            "4/4 [==============================] - 0s 11ms/step - loss: 0.5540 - mae: 0.5540 - mse: 0.4736 - val_loss: 0.0762 - val_mae: 0.0762 - val_mse: 0.0108\n",
            "Epoch 235/1000\n",
            "4/4 [==============================] - 0s 11ms/step - loss: 0.5555 - mae: 0.5555 - mse: 0.4737 - val_loss: 0.0623 - val_mae: 0.0623 - val_mse: 0.0089\n",
            "Epoch 236/1000\n",
            "4/4 [==============================] - 0s 12ms/step - loss: 0.5541 - mae: 0.5541 - mse: 0.4738 - val_loss: 0.0680 - val_mae: 0.0680 - val_mse: 0.0100\n",
            "Epoch 237/1000\n",
            "4/4 [==============================] - 0s 12ms/step - loss: 0.5539 - mae: 0.5539 - mse: 0.4737 - val_loss: 0.0753 - val_mae: 0.0753 - val_mse: 0.0106\n",
            "Epoch 238/1000\n",
            "4/4 [==============================] - 0s 12ms/step - loss: 0.5570 - mae: 0.5570 - mse: 0.4740 - val_loss: 0.0874 - val_mae: 0.0874 - val_mse: 0.0129\n",
            "Epoch 239/1000\n",
            "4/4 [==============================] - 0s 11ms/step - loss: 0.5558 - mae: 0.5558 - mse: 0.4737 - val_loss: 0.0616 - val_mae: 0.0616 - val_mse: 0.0089\n",
            "Epoch 240/1000\n",
            "4/4 [==============================] - 0s 13ms/step - loss: 0.5542 - mae: 0.5542 - mse: 0.4737 - val_loss: 0.0624 - val_mae: 0.0624 - val_mse: 0.0091\n",
            "Epoch 241/1000\n",
            "4/4 [==============================] - 0s 11ms/step - loss: 0.5539 - mae: 0.5539 - mse: 0.4734 - val_loss: 0.0816 - val_mae: 0.0816 - val_mse: 0.0119\n",
            "Epoch 242/1000\n",
            "4/4 [==============================] - 0s 11ms/step - loss: 0.5558 - mae: 0.5558 - mse: 0.4740 - val_loss: 0.0647 - val_mae: 0.0647 - val_mse: 0.0091\n",
            "Epoch 243/1000\n",
            "4/4 [==============================] - 0s 15ms/step - loss: 0.5543 - mae: 0.5543 - mse: 0.4737 - val_loss: 0.0631 - val_mae: 0.0631 - val_mse: 0.0091\n",
            "Epoch 244/1000\n",
            "4/4 [==============================] - 0s 11ms/step - loss: 0.5540 - mae: 0.5540 - mse: 0.4735 - val_loss: 0.0660 - val_mae: 0.0660 - val_mse: 0.0093\n",
            "Epoch 245/1000\n",
            "4/4 [==============================] - 0s 11ms/step - loss: 0.5538 - mae: 0.5538 - mse: 0.4734 - val_loss: 0.0641 - val_mae: 0.0641 - val_mse: 0.0090\n",
            "Epoch 246/1000\n",
            "4/4 [==============================] - 0s 11ms/step - loss: 0.5540 - mae: 0.5540 - mse: 0.4735 - val_loss: 0.0669 - val_mae: 0.0669 - val_mse: 0.0094\n",
            "Epoch 247/1000\n",
            "4/4 [==============================] - 0s 11ms/step - loss: 0.5537 - mae: 0.5537 - mse: 0.4735 - val_loss: 0.0611 - val_mae: 0.0611 - val_mse: 0.0088\n",
            "Epoch 248/1000\n",
            "4/4 [==============================] - 0s 11ms/step - loss: 0.5536 - mae: 0.5536 - mse: 0.4735 - val_loss: 0.0643 - val_mae: 0.0643 - val_mse: 0.0091\n",
            "Epoch 249/1000\n",
            "4/4 [==============================] - 0s 11ms/step - loss: 0.5543 - mae: 0.5543 - mse: 0.4736 - val_loss: 0.0662 - val_mae: 0.0662 - val_mse: 0.0093\n",
            "Epoch 250/1000\n",
            "4/4 [==============================] - 0s 10ms/step - loss: 0.5534 - mae: 0.5534 - mse: 0.4734 - val_loss: 0.0627 - val_mae: 0.0627 - val_mse: 0.0092\n",
            "Epoch 251/1000\n",
            "4/4 [==============================] - 0s 11ms/step - loss: 0.5537 - mae: 0.5537 - mse: 0.4736 - val_loss: 0.0652 - val_mae: 0.0652 - val_mse: 0.0092\n",
            "Epoch 252/1000\n",
            "4/4 [==============================] - 0s 11ms/step - loss: 0.5537 - mae: 0.5537 - mse: 0.4734 - val_loss: 0.0642 - val_mae: 0.0642 - val_mse: 0.0091\n",
            "Epoch 253/1000\n",
            "4/4 [==============================] - 0s 12ms/step - loss: 0.5535 - mae: 0.5535 - mse: 0.4734 - val_loss: 0.0609 - val_mae: 0.0609 - val_mse: 0.0088\n",
            "Epoch 254/1000\n",
            "4/4 [==============================] - 0s 11ms/step - loss: 0.5539 - mae: 0.5539 - mse: 0.4738 - val_loss: 0.0624 - val_mae: 0.0624 - val_mse: 0.0092\n",
            "Epoch 255/1000\n",
            "4/4 [==============================] - 0s 11ms/step - loss: 0.5536 - mae: 0.5536 - mse: 0.4737 - val_loss: 0.0641 - val_mae: 0.0641 - val_mse: 0.0092\n",
            "Epoch 256/1000\n",
            "1/4 [======>.......................] - ETA: 0s - loss: 0.5520 - mae: 0.5520 - mse: 0.4726INFO:tensorflow:Assets written to: models/model_dense/assets\n",
            "4/4 [==============================] - 0s 142ms/step - loss: 0.5536 - mae: 0.5536 - mse: 0.4736 - val_loss: 0.0608 - val_mae: 0.0608 - val_mse: 0.0090\n",
            "Epoch 257/1000\n",
            "1/4 [======>.......................] - ETA: 0s - loss: 0.5726 - mae: 0.5726 - mse: 0.4923INFO:tensorflow:Assets written to: models/model_dense/assets\n",
            "4/4 [==============================] - 0s 140ms/step - loss: 0.5533 - mae: 0.5533 - mse: 0.4736 - val_loss: 0.0608 - val_mae: 0.0608 - val_mse: 0.0088\n",
            "Epoch 258/1000\n",
            "4/4 [==============================] - 0s 11ms/step - loss: 0.5530 - mae: 0.5530 - mse: 0.4734 - val_loss: 0.0676 - val_mae: 0.0676 - val_mse: 0.0095\n",
            "Epoch 259/1000\n",
            "4/4 [==============================] - 0s 11ms/step - loss: 0.5542 - mae: 0.5542 - mse: 0.4735 - val_loss: 0.0617 - val_mae: 0.0617 - val_mse: 0.0088\n",
            "Epoch 260/1000\n",
            "4/4 [==============================] - 0s 11ms/step - loss: 0.5537 - mae: 0.5537 - mse: 0.4735 - val_loss: 0.0681 - val_mae: 0.0681 - val_mse: 0.0099\n",
            "Epoch 261/1000\n",
            "4/4 [==============================] - 0s 11ms/step - loss: 0.5541 - mae: 0.5541 - mse: 0.4736 - val_loss: 0.0642 - val_mae: 0.0642 - val_mse: 0.0090\n",
            "Epoch 262/1000\n",
            "4/4 [==============================] - 0s 12ms/step - loss: 0.5536 - mae: 0.5536 - mse: 0.4734 - val_loss: 0.0665 - val_mae: 0.0665 - val_mse: 0.0094\n",
            "Epoch 263/1000\n",
            "1/4 [======>.......................] - ETA: 0s - loss: 0.5299 - mae: 0.5299 - mse: 0.4469INFO:tensorflow:Assets written to: models/model_dense/assets\n",
            "4/4 [==============================] - 0s 142ms/step - loss: 0.5540 - mae: 0.5540 - mse: 0.4735 - val_loss: 0.0606 - val_mae: 0.0606 - val_mse: 0.0088\n",
            "Epoch 264/1000\n",
            "4/4 [==============================] - 0s 14ms/step - loss: 0.5539 - mae: 0.5539 - mse: 0.4738 - val_loss: 0.0712 - val_mae: 0.0712 - val_mse: 0.0107\n",
            "Epoch 265/1000\n",
            "4/4 [==============================] - 0s 11ms/step - loss: 0.5550 - mae: 0.5550 - mse: 0.4741 - val_loss: 0.0658 - val_mae: 0.0658 - val_mse: 0.0093\n",
            "Epoch 266/1000\n",
            "4/4 [==============================] - 0s 11ms/step - loss: 0.5544 - mae: 0.5544 - mse: 0.4735 - val_loss: 0.0776 - val_mae: 0.0776 - val_mse: 0.0111\n",
            "Epoch 267/1000\n",
            "4/4 [==============================] - 0s 11ms/step - loss: 0.5550 - mae: 0.5550 - mse: 0.4737 - val_loss: 0.0654 - val_mae: 0.0654 - val_mse: 0.0093\n",
            "Epoch 268/1000\n",
            "4/4 [==============================] - 0s 11ms/step - loss: 0.5534 - mae: 0.5534 - mse: 0.4735 - val_loss: 0.0607 - val_mae: 0.0607 - val_mse: 0.0089\n",
            "Epoch 269/1000\n",
            "4/4 [==============================] - 0s 10ms/step - loss: 0.5536 - mae: 0.5536 - mse: 0.4736 - val_loss: 0.0607 - val_mae: 0.0607 - val_mse: 0.0089\n",
            "Epoch 270/1000\n",
            "4/4 [==============================] - 0s 12ms/step - loss: 0.5536 - mae: 0.5536 - mse: 0.4735 - val_loss: 0.0659 - val_mae: 0.0659 - val_mse: 0.0093\n",
            "Epoch 271/1000\n",
            "4/4 [==============================] - 0s 11ms/step - loss: 0.5534 - mae: 0.5534 - mse: 0.4734 - val_loss: 0.0612 - val_mae: 0.0612 - val_mse: 0.0089\n",
            "Epoch 272/1000\n",
            "4/4 [==============================] - 0s 10ms/step - loss: 0.5545 - mae: 0.5545 - mse: 0.4738 - val_loss: 0.0616 - val_mae: 0.0616 - val_mse: 0.0090\n",
            "Epoch 273/1000\n",
            "4/4 [==============================] - 0s 10ms/step - loss: 0.5535 - mae: 0.5535 - mse: 0.4735 - val_loss: 0.0721 - val_mae: 0.0721 - val_mse: 0.0102\n",
            "Epoch 274/1000\n",
            "4/4 [==============================] - 0s 11ms/step - loss: 0.5544 - mae: 0.5544 - mse: 0.4736 - val_loss: 0.0661 - val_mae: 0.0661 - val_mse: 0.0093\n",
            "Epoch 275/1000\n",
            "4/4 [==============================] - 0s 13ms/step - loss: 0.5534 - mae: 0.5534 - mse: 0.4734 - val_loss: 0.0614 - val_mae: 0.0614 - val_mse: 0.0087\n",
            "Epoch 276/1000\n",
            "4/4 [==============================] - 0s 11ms/step - loss: 0.5533 - mae: 0.5533 - mse: 0.4733 - val_loss: 0.0616 - val_mae: 0.0616 - val_mse: 0.0086\n",
            "Epoch 277/1000\n",
            "4/4 [==============================] - 0s 10ms/step - loss: 0.5532 - mae: 0.5532 - mse: 0.4733 - val_loss: 0.0610 - val_mae: 0.0610 - val_mse: 0.0087\n",
            "Epoch 278/1000\n",
            "4/4 [==============================] - 0s 11ms/step - loss: 0.5533 - mae: 0.5533 - mse: 0.4734 - val_loss: 0.0610 - val_mae: 0.0610 - val_mse: 0.0089\n",
            "Epoch 279/1000\n",
            "4/4 [==============================] - 0s 17ms/step - loss: 0.5532 - mae: 0.5532 - mse: 0.4735 - val_loss: 0.0629 - val_mae: 0.0629 - val_mse: 0.0090\n",
            "Epoch 280/1000\n",
            "4/4 [==============================] - 0s 13ms/step - loss: 0.5536 - mae: 0.5536 - mse: 0.4735 - val_loss: 0.0615 - val_mae: 0.0615 - val_mse: 0.0092\n",
            "Epoch 281/1000\n",
            "4/4 [==============================] - 0s 12ms/step - loss: 0.5547 - mae: 0.5547 - mse: 0.4743 - val_loss: 0.0688 - val_mae: 0.0688 - val_mse: 0.0105\n",
            "Epoch 282/1000\n",
            "4/4 [==============================] - 0s 11ms/step - loss: 0.5542 - mae: 0.5542 - mse: 0.4739 - val_loss: 0.0744 - val_mae: 0.0744 - val_mse: 0.0106\n",
            "Epoch 283/1000\n",
            "4/4 [==============================] - 0s 11ms/step - loss: 0.5563 - mae: 0.5563 - mse: 0.4739 - val_loss: 0.0707 - val_mae: 0.0707 - val_mse: 0.0100\n",
            "Epoch 284/1000\n",
            "4/4 [==============================] - 0s 11ms/step - loss: 0.5532 - mae: 0.5532 - mse: 0.4735 - val_loss: 0.0812 - val_mae: 0.0812 - val_mse: 0.0124\n",
            "Epoch 285/1000\n",
            "4/4 [==============================] - 0s 12ms/step - loss: 0.5587 - mae: 0.5587 - mse: 0.4751 - val_loss: 0.0649 - val_mae: 0.0649 - val_mse: 0.0095\n",
            "Epoch 286/1000\n",
            "4/4 [==============================] - 0s 11ms/step - loss: 0.5536 - mae: 0.5536 - mse: 0.4733 - val_loss: 0.0795 - val_mae: 0.0795 - val_mse: 0.0114\n",
            "Epoch 287/1000\n",
            "4/4 [==============================] - 0s 11ms/step - loss: 0.5555 - mae: 0.5555 - mse: 0.4738 - val_loss: 0.0674 - val_mae: 0.0674 - val_mse: 0.0094\n",
            "Epoch 288/1000\n",
            "4/4 [==============================] - 0s 11ms/step - loss: 0.5530 - mae: 0.5530 - mse: 0.4733 - val_loss: 0.0671 - val_mae: 0.0671 - val_mse: 0.0098\n",
            "Epoch 289/1000\n",
            "4/4 [==============================] - 0s 12ms/step - loss: 0.5557 - mae: 0.5557 - mse: 0.4742 - val_loss: 0.0637 - val_mae: 0.0637 - val_mse: 0.0093\n",
            "Epoch 290/1000\n",
            "4/4 [==============================] - 0s 11ms/step - loss: 0.5533 - mae: 0.5533 - mse: 0.4736 - val_loss: 0.0707 - val_mae: 0.0707 - val_mse: 0.0099\n",
            "Epoch 291/1000\n",
            "4/4 [==============================] - 0s 17ms/step - loss: 0.5540 - mae: 0.5540 - mse: 0.4734 - val_loss: 0.0616 - val_mae: 0.0616 - val_mse: 0.0087\n",
            "Epoch 292/1000\n",
            "4/4 [==============================] - 0s 12ms/step - loss: 0.5530 - mae: 0.5530 - mse: 0.4734 - val_loss: 0.0615 - val_mae: 0.0615 - val_mse: 0.0087\n",
            "Epoch 293/1000\n",
            "4/4 [==============================] - 0s 12ms/step - loss: 0.5531 - mae: 0.5531 - mse: 0.4733 - val_loss: 0.0668 - val_mae: 0.0668 - val_mse: 0.0093\n",
            "Epoch 294/1000\n",
            "4/4 [==============================] - 0s 12ms/step - loss: 0.5533 - mae: 0.5533 - mse: 0.4734 - val_loss: 0.0609 - val_mae: 0.0609 - val_mse: 0.0088\n",
            "Epoch 295/1000\n",
            "4/4 [==============================] - 0s 12ms/step - loss: 0.5534 - mae: 0.5534 - mse: 0.4735 - val_loss: 0.0613 - val_mae: 0.0613 - val_mse: 0.0087\n",
            "Epoch 296/1000\n",
            "4/4 [==============================] - 0s 11ms/step - loss: 0.5531 - mae: 0.5531 - mse: 0.4734 - val_loss: 0.0631 - val_mae: 0.0631 - val_mse: 0.0089\n",
            "Epoch 297/1000\n",
            "4/4 [==============================] - 0s 11ms/step - loss: 0.5532 - mae: 0.5532 - mse: 0.4734 - val_loss: 0.0611 - val_mae: 0.0611 - val_mse: 0.0088\n",
            "Epoch 298/1000\n",
            "4/4 [==============================] - 0s 12ms/step - loss: 0.5530 - mae: 0.5530 - mse: 0.4734 - val_loss: 0.0682 - val_mae: 0.0682 - val_mse: 0.0095\n",
            "Epoch 299/1000\n",
            "4/4 [==============================] - 0s 13ms/step - loss: 0.5537 - mae: 0.5537 - mse: 0.4734 - val_loss: 0.0612 - val_mae: 0.0612 - val_mse: 0.0088\n",
            "Epoch 300/1000\n",
            "4/4 [==============================] - 0s 11ms/step - loss: 0.5541 - mae: 0.5541 - mse: 0.4737 - val_loss: 0.0722 - val_mae: 0.0722 - val_mse: 0.0108\n",
            "Epoch 301/1000\n",
            "4/4 [==============================] - 0s 13ms/step - loss: 0.5554 - mae: 0.5554 - mse: 0.4742 - val_loss: 0.0659 - val_mae: 0.0659 - val_mse: 0.0093\n",
            "Epoch 302/1000\n",
            "4/4 [==============================] - 0s 11ms/step - loss: 0.5553 - mae: 0.5553 - mse: 0.4738 - val_loss: 0.0915 - val_mae: 0.0915 - val_mse: 0.0137\n",
            "Epoch 303/1000\n",
            "4/4 [==============================] - 0s 12ms/step - loss: 0.5553 - mae: 0.5553 - mse: 0.4738 - val_loss: 0.0636 - val_mae: 0.0636 - val_mse: 0.0094\n"
          ]
        },
        {
          "output_type": "execute_result",
          "data": {
            "text/plain": [
              "<keras.callbacks.History at 0x7ff0001256d0>"
            ]
          },
          "metadata": {},
          "execution_count": 24
        }
      ]
    },
    {
      "cell_type": "code",
      "source": [
        "# Evaluates on test data\n",
        "model_1 = tf.keras.models.load_model(\"models/model_dense\")\n",
        "model_1.evaluate(test_windows, test_labels)"
      ],
      "metadata": {
        "colab": {
          "base_uri": "https://localhost:8080/"
        },
        "id": "J46KQV6w0r6C",
        "outputId": "8fe4238f-b48e-4643-fd36-201ebaf66af5"
      },
      "execution_count": 25,
      "outputs": [
        {
          "output_type": "stream",
          "name": "stdout",
          "text": [
            "11/11 [==============================] - 0s 3ms/step - loss: 711.6450 - mae: 711.6450 - mse: 1832902.7500\n"
          ]
        },
        {
          "output_type": "execute_result",
          "data": {
            "text/plain": [
              "[711.64501953125, 711.64501953125, 1832902.75]"
            ]
          },
          "metadata": {},
          "execution_count": 25
        }
      ]
    },
    {
      "cell_type": "code",
      "source": [
        "## After evaluating the model, lets forecast using the model (it is pseudo forecast)\n",
        "def make_prediction(model, input_data):\n",
        "  forecast = model.predict(input_data)\n",
        "  return tf.squeeze(forecast) # Squeezing is needed because we are returning 1D array of predictions"
      ],
      "metadata": {
        "id": "h-pdSr5b0vQw"
      },
      "execution_count": 26,
      "outputs": []
    },
    {
      "cell_type": "code",
      "source": [
        "# Make predictions using model_dense on the test dataset and evaluate it on test data\n",
        "model_1_prediction = make_prediction(model_1, test_windows)"
      ],
      "metadata": {
        "id": "T8ouA6OC06c1"
      },
      "execution_count": 27,
      "outputs": []
    },
    {
      "cell_type": "code",
      "source": [
        "model_1_results = evaluate_preds(y_true=tf.squeeze(test_labels), y_pred=model_1_prediction)\n",
        "model_1_results"
      ],
      "metadata": {
        "colab": {
          "base_uri": "https://localhost:8080/"
        },
        "id": "7DXYR6Yc0-Df",
        "outputId": "ee890e30-8004-414a-c5a3-c1bf5fb33db3"
      },
      "execution_count": 28,
      "outputs": [
        {
          "output_type": "execute_result",
          "data": {
            "text/plain": [
              "{'mae': 711.645, 'mape': 2.6642923, 'mse': 1832902.8, 'rmse': 1353.8474}"
            ]
          },
          "metadata": {},
          "execution_count": 28
        }
      ]
    },
    {
      "cell_type": "code",
      "source": [
        "# Plotting model-1 predictions\n",
        "plt.figure(figsize=(10,7))\n",
        "offset=len(test_windows)-100\n",
        "plot_time_series(timesteps=X_test[-len(test_windows):], values=test_labels[:, 0], start=offset, label='Test Data', format=\"-\")\n",
        "plot_time_series(timesteps=X_test[-len(test_windows):], values=model_1_prediction, start=offset, label=\"Model-Dense prediction\", format='-')"
      ],
      "metadata": {
        "id": "zkOxk8i_1BUA",
        "colab": {
          "base_uri": "https://localhost:8080/",
          "height": 442
        },
        "outputId": "25e1d7da-f50e-4453-e419-468645b25a20"
      },
      "execution_count": 29,
      "outputs": [
        {
          "output_type": "display_data",
          "data": {
            "text/plain": [
              "<Figure size 720x504 with 1 Axes>"
            ],
            "image/png": "[encoded data removed]"
          },
          "metadata": {
            "needs_background": "light"
          }
        }
      ]
    },
    {
      "cell_type": "markdown",
      "source": [
        "### Model-2 CNN"
      ],
      "metadata": {
        "id": "LP4Z-aPao9io"
      }
    },
    {
      "cell_type": "code",
      "source": [
        "tf.random.set_seed(42)\n",
        "\n",
        "# Create Conv1D model\n",
        "model_2 = tf.keras.Sequential([\n",
        "\n",
        "  layers.Lambda(lambda k: tf.expand_dims(k, axis=1)), # firstly adjust the size of our input data\n",
        "  \n",
        "  layers.Conv1D(filters=256, kernel_size=8, strides=1, padding=\"causal\", activation=\"relu\"),\n",
        "  # layers.BatchNormalization(),\n",
        "  # layers.Activation(activation='relu'),\n",
        "\n",
        "  # layers.Conv1D(filters=128, kernel_size=5, strides=1, padding=\"causal\", activation=\"relu\"),\n",
        "  # layers.BatchNormalization(),\n",
        "  # layers.Activation(activation='relu'),\n",
        "\n",
        "  # layers.Conv1D(filters=64, kernel_size=3, strides=1, padding=\"causal\", activation=\"relu\"),\n",
        "  # layers.BatchNormalization(),\n",
        "  # layers.Activation(activation='relu'),\n",
        "\n",
        "  layers.GlobalAveragePooling1D(),\n",
        "  layers.Dense(HORIZON, activation=\"relu\")\n",
        "\n",
        "], name=\"model_conv1D\")\n",
        "\n",
        "# Compile model\n",
        "model_2.compile(loss=\"mae\",\n",
        "                optimizer=tf.keras.optimizers.Adam())\n",
        "\n",
        "# Fit model\n",
        "model_2.fit(train_windows, #if faced data cardinality error, do tf.stack(train_windows) or np.array(train_windows)\n",
        "            train_labels, \n",
        "            batch_size=BATCH_SIZE, \n",
        "            epochs=1000, \n",
        "            verbose=1,\n",
        "            validation_data=(val_windows, val_labels),\n",
        "            callbacks=[create_model_checkpoint(model_name=model_2.name), early_stopping()]\n",
        "            )"
      ],
      "metadata": {
        "colab": {
          "base_uri": "https://localhost:8080/"
        },
        "id": "3JE5SK-FrtUL",
        "outputId": "38a3ee55-32b8-4c44-c408-551efc11a557"
      },
      "execution_count": 30,
      "outputs": [
        {
          "output_type": "stream",
          "name": "stdout",
          "text": [
            "Epoch 1/1000\n",
            "4/4 [==============================] - ETA: 0s - loss: 0.7545 INFO:tensorflow:Assets written to: models/model_conv1D/assets\n",
            "4/4 [==============================] - 10s 608ms/step - loss: 0.7545 - val_loss: 0.5484\n",
            "Epoch 2/1000\n",
            "1/4 [======>.......................] - ETA: 0s - loss: 0.6632INFO:tensorflow:Assets written to: models/model_conv1D/assets\n",
            "4/4 [==============================] - 1s 252ms/step - loss: 0.6407 - val_loss: 0.1705\n",
            "Epoch 3/1000\n",
            "4/4 [==============================] - 0s 10ms/step - loss: 0.5760 - val_loss: 0.1895\n",
            "Epoch 4/1000\n",
            "4/4 [==============================] - 0s 10ms/step - loss: 0.5917 - val_loss: 0.2199\n",
            "Epoch 5/1000\n",
            "1/4 [======>.......................] - ETA: 0s - loss: 0.6229INFO:tensorflow:Assets written to: models/model_conv1D/assets\n",
            "4/4 [==============================] - 1s 178ms/step - loss: 0.5901 - val_loss: 0.1288\n",
            "Epoch 6/1000\n",
            "1/4 [======>.......................] - ETA: 0s - loss: 0.5781INFO:tensorflow:Assets written to: models/model_conv1D/assets\n",
            "4/4 [==============================] - 1s 184ms/step - loss: 0.5728 - val_loss: 0.1145\n",
            "Epoch 7/1000\n",
            "4/4 [==============================] - 0s 10ms/step - loss: 0.5716 - val_loss: 0.1270\n",
            "Epoch 8/1000\n",
            "1/4 [======>.......................] - ETA: 0s - loss: 0.6085INFO:tensorflow:Assets written to: models/model_conv1D/assets\n",
            "4/4 [==============================] - 1s 178ms/step - loss: 0.5712 - val_loss: 0.1007\n",
            "Epoch 9/1000\n",
            "4/4 [==============================] - 0s 16ms/step - loss: 0.5686 - val_loss: 0.1135\n",
            "Epoch 10/1000\n",
            "4/4 [==============================] - 0s 11ms/step - loss: 0.5715 - val_loss: 0.1120\n",
            "Epoch 11/1000\n",
            "1/4 [======>.......................] - ETA: 0s - loss: 0.6032INFO:tensorflow:Assets written to: models/model_conv1D/assets\n",
            "4/4 [==============================] - 1s 177ms/step - loss: 0.5692 - val_loss: 0.0963\n",
            "Epoch 12/1000\n",
            "4/4 [==============================] - 0s 10ms/step - loss: 0.5677 - val_loss: 0.1088\n",
            "Epoch 13/1000\n",
            "4/4 [==============================] - 0s 10ms/step - loss: 0.5685 - val_loss: 0.1031\n",
            "Epoch 14/1000\n",
            "1/4 [======>.......................] - ETA: 0s - loss: 0.5882INFO:tensorflow:Assets written to: models/model_conv1D/assets\n",
            "4/4 [==============================] - 1s 182ms/step - loss: 0.5669 - val_loss: 0.0926\n",
            "Epoch 15/1000\n",
            "1/4 [======>.......................] - ETA: 0s - loss: 0.5758INFO:tensorflow:Assets written to: models/model_conv1D/assets\n",
            "4/4 [==============================] - 1s 181ms/step - loss: 0.5657 - val_loss: 0.0917\n",
            "Epoch 16/1000\n",
            "4/4 [==============================] - 0s 10ms/step - loss: 0.5653 - val_loss: 0.0949\n",
            "Epoch 17/1000\n",
            "1/4 [======>.......................] - ETA: 0s - loss: 0.5679INFO:tensorflow:Assets written to: models/model_conv1D/assets\n",
            "4/4 [==============================] - 1s 175ms/step - loss: 0.5653 - val_loss: 0.0900\n",
            "Epoch 18/1000\n",
            "1/4 [======>.......................] - ETA: 0s - loss: 0.5829INFO:tensorflow:Assets written to: models/model_conv1D/assets\n",
            "4/4 [==============================] - 1s 249ms/step - loss: 0.5649 - val_loss: 0.0891\n",
            "Epoch 19/1000\n",
            "4/4 [==============================] - 0s 12ms/step - loss: 0.5643 - val_loss: 0.0911\n",
            "Epoch 20/1000\n",
            "1/4 [======>.......................] - ETA: 0s - loss: 0.5441INFO:tensorflow:Assets written to: models/model_conv1D/assets\n",
            "4/4 [==============================] - 1s 181ms/step - loss: 0.5639 - val_loss: 0.0868\n",
            "Epoch 21/1000\n",
            "1/4 [======>.......................] - ETA: 0s - loss: 0.5730INFO:tensorflow:Assets written to: models/model_conv1D/assets\n",
            "4/4 [==============================] - 1s 180ms/step - loss: 0.5637 - val_loss: 0.0862\n",
            "Epoch 22/1000\n",
            "4/4 [==============================] - 0s 10ms/step - loss: 0.5632 - val_loss: 0.0904\n",
            "Epoch 23/1000\n",
            "1/4 [======>.......................] - ETA: 0s - loss: 0.5583INFO:tensorflow:Assets written to: models/model_conv1D/assets\n",
            "4/4 [==============================] - 1s 175ms/step - loss: 0.5628 - val_loss: 0.0837\n",
            "Epoch 24/1000\n",
            "4/4 [==============================] - 0s 10ms/step - loss: 0.5625 - val_loss: 0.0847\n",
            "Epoch 25/1000\n",
            "1/4 [======>.......................] - ETA: 0s - loss: 0.5510INFO:tensorflow:Assets written to: models/model_conv1D/assets\n",
            "4/4 [==============================] - 1s 183ms/step - loss: 0.5623 - val_loss: 0.0828\n",
            "Epoch 26/1000\n",
            "4/4 [==============================] - 0s 16ms/step - loss: 0.5615 - val_loss: 0.0877\n",
            "Epoch 27/1000\n",
            "1/4 [======>.......................] - ETA: 0s - loss: 0.5589INFO:tensorflow:Assets written to: models/model_conv1D/assets\n",
            "4/4 [==============================] - 1s 177ms/step - loss: 0.5620 - val_loss: 0.0801\n",
            "Epoch 28/1000\n",
            "4/4 [==============================] - 0s 11ms/step - loss: 0.5610 - val_loss: 0.0968\n",
            "Epoch 29/1000\n",
            "1/4 [======>.......................] - ETA: 0s - loss: 0.5401INFO:tensorflow:Assets written to: models/model_conv1D/assets\n",
            "4/4 [==============================] - 1s 178ms/step - loss: 0.5635 - val_loss: 0.0785\n",
            "Epoch 30/1000\n",
            "4/4 [==============================] - 0s 10ms/step - loss: 0.5615 - val_loss: 0.0863\n",
            "Epoch 31/1000\n",
            "4/4 [==============================] - 0s 9ms/step - loss: 0.5606 - val_loss: 0.0808\n",
            "Epoch 32/1000\n",
            "1/4 [======>.......................] - ETA: 0s - loss: 0.5465INFO:tensorflow:Assets written to: models/model_conv1D/assets\n",
            "4/4 [==============================] - 1s 182ms/step - loss: 0.5600 - val_loss: 0.0769\n",
            "Epoch 33/1000\n",
            "4/4 [==============================] - 0s 16ms/step - loss: 0.5598 - val_loss: 0.0787\n",
            "Epoch 34/1000\n",
            "1/4 [======>.......................] - ETA: 0s - loss: 0.5723INFO:tensorflow:Assets written to: models/model_conv1D/assets\n",
            "4/4 [==============================] - 1s 173ms/step - loss: 0.5593 - val_loss: 0.0746\n",
            "Epoch 35/1000\n",
            "4/4 [==============================] - 0s 11ms/step - loss: 0.5591 - val_loss: 0.0814\n",
            "Epoch 36/1000\n",
            "1/4 [======>.......................] - ETA: 0s - loss: 0.5670INFO:tensorflow:Assets written to: models/model_conv1D/assets\n",
            "4/4 [==============================] - 1s 181ms/step - loss: 0.5591 - val_loss: 0.0731\n",
            "Epoch 37/1000\n",
            "1/4 [======>.......................] - ETA: 0s - loss: 0.5629INFO:tensorflow:Assets written to: models/model_conv1D/assets\n",
            "4/4 [==============================] - 1s 254ms/step - loss: 0.5585 - val_loss: 0.0725\n",
            "Epoch 38/1000\n",
            "1/4 [======>.......................] - ETA: 0s - loss: 0.5707INFO:tensorflow:Assets written to: models/model_conv1D/assets\n",
            "4/4 [==============================] - 1s 176ms/step - loss: 0.5585 - val_loss: 0.0720\n",
            "Epoch 39/1000\n",
            "4/4 [==============================] - 0s 12ms/step - loss: 0.5591 - val_loss: 0.0821\n",
            "Epoch 40/1000\n",
            "4/4 [==============================] - 0s 10ms/step - loss: 0.5597 - val_loss: 0.0740\n",
            "Epoch 41/1000\n",
            "1/4 [======>.......................] - ETA: 0s - loss: 0.5596INFO:tensorflow:Assets written to: models/model_conv1D/assets\n",
            "4/4 [==============================] - 1s 177ms/step - loss: 0.5581 - val_loss: 0.0709\n",
            "Epoch 42/1000\n",
            "4/4 [==============================] - 0s 11ms/step - loss: 0.5579 - val_loss: 0.0710\n",
            "Epoch 43/1000\n",
            "4/4 [==============================] - 0s 10ms/step - loss: 0.5574 - val_loss: 0.0752\n",
            "Epoch 44/1000\n",
            "4/4 [==============================] - 0s 10ms/step - loss: 0.5583 - val_loss: 0.0735\n",
            "Epoch 45/1000\n",
            "1/4 [======>.......................] - ETA: 0s - loss: 0.5713INFO:tensorflow:Assets written to: models/model_conv1D/assets\n",
            "4/4 [==============================] - 1s 177ms/step - loss: 0.5576 - val_loss: 0.0706\n",
            "Epoch 46/1000\n",
            "4/4 [==============================] - 0s 10ms/step - loss: 0.5583 - val_loss: 0.0763\n",
            "Epoch 47/1000\n",
            "1/4 [======>.......................] - ETA: 0s - loss: 0.5745INFO:tensorflow:Assets written to: models/model_conv1D/assets\n",
            "4/4 [==============================] - 1s 180ms/step - loss: 0.5575 - val_loss: 0.0698\n",
            "Epoch 48/1000\n",
            "1/4 [======>.......................] - ETA: 0s - loss: 0.5720INFO:tensorflow:Assets written to: models/model_conv1D/assets\n",
            "4/4 [==============================] - 1s 177ms/step - loss: 0.5575 - val_loss: 0.0687\n",
            "Epoch 49/1000\n",
            "4/4 [==============================] - 0s 10ms/step - loss: 0.5575 - val_loss: 0.0807\n",
            "Epoch 50/1000\n",
            "4/4 [==============================] - 0s 11ms/step - loss: 0.5581 - val_loss: 0.0705\n",
            "Epoch 51/1000\n",
            "1/4 [======>.......................] - ETA: 0s - loss: 0.5679INFO:tensorflow:Assets written to: models/model_conv1D/assets\n",
            "4/4 [==============================] - 1s 206ms/step - loss: 0.5571 - val_loss: 0.0683\n",
            "Epoch 52/1000\n",
            "4/4 [==============================] - 0s 14ms/step - loss: 0.5569 - val_loss: 0.0685\n",
            "Epoch 53/1000\n",
            "1/4 [======>.......................] - ETA: 0s - loss: 0.5613INFO:tensorflow:Assets written to: models/model_conv1D/assets\n",
            "4/4 [==============================] - 1s 258ms/step - loss: 0.5568 - val_loss: 0.0679\n",
            "Epoch 54/1000\n",
            "4/4 [==============================] - 0s 14ms/step - loss: 0.5568 - val_loss: 0.0693\n",
            "Epoch 55/1000\n",
            "4/4 [==============================] - 0s 14ms/step - loss: 0.5573 - val_loss: 0.0700\n",
            "Epoch 56/1000\n",
            "4/4 [==============================] - 0s 15ms/step - loss: 0.5571 - val_loss: 0.0803\n",
            "Epoch 57/1000\n",
            "4/4 [==============================] - 0s 14ms/step - loss: 0.5579 - val_loss: 0.0699\n",
            "Epoch 58/1000\n",
            "4/4 [==============================] - 0s 15ms/step - loss: 0.5566 - val_loss: 0.0716\n",
            "Epoch 59/1000\n",
            "4/4 [==============================] - 0s 14ms/step - loss: 0.5570 - val_loss: 0.0697\n",
            "Epoch 60/1000\n",
            "4/4 [==============================] - 0s 13ms/step - loss: 0.5566 - val_loss: 0.0684\n",
            "Epoch 61/1000\n",
            "4/4 [==============================] - 0s 13ms/step - loss: 0.5572 - val_loss: 0.0930\n",
            "Epoch 62/1000\n",
            "1/4 [======>.......................] - ETA: 0s - loss: 0.5650INFO:tensorflow:Assets written to: models/model_conv1D/assets\n",
            "4/4 [==============================] - 1s 239ms/step - loss: 0.5602 - val_loss: 0.0665\n",
            "Epoch 63/1000\n",
            "4/4 [==============================] - 0s 10ms/step - loss: 0.5580 - val_loss: 0.0726\n",
            "Epoch 64/1000\n",
            "4/4 [==============================] - 0s 10ms/step - loss: 0.5577 - val_loss: 0.1003\n",
            "Epoch 65/1000\n",
            "1/4 [======>.......................] - ETA: 0s - loss: 0.5717INFO:tensorflow:Assets written to: models/model_conv1D/assets\n",
            "4/4 [==============================] - 1s 182ms/step - loss: 0.5591 - val_loss: 0.0659\n",
            "Epoch 66/1000\n",
            "4/4 [==============================] - 0s 16ms/step - loss: 0.5568 - val_loss: 0.0715\n",
            "Epoch 67/1000\n",
            "4/4 [==============================] - 0s 10ms/step - loss: 0.5568 - val_loss: 0.0664\n",
            "Epoch 68/1000\n",
            "4/4 [==============================] - 0s 10ms/step - loss: 0.5564 - val_loss: 0.0674\n",
            "Epoch 69/1000\n",
            "4/4 [==============================] - 0s 11ms/step - loss: 0.5559 - val_loss: 0.0711\n",
            "Epoch 70/1000\n",
            "4/4 [==============================] - 0s 11ms/step - loss: 0.5567 - val_loss: 0.0679\n",
            "Epoch 71/1000\n",
            "4/4 [==============================] - 0s 15ms/step - loss: 0.5558 - val_loss: 0.0750\n",
            "Epoch 72/1000\n",
            "1/4 [======>.......................] - ETA: 0s - loss: 0.5505INFO:tensorflow:Assets written to: models/model_conv1D/assets\n",
            "4/4 [==============================] - 1s 261ms/step - loss: 0.5578 - val_loss: 0.0657\n",
            "Epoch 73/1000\n",
            "4/4 [==============================] - 0s 11ms/step - loss: 0.5560 - val_loss: 0.0747\n",
            "Epoch 74/1000\n",
            "4/4 [==============================] - 0s 11ms/step - loss: 0.5563 - val_loss: 0.0766\n",
            "Epoch 75/1000\n",
            "4/4 [==============================] - 0s 10ms/step - loss: 0.5585 - val_loss: 0.0801\n",
            "Epoch 76/1000\n",
            "4/4 [==============================] - 0s 11ms/step - loss: 0.5567 - val_loss: 0.0751\n",
            "Epoch 77/1000\n",
            "4/4 [==============================] - 0s 11ms/step - loss: 0.5582 - val_loss: 0.0674\n",
            "Epoch 78/1000\n",
            "4/4 [==============================] - 0s 17ms/step - loss: 0.5578 - val_loss: 0.0839\n",
            "Epoch 79/1000\n",
            "4/4 [==============================] - 0s 11ms/step - loss: 0.5566 - val_loss: 0.0882\n",
            "Epoch 80/1000\n",
            "1/4 [======>.......................] - ETA: 0s - loss: 0.5504INFO:tensorflow:Assets written to: models/model_conv1D/assets\n",
            "4/4 [==============================] - 1s 183ms/step - loss: 0.5595 - val_loss: 0.0641\n",
            "Epoch 81/1000\n",
            "4/4 [==============================] - 0s 11ms/step - loss: 0.5563 - val_loss: 0.0787\n",
            "Epoch 82/1000\n",
            "4/4 [==============================] - 0s 11ms/step - loss: 0.5567 - val_loss: 0.0752\n",
            "Epoch 83/1000\n",
            "4/4 [==============================] - 0s 10ms/step - loss: 0.5573 - val_loss: 0.0642\n",
            "Epoch 84/1000\n",
            "4/4 [==============================] - 0s 10ms/step - loss: 0.5556 - val_loss: 0.0833\n",
            "Epoch 85/1000\n",
            "1/4 [======>.......................] - ETA: 0s - loss: 0.5810INFO:tensorflow:Assets written to: models/model_conv1D/assets\n",
            "4/4 [==============================] - 1s 181ms/step - loss: 0.5575 - val_loss: 0.0638\n",
            "Epoch 86/1000\n",
            "1/4 [======>.......................] - ETA: 0s - loss: 0.5470INFO:tensorflow:Assets written to: models/model_conv1D/assets\n",
            "4/4 [==============================] - 1s 194ms/step - loss: 0.5564 - val_loss: 0.0636\n",
            "Epoch 87/1000\n",
            "4/4 [==============================] - 0s 12ms/step - loss: 0.5572 - val_loss: 0.0865\n",
            "Epoch 88/1000\n",
            "4/4 [==============================] - 0s 11ms/step - loss: 0.5568 - val_loss: 0.0756\n",
            "Epoch 89/1000\n",
            "4/4 [==============================] - 0s 10ms/step - loss: 0.5577 - val_loss: 0.0646\n",
            "Epoch 90/1000\n",
            "4/4 [==============================] - 0s 10ms/step - loss: 0.5557 - val_loss: 0.0711\n",
            "Epoch 91/1000\n",
            "4/4 [==============================] - 0s 10ms/step - loss: 0.5556 - val_loss: 0.0679\n",
            "Epoch 92/1000\n",
            "4/4 [==============================] - 0s 11ms/step - loss: 0.5568 - val_loss: 0.0647\n",
            "Epoch 93/1000\n",
            "4/4 [==============================] - 0s 10ms/step - loss: 0.5555 - val_loss: 0.0713\n",
            "Epoch 94/1000\n",
            "4/4 [==============================] - 0s 10ms/step - loss: 0.5556 - val_loss: 0.0721\n",
            "Epoch 95/1000\n",
            "4/4 [==============================] - 0s 10ms/step - loss: 0.5563 - val_loss: 0.0641\n",
            "Epoch 96/1000\n",
            "1/4 [======>.......................] - ETA: 0s - loss: 0.5521INFO:tensorflow:Assets written to: models/model_conv1D/assets\n",
            "4/4 [==============================] - 1s 182ms/step - loss: 0.5548 - val_loss: 0.0634\n",
            "Epoch 97/1000\n",
            "4/4 [==============================] - 0s 10ms/step - loss: 0.5551 - val_loss: 0.0788\n",
            "Epoch 98/1000\n",
            "1/4 [======>.......................] - ETA: 0s - loss: 0.5360INFO:tensorflow:Assets written to: models/model_conv1D/assets\n",
            "4/4 [==============================] - 1s 175ms/step - loss: 0.5576 - val_loss: 0.0633\n",
            "Epoch 99/1000\n",
            "4/4 [==============================] - 0s 10ms/step - loss: 0.5570 - val_loss: 0.0844\n",
            "Epoch 100/1000\n",
            "4/4 [==============================] - 0s 12ms/step - loss: 0.5577 - val_loss: 0.0644\n",
            "Epoch 101/1000\n",
            "4/4 [==============================] - 0s 9ms/step - loss: 0.5548 - val_loss: 0.0673\n",
            "Epoch 102/1000\n",
            "4/4 [==============================] - 0s 9ms/step - loss: 0.5561 - val_loss: 0.0711\n",
            "Epoch 103/1000\n",
            "4/4 [==============================] - 0s 17ms/step - loss: 0.5553 - val_loss: 0.0758\n",
            "Epoch 104/1000\n",
            "1/4 [======>.......................] - ETA: 0s - loss: 0.5641INFO:tensorflow:Assets written to: models/model_conv1D/assets\n",
            "4/4 [==============================] - 1s 178ms/step - loss: 0.5581 - val_loss: 0.0625\n",
            "Epoch 105/1000\n",
            "4/4 [==============================] - 0s 13ms/step - loss: 0.5557 - val_loss: 0.0745\n",
            "Epoch 106/1000\n",
            "4/4 [==============================] - 0s 10ms/step - loss: 0.5550 - val_loss: 0.0850\n",
            "Epoch 107/1000\n",
            "4/4 [==============================] - 0s 10ms/step - loss: 0.5579 - val_loss: 0.0708\n",
            "Epoch 108/1000\n",
            "4/4 [==============================] - 0s 10ms/step - loss: 0.5590 - val_loss: 0.1000\n",
            "Epoch 109/1000\n",
            "4/4 [==============================] - 0s 11ms/step - loss: 0.5576 - val_loss: 0.0705\n",
            "Epoch 110/1000\n",
            "4/4 [==============================] - 0s 10ms/step - loss: 0.5562 - val_loss: 0.0643\n",
            "Epoch 111/1000\n",
            "4/4 [==============================] - 0s 10ms/step - loss: 0.5559 - val_loss: 0.0713\n",
            "Epoch 112/1000\n",
            "4/4 [==============================] - 0s 10ms/step - loss: 0.5549 - val_loss: 0.0828\n",
            "Epoch 113/1000\n",
            "1/4 [======>.......................] - ETA: 0s - loss: 0.5404INFO:tensorflow:Assets written to: models/model_conv1D/assets\n",
            "4/4 [==============================] - 1s 187ms/step - loss: 0.5581 - val_loss: 0.0622\n",
            "Epoch 114/1000\n",
            "4/4 [==============================] - 0s 11ms/step - loss: 0.5549 - val_loss: 0.0647\n",
            "Epoch 115/1000\n",
            "4/4 [==============================] - 0s 10ms/step - loss: 0.5546 - val_loss: 0.0630\n",
            "Epoch 116/1000\n",
            "1/4 [======>.......................] - ETA: 0s - loss: 0.5420INFO:tensorflow:Assets written to: models/model_conv1D/assets\n",
            "4/4 [==============================] - 1s 179ms/step - loss: 0.5550 - val_loss: 0.0620\n",
            "Epoch 117/1000\n",
            "4/4 [==============================] - 0s 10ms/step - loss: 0.5554 - val_loss: 0.0686\n",
            "Epoch 118/1000\n",
            "4/4 [==============================] - 0s 9ms/step - loss: 0.5553 - val_loss: 0.0681\n",
            "Epoch 119/1000\n",
            "4/4 [==============================] - 0s 9ms/step - loss: 0.5550 - val_loss: 0.0638\n",
            "Epoch 120/1000\n",
            "4/4 [==============================] - 0s 11ms/step - loss: 0.5546 - val_loss: 0.0652\n",
            "Epoch 121/1000\n",
            "4/4 [==============================] - 0s 10ms/step - loss: 0.5551 - val_loss: 0.0665\n",
            "Epoch 122/1000\n",
            "4/4 [==============================] - 0s 11ms/step - loss: 0.5546 - val_loss: 0.0646\n",
            "Epoch 123/1000\n",
            "1/4 [======>.......................] - ETA: 0s - loss: 0.5592INFO:tensorflow:Assets written to: models/model_conv1D/assets\n",
            "4/4 [==============================] - 1s 247ms/step - loss: 0.5553 - val_loss: 0.0616\n",
            "Epoch 124/1000\n",
            "4/4 [==============================] - 0s 10ms/step - loss: 0.5546 - val_loss: 0.0854\n",
            "Epoch 125/1000\n",
            "4/4 [==============================] - 0s 10ms/step - loss: 0.5587 - val_loss: 0.0662\n",
            "Epoch 126/1000\n",
            "4/4 [==============================] - 0s 10ms/step - loss: 0.5549 - val_loss: 0.0923\n",
            "Epoch 127/1000\n",
            "4/4 [==============================] - 0s 9ms/step - loss: 0.5614 - val_loss: 0.0663\n",
            "Epoch 128/1000\n",
            "4/4 [==============================] - 0s 10ms/step - loss: 0.5549 - val_loss: 0.0803\n",
            "Epoch 129/1000\n",
            "4/4 [==============================] - 0s 11ms/step - loss: 0.5562 - val_loss: 0.0631\n",
            "Epoch 130/1000\n",
            "4/4 [==============================] - 0s 10ms/step - loss: 0.5555 - val_loss: 0.0657\n",
            "Epoch 131/1000\n",
            "4/4 [==============================] - 0s 16ms/step - loss: 0.5548 - val_loss: 0.0633\n",
            "Epoch 132/1000\n",
            "4/4 [==============================] - 0s 9ms/step - loss: 0.5542 - val_loss: 0.0699\n",
            "Epoch 133/1000\n",
            "1/4 [======>.......................] - ETA: 0s - loss: 0.5439INFO:tensorflow:Assets written to: models/model_conv1D/assets\n",
            "4/4 [==============================] - 1s 178ms/step - loss: 0.5553 - val_loss: 0.0612\n",
            "Epoch 134/1000\n",
            "4/4 [==============================] - 0s 10ms/step - loss: 0.5543 - val_loss: 0.0621\n",
            "Epoch 135/1000\n",
            "1/4 [======>.......................] - ETA: 0s - loss: 0.5703INFO:tensorflow:Assets written to: models/model_conv1D/assets\n",
            "4/4 [==============================] - 1s 179ms/step - loss: 0.5545 - val_loss: 0.0611\n",
            "Epoch 136/1000\n",
            "4/4 [==============================] - 0s 11ms/step - loss: 0.5547 - val_loss: 0.0706\n",
            "Epoch 137/1000\n",
            "4/4 [==============================] - 0s 10ms/step - loss: 0.5552 - val_loss: 0.0634\n",
            "Epoch 138/1000\n",
            "4/4 [==============================] - 0s 11ms/step - loss: 0.5554 - val_loss: 0.0626\n",
            "Epoch 139/1000\n",
            "4/4 [==============================] - 0s 10ms/step - loss: 0.5543 - val_loss: 0.0642\n",
            "Epoch 140/1000\n",
            "4/4 [==============================] - 0s 10ms/step - loss: 0.5544 - val_loss: 0.0617\n",
            "Epoch 141/1000\n",
            "4/4 [==============================] - 0s 12ms/step - loss: 0.5543 - val_loss: 0.0631\n",
            "Epoch 142/1000\n",
            "1/4 [======>.......................] - ETA: 0s - loss: 0.5752INFO:tensorflow:Assets written to: models/model_conv1D/assets\n",
            "4/4 [==============================] - 1s 178ms/step - loss: 0.5543 - val_loss: 0.0607\n",
            "Epoch 143/1000\n",
            "4/4 [==============================] - 0s 11ms/step - loss: 0.5541 - val_loss: 0.0662\n",
            "Epoch 144/1000\n",
            "4/4 [==============================] - 0s 10ms/step - loss: 0.5554 - val_loss: 0.0616\n",
            "Epoch 145/1000\n",
            "4/4 [==============================] - 0s 10ms/step - loss: 0.5549 - val_loss: 0.0661\n",
            "Epoch 146/1000\n",
            "4/4 [==============================] - 0s 10ms/step - loss: 0.5548 - val_loss: 0.0629\n",
            "Epoch 147/1000\n",
            "4/4 [==============================] - 0s 11ms/step - loss: 0.5543 - val_loss: 0.0703\n",
            "Epoch 148/1000\n",
            "4/4 [==============================] - 0s 10ms/step - loss: 0.5554 - val_loss: 0.0615\n",
            "Epoch 149/1000\n",
            "4/4 [==============================] - 0s 11ms/step - loss: 0.5542 - val_loss: 0.0783\n",
            "Epoch 150/1000\n",
            "4/4 [==============================] - 0s 10ms/step - loss: 0.5592 - val_loss: 0.0770\n",
            "Epoch 151/1000\n",
            "4/4 [==============================] - 0s 16ms/step - loss: 0.5551 - val_loss: 0.0880\n",
            "Epoch 152/1000\n",
            "4/4 [==============================] - 0s 13ms/step - loss: 0.5589 - val_loss: 0.0608\n",
            "Epoch 153/1000\n",
            "4/4 [==============================] - 0s 10ms/step - loss: 0.5555 - val_loss: 0.0665\n",
            "Epoch 154/1000\n",
            "4/4 [==============================] - 0s 11ms/step - loss: 0.5545 - val_loss: 0.0746\n",
            "Epoch 155/1000\n",
            "4/4 [==============================] - 0s 10ms/step - loss: 0.5548 - val_loss: 0.0733\n",
            "Epoch 156/1000\n",
            "1/4 [======>.......................] - ETA: 0s - loss: 0.5695INFO:tensorflow:Assets written to: models/model_conv1D/assets\n",
            "4/4 [==============================] - 1s 181ms/step - loss: 0.5580 - val_loss: 0.0607\n",
            "Epoch 157/1000\n",
            "4/4 [==============================] - 0s 11ms/step - loss: 0.5559 - val_loss: 0.0955\n",
            "Epoch 158/1000\n",
            "4/4 [==============================] - 0s 10ms/step - loss: 0.5573 - val_loss: 0.0756\n",
            "Epoch 159/1000\n",
            "4/4 [==============================] - 0s 12ms/step - loss: 0.5581 - val_loss: 0.0650\n",
            "Epoch 160/1000\n",
            "4/4 [==============================] - 0s 10ms/step - loss: 0.5546 - val_loss: 0.0759\n",
            "Epoch 161/1000\n",
            "4/4 [==============================] - 0s 10ms/step - loss: 0.5552 - val_loss: 0.0656\n",
            "Epoch 162/1000\n",
            "4/4 [==============================] - 0s 10ms/step - loss: 0.5553 - val_loss: 0.0608\n",
            "Epoch 163/1000\n",
            "4/4 [==============================] - 0s 11ms/step - loss: 0.5546 - val_loss: 0.0618\n",
            "Epoch 164/1000\n",
            "4/4 [==============================] - 0s 12ms/step - loss: 0.5543 - val_loss: 0.0632\n",
            "Epoch 165/1000\n",
            "4/4 [==============================] - 0s 10ms/step - loss: 0.5542 - val_loss: 0.0616\n",
            "Epoch 166/1000\n",
            "4/4 [==============================] - 0s 10ms/step - loss: 0.5539 - val_loss: 0.0737\n",
            "Epoch 167/1000\n",
            "4/4 [==============================] - 0s 10ms/step - loss: 0.5569 - val_loss: 0.0636\n",
            "Epoch 168/1000\n",
            "4/4 [==============================] - 0s 11ms/step - loss: 0.5543 - val_loss: 0.0624\n",
            "Epoch 169/1000\n",
            "1/4 [======>.......................] - ETA: 0s - loss: 0.5693INFO:tensorflow:Assets written to: models/model_conv1D/assets\n",
            "4/4 [==============================] - 1s 178ms/step - loss: 0.5542 - val_loss: 0.0607\n",
            "Epoch 170/1000\n",
            "4/4 [==============================] - 0s 10ms/step - loss: 0.5543 - val_loss: 0.0670\n",
            "Epoch 171/1000\n",
            "4/4 [==============================] - 0s 16ms/step - loss: 0.5544 - val_loss: 0.0628\n",
            "Epoch 172/1000\n",
            "4/4 [==============================] - 0s 10ms/step - loss: 0.5543 - val_loss: 0.0663\n",
            "Epoch 173/1000\n",
            "4/4 [==============================] - 0s 12ms/step - loss: 0.5565 - val_loss: 0.0716\n",
            "Epoch 174/1000\n",
            "4/4 [==============================] - 0s 19ms/step - loss: 0.5545 - val_loss: 0.0757\n",
            "Epoch 175/1000\n",
            "4/4 [==============================] - 0s 11ms/step - loss: 0.5567 - val_loss: 0.0637\n",
            "Epoch 176/1000\n",
            "4/4 [==============================] - 0s 12ms/step - loss: 0.5547 - val_loss: 0.0676\n",
            "Epoch 177/1000\n",
            "4/4 [==============================] - 0s 10ms/step - loss: 0.5542 - val_loss: 0.0698\n",
            "Epoch 178/1000\n",
            "4/4 [==============================] - 0s 11ms/step - loss: 0.5549 - val_loss: 0.0813\n",
            "Epoch 179/1000\n",
            "4/4 [==============================] - 0s 11ms/step - loss: 0.5605 - val_loss: 0.0840\n",
            "Epoch 180/1000\n",
            "4/4 [==============================] - 0s 10ms/step - loss: 0.5550 - val_loss: 0.0843\n",
            "Epoch 181/1000\n",
            "4/4 [==============================] - 0s 10ms/step - loss: 0.5571 - val_loss: 0.0611\n",
            "Epoch 182/1000\n",
            "4/4 [==============================] - 0s 11ms/step - loss: 0.5541 - val_loss: 0.0649\n",
            "Epoch 183/1000\n",
            "4/4 [==============================] - 0s 10ms/step - loss: 0.5553 - val_loss: 0.0647\n",
            "Epoch 184/1000\n",
            "4/4 [==============================] - 0s 10ms/step - loss: 0.5541 - val_loss: 0.0856\n",
            "Epoch 185/1000\n",
            "4/4 [==============================] - 0s 10ms/step - loss: 0.5591 - val_loss: 0.0624\n",
            "Epoch 186/1000\n",
            "4/4 [==============================] - 0s 11ms/step - loss: 0.5540 - val_loss: 0.0760\n",
            "Epoch 187/1000\n",
            "4/4 [==============================] - 0s 10ms/step - loss: 0.5555 - val_loss: 0.0682\n",
            "Epoch 188/1000\n",
            "4/4 [==============================] - 0s 10ms/step - loss: 0.5568 - val_loss: 0.0616\n",
            "Epoch 189/1000\n",
            "4/4 [==============================] - 0s 10ms/step - loss: 0.5546 - val_loss: 0.0742\n",
            "Epoch 190/1000\n",
            "4/4 [==============================] - 0s 10ms/step - loss: 0.5548 - val_loss: 0.0913\n",
            "Epoch 191/1000\n",
            "4/4 [==============================] - 0s 10ms/step - loss: 0.5623 - val_loss: 0.0764\n",
            "Epoch 192/1000\n",
            "4/4 [==============================] - 0s 11ms/step - loss: 0.5559 - val_loss: 0.0810\n",
            "Epoch 193/1000\n",
            "4/4 [==============================] - 0s 11ms/step - loss: 0.5557 - val_loss: 0.0688\n",
            "Epoch 194/1000\n",
            "4/4 [==============================] - 0s 10ms/step - loss: 0.5577 - val_loss: 0.0689\n",
            "Epoch 195/1000\n",
            "4/4 [==============================] - 0s 16ms/step - loss: 0.5543 - val_loss: 0.0967\n",
            "Epoch 196/1000\n",
            "4/4 [==============================] - 0s 10ms/step - loss: 0.5603 - val_loss: 0.0703\n",
            "Epoch 197/1000\n",
            "4/4 [==============================] - 0s 14ms/step - loss: 0.5548 - val_loss: 0.0949\n",
            "Epoch 198/1000\n",
            "4/4 [==============================] - 0s 10ms/step - loss: 0.5606 - val_loss: 0.0640\n",
            "Epoch 199/1000\n",
            "4/4 [==============================] - 0s 11ms/step - loss: 0.5543 - val_loss: 0.0739\n",
            "Epoch 200/1000\n",
            "1/4 [======>.......................] - ETA: 0s - loss: 0.5380INFO:tensorflow:Assets written to: models/model_conv1D/assets\n",
            "4/4 [==============================] - 1s 178ms/step - loss: 0.5549 - val_loss: 0.0607\n",
            "Epoch 201/1000\n",
            "4/4 [==============================] - 0s 10ms/step - loss: 0.5541 - val_loss: 0.0611\n",
            "Epoch 202/1000\n",
            "4/4 [==============================] - 0s 11ms/step - loss: 0.5539 - val_loss: 0.0644\n",
            "Epoch 203/1000\n",
            "4/4 [==============================] - 0s 11ms/step - loss: 0.5560 - val_loss: 0.0749\n",
            "Epoch 204/1000\n",
            "4/4 [==============================] - 0s 10ms/step - loss: 0.5550 - val_loss: 0.0689\n",
            "Epoch 205/1000\n",
            "4/4 [==============================] - 0s 10ms/step - loss: 0.5563 - val_loss: 0.0679\n",
            "Epoch 206/1000\n",
            "4/4 [==============================] - 0s 11ms/step - loss: 0.5549 - val_loss: 0.0810\n",
            "Epoch 207/1000\n",
            "4/4 [==============================] - 0s 10ms/step - loss: 0.5571 - val_loss: 0.0614\n",
            "Epoch 208/1000\n",
            "4/4 [==============================] - 0s 15ms/step - loss: 0.5548 - val_loss: 0.0753\n",
            "Epoch 209/1000\n",
            "4/4 [==============================] - 0s 11ms/step - loss: 0.5548 - val_loss: 0.0704\n",
            "Epoch 210/1000\n",
            "4/4 [==============================] - 0s 10ms/step - loss: 0.5585 - val_loss: 0.0751\n",
            "Epoch 211/1000\n",
            "4/4 [==============================] - 0s 10ms/step - loss: 0.5552 - val_loss: 0.0786\n",
            "Epoch 212/1000\n",
            "4/4 [==============================] - 0s 10ms/step - loss: 0.5560 - val_loss: 0.0611\n",
            "Epoch 213/1000\n",
            "4/4 [==============================] - 0s 12ms/step - loss: 0.5550 - val_loss: 0.0671\n",
            "Epoch 214/1000\n",
            "4/4 [==============================] - 0s 10ms/step - loss: 0.5543 - val_loss: 0.0723\n",
            "Epoch 215/1000\n",
            "4/4 [==============================] - 0s 17ms/step - loss: 0.5567 - val_loss: 0.0644\n",
            "Epoch 216/1000\n",
            "4/4 [==============================] - 0s 11ms/step - loss: 0.5540 - val_loss: 0.0798\n",
            "Epoch 217/1000\n",
            "4/4 [==============================] - 0s 11ms/step - loss: 0.5564 - val_loss: 0.0610\n",
            "Epoch 218/1000\n",
            "4/4 [==============================] - 0s 11ms/step - loss: 0.5541 - val_loss: 0.0614\n",
            "Epoch 219/1000\n",
            "4/4 [==============================] - 0s 10ms/step - loss: 0.5540 - val_loss: 0.0659\n",
            "Epoch 220/1000\n",
            "4/4 [==============================] - 0s 11ms/step - loss: 0.5543 - val_loss: 0.0731\n",
            "Epoch 221/1000\n",
            "4/4 [==============================] - 0s 10ms/step - loss: 0.5571 - val_loss: 0.0820\n",
            "Epoch 222/1000\n",
            "4/4 [==============================] - 0s 11ms/step - loss: 0.5552 - val_loss: 0.0636\n",
            "Epoch 223/1000\n",
            "4/4 [==============================] - 0s 16ms/step - loss: 0.5554 - val_loss: 0.0616\n",
            "Epoch 224/1000\n",
            "4/4 [==============================] - 0s 10ms/step - loss: 0.5544 - val_loss: 0.0637\n",
            "Epoch 225/1000\n",
            "1/4 [======>.......................] - ETA: 0s - loss: 0.5626INFO:tensorflow:Assets written to: models/model_conv1D/assets\n",
            "4/4 [==============================] - 1s 176ms/step - loss: 0.5548 - val_loss: 0.0603\n",
            "Epoch 226/1000\n",
            "4/4 [==============================] - 0s 12ms/step - loss: 0.5547 - val_loss: 0.0738\n",
            "Epoch 227/1000\n",
            "4/4 [==============================] - 0s 10ms/step - loss: 0.5548 - val_loss: 0.0647\n",
            "Epoch 228/1000\n",
            "4/4 [==============================] - 0s 10ms/step - loss: 0.5546 - val_loss: 0.0613\n",
            "Epoch 229/1000\n",
            "4/4 [==============================] - 0s 10ms/step - loss: 0.5542 - val_loss: 0.0613\n",
            "Epoch 230/1000\n",
            "4/4 [==============================] - 0s 10ms/step - loss: 0.5538 - val_loss: 0.0691\n",
            "Epoch 231/1000\n",
            "4/4 [==============================] - 0s 16ms/step - loss: 0.5552 - val_loss: 0.0620\n",
            "Epoch 232/1000\n",
            "4/4 [==============================] - 0s 10ms/step - loss: 0.5574 - val_loss: 0.0770\n",
            "Epoch 233/1000\n",
            "4/4 [==============================] - 0s 10ms/step - loss: 0.5545 - val_loss: 0.0789\n",
            "Epoch 234/1000\n",
            "4/4 [==============================] - 0s 10ms/step - loss: 0.5553 - val_loss: 0.0645\n",
            "Epoch 235/1000\n",
            "4/4 [==============================] - 0s 10ms/step - loss: 0.5552 - val_loss: 0.0646\n",
            "Epoch 236/1000\n",
            "4/4 [==============================] - 0s 10ms/step - loss: 0.5541 - val_loss: 0.0644\n",
            "Epoch 237/1000\n",
            "4/4 [==============================] - 0s 10ms/step - loss: 0.5545 - val_loss: 0.0682\n",
            "Epoch 238/1000\n",
            "4/4 [==============================] - 0s 12ms/step - loss: 0.5548 - val_loss: 0.0625\n",
            "Epoch 239/1000\n",
            "4/4 [==============================] - 0s 11ms/step - loss: 0.5537 - val_loss: 0.0607\n",
            "Epoch 240/1000\n",
            "4/4 [==============================] - 0s 10ms/step - loss: 0.5542 - val_loss: 0.0634\n",
            "Epoch 241/1000\n",
            "1/4 [======>.......................] - ETA: 0s - loss: 0.5709INFO:tensorflow:Assets written to: models/model_conv1D/assets\n",
            "4/4 [==============================] - 1s 186ms/step - loss: 0.5556 - val_loss: 0.0599\n",
            "Epoch 242/1000\n",
            "4/4 [==============================] - 0s 11ms/step - loss: 0.5544 - val_loss: 0.0760\n",
            "Epoch 243/1000\n",
            "4/4 [==============================] - 0s 10ms/step - loss: 0.5548 - val_loss: 0.0623\n",
            "Epoch 244/1000\n",
            "4/4 [==============================] - 0s 17ms/step - loss: 0.5543 - val_loss: 0.0621\n",
            "Epoch 245/1000\n",
            "4/4 [==============================] - 0s 11ms/step - loss: 0.5545 - val_loss: 0.0873\n",
            "Epoch 246/1000\n",
            "4/4 [==============================] - 0s 11ms/step - loss: 0.5582 - val_loss: 0.0616\n",
            "Epoch 247/1000\n",
            "4/4 [==============================] - 0s 10ms/step - loss: 0.5549 - val_loss: 0.0731\n",
            "Epoch 248/1000\n",
            "4/4 [==============================] - 0s 10ms/step - loss: 0.5550 - val_loss: 0.0796\n",
            "Epoch 249/1000\n",
            "4/4 [==============================] - 0s 11ms/step - loss: 0.5585 - val_loss: 0.0707\n",
            "Epoch 250/1000\n",
            "4/4 [==============================] - 0s 10ms/step - loss: 0.5545 - val_loss: 0.0808\n",
            "Epoch 251/1000\n",
            "4/4 [==============================] - 0s 11ms/step - loss: 0.5561 - val_loss: 0.0737\n",
            "Epoch 252/1000\n",
            "4/4 [==============================] - 0s 12ms/step - loss: 0.5558 - val_loss: 0.0636\n",
            "Epoch 253/1000\n",
            "4/4 [==============================] - 0s 11ms/step - loss: 0.5540 - val_loss: 0.0610\n",
            "Epoch 254/1000\n",
            "4/4 [==============================] - 0s 9ms/step - loss: 0.5536 - val_loss: 0.0711\n",
            "Epoch 255/1000\n",
            "4/4 [==============================] - 0s 10ms/step - loss: 0.5544 - val_loss: 0.0610\n",
            "Epoch 256/1000\n",
            "1/4 [======>.......................] - ETA: 0s - loss: 0.5536INFO:tensorflow:Assets written to: models/model_conv1D/assets\n",
            "4/4 [==============================] - 1s 181ms/step - loss: 0.5545 - val_loss: 0.0598\n",
            "Epoch 257/1000\n",
            "4/4 [==============================] - 0s 11ms/step - loss: 0.5539 - val_loss: 0.0686\n",
            "Epoch 258/1000\n",
            "4/4 [==============================] - 0s 10ms/step - loss: 0.5544 - val_loss: 0.0602\n",
            "Epoch 259/1000\n",
            "4/4 [==============================] - 0s 10ms/step - loss: 0.5539 - val_loss: 0.0599\n",
            "Epoch 260/1000\n",
            "4/4 [==============================] - 0s 11ms/step - loss: 0.5542 - val_loss: 0.0646\n",
            "Epoch 261/1000\n",
            "4/4 [==============================] - 0s 10ms/step - loss: 0.5539 - val_loss: 0.0678\n",
            "Epoch 262/1000\n",
            "4/4 [==============================] - 0s 11ms/step - loss: 0.5545 - val_loss: 0.0607\n",
            "Epoch 263/1000\n",
            "4/4 [==============================] - 0s 12ms/step - loss: 0.5537 - val_loss: 0.0622\n",
            "Epoch 264/1000\n",
            "4/4 [==============================] - 0s 17ms/step - loss: 0.5549 - val_loss: 0.0702\n",
            "Epoch 265/1000\n",
            "4/4 [==============================] - 0s 10ms/step - loss: 0.5549 - val_loss: 0.0659\n",
            "Epoch 266/1000\n",
            "4/4 [==============================] - 0s 11ms/step - loss: 0.5553 - val_loss: 0.0747\n",
            "Epoch 267/1000\n",
            "4/4 [==============================] - 0s 10ms/step - loss: 0.5551 - val_loss: 0.0609\n",
            "Epoch 268/1000\n",
            "4/4 [==============================] - 0s 10ms/step - loss: 0.5536 - val_loss: 0.0602\n",
            "Epoch 269/1000\n",
            "4/4 [==============================] - 0s 10ms/step - loss: 0.5538 - val_loss: 0.0617\n",
            "Epoch 270/1000\n",
            "4/4 [==============================] - 0s 10ms/step - loss: 0.5543 - val_loss: 0.0647\n",
            "Epoch 271/1000\n",
            "4/4 [==============================] - 0s 11ms/step - loss: 0.5536 - val_loss: 0.0677\n",
            "Epoch 272/1000\n",
            "4/4 [==============================] - 0s 11ms/step - loss: 0.5562 - val_loss: 0.0599\n",
            "Epoch 273/1000\n",
            "4/4 [==============================] - 0s 11ms/step - loss: 0.5544 - val_loss: 0.0782\n",
            "Epoch 274/1000\n",
            "4/4 [==============================] - 0s 10ms/step - loss: 0.5552 - val_loss: 0.0598\n",
            "Epoch 275/1000\n",
            "4/4 [==============================] - 0s 12ms/step - loss: 0.5537 - val_loss: 0.0600\n",
            "Epoch 276/1000\n",
            "4/4 [==============================] - 0s 10ms/step - loss: 0.5537 - val_loss: 0.0654\n",
            "Epoch 277/1000\n",
            "4/4 [==============================] - 0s 11ms/step - loss: 0.5539 - val_loss: 0.0606\n",
            "Epoch 278/1000\n",
            "4/4 [==============================] - 0s 10ms/step - loss: 0.5534 - val_loss: 0.0602\n",
            "Epoch 279/1000\n",
            "4/4 [==============================] - 0s 10ms/step - loss: 0.5534 - val_loss: 0.0606\n",
            "Epoch 280/1000\n",
            "4/4 [==============================] - 0s 10ms/step - loss: 0.5535 - val_loss: 0.0629\n",
            "Epoch 281/1000\n",
            "4/4 [==============================] - 0s 11ms/step - loss: 0.5549 - val_loss: 0.0640\n",
            "Epoch 282/1000\n",
            "4/4 [==============================] - 0s 17ms/step - loss: 0.5540 - val_loss: 0.0750\n",
            "Epoch 283/1000\n",
            "4/4 [==============================] - 0s 10ms/step - loss: 0.5568 - val_loss: 0.0624\n",
            "Epoch 284/1000\n",
            "4/4 [==============================] - 0s 10ms/step - loss: 0.5538 - val_loss: 0.0848\n",
            "Epoch 285/1000\n",
            "4/4 [==============================] - 0s 11ms/step - loss: 0.5583 - val_loss: 0.0601\n",
            "Epoch 286/1000\n",
            "4/4 [==============================] - 0s 10ms/step - loss: 0.5544 - val_loss: 0.0764\n",
            "Epoch 287/1000\n",
            "4/4 [==============================] - 0s 10ms/step - loss: 0.5545 - val_loss: 0.0602\n",
            "Epoch 288/1000\n",
            "4/4 [==============================] - 0s 10ms/step - loss: 0.5537 - val_loss: 0.0610\n",
            "Epoch 289/1000\n",
            "4/4 [==============================] - 0s 12ms/step - loss: 0.5542 - val_loss: 0.0605\n",
            "Epoch 290/1000\n",
            "4/4 [==============================] - 0s 10ms/step - loss: 0.5535 - val_loss: 0.0633\n",
            "Epoch 291/1000\n",
            "4/4 [==============================] - 0s 16ms/step - loss: 0.5536 - val_loss: 0.0603\n",
            "Epoch 292/1000\n",
            "4/4 [==============================] - 0s 12ms/step - loss: 0.5539 - val_loss: 0.0678\n",
            "Epoch 293/1000\n",
            "4/4 [==============================] - 0s 10ms/step - loss: 0.5540 - val_loss: 0.0600\n",
            "Epoch 294/1000\n",
            "4/4 [==============================] - 0s 10ms/step - loss: 0.5541 - val_loss: 0.0607\n",
            "Epoch 295/1000\n",
            "4/4 [==============================] - 0s 16ms/step - loss: 0.5538 - val_loss: 0.0652\n",
            "Epoch 296/1000\n",
            "4/4 [==============================] - 0s 11ms/step - loss: 0.5539 - val_loss: 0.0666\n"
          ]
        },
        {
          "output_type": "execute_result",
          "data": {
            "text/plain": [
              "<keras.callbacks.History at 0x7ff017626dd0>"
            ]
          },
          "metadata": {},
          "execution_count": 30
        }
      ]
    },
    {
      "cell_type": "code",
      "source": [
        "model_2 = tf.keras.models.load_model(\"models/model_conv1D\")\n",
        "model_2.evaluate(test_windows, test_labels)"
      ],
      "metadata": {
        "colab": {
          "base_uri": "https://localhost:8080/"
        },
        "id": "ET1tMZHzwOVG",
        "outputId": "ca4d41fa-ccc5-4427-f0f6-5be8dac0f8c1"
      },
      "execution_count": 31,
      "outputs": [
        {
          "output_type": "stream",
          "name": "stdout",
          "text": [
            "11/11 [==============================] - 0s 4ms/step - loss: 739.7759\n"
          ]
        },
        {
          "output_type": "execute_result",
          "data": {
            "text/plain": [
              "739.7759399414062"
            ]
          },
          "metadata": {},
          "execution_count": 31
        }
      ]
    },
    {
      "cell_type": "code",
      "source": [
        "# Model predictions\n",
        "model_2_preds = make_prediction(model_2, test_windows)"
      ],
      "metadata": {
        "id": "7h_WPon0wRmv"
      },
      "execution_count": 32,
      "outputs": []
    },
    {
      "cell_type": "code",
      "source": [
        "offset=len(test_windows)-100\n",
        "plt.figure(figsize=(10,7))\n",
        "plot_time_series(timesteps=X_test[-len(test_windows):], values=test_labels[:,0], format=\"-\", start=offset, label=\"Test Data\")\n",
        "plot_time_series(timesteps=X_test[-len(test_windows):], values=model_2_preds, format=\"-\", start=offset, label=\"Model-conv1D prediction\")"
      ],
      "metadata": {
        "colab": {
          "base_uri": "https://localhost:8080/",
          "height": 442
        },
        "id": "lc4bwBSjwT2G",
        "outputId": "4e0c72e0-7f41-4a27-815f-9613e1ed2d12"
      },
      "execution_count": 33,
      "outputs": [
        {
          "output_type": "display_data",
          "data": {
            "text/plain": [
              "<Figure size 720x504 with 1 Axes>"
            ],
            "image/png": "[encoded data removed]"
          },
          "metadata": {
            "needs_background": "light"
          }
        }
      ]
    },
    {
      "cell_type": "code",
      "source": [
        "# Evaluate predictions\n",
        "model_2_results = evaluate_preds(y_true=tf.squeeze(test_labels), y_pred=model_2_preds)\n",
        "model_2_results"
      ],
      "metadata": {
        "colab": {
          "base_uri": "https://localhost:8080/"
        },
        "id": "BPGnASH9wR0q",
        "outputId": "199b0855-10fc-421b-96c1-9cc4f19efd96"
      },
      "execution_count": 34,
      "outputs": [
        {
          "output_type": "execute_result",
          "data": {
            "text/plain": [
              "{'mae': 739.77594, 'mape': 2.758292, 'mse': 1877335.4, 'rmse': 1370.1588}"
            ]
          },
          "metadata": {},
          "execution_count": 34
        }
      ]
    },
    {
      "cell_type": "markdown",
      "source": [
        "# Model 3: RNN (LSTM)"
      ],
      "metadata": {
        "id": "2Z9VapBlwVjY"
      }
    },
    {
      "cell_type": "code",
      "source": [
        "# See improving a model section of the bit-predict notebook\n",
        "tf.random.set_seed(42)\n",
        "\n",
        "# Make an LSTM model with the functional API\n",
        "inputs=layers.Input(shape=WINDOW_SIZE)\n",
        "x = layers.Lambda(lambda x: tf.expand_dims(x, axis=1))(inputs)\n",
        "# x = layers.LSTM(128, return_sequences=True)(x) # to create more than 1 hidden layer\n",
        "x = layers.Bidirectional(layers.LSTM(128, activation=\"relu\"))(x)\n",
        "# x = layers.LSTM(128, activation=\"relu\")(x)\n",
        "# One of the way of improving the accuracy of neural network is adding more layers\n",
        "x = layers.Dense(32, activation=\"relu\")(x)\n",
        "output = layers.Dense(HORIZON)(x)\n",
        "model_3 = tf.keras.Model(inputs=inputs, outputs=output, name=\"model_lstm\")\n",
        "\n",
        "# Compile\n",
        "model_3.compile(loss=\"mae\",\n",
        "                optimizer=tf.keras.optimizers.Adam())\n",
        "\n",
        "# Fit\n",
        "model_3.fit(train_windows,\n",
        "            train_labels,\n",
        "            epochs=1000,\n",
        "            verbose=1,\n",
        "            batch_size=BATCH_SIZE,\n",
        "            validation_data=(val_windows, val_labels),\n",
        "            callbacks=[create_model_checkpoint(model_name=model_3.name), early_stopping()]\n",
        "            )\n",
        "\n"
      ],
      "metadata": {
        "colab": {
          "base_uri": "https://localhost:8080/"
        },
        "id": "i85h6BcGh2tC",
        "outputId": "e3bd3d65-2a16-4b23-8e63-7cb56e96dadd"
      },
      "execution_count": 35,
      "outputs": [
        {
          "output_type": "stream",
          "name": "stdout",
          "text": [
            "WARNING:tensorflow:Layer lstm will not use cuDNN kernels since it doesn't meet the criteria. It will use a generic GPU kernel as fallback when running on GPU.\n",
            "WARNING:tensorflow:Layer lstm will not use cuDNN kernels since it doesn't meet the criteria. It will use a generic GPU kernel as fallback when running on GPU.\n",
            "WARNING:tensorflow:Layer lstm will not use cuDNN kernels since it doesn't meet the criteria. It will use a generic GPU kernel as fallback when running on GPU.\n",
            "Epoch 1/1000\n",
            "1/4 [======>.......................] - ETA: 5s - loss: 0.8119INFO:tensorflow:Assets written to: models/model_lstm/assets\n"
          ]
        },
        {
          "output_type": "stream",
          "name": "stderr",
          "text": [
            "WARNING:absl:<keras.layers.recurrent.LSTMCell object at 0x7fef85314110> has the same name 'LSTMCell' as a built-in Keras object. Consider renaming <class 'keras.layers.recurrent.LSTMCell'> to avoid naming conflicts when loading with `tf.keras.models.load_model`. If renaming is not possible, pass the object in the `custom_objects` parameter of the load function.\n",
            "WARNING:absl:<keras.layers.recurrent.LSTMCell object at 0x7fef85345510> has the same name 'LSTMCell' as a built-in Keras object. Consider renaming <class 'keras.layers.recurrent.LSTMCell'> to avoid naming conflicts when loading with `tf.keras.models.load_model`. If renaming is not possible, pass the object in the `custom_objects` parameter of the load function.\n"
          ]
        },
        {
          "output_type": "stream",
          "name": "stdout",
          "text": [
            "\b\b\b\b\b\b\b\b\b\b\b\b\b\b\b\b\b\b\b\b\b\b\b\b\b\b\b\b\b\b\b\b\b\b\b\b\b\b\b\b\b\b\b\b\b\b\b\b\b\b\b\b\b\b\b\b\b\b\b\b\b\r4/4 [==============================] - 7s 2s/step - loss: 0.7935 - val_loss: 1.0567\n",
            "Epoch 2/1000\n",
            "1/4 [======>.......................] - ETA: 0s - loss: 0.7163INFO:tensorflow:Assets written to: models/model_lstm/assets\n"
          ]
        },
        {
          "output_type": "stream",
          "name": "stderr",
          "text": [
            "INFO:tensorflow:Assets written to: models/model_lstm/assets\n",
            "WARNING:absl:<keras.layers.recurrent.LSTMCell object at 0x7fef85314110> has the same name 'LSTMCell' as a built-in Keras object. Consider renaming <class 'keras.layers.recurrent.LSTMCell'> to avoid naming conflicts when loading with `tf.keras.models.load_model`. If renaming is not possible, pass the object in the `custom_objects` parameter of the load function.\n",
            "WARNING:absl:<keras.layers.recurrent.LSTMCell object at 0x7fef85345510> has the same name 'LSTMCell' as a built-in Keras object. Consider renaming <class 'keras.layers.recurrent.LSTMCell'> to avoid naming conflicts when loading with `tf.keras.models.load_model`. If renaming is not possible, pass the object in the `custom_objects` parameter of the load function.\n"
          ]
        },
        {
          "output_type": "stream",
          "name": "stdout",
          "text": [
            "\b\b\b\b\b\b\b\b\b\b\b\b\b\b\b\b\b\b\b\b\b\b\b\b\b\b\b\b\b\b\b\b\b\b\b\b\b\b\b\b\b\b\b\b\b\b\b\b\b\b\b\b\b\b\b\b\b\b\b\b\b\r4/4 [==============================] - 4s 1s/step - loss: 0.7050 - val_loss: 0.9423\n",
            "Epoch 3/1000\n",
            "1/4 [======>.......................] - ETA: 0s - loss: 0.6292INFO:tensorflow:Assets written to: models/model_lstm/assets\n"
          ]
        },
        {
          "output_type": "stream",
          "name": "stderr",
          "text": [
            "INFO:tensorflow:Assets written to: models/model_lstm/assets\n",
            "WARNING:absl:<keras.layers.recurrent.LSTMCell object at 0x7fef85314110> has the same name 'LSTMCell' as a built-in Keras object. Consider renaming <class 'keras.layers.recurrent.LSTMCell'> to avoid naming conflicts when loading with `tf.keras.models.load_model`. If renaming is not possible, pass the object in the `custom_objects` parameter of the load function.\n",
            "WARNING:absl:<keras.layers.recurrent.LSTMCell object at 0x7fef85345510> has the same name 'LSTMCell' as a built-in Keras object. Consider renaming <class 'keras.layers.recurrent.LSTMCell'> to avoid naming conflicts when loading with `tf.keras.models.load_model`. If renaming is not possible, pass the object in the `custom_objects` parameter of the load function.\n"
          ]
        },
        {
          "output_type": "stream",
          "name": "stdout",
          "text": [
            "\b\b\b\b\b\b\b\b\b\b\b\b\b\b\b\b\b\b\b\b\b\b\b\b\b\b\b\b\b\b\b\b\b\b\b\b\b\b\b\b\b\b\b\b\b\b\b\b\b\b\b\b\b\b\b\b\b\b\b\b\b\r4/4 [==============================] - 5s 2s/step - loss: 0.6143 - val_loss: 0.8031\n",
            "Epoch 4/1000\n",
            "1/4 [======>.......................] - ETA: 0s - loss: 0.5424INFO:tensorflow:Assets written to: models/model_lstm/assets\n"
          ]
        },
        {
          "output_type": "stream",
          "name": "stderr",
          "text": [
            "INFO:tensorflow:Assets written to: models/model_lstm/assets\n",
            "WARNING:absl:<keras.layers.recurrent.LSTMCell object at 0x7fef85314110> has the same name 'LSTMCell' as a built-in Keras object. Consider renaming <class 'keras.layers.recurrent.LSTMCell'> to avoid naming conflicts when loading with `tf.keras.models.load_model`. If renaming is not possible, pass the object in the `custom_objects` parameter of the load function.\n",
            "WARNING:absl:<keras.layers.recurrent.LSTMCell object at 0x7fef85345510> has the same name 'LSTMCell' as a built-in Keras object. Consider renaming <class 'keras.layers.recurrent.LSTMCell'> to avoid naming conflicts when loading with `tf.keras.models.load_model`. If renaming is not possible, pass the object in the `custom_objects` parameter of the load function.\n"
          ]
        },
        {
          "output_type": "stream",
          "name": "stdout",
          "text": [
            "\b\b\b\b\b\b\b\b\b\b\b\b\b\b\b\b\b\b\b\b\b\b\b\b\b\b\b\b\b\b\b\b\b\b\b\b\b\b\b\b\b\b\b\b\b\b\b\b\b\b\b\b\b\b\b\b\b\b\b\b\b\r4/4 [==============================] - 5s 2s/step - loss: 0.5090 - val_loss: 0.6354\n",
            "Epoch 5/1000\n",
            "1/4 [======>.......................] - ETA: 0s - loss: 0.4254INFO:tensorflow:Assets written to: models/model_lstm/assets\n"
          ]
        },
        {
          "output_type": "stream",
          "name": "stderr",
          "text": [
            "INFO:tensorflow:Assets written to: models/model_lstm/assets\n",
            "WARNING:absl:<keras.layers.recurrent.LSTMCell object at 0x7fef85314110> has the same name 'LSTMCell' as a built-in Keras object. Consider renaming <class 'keras.layers.recurrent.LSTMCell'> to avoid naming conflicts when loading with `tf.keras.models.load_model`. If renaming is not possible, pass the object in the `custom_objects` parameter of the load function.\n",
            "WARNING:absl:<keras.layers.recurrent.LSTMCell object at 0x7fef85345510> has the same name 'LSTMCell' as a built-in Keras object. Consider renaming <class 'keras.layers.recurrent.LSTMCell'> to avoid naming conflicts when loading with `tf.keras.models.load_model`. If renaming is not possible, pass the object in the `custom_objects` parameter of the load function.\n"
          ]
        },
        {
          "output_type": "stream",
          "name": "stdout",
          "text": [
            "\b\b\b\b\b\b\b\b\b\b\b\b\b\b\b\b\b\b\b\b\b\b\b\b\b\b\b\b\b\b\b\b\b\b\b\b\b\b\b\b\b\b\b\b\b\b\b\b\b\b\b\b\b\b\b\b\b\b\b\b\b\r4/4 [==============================] - 5s 2s/step - loss: 0.3835 - val_loss: 0.4266\n",
            "Epoch 6/1000\n",
            "1/4 [======>.......................] - ETA: 0s - loss: 0.2638INFO:tensorflow:Assets written to: models/model_lstm/assets\n"
          ]
        },
        {
          "output_type": "stream",
          "name": "stderr",
          "text": [
            "INFO:tensorflow:Assets written to: models/model_lstm/assets\n",
            "WARNING:absl:<keras.layers.recurrent.LSTMCell object at 0x7fef85314110> has the same name 'LSTMCell' as a built-in Keras object. Consider renaming <class 'keras.layers.recurrent.LSTMCell'> to avoid naming conflicts when loading with `tf.keras.models.load_model`. If renaming is not possible, pass the object in the `custom_objects` parameter of the load function.\n",
            "WARNING:absl:<keras.layers.recurrent.LSTMCell object at 0x7fef85345510> has the same name 'LSTMCell' as a built-in Keras object. Consider renaming <class 'keras.layers.recurrent.LSTMCell'> to avoid naming conflicts when loading with `tf.keras.models.load_model`. If renaming is not possible, pass the object in the `custom_objects` parameter of the load function.\n"
          ]
        },
        {
          "output_type": "stream",
          "name": "stdout",
          "text": [
            "\b\b\b\b\b\b\b\b\b\b\b\b\b\b\b\b\b\b\b\b\b\b\b\b\b\b\b\b\b\b\b\b\b\b\b\b\b\b\b\b\b\b\b\b\b\b\b\b\b\b\b\b\b\b\b\b\b\b\b\b\b\r4/4 [==============================] - 4s 1s/step - loss: 0.2308 - val_loss: 0.1771\n",
            "Epoch 7/1000\n",
            "1/4 [======>.......................] - ETA: 0s - loss: 0.1048INFO:tensorflow:Assets written to: models/model_lstm/assets\n"
          ]
        },
        {
          "output_type": "stream",
          "name": "stderr",
          "text": [
            "INFO:tensorflow:Assets written to: models/model_lstm/assets\n",
            "WARNING:absl:<keras.layers.recurrent.LSTMCell object at 0x7fef85314110> has the same name 'LSTMCell' as a built-in Keras object. Consider renaming <class 'keras.layers.recurrent.LSTMCell'> to avoid naming conflicts when loading with `tf.keras.models.load_model`. If renaming is not possible, pass the object in the `custom_objects` parameter of the load function.\n",
            "WARNING:absl:<keras.layers.recurrent.LSTMCell object at 0x7fef85345510> has the same name 'LSTMCell' as a built-in Keras object. Consider renaming <class 'keras.layers.recurrent.LSTMCell'> to avoid naming conflicts when loading with `tf.keras.models.load_model`. If renaming is not possible, pass the object in the `custom_objects` parameter of the load function.\n"
          ]
        },
        {
          "output_type": "stream",
          "name": "stdout",
          "text": [
            "\b\b\b\b\b\b\b\b\b\b\b\b\b\b\b\b\b\b\b\b\b\b\b\b\b\b\b\b\b\b\b\b\b\b\b\b\b\b\b\b\b\b\b\b\b\b\b\b\b\b\b\b\b\b\b\b\b\b\b\b\b\r4/4 [==============================] - 5s 2s/step - loss: 0.0845 - val_loss: 0.1436\n",
            "Epoch 8/1000\n",
            "4/4 [==============================] - 0s 15ms/step - loss: 0.1279 - val_loss: 0.1534\n",
            "Epoch 9/1000\n",
            "1/4 [======>.......................] - ETA: 0s - loss: 0.1065INFO:tensorflow:Assets written to: models/model_lstm/assets\n"
          ]
        },
        {
          "output_type": "stream",
          "name": "stderr",
          "text": [
            "INFO:tensorflow:Assets written to: models/model_lstm/assets\n",
            "WARNING:absl:<keras.layers.recurrent.LSTMCell object at 0x7fef85314110> has the same name 'LSTMCell' as a built-in Keras object. Consider renaming <class 'keras.layers.recurrent.LSTMCell'> to avoid naming conflicts when loading with `tf.keras.models.load_model`. If renaming is not possible, pass the object in the `custom_objects` parameter of the load function.\n",
            "WARNING:absl:<keras.layers.recurrent.LSTMCell object at 0x7fef85345510> has the same name 'LSTMCell' as a built-in Keras object. Consider renaming <class 'keras.layers.recurrent.LSTMCell'> to avoid naming conflicts when loading with `tf.keras.models.load_model`. If renaming is not possible, pass the object in the `custom_objects` parameter of the load function.\n"
          ]
        },
        {
          "output_type": "stream",
          "name": "stdout",
          "text": [
            "\b\b\b\b\b\b\b\b\b\b\b\b\b\b\b\b\b\b\b\b\b\b\b\b\b\b\b\b\b\b\b\b\b\b\b\b\b\b\b\b\b\b\b\b\b\b\b\b\b\b\b\b\b\b\b\b\b\b\b\b\b\r4/4 [==============================] - 4s 1s/step - loss: 0.0905 - val_loss: 0.1115\n",
            "Epoch 10/1000\n",
            "4/4 [==============================] - 0s 15ms/step - loss: 0.0725 - val_loss: 0.1230\n",
            "Epoch 11/1000\n",
            "4/4 [==============================] - 0s 14ms/step - loss: 0.0640 - val_loss: 0.1623\n",
            "Epoch 12/1000\n",
            "4/4 [==============================] - 0s 14ms/step - loss: 0.0675 - val_loss: 0.1579\n",
            "Epoch 13/1000\n",
            "4/4 [==============================] - 0s 14ms/step - loss: 0.0615 - val_loss: 0.1248\n",
            "Epoch 14/1000\n",
            "1/4 [======>.......................] - ETA: 0s - loss: 0.0502INFO:tensorflow:Assets written to: models/model_lstm/assets\n"
          ]
        },
        {
          "output_type": "stream",
          "name": "stderr",
          "text": [
            "INFO:tensorflow:Assets written to: models/model_lstm/assets\n",
            "WARNING:absl:<keras.layers.recurrent.LSTMCell object at 0x7fef85314110> has the same name 'LSTMCell' as a built-in Keras object. Consider renaming <class 'keras.layers.recurrent.LSTMCell'> to avoid naming conflicts when loading with `tf.keras.models.load_model`. If renaming is not possible, pass the object in the `custom_objects` parameter of the load function.\n",
            "WARNING:absl:<keras.layers.recurrent.LSTMCell object at 0x7fef85345510> has the same name 'LSTMCell' as a built-in Keras object. Consider renaming <class 'keras.layers.recurrent.LSTMCell'> to avoid naming conflicts when loading with `tf.keras.models.load_model`. If renaming is not possible, pass the object in the `custom_objects` parameter of the load function.\n"
          ]
        },
        {
          "output_type": "stream",
          "name": "stdout",
          "text": [
            "\b\b\b\b\b\b\b\b\b\b\b\b\b\b\b\b\b\b\b\b\b\b\b\b\b\b\b\b\b\b\b\b\b\b\b\b\b\b\b\b\b\b\b\b\b\b\b\b\b\b\b\b\b\b\b\b\b\b\b\b\b\r4/4 [==============================] - 4s 1s/step - loss: 0.0528 - val_loss: 0.1028\n",
            "Epoch 15/1000\n",
            "1/4 [======>.......................] - ETA: 0s - loss: 0.0516INFO:tensorflow:Assets written to: models/model_lstm/assets\n"
          ]
        },
        {
          "output_type": "stream",
          "name": "stderr",
          "text": [
            "INFO:tensorflow:Assets written to: models/model_lstm/assets\n",
            "WARNING:absl:<keras.layers.recurrent.LSTMCell object at 0x7fef85314110> has the same name 'LSTMCell' as a built-in Keras object. Consider renaming <class 'keras.layers.recurrent.LSTMCell'> to avoid naming conflicts when loading with `tf.keras.models.load_model`. If renaming is not possible, pass the object in the `custom_objects` parameter of the load function.\n",
            "WARNING:absl:<keras.layers.recurrent.LSTMCell object at 0x7fef85345510> has the same name 'LSTMCell' as a built-in Keras object. Consider renaming <class 'keras.layers.recurrent.LSTMCell'> to avoid naming conflicts when loading with `tf.keras.models.load_model`. If renaming is not possible, pass the object in the `custom_objects` parameter of the load function.\n"
          ]
        },
        {
          "output_type": "stream",
          "name": "stdout",
          "text": [
            "\b\b\b\b\b\b\b\b\b\b\b\b\b\b\b\b\b\b\b\b\b\b\b\b\b\b\b\b\b\b\b\b\b\b\b\b\b\b\b\b\b\b\b\b\b\b\b\b\b\b\b\b\b\b\b\b\b\b\b\b\b\r4/4 [==============================] - 5s 2s/step - loss: 0.0520 - val_loss: 0.1012\n",
            "Epoch 16/1000\n",
            "4/4 [==============================] - 0s 16ms/step - loss: 0.0522 - val_loss: 0.1067\n",
            "Epoch 17/1000\n",
            "4/4 [==============================] - 0s 15ms/step - loss: 0.0500 - val_loss: 0.1160\n",
            "Epoch 18/1000\n",
            "4/4 [==============================] - 0s 16ms/step - loss: 0.0491 - val_loss: 0.1082\n",
            "Epoch 19/1000\n",
            "1/4 [======>.......................] - ETA: 0s - loss: 0.0470INFO:tensorflow:Assets written to: models/model_lstm/assets\n"
          ]
        },
        {
          "output_type": "stream",
          "name": "stderr",
          "text": [
            "INFO:tensorflow:Assets written to: models/model_lstm/assets\n",
            "WARNING:absl:<keras.layers.recurrent.LSTMCell object at 0x7fef85314110> has the same name 'LSTMCell' as a built-in Keras object. Consider renaming <class 'keras.layers.recurrent.LSTMCell'> to avoid naming conflicts when loading with `tf.keras.models.load_model`. If renaming is not possible, pass the object in the `custom_objects` parameter of the load function.\n",
            "WARNING:absl:<keras.layers.recurrent.LSTMCell object at 0x7fef85345510> has the same name 'LSTMCell' as a built-in Keras object. Consider renaming <class 'keras.layers.recurrent.LSTMCell'> to avoid naming conflicts when loading with `tf.keras.models.load_model`. If renaming is not possible, pass the object in the `custom_objects` parameter of the load function.\n"
          ]
        },
        {
          "output_type": "stream",
          "name": "stdout",
          "text": [
            "\b\b\b\b\b\b\b\b\b\b\b\b\b\b\b\b\b\b\b\b\b\b\b\b\b\b\b\b\b\b\b\b\b\b\b\b\b\b\b\b\b\b\b\b\b\b\b\b\b\b\b\b\b\b\b\b\b\b\b\b\b\r4/4 [==============================] - 5s 2s/step - loss: 0.0488 - val_loss: 0.1011\n",
            "Epoch 20/1000\n",
            "1/4 [======>.......................] - ETA: 0s - loss: 0.0485INFO:tensorflow:Assets written to: models/model_lstm/assets\n"
          ]
        },
        {
          "output_type": "stream",
          "name": "stderr",
          "text": [
            "INFO:tensorflow:Assets written to: models/model_lstm/assets\n",
            "WARNING:absl:<keras.layers.recurrent.LSTMCell object at 0x7fef85314110> has the same name 'LSTMCell' as a built-in Keras object. Consider renaming <class 'keras.layers.recurrent.LSTMCell'> to avoid naming conflicts when loading with `tf.keras.models.load_model`. If renaming is not possible, pass the object in the `custom_objects` parameter of the load function.\n",
            "WARNING:absl:<keras.layers.recurrent.LSTMCell object at 0x7fef85345510> has the same name 'LSTMCell' as a built-in Keras object. Consider renaming <class 'keras.layers.recurrent.LSTMCell'> to avoid naming conflicts when loading with `tf.keras.models.load_model`. If renaming is not possible, pass the object in the `custom_objects` parameter of the load function.\n"
          ]
        },
        {
          "output_type": "stream",
          "name": "stdout",
          "text": [
            "\b\b\b\b\b\b\b\b\b\b\b\b\b\b\b\b\b\b\b\b\b\b\b\b\b\b\b\b\b\b\b\b\b\b\b\b\b\b\b\b\b\b\b\b\b\b\b\b\b\b\b\b\b\b\b\b\b\b\b\b\b\r4/4 [==============================] - 5s 2s/step - loss: 0.0477 - val_loss: 0.0952\n",
            "Epoch 21/1000\n",
            "1/4 [======>.......................] - ETA: 0s - loss: 0.0502INFO:tensorflow:Assets written to: models/model_lstm/assets\n"
          ]
        },
        {
          "output_type": "stream",
          "name": "stderr",
          "text": [
            "INFO:tensorflow:Assets written to: models/model_lstm/assets\n",
            "WARNING:absl:<keras.layers.recurrent.LSTMCell object at 0x7fef85314110> has the same name 'LSTMCell' as a built-in Keras object. Consider renaming <class 'keras.layers.recurrent.LSTMCell'> to avoid naming conflicts when loading with `tf.keras.models.load_model`. If renaming is not possible, pass the object in the `custom_objects` parameter of the load function.\n",
            "WARNING:absl:<keras.layers.recurrent.LSTMCell object at 0x7fef85345510> has the same name 'LSTMCell' as a built-in Keras object. Consider renaming <class 'keras.layers.recurrent.LSTMCell'> to avoid naming conflicts when loading with `tf.keras.models.load_model`. If renaming is not possible, pass the object in the `custom_objects` parameter of the load function.\n"
          ]
        },
        {
          "output_type": "stream",
          "name": "stdout",
          "text": [
            "\b\b\b\b\b\b\b\b\b\b\b\b\b\b\b\b\b\b\b\b\b\b\b\b\b\b\b\b\b\b\b\b\b\b\b\b\b\b\b\b\b\b\b\b\b\b\b\b\b\b\b\b\b\b\b\b\b\b\b\b\b\r4/4 [==============================] - 4s 1s/step - loss: 0.0472 - val_loss: 0.0945\n",
            "Epoch 22/1000\n",
            "4/4 [==============================] - 0s 19ms/step - loss: 0.0457 - val_loss: 0.1075\n",
            "Epoch 23/1000\n",
            "1/4 [======>.......................] - ETA: 0s - loss: 0.0429INFO:tensorflow:Assets written to: models/model_lstm/assets\n"
          ]
        },
        {
          "output_type": "stream",
          "name": "stderr",
          "text": [
            "INFO:tensorflow:Assets written to: models/model_lstm/assets\n",
            "WARNING:absl:<keras.layers.recurrent.LSTMCell object at 0x7fef85314110> has the same name 'LSTMCell' as a built-in Keras object. Consider renaming <class 'keras.layers.recurrent.LSTMCell'> to avoid naming conflicts when loading with `tf.keras.models.load_model`. If renaming is not possible, pass the object in the `custom_objects` parameter of the load function.\n",
            "WARNING:absl:<keras.layers.recurrent.LSTMCell object at 0x7fef85345510> has the same name 'LSTMCell' as a built-in Keras object. Consider renaming <class 'keras.layers.recurrent.LSTMCell'> to avoid naming conflicts when loading with `tf.keras.models.load_model`. If renaming is not possible, pass the object in the `custom_objects` parameter of the load function.\n"
          ]
        },
        {
          "output_type": "stream",
          "name": "stdout",
          "text": [
            "\b\b\b\b\b\b\b\b\b\b\b\b\b\b\b\b\b\b\b\b\b\b\b\b\b\b\b\b\b\b\b\b\b\b\b\b\b\b\b\b\b\b\b\b\b\b\b\b\b\b\b\b\b\b\b\b\b\b\b\b\b\r4/4 [==============================] - 5s 2s/step - loss: 0.0446 - val_loss: 0.0895\n",
            "Epoch 24/1000\n",
            "1/4 [======>.......................] - ETA: 0s - loss: 0.0393INFO:tensorflow:Assets written to: models/model_lstm/assets\n"
          ]
        },
        {
          "output_type": "stream",
          "name": "stderr",
          "text": [
            "INFO:tensorflow:Assets written to: models/model_lstm/assets\n",
            "WARNING:absl:<keras.layers.recurrent.LSTMCell object at 0x7fef85314110> has the same name 'LSTMCell' as a built-in Keras object. Consider renaming <class 'keras.layers.recurrent.LSTMCell'> to avoid naming conflicts when loading with `tf.keras.models.load_model`. If renaming is not possible, pass the object in the `custom_objects` parameter of the load function.\n",
            "WARNING:absl:<keras.layers.recurrent.LSTMCell object at 0x7fef85345510> has the same name 'LSTMCell' as a built-in Keras object. Consider renaming <class 'keras.layers.recurrent.LSTMCell'> to avoid naming conflicts when loading with `tf.keras.models.load_model`. If renaming is not possible, pass the object in the `custom_objects` parameter of the load function.\n"
          ]
        },
        {
          "output_type": "stream",
          "name": "stdout",
          "text": [
            "\b\b\b\b\b\b\b\b\b\b\b\b\b\b\b\b\b\b\b\b\b\b\b\b\b\b\b\b\b\b\b\b\b\b\b\b\b\b\b\b\b\b\b\b\b\b\b\b\b\b\b\b\b\b\b\b\b\b\b\b\b\r4/4 [==============================] - 5s 2s/step - loss: 0.0451 - val_loss: 0.0855\n",
            "Epoch 25/1000\n",
            "4/4 [==============================] - 0s 18ms/step - loss: 0.0433 - val_loss: 0.0979\n",
            "Epoch 26/1000\n",
            "4/4 [==============================] - 0s 17ms/step - loss: 0.0422 - val_loss: 0.1001\n",
            "Epoch 27/1000\n",
            "1/4 [======>.......................] - ETA: 0s - loss: 0.0399INFO:tensorflow:Assets written to: models/model_lstm/assets\n"
          ]
        },
        {
          "output_type": "stream",
          "name": "stderr",
          "text": [
            "INFO:tensorflow:Assets written to: models/model_lstm/assets\n",
            "WARNING:absl:<keras.layers.recurrent.LSTMCell object at 0x7fef85314110> has the same name 'LSTMCell' as a built-in Keras object. Consider renaming <class 'keras.layers.recurrent.LSTMCell'> to avoid naming conflicts when loading with `tf.keras.models.load_model`. If renaming is not possible, pass the object in the `custom_objects` parameter of the load function.\n",
            "WARNING:absl:<keras.layers.recurrent.LSTMCell object at 0x7fef85345510> has the same name 'LSTMCell' as a built-in Keras object. Consider renaming <class 'keras.layers.recurrent.LSTMCell'> to avoid naming conflicts when loading with `tf.keras.models.load_model`. If renaming is not possible, pass the object in the `custom_objects` parameter of the load function.\n"
          ]
        },
        {
          "output_type": "stream",
          "name": "stdout",
          "text": [
            "\b\b\b\b\b\b\b\b\b\b\b\b\b\b\b\b\b\b\b\b\b\b\b\b\b\b\b\b\b\b\b\b\b\b\b\b\b\b\b\b\b\b\b\b\b\b\b\b\b\b\b\b\b\b\b\b\b\b\b\b\b\r4/4 [==============================] - 4s 1s/step - loss: 0.0410 - val_loss: 0.0797\n",
            "Epoch 28/1000\n",
            "4/4 [==============================] - 0s 15ms/step - loss: 0.0402 - val_loss: 0.0839\n",
            "Epoch 29/1000\n",
            "4/4 [==============================] - 0s 16ms/step - loss: 0.0407 - val_loss: 0.0866\n",
            "Epoch 30/1000\n",
            "1/4 [======>.......................] - ETA: 0s - loss: 0.0326INFO:tensorflow:Assets written to: models/model_lstm/assets\n"
          ]
        },
        {
          "output_type": "stream",
          "name": "stderr",
          "text": [
            "INFO:tensorflow:Assets written to: models/model_lstm/assets\n",
            "WARNING:absl:<keras.layers.recurrent.LSTMCell object at 0x7fef85314110> has the same name 'LSTMCell' as a built-in Keras object. Consider renaming <class 'keras.layers.recurrent.LSTMCell'> to avoid naming conflicts when loading with `tf.keras.models.load_model`. If renaming is not possible, pass the object in the `custom_objects` parameter of the load function.\n",
            "WARNING:absl:<keras.layers.recurrent.LSTMCell object at 0x7fef85345510> has the same name 'LSTMCell' as a built-in Keras object. Consider renaming <class 'keras.layers.recurrent.LSTMCell'> to avoid naming conflicts when loading with `tf.keras.models.load_model`. If renaming is not possible, pass the object in the `custom_objects` parameter of the load function.\n"
          ]
        },
        {
          "output_type": "stream",
          "name": "stdout",
          "text": [
            "\b\b\b\b\b\b\b\b\b\b\b\b\b\b\b\b\b\b\b\b\b\b\b\b\b\b\b\b\b\b\b\b\b\b\b\b\b\b\b\b\b\b\b\b\b\b\b\b\b\b\b\b\b\b\b\b\b\b\b\b\b\r4/4 [==============================] - 5s 2s/step - loss: 0.0393 - val_loss: 0.0751\n",
            "Epoch 31/1000\n",
            "1/4 [======>.......................] - ETA: 0s - loss: 0.0374INFO:tensorflow:Assets written to: models/model_lstm/assets\n"
          ]
        },
        {
          "output_type": "stream",
          "name": "stderr",
          "text": [
            "INFO:tensorflow:Assets written to: models/model_lstm/assets\n",
            "WARNING:absl:<keras.layers.recurrent.LSTMCell object at 0x7fef85314110> has the same name 'LSTMCell' as a built-in Keras object. Consider renaming <class 'keras.layers.recurrent.LSTMCell'> to avoid naming conflicts when loading with `tf.keras.models.load_model`. If renaming is not possible, pass the object in the `custom_objects` parameter of the load function.\n",
            "WARNING:absl:<keras.layers.recurrent.LSTMCell object at 0x7fef85345510> has the same name 'LSTMCell' as a built-in Keras object. Consider renaming <class 'keras.layers.recurrent.LSTMCell'> to avoid naming conflicts when loading with `tf.keras.models.load_model`. If renaming is not possible, pass the object in the `custom_objects` parameter of the load function.\n"
          ]
        },
        {
          "output_type": "stream",
          "name": "stdout",
          "text": [
            "\b\b\b\b\b\b\b\b\b\b\b\b\b\b\b\b\b\b\b\b\b\b\b\b\b\b\b\b\b\b\b\b\b\b\b\b\b\b\b\b\b\b\b\b\b\b\b\b\b\b\b\b\b\b\b\b\b\b\b\b\b\r4/4 [==============================] - 5s 2s/step - loss: 0.0409 - val_loss: 0.0751\n",
            "Epoch 32/1000\n",
            "4/4 [==============================] - 0s 17ms/step - loss: 0.0375 - val_loss: 0.1117\n",
            "Epoch 33/1000\n",
            "1/4 [======>.......................] - ETA: 0s - loss: 0.0395INFO:tensorflow:Assets written to: models/model_lstm/assets\n"
          ]
        },
        {
          "output_type": "stream",
          "name": "stderr",
          "text": [
            "INFO:tensorflow:Assets written to: models/model_lstm/assets\n",
            "WARNING:absl:<keras.layers.recurrent.LSTMCell object at 0x7fef85314110> has the same name 'LSTMCell' as a built-in Keras object. Consider renaming <class 'keras.layers.recurrent.LSTMCell'> to avoid naming conflicts when loading with `tf.keras.models.load_model`. If renaming is not possible, pass the object in the `custom_objects` parameter of the load function.\n",
            "WARNING:absl:<keras.layers.recurrent.LSTMCell object at 0x7fef85345510> has the same name 'LSTMCell' as a built-in Keras object. Consider renaming <class 'keras.layers.recurrent.LSTMCell'> to avoid naming conflicts when loading with `tf.keras.models.load_model`. If renaming is not possible, pass the object in the `custom_objects` parameter of the load function.\n"
          ]
        },
        {
          "output_type": "stream",
          "name": "stdout",
          "text": [
            "\b\b\b\b\b\b\b\b\b\b\b\b\b\b\b\b\b\b\b\b\b\b\b\b\b\b\b\b\b\b\b\b\b\b\b\b\b\b\b\b\b\b\b\b\b\b\b\b\b\b\b\b\b\b\b\b\b\b\b\b\b\r4/4 [==============================] - 4s 1s/step - loss: 0.0392 - val_loss: 0.0732\n",
            "Epoch 34/1000\n",
            "1/4 [======>.......................] - ETA: 0s - loss: 0.0369INFO:tensorflow:Assets written to: models/model_lstm/assets\n"
          ]
        },
        {
          "output_type": "stream",
          "name": "stderr",
          "text": [
            "INFO:tensorflow:Assets written to: models/model_lstm/assets\n",
            "WARNING:absl:<keras.layers.recurrent.LSTMCell object at 0x7fef85314110> has the same name 'LSTMCell' as a built-in Keras object. Consider renaming <class 'keras.layers.recurrent.LSTMCell'> to avoid naming conflicts when loading with `tf.keras.models.load_model`. If renaming is not possible, pass the object in the `custom_objects` parameter of the load function.\n",
            "WARNING:absl:<keras.layers.recurrent.LSTMCell object at 0x7fef85345510> has the same name 'LSTMCell' as a built-in Keras object. Consider renaming <class 'keras.layers.recurrent.LSTMCell'> to avoid naming conflicts when loading with `tf.keras.models.load_model`. If renaming is not possible, pass the object in the `custom_objects` parameter of the load function.\n"
          ]
        },
        {
          "output_type": "stream",
          "name": "stdout",
          "text": [
            "\b\b\b\b\b\b\b\b\b\b\b\b\b\b\b\b\b\b\b\b\b\b\b\b\b\b\b\b\b\b\b\b\b\b\b\b\b\b\b\b\b\b\b\b\b\b\b\b\b\b\b\b\b\b\b\b\b\b\b\b\b\r4/4 [==============================] - 5s 2s/step - loss: 0.0392 - val_loss: 0.0720\n",
            "Epoch 35/1000\n",
            "4/4 [==============================] - 0s 15ms/step - loss: 0.0373 - val_loss: 0.0929\n",
            "Epoch 36/1000\n",
            "4/4 [==============================] - 0s 15ms/step - loss: 0.0392 - val_loss: 0.0723\n",
            "Epoch 37/1000\n",
            "4/4 [==============================] - 0s 18ms/step - loss: 0.0388 - val_loss: 0.0725\n",
            "Epoch 38/1000\n",
            "1/4 [======>.......................] - ETA: 0s - loss: 0.0366INFO:tensorflow:Assets written to: models/model_lstm/assets\n"
          ]
        },
        {
          "output_type": "stream",
          "name": "stderr",
          "text": [
            "INFO:tensorflow:Assets written to: models/model_lstm/assets\n",
            "WARNING:absl:<keras.layers.recurrent.LSTMCell object at 0x7fef85314110> has the same name 'LSTMCell' as a built-in Keras object. Consider renaming <class 'keras.layers.recurrent.LSTMCell'> to avoid naming conflicts when loading with `tf.keras.models.load_model`. If renaming is not possible, pass the object in the `custom_objects` parameter of the load function.\n",
            "WARNING:absl:<keras.layers.recurrent.LSTMCell object at 0x7fef85345510> has the same name 'LSTMCell' as a built-in Keras object. Consider renaming <class 'keras.layers.recurrent.LSTMCell'> to avoid naming conflicts when loading with `tf.keras.models.load_model`. If renaming is not possible, pass the object in the `custom_objects` parameter of the load function.\n"
          ]
        },
        {
          "output_type": "stream",
          "name": "stdout",
          "text": [
            "\b\b\b\b\b\b\b\b\b\b\b\b\b\b\b\b\b\b\b\b\b\b\b\b\b\b\b\b\b\b\b\b\b\b\b\b\b\b\b\b\b\b\b\b\b\b\b\b\b\b\b\b\b\b\b\b\b\b\b\b\b\r4/4 [==============================] - 5s 2s/step - loss: 0.0382 - val_loss: 0.0707\n",
            "Epoch 39/1000\n",
            "4/4 [==============================] - 0s 16ms/step - loss: 0.0382 - val_loss: 0.0719\n",
            "Epoch 40/1000\n",
            "4/4 [==============================] - 0s 17ms/step - loss: 0.0402 - val_loss: 0.0719\n",
            "Epoch 41/1000\n",
            "1/4 [======>.......................] - ETA: 0s - loss: 0.0398INFO:tensorflow:Assets written to: models/model_lstm/assets\n"
          ]
        },
        {
          "output_type": "stream",
          "name": "stderr",
          "text": [
            "INFO:tensorflow:Assets written to: models/model_lstm/assets\n",
            "WARNING:absl:<keras.layers.recurrent.LSTMCell object at 0x7fef85314110> has the same name 'LSTMCell' as a built-in Keras object. Consider renaming <class 'keras.layers.recurrent.LSTMCell'> to avoid naming conflicts when loading with `tf.keras.models.load_model`. If renaming is not possible, pass the object in the `custom_objects` parameter of the load function.\n",
            "WARNING:absl:<keras.layers.recurrent.LSTMCell object at 0x7fef85345510> has the same name 'LSTMCell' as a built-in Keras object. Consider renaming <class 'keras.layers.recurrent.LSTMCell'> to avoid naming conflicts when loading with `tf.keras.models.load_model`. If renaming is not possible, pass the object in the `custom_objects` parameter of the load function.\n"
          ]
        },
        {
          "output_type": "stream",
          "name": "stdout",
          "text": [
            "\b\b\b\b\b\b\b\b\b\b\b\b\b\b\b\b\b\b\b\b\b\b\b\b\b\b\b\b\b\b\b\b\b\b\b\b\b\b\b\b\b\b\b\b\b\b\b\b\b\b\b\b\b\b\b\b\b\b\b\b\b\r4/4 [==============================] - 5s 2s/step - loss: 0.0394 - val_loss: 0.0702\n",
            "Epoch 42/1000\n",
            "4/4 [==============================] - 0s 16ms/step - loss: 0.0376 - val_loss: 0.0794\n",
            "Epoch 43/1000\n",
            "1/4 [======>.......................] - ETA: 0s - loss: 0.0301INFO:tensorflow:Assets written to: models/model_lstm/assets\n"
          ]
        },
        {
          "output_type": "stream",
          "name": "stderr",
          "text": [
            "INFO:tensorflow:Assets written to: models/model_lstm/assets\n",
            "WARNING:absl:<keras.layers.recurrent.LSTMCell object at 0x7fef85314110> has the same name 'LSTMCell' as a built-in Keras object. Consider renaming <class 'keras.layers.recurrent.LSTMCell'> to avoid naming conflicts when loading with `tf.keras.models.load_model`. If renaming is not possible, pass the object in the `custom_objects` parameter of the load function.\n",
            "WARNING:absl:<keras.layers.recurrent.LSTMCell object at 0x7fef85345510> has the same name 'LSTMCell' as a built-in Keras object. Consider renaming <class 'keras.layers.recurrent.LSTMCell'> to avoid naming conflicts when loading with `tf.keras.models.load_model`. If renaming is not possible, pass the object in the `custom_objects` parameter of the load function.\n"
          ]
        },
        {
          "output_type": "stream",
          "name": "stdout",
          "text": [
            "\b\b\b\b\b\b\b\b\b\b\b\b\b\b\b\b\b\b\b\b\b\b\b\b\b\b\b\b\b\b\b\b\b\b\b\b\b\b\b\b\b\b\b\b\b\b\b\b\b\b\b\b\b\b\b\b\b\b\b\b\b\r4/4 [==============================] - 4s 1s/step - loss: 0.0377 - val_loss: 0.0685\n",
            "Epoch 44/1000\n",
            "4/4 [==============================] - 0s 15ms/step - loss: 0.0384 - val_loss: 0.0695\n",
            "Epoch 45/1000\n",
            "4/4 [==============================] - 0s 14ms/step - loss: 0.0367 - val_loss: 0.0765\n",
            "Epoch 46/1000\n",
            "4/4 [==============================] - 0s 16ms/step - loss: 0.0384 - val_loss: 0.0884\n",
            "Epoch 47/1000\n",
            "1/4 [======>.......................] - ETA: 0s - loss: 0.0364INFO:tensorflow:Assets written to: models/model_lstm/assets\n"
          ]
        },
        {
          "output_type": "stream",
          "name": "stderr",
          "text": [
            "INFO:tensorflow:Assets written to: models/model_lstm/assets\n",
            "WARNING:absl:<keras.layers.recurrent.LSTMCell object at 0x7fef85314110> has the same name 'LSTMCell' as a built-in Keras object. Consider renaming <class 'keras.layers.recurrent.LSTMCell'> to avoid naming conflicts when loading with `tf.keras.models.load_model`. If renaming is not possible, pass the object in the `custom_objects` parameter of the load function.\n",
            "WARNING:absl:<keras.layers.recurrent.LSTMCell object at 0x7fef85345510> has the same name 'LSTMCell' as a built-in Keras object. Consider renaming <class 'keras.layers.recurrent.LSTMCell'> to avoid naming conflicts when loading with `tf.keras.models.load_model`. If renaming is not possible, pass the object in the `custom_objects` parameter of the load function.\n"
          ]
        },
        {
          "output_type": "stream",
          "name": "stdout",
          "text": [
            "\b\b\b\b\b\b\b\b\b\b\b\b\b\b\b\b\b\b\b\b\b\b\b\b\b\b\b\b\b\b\b\b\b\b\b\b\b\b\b\b\b\b\b\b\b\b\b\b\b\b\b\b\b\b\b\b\b\b\b\b\b\r4/4 [==============================] - 5s 2s/step - loss: 0.0354 - val_loss: 0.0680\n",
            "Epoch 48/1000\n",
            "4/4 [==============================] - 0s 15ms/step - loss: 0.0349 - val_loss: 0.0734\n",
            "Epoch 49/1000\n",
            "4/4 [==============================] - 0s 16ms/step - loss: 0.0361 - val_loss: 0.0783\n",
            "Epoch 50/1000\n",
            "1/4 [======>.......................] - ETA: 0s - loss: 0.0372INFO:tensorflow:Assets written to: models/model_lstm/assets\n"
          ]
        },
        {
          "output_type": "stream",
          "name": "stderr",
          "text": [
            "INFO:tensorflow:Assets written to: models/model_lstm/assets\n",
            "WARNING:absl:<keras.layers.recurrent.LSTMCell object at 0x7fef85314110> has the same name 'LSTMCell' as a built-in Keras object. Consider renaming <class 'keras.layers.recurrent.LSTMCell'> to avoid naming conflicts when loading with `tf.keras.models.load_model`. If renaming is not possible, pass the object in the `custom_objects` parameter of the load function.\n",
            "WARNING:absl:<keras.layers.recurrent.LSTMCell object at 0x7fef85345510> has the same name 'LSTMCell' as a built-in Keras object. Consider renaming <class 'keras.layers.recurrent.LSTMCell'> to avoid naming conflicts when loading with `tf.keras.models.load_model`. If renaming is not possible, pass the object in the `custom_objects` parameter of the load function.\n"
          ]
        },
        {
          "output_type": "stream",
          "name": "stdout",
          "text": [
            "\b\b\b\b\b\b\b\b\b\b\b\b\b\b\b\b\b\b\b\b\b\b\b\b\b\b\b\b\b\b\b\b\b\b\b\b\b\b\b\b\b\b\b\b\b\b\b\b\b\b\b\b\b\b\b\b\b\b\b\b\b\r4/4 [==============================] - 4s 1s/step - loss: 0.0347 - val_loss: 0.0675\n",
            "Epoch 51/1000\n",
            "4/4 [==============================] - 0s 15ms/step - loss: 0.0349 - val_loss: 0.0816\n",
            "Epoch 52/1000\n",
            "4/4 [==============================] - 0s 15ms/step - loss: 0.0352 - val_loss: 0.0694\n",
            "Epoch 53/1000\n",
            "1/4 [======>.......................] - ETA: 0s - loss: 0.0352INFO:tensorflow:Assets written to: models/model_lstm/assets\n"
          ]
        },
        {
          "output_type": "stream",
          "name": "stderr",
          "text": [
            "INFO:tensorflow:Assets written to: models/model_lstm/assets\n",
            "WARNING:absl:<keras.layers.recurrent.LSTMCell object at 0x7fef85314110> has the same name 'LSTMCell' as a built-in Keras object. Consider renaming <class 'keras.layers.recurrent.LSTMCell'> to avoid naming conflicts when loading with `tf.keras.models.load_model`. If renaming is not possible, pass the object in the `custom_objects` parameter of the load function.\n",
            "WARNING:absl:<keras.layers.recurrent.LSTMCell object at 0x7fef85345510> has the same name 'LSTMCell' as a built-in Keras object. Consider renaming <class 'keras.layers.recurrent.LSTMCell'> to avoid naming conflicts when loading with `tf.keras.models.load_model`. If renaming is not possible, pass the object in the `custom_objects` parameter of the load function.\n"
          ]
        },
        {
          "output_type": "stream",
          "name": "stdout",
          "text": [
            "\b\b\b\b\b\b\b\b\b\b\b\b\b\b\b\b\b\b\b\b\b\b\b\b\b\b\b\b\b\b\b\b\b\b\b\b\b\b\b\b\b\b\b\b\b\b\b\b\b\b\b\b\b\b\b\b\b\b\b\b\b\r4/4 [==============================] - 4s 1s/step - loss: 0.0341 - val_loss: 0.0672\n",
            "Epoch 54/1000\n",
            "4/4 [==============================] - 0s 19ms/step - loss: 0.0334 - val_loss: 0.0727\n",
            "Epoch 55/1000\n",
            "1/4 [======>.......................] - ETA: 0s - loss: 0.0351INFO:tensorflow:Assets written to: models/model_lstm/assets\n"
          ]
        },
        {
          "output_type": "stream",
          "name": "stderr",
          "text": [
            "INFO:tensorflow:Assets written to: models/model_lstm/assets\n",
            "WARNING:absl:<keras.layers.recurrent.LSTMCell object at 0x7fef85314110> has the same name 'LSTMCell' as a built-in Keras object. Consider renaming <class 'keras.layers.recurrent.LSTMCell'> to avoid naming conflicts when loading with `tf.keras.models.load_model`. If renaming is not possible, pass the object in the `custom_objects` parameter of the load function.\n",
            "WARNING:absl:<keras.layers.recurrent.LSTMCell object at 0x7fef85345510> has the same name 'LSTMCell' as a built-in Keras object. Consider renaming <class 'keras.layers.recurrent.LSTMCell'> to avoid naming conflicts when loading with `tf.keras.models.load_model`. If renaming is not possible, pass the object in the `custom_objects` parameter of the load function.\n"
          ]
        },
        {
          "output_type": "stream",
          "name": "stdout",
          "text": [
            "\b\b\b\b\b\b\b\b\b\b\b\b\b\b\b\b\b\b\b\b\b\b\b\b\b\b\b\b\b\b\b\b\b\b\b\b\b\b\b\b\b\b\b\b\b\b\b\b\b\b\b\b\b\b\b\b\b\b\b\b\b\r4/4 [==============================] - 5s 2s/step - loss: 0.0340 - val_loss: 0.0667\n",
            "Epoch 56/1000\n",
            "4/4 [==============================] - 0s 16ms/step - loss: 0.0337 - val_loss: 0.0834\n",
            "Epoch 57/1000\n",
            "1/4 [======>.......................] - ETA: 0s - loss: 0.0337INFO:tensorflow:Assets written to: models/model_lstm/assets\n"
          ]
        },
        {
          "output_type": "stream",
          "name": "stderr",
          "text": [
            "INFO:tensorflow:Assets written to: models/model_lstm/assets\n",
            "WARNING:absl:<keras.layers.recurrent.LSTMCell object at 0x7fef85314110> has the same name 'LSTMCell' as a built-in Keras object. Consider renaming <class 'keras.layers.recurrent.LSTMCell'> to avoid naming conflicts when loading with `tf.keras.models.load_model`. If renaming is not possible, pass the object in the `custom_objects` parameter of the load function.\n",
            "WARNING:absl:<keras.layers.recurrent.LSTMCell object at 0x7fef85345510> has the same name 'LSTMCell' as a built-in Keras object. Consider renaming <class 'keras.layers.recurrent.LSTMCell'> to avoid naming conflicts when loading with `tf.keras.models.load_model`. If renaming is not possible, pass the object in the `custom_objects` parameter of the load function.\n"
          ]
        },
        {
          "output_type": "stream",
          "name": "stdout",
          "text": [
            "\b\b\b\b\b\b\b\b\b\b\b\b\b\b\b\b\b\b\b\b\b\b\b\b\b\b\b\b\b\b\b\b\b\b\b\b\b\b\b\b\b\b\b\b\b\b\b\b\b\b\b\b\b\b\b\b\b\b\b\b\b\r4/4 [==============================] - 4s 1s/step - loss: 0.0343 - val_loss: 0.0662\n",
            "Epoch 58/1000\n",
            "4/4 [==============================] - 0s 15ms/step - loss: 0.0334 - val_loss: 0.0668\n",
            "Epoch 59/1000\n",
            "4/4 [==============================] - 0s 15ms/step - loss: 0.0329 - val_loss: 0.0684\n",
            "Epoch 60/1000\n",
            "4/4 [==============================] - 0s 18ms/step - loss: 0.0329 - val_loss: 0.0782\n",
            "Epoch 61/1000\n",
            "4/4 [==============================] - 0s 14ms/step - loss: 0.0364 - val_loss: 0.0933\n",
            "Epoch 62/1000\n",
            "4/4 [==============================] - 0s 15ms/step - loss: 0.0334 - val_loss: 0.0672\n",
            "Epoch 63/1000\n",
            "4/4 [==============================] - 0s 15ms/step - loss: 0.0326 - val_loss: 0.0687\n",
            "Epoch 64/1000\n",
            "4/4 [==============================] - 0s 15ms/step - loss: 0.0326 - val_loss: 0.0695\n",
            "Epoch 65/1000\n",
            "1/4 [======>.......................] - ETA: 0s - loss: 0.0345INFO:tensorflow:Assets written to: models/model_lstm/assets\n"
          ]
        },
        {
          "output_type": "stream",
          "name": "stderr",
          "text": [
            "INFO:tensorflow:Assets written to: models/model_lstm/assets\n",
            "WARNING:absl:<keras.layers.recurrent.LSTMCell object at 0x7fef85314110> has the same name 'LSTMCell' as a built-in Keras object. Consider renaming <class 'keras.layers.recurrent.LSTMCell'> to avoid naming conflicts when loading with `tf.keras.models.load_model`. If renaming is not possible, pass the object in the `custom_objects` parameter of the load function.\n",
            "WARNING:absl:<keras.layers.recurrent.LSTMCell object at 0x7fef85345510> has the same name 'LSTMCell' as a built-in Keras object. Consider renaming <class 'keras.layers.recurrent.LSTMCell'> to avoid naming conflicts when loading with `tf.keras.models.load_model`. If renaming is not possible, pass the object in the `custom_objects` parameter of the load function.\n"
          ]
        },
        {
          "output_type": "stream",
          "name": "stdout",
          "text": [
            "\b\b\b\b\b\b\b\b\b\b\b\b\b\b\b\b\b\b\b\b\b\b\b\b\b\b\b\b\b\b\b\b\b\b\b\b\b\b\b\b\b\b\b\b\b\b\b\b\b\b\b\b\b\b\b\b\b\b\b\b\b\r4/4 [==============================] - 5s 2s/step - loss: 0.0328 - val_loss: 0.0648\n",
            "Epoch 66/1000\n",
            "1/4 [======>.......................] - ETA: 0s - loss: 0.0300INFO:tensorflow:Assets written to: models/model_lstm/assets\n"
          ]
        },
        {
          "output_type": "stream",
          "name": "stderr",
          "text": [
            "INFO:tensorflow:Assets written to: models/model_lstm/assets\n",
            "WARNING:absl:<keras.layers.recurrent.LSTMCell object at 0x7fef85314110> has the same name 'LSTMCell' as a built-in Keras object. Consider renaming <class 'keras.layers.recurrent.LSTMCell'> to avoid naming conflicts when loading with `tf.keras.models.load_model`. If renaming is not possible, pass the object in the `custom_objects` parameter of the load function.\n",
            "WARNING:absl:<keras.layers.recurrent.LSTMCell object at 0x7fef85345510> has the same name 'LSTMCell' as a built-in Keras object. Consider renaming <class 'keras.layers.recurrent.LSTMCell'> to avoid naming conflicts when loading with `tf.keras.models.load_model`. If renaming is not possible, pass the object in the `custom_objects` parameter of the load function.\n"
          ]
        },
        {
          "output_type": "stream",
          "name": "stdout",
          "text": [
            "\b\b\b\b\b\b\b\b\b\b\b\b\b\b\b\b\b\b\b\b\b\b\b\b\b\b\b\b\b\b\b\b\b\b\b\b\b\b\b\b\b\b\b\b\b\b\b\b\b\b\b\b\b\b\b\b\b\b\b\b\b\r4/4 [==============================] - 4s 1s/step - loss: 0.0328 - val_loss: 0.0646\n",
            "Epoch 67/1000\n",
            "4/4 [==============================] - 0s 16ms/step - loss: 0.0321 - val_loss: 0.0675\n",
            "Epoch 68/1000\n",
            "4/4 [==============================] - 0s 15ms/step - loss: 0.0326 - val_loss: 0.0745\n",
            "Epoch 69/1000\n",
            "4/4 [==============================] - 0s 15ms/step - loss: 0.0350 - val_loss: 0.0661\n",
            "Epoch 70/1000\n",
            "4/4 [==============================] - 0s 15ms/step - loss: 0.0351 - val_loss: 0.0841\n",
            "Epoch 71/1000\n",
            "4/4 [==============================] - 0s 15ms/step - loss: 0.0339 - val_loss: 0.0994\n",
            "Epoch 72/1000\n",
            "4/4 [==============================] - 0s 15ms/step - loss: 0.0417 - val_loss: 0.0698\n",
            "Epoch 73/1000\n",
            "4/4 [==============================] - 0s 16ms/step - loss: 0.0324 - val_loss: 0.0822\n",
            "Epoch 74/1000\n",
            "4/4 [==============================] - 0s 15ms/step - loss: 0.0346 - val_loss: 0.0885\n",
            "Epoch 75/1000\n",
            "4/4 [==============================] - 0s 14ms/step - loss: 0.0386 - val_loss: 0.0772\n",
            "Epoch 76/1000\n",
            "4/4 [==============================] - 0s 14ms/step - loss: 0.0349 - val_loss: 0.0778\n",
            "Epoch 77/1000\n",
            "4/4 [==============================] - 0s 14ms/step - loss: 0.0353 - val_loss: 0.0703\n",
            "Epoch 78/1000\n",
            "4/4 [==============================] - 0s 22ms/step - loss: 0.0339 - val_loss: 0.0663\n",
            "Epoch 79/1000\n",
            "4/4 [==============================] - 0s 16ms/step - loss: 0.0324 - val_loss: 0.0778\n",
            "Epoch 80/1000\n",
            "4/4 [==============================] - 0s 17ms/step - loss: 0.0321 - val_loss: 0.0739\n",
            "Epoch 81/1000\n",
            "1/4 [======>.......................] - ETA: 0s - loss: 0.0338INFO:tensorflow:Assets written to: models/model_lstm/assets\n"
          ]
        },
        {
          "output_type": "stream",
          "name": "stderr",
          "text": [
            "INFO:tensorflow:Assets written to: models/model_lstm/assets\n",
            "WARNING:absl:<keras.layers.recurrent.LSTMCell object at 0x7fef85314110> has the same name 'LSTMCell' as a built-in Keras object. Consider renaming <class 'keras.layers.recurrent.LSTMCell'> to avoid naming conflicts when loading with `tf.keras.models.load_model`. If renaming is not possible, pass the object in the `custom_objects` parameter of the load function.\n",
            "WARNING:absl:<keras.layers.recurrent.LSTMCell object at 0x7fef85345510> has the same name 'LSTMCell' as a built-in Keras object. Consider renaming <class 'keras.layers.recurrent.LSTMCell'> to avoid naming conflicts when loading with `tf.keras.models.load_model`. If renaming is not possible, pass the object in the `custom_objects` parameter of the load function.\n"
          ]
        },
        {
          "output_type": "stream",
          "name": "stdout",
          "text": [
            "\b\b\b\b\b\b\b\b\b\b\b\b\b\b\b\b\b\b\b\b\b\b\b\b\b\b\b\b\b\b\b\b\b\b\b\b\b\b\b\b\b\b\b\b\b\b\b\b\b\b\b\b\b\b\b\b\b\b\b\b\b\r4/4 [==============================] - 4s 1s/step - loss: 0.0325 - val_loss: 0.0644\n",
            "Epoch 82/1000\n",
            "4/4 [==============================] - 0s 19ms/step - loss: 0.0313 - val_loss: 0.0730\n",
            "Epoch 83/1000\n",
            "4/4 [==============================] - 0s 17ms/step - loss: 0.0323 - val_loss: 0.0739\n",
            "Epoch 84/1000\n",
            "4/4 [==============================] - 0s 15ms/step - loss: 0.0330 - val_loss: 0.0816\n",
            "Epoch 85/1000\n",
            "4/4 [==============================] - 0s 16ms/step - loss: 0.0316 - val_loss: 0.0706\n",
            "Epoch 86/1000\n",
            "4/4 [==============================] - 0s 14ms/step - loss: 0.0335 - val_loss: 0.0727\n",
            "Epoch 87/1000\n",
            "4/4 [==============================] - 0s 16ms/step - loss: 0.0377 - val_loss: 0.0981\n",
            "Epoch 88/1000\n",
            "4/4 [==============================] - 0s 14ms/step - loss: 0.0344 - val_loss: 0.0953\n",
            "Epoch 89/1000\n",
            "4/4 [==============================] - 0s 15ms/step - loss: 0.0357 - val_loss: 0.0723\n",
            "Epoch 90/1000\n",
            "4/4 [==============================] - 0s 18ms/step - loss: 0.0352 - val_loss: 0.1059\n",
            "Epoch 91/1000\n",
            "4/4 [==============================] - 0s 15ms/step - loss: 0.0353 - val_loss: 0.0812\n",
            "Epoch 92/1000\n",
            "4/4 [==============================] - 0s 16ms/step - loss: 0.0355 - val_loss: 0.0796\n",
            "Epoch 93/1000\n",
            "4/4 [==============================] - 0s 20ms/step - loss: 0.0344 - val_loss: 0.0788\n",
            "Epoch 94/1000\n",
            "1/4 [======>.......................] - ETA: 0s - loss: 0.0375INFO:tensorflow:Assets written to: models/model_lstm/assets\n"
          ]
        },
        {
          "output_type": "stream",
          "name": "stderr",
          "text": [
            "INFO:tensorflow:Assets written to: models/model_lstm/assets\n",
            "WARNING:absl:<keras.layers.recurrent.LSTMCell object at 0x7fef85314110> has the same name 'LSTMCell' as a built-in Keras object. Consider renaming <class 'keras.layers.recurrent.LSTMCell'> to avoid naming conflicts when loading with `tf.keras.models.load_model`. If renaming is not possible, pass the object in the `custom_objects` parameter of the load function.\n",
            "WARNING:absl:<keras.layers.recurrent.LSTMCell object at 0x7fef85345510> has the same name 'LSTMCell' as a built-in Keras object. Consider renaming <class 'keras.layers.recurrent.LSTMCell'> to avoid naming conflicts when loading with `tf.keras.models.load_model`. If renaming is not possible, pass the object in the `custom_objects` parameter of the load function.\n"
          ]
        },
        {
          "output_type": "stream",
          "name": "stdout",
          "text": [
            "\b\b\b\b\b\b\b\b\b\b\b\b\b\b\b\b\b\b\b\b\b\b\b\b\b\b\b\b\b\b\b\b\b\b\b\b\b\b\b\b\b\b\b\b\b\b\b\b\b\b\b\b\b\b\b\b\b\b\b\b\b\r4/4 [==============================] - 4s 1s/step - loss: 0.0348 - val_loss: 0.0641\n",
            "Epoch 95/1000\n",
            "4/4 [==============================] - 0s 14ms/step - loss: 0.0330 - val_loss: 0.0744\n",
            "Epoch 96/1000\n",
            "1/4 [======>.......................] - ETA: 0s - loss: 0.0356INFO:tensorflow:Assets written to: models/model_lstm/assets\n"
          ]
        },
        {
          "output_type": "stream",
          "name": "stderr",
          "text": [
            "INFO:tensorflow:Assets written to: models/model_lstm/assets\n",
            "WARNING:absl:<keras.layers.recurrent.LSTMCell object at 0x7fef85314110> has the same name 'LSTMCell' as a built-in Keras object. Consider renaming <class 'keras.layers.recurrent.LSTMCell'> to avoid naming conflicts when loading with `tf.keras.models.load_model`. If renaming is not possible, pass the object in the `custom_objects` parameter of the load function.\n",
            "WARNING:absl:<keras.layers.recurrent.LSTMCell object at 0x7fef85345510> has the same name 'LSTMCell' as a built-in Keras object. Consider renaming <class 'keras.layers.recurrent.LSTMCell'> to avoid naming conflicts when loading with `tf.keras.models.load_model`. If renaming is not possible, pass the object in the `custom_objects` parameter of the load function.\n"
          ]
        },
        {
          "output_type": "stream",
          "name": "stdout",
          "text": [
            "\b\b\b\b\b\b\b\b\b\b\b\b\b\b\b\b\b\b\b\b\b\b\b\b\b\b\b\b\b\b\b\b\b\b\b\b\b\b\b\b\b\b\b\b\b\b\b\b\b\b\b\b\b\b\b\b\b\b\b\b\b\r4/4 [==============================] - 4s 1s/step - loss: 0.0333 - val_loss: 0.0640\n",
            "Epoch 97/1000\n",
            "4/4 [==============================] - 0s 23ms/step - loss: 0.0333 - val_loss: 0.0699\n",
            "Epoch 98/1000\n",
            "4/4 [==============================] - 0s 15ms/step - loss: 0.0350 - val_loss: 0.0739\n",
            "Epoch 99/1000\n",
            "4/4 [==============================] - 0s 14ms/step - loss: 0.0351 - val_loss: 0.0814\n",
            "Epoch 100/1000\n",
            "4/4 [==============================] - 0s 14ms/step - loss: 0.0352 - val_loss: 0.0667\n",
            "Epoch 101/1000\n",
            "4/4 [==============================] - 0s 14ms/step - loss: 0.0324 - val_loss: 0.0652\n",
            "Epoch 102/1000\n",
            "4/4 [==============================] - 0s 18ms/step - loss: 0.0319 - val_loss: 0.0714\n",
            "Epoch 103/1000\n",
            "4/4 [==============================] - 0s 14ms/step - loss: 0.0314 - val_loss: 0.0700\n",
            "Epoch 104/1000\n",
            "4/4 [==============================] - 0s 15ms/step - loss: 0.0347 - val_loss: 0.0658\n",
            "Epoch 105/1000\n",
            "4/4 [==============================] - 0s 15ms/step - loss: 0.0310 - val_loss: 0.0777\n",
            "Epoch 106/1000\n",
            "4/4 [==============================] - 0s 15ms/step - loss: 0.0327 - val_loss: 0.0773\n",
            "Epoch 107/1000\n",
            "4/4 [==============================] - 0s 16ms/step - loss: 0.0339 - val_loss: 0.0664\n",
            "Epoch 108/1000\n",
            "4/4 [==============================] - 0s 16ms/step - loss: 0.0342 - val_loss: 0.0932\n",
            "Epoch 109/1000\n",
            "4/4 [==============================] - 0s 14ms/step - loss: 0.0338 - val_loss: 0.0676\n",
            "Epoch 110/1000\n",
            "1/4 [======>.......................] - ETA: 0s - loss: 0.0343INFO:tensorflow:Assets written to: models/model_lstm/assets\n"
          ]
        },
        {
          "output_type": "stream",
          "name": "stderr",
          "text": [
            "INFO:tensorflow:Assets written to: models/model_lstm/assets\n",
            "WARNING:absl:<keras.layers.recurrent.LSTMCell object at 0x7fef85314110> has the same name 'LSTMCell' as a built-in Keras object. Consider renaming <class 'keras.layers.recurrent.LSTMCell'> to avoid naming conflicts when loading with `tf.keras.models.load_model`. If renaming is not possible, pass the object in the `custom_objects` parameter of the load function.\n",
            "WARNING:absl:<keras.layers.recurrent.LSTMCell object at 0x7fef85345510> has the same name 'LSTMCell' as a built-in Keras object. Consider renaming <class 'keras.layers.recurrent.LSTMCell'> to avoid naming conflicts when loading with `tf.keras.models.load_model`. If renaming is not possible, pass the object in the `custom_objects` parameter of the load function.\n"
          ]
        },
        {
          "output_type": "stream",
          "name": "stdout",
          "text": [
            "\b\b\b\b\b\b\b\b\b\b\b\b\b\b\b\b\b\b\b\b\b\b\b\b\b\b\b\b\b\b\b\b\b\b\b\b\b\b\b\b\b\b\b\b\b\b\b\b\b\b\b\b\b\b\b\b\b\b\b\b\b\r4/4 [==============================] - 5s 2s/step - loss: 0.0310 - val_loss: 0.0630\n",
            "Epoch 111/1000\n",
            "4/4 [==============================] - 0s 14ms/step - loss: 0.0306 - val_loss: 0.0655\n",
            "Epoch 112/1000\n",
            "4/4 [==============================] - 0s 16ms/step - loss: 0.0296 - val_loss: 0.0711\n",
            "Epoch 113/1000\n",
            "4/4 [==============================] - 0s 15ms/step - loss: 0.0313 - val_loss: 0.0638\n",
            "Epoch 114/1000\n",
            "4/4 [==============================] - 0s 15ms/step - loss: 0.0296 - val_loss: 0.0659\n",
            "Epoch 115/1000\n",
            "4/4 [==============================] - 0s 14ms/step - loss: 0.0292 - val_loss: 0.0634\n",
            "Epoch 116/1000\n",
            "4/4 [==============================] - 0s 14ms/step - loss: 0.0291 - val_loss: 0.0653\n",
            "Epoch 117/1000\n",
            "4/4 [==============================] - 0s 15ms/step - loss: 0.0305 - val_loss: 0.0637\n",
            "Epoch 118/1000\n",
            "4/4 [==============================] - 0s 16ms/step - loss: 0.0308 - val_loss: 0.0714\n",
            "Epoch 119/1000\n",
            "4/4 [==============================] - 0s 15ms/step - loss: 0.0323 - val_loss: 0.0676\n",
            "Epoch 120/1000\n",
            "4/4 [==============================] - 0s 14ms/step - loss: 0.0309 - val_loss: 0.0705\n",
            "Epoch 121/1000\n",
            "4/4 [==============================] - 0s 16ms/step - loss: 0.0327 - val_loss: 0.0701\n",
            "Epoch 122/1000\n",
            "4/4 [==============================] - 0s 15ms/step - loss: 0.0306 - val_loss: 0.0688\n",
            "Epoch 123/1000\n",
            "1/4 [======>.......................] - ETA: 0s - loss: 0.0286INFO:tensorflow:Assets written to: models/model_lstm/assets\n"
          ]
        },
        {
          "output_type": "stream",
          "name": "stderr",
          "text": [
            "INFO:tensorflow:Assets written to: models/model_lstm/assets\n",
            "WARNING:absl:<keras.layers.recurrent.LSTMCell object at 0x7fef85314110> has the same name 'LSTMCell' as a built-in Keras object. Consider renaming <class 'keras.layers.recurrent.LSTMCell'> to avoid naming conflicts when loading with `tf.keras.models.load_model`. If renaming is not possible, pass the object in the `custom_objects` parameter of the load function.\n",
            "WARNING:absl:<keras.layers.recurrent.LSTMCell object at 0x7fef85345510> has the same name 'LSTMCell' as a built-in Keras object. Consider renaming <class 'keras.layers.recurrent.LSTMCell'> to avoid naming conflicts when loading with `tf.keras.models.load_model`. If renaming is not possible, pass the object in the `custom_objects` parameter of the load function.\n"
          ]
        },
        {
          "output_type": "stream",
          "name": "stdout",
          "text": [
            "\b\b\b\b\b\b\b\b\b\b\b\b\b\b\b\b\b\b\b\b\b\b\b\b\b\b\b\b\b\b\b\b\b\b\b\b\b\b\b\b\b\b\b\b\b\b\b\b\b\b\b\b\b\b\b\b\b\b\b\b\b\r4/4 [==============================] - 4s 1s/step - loss: 0.0309 - val_loss: 0.0625\n",
            "Epoch 124/1000\n",
            "4/4 [==============================] - 0s 17ms/step - loss: 0.0294 - val_loss: 0.0683\n",
            "Epoch 125/1000\n",
            "4/4 [==============================] - 0s 17ms/step - loss: 0.0295 - val_loss: 0.0661\n",
            "Epoch 126/1000\n",
            "4/4 [==============================] - 0s 17ms/step - loss: 0.0311 - val_loss: 0.0691\n",
            "Epoch 127/1000\n",
            "4/4 [==============================] - 0s 15ms/step - loss: 0.0322 - val_loss: 0.0728\n",
            "Epoch 128/1000\n",
            "4/4 [==============================] - 0s 14ms/step - loss: 0.0318 - val_loss: 0.0651\n",
            "Epoch 129/1000\n",
            "4/4 [==============================] - 0s 16ms/step - loss: 0.0309 - val_loss: 0.0643\n",
            "Epoch 130/1000\n",
            "4/4 [==============================] - 0s 15ms/step - loss: 0.0305 - val_loss: 0.0637\n",
            "Epoch 131/1000\n",
            "4/4 [==============================] - 0s 14ms/step - loss: 0.0316 - val_loss: 0.0699\n",
            "Epoch 132/1000\n",
            "4/4 [==============================] - 0s 15ms/step - loss: 0.0331 - val_loss: 0.0631\n",
            "Epoch 133/1000\n",
            "4/4 [==============================] - 0s 14ms/step - loss: 0.0310 - val_loss: 0.0718\n",
            "Epoch 134/1000\n",
            "4/4 [==============================] - 0s 15ms/step - loss: 0.0300 - val_loss: 0.0650\n",
            "Epoch 135/1000\n",
            "4/4 [==============================] - 0s 16ms/step - loss: 0.0288 - val_loss: 0.0656\n",
            "Epoch 136/1000\n",
            "4/4 [==============================] - 0s 20ms/step - loss: 0.0288 - val_loss: 0.0638\n",
            "Epoch 137/1000\n",
            "1/4 [======>.......................] - ETA: 0s - loss: 0.0274INFO:tensorflow:Assets written to: models/model_lstm/assets\n"
          ]
        },
        {
          "output_type": "stream",
          "name": "stderr",
          "text": [
            "INFO:tensorflow:Assets written to: models/model_lstm/assets\n",
            "WARNING:absl:<keras.layers.recurrent.LSTMCell object at 0x7fef85314110> has the same name 'LSTMCell' as a built-in Keras object. Consider renaming <class 'keras.layers.recurrent.LSTMCell'> to avoid naming conflicts when loading with `tf.keras.models.load_model`. If renaming is not possible, pass the object in the `custom_objects` parameter of the load function.\n",
            "WARNING:absl:<keras.layers.recurrent.LSTMCell object at 0x7fef85345510> has the same name 'LSTMCell' as a built-in Keras object. Consider renaming <class 'keras.layers.recurrent.LSTMCell'> to avoid naming conflicts when loading with `tf.keras.models.load_model`. If renaming is not possible, pass the object in the `custom_objects` parameter of the load function.\n"
          ]
        },
        {
          "output_type": "stream",
          "name": "stdout",
          "text": [
            "\b\b\b\b\b\b\b\b\b\b\b\b\b\b\b\b\b\b\b\b\b\b\b\b\b\b\b\b\b\b\b\b\b\b\b\b\b\b\b\b\b\b\b\b\b\b\b\b\b\b\b\b\b\b\b\b\b\b\b\b\b\r4/4 [==============================] - 4s 1s/step - loss: 0.0288 - val_loss: 0.0624\n",
            "Epoch 138/1000\n",
            "1/4 [======>.......................] - ETA: 0s - loss: 0.0303INFO:tensorflow:Assets written to: models/model_lstm/assets\n"
          ]
        },
        {
          "output_type": "stream",
          "name": "stderr",
          "text": [
            "INFO:tensorflow:Assets written to: models/model_lstm/assets\n",
            "WARNING:absl:<keras.layers.recurrent.LSTMCell object at 0x7fef85314110> has the same name 'LSTMCell' as a built-in Keras object. Consider renaming <class 'keras.layers.recurrent.LSTMCell'> to avoid naming conflicts when loading with `tf.keras.models.load_model`. If renaming is not possible, pass the object in the `custom_objects` parameter of the load function.\n",
            "WARNING:absl:<keras.layers.recurrent.LSTMCell object at 0x7fef85345510> has the same name 'LSTMCell' as a built-in Keras object. Consider renaming <class 'keras.layers.recurrent.LSTMCell'> to avoid naming conflicts when loading with `tf.keras.models.load_model`. If renaming is not possible, pass the object in the `custom_objects` parameter of the load function.\n"
          ]
        },
        {
          "output_type": "stream",
          "name": "stdout",
          "text": [
            "\b\b\b\b\b\b\b\b\b\b\b\b\b\b\b\b\b\b\b\b\b\b\b\b\b\b\b\b\b\b\b\b\b\b\b\b\b\b\b\b\b\b\b\b\b\b\b\b\b\b\b\b\b\b\b\b\b\b\b\b\b\r4/4 [==============================] - 4s 1s/step - loss: 0.0302 - val_loss: 0.0623\n",
            "Epoch 139/1000\n",
            "4/4 [==============================] - 0s 15ms/step - loss: 0.0288 - val_loss: 0.0632\n",
            "Epoch 140/1000\n",
            "4/4 [==============================] - 0s 15ms/step - loss: 0.0301 - val_loss: 0.0632\n",
            "Epoch 141/1000\n",
            "4/4 [==============================] - 0s 16ms/step - loss: 0.0301 - val_loss: 0.0630\n",
            "Epoch 142/1000\n",
            "4/4 [==============================] - 0s 15ms/step - loss: 0.0290 - val_loss: 0.0629\n",
            "Epoch 143/1000\n",
            "4/4 [==============================] - 0s 14ms/step - loss: 0.0302 - val_loss: 0.0645\n",
            "Epoch 144/1000\n",
            "4/4 [==============================] - 0s 15ms/step - loss: 0.0304 - val_loss: 0.0741\n",
            "Epoch 145/1000\n",
            "4/4 [==============================] - 0s 15ms/step - loss: 0.0297 - val_loss: 0.0730\n",
            "Epoch 146/1000\n",
            "4/4 [==============================] - 0s 16ms/step - loss: 0.0305 - val_loss: 0.0647\n",
            "Epoch 147/1000\n",
            "4/4 [==============================] - 0s 16ms/step - loss: 0.0287 - val_loss: 0.0628\n",
            "Epoch 148/1000\n",
            "4/4 [==============================] - 0s 16ms/step - loss: 0.0296 - val_loss: 0.0716\n",
            "Epoch 149/1000\n",
            "4/4 [==============================] - 0s 18ms/step - loss: 0.0302 - val_loss: 0.0762\n",
            "Epoch 150/1000\n",
            "4/4 [==============================] - 0s 18ms/step - loss: 0.0324 - val_loss: 0.0629\n",
            "Epoch 151/1000\n",
            "4/4 [==============================] - 0s 15ms/step - loss: 0.0298 - val_loss: 0.0772\n",
            "Epoch 152/1000\n",
            "4/4 [==============================] - 0s 15ms/step - loss: 0.0304 - val_loss: 0.0664\n",
            "Epoch 153/1000\n",
            "1/4 [======>.......................] - ETA: 0s - loss: 0.0334INFO:tensorflow:Assets written to: models/model_lstm/assets\n"
          ]
        },
        {
          "output_type": "stream",
          "name": "stderr",
          "text": [
            "INFO:tensorflow:Assets written to: models/model_lstm/assets\n",
            "WARNING:absl:<keras.layers.recurrent.LSTMCell object at 0x7fef85314110> has the same name 'LSTMCell' as a built-in Keras object. Consider renaming <class 'keras.layers.recurrent.LSTMCell'> to avoid naming conflicts when loading with `tf.keras.models.load_model`. If renaming is not possible, pass the object in the `custom_objects` parameter of the load function.\n",
            "WARNING:absl:<keras.layers.recurrent.LSTMCell object at 0x7fef85345510> has the same name 'LSTMCell' as a built-in Keras object. Consider renaming <class 'keras.layers.recurrent.LSTMCell'> to avoid naming conflicts when loading with `tf.keras.models.load_model`. If renaming is not possible, pass the object in the `custom_objects` parameter of the load function.\n"
          ]
        },
        {
          "output_type": "stream",
          "name": "stdout",
          "text": [
            "\b\b\b\b\b\b\b\b\b\b\b\b\b\b\b\b\b\b\b\b\b\b\b\b\b\b\b\b\b\b\b\b\b\b\b\b\b\b\b\b\b\b\b\b\b\b\b\b\b\b\b\b\b\b\b\b\b\b\b\b\b\r4/4 [==============================] - 5s 2s/step - loss: 0.0313 - val_loss: 0.0622\n",
            "Epoch 154/1000\n",
            "4/4 [==============================] - 0s 16ms/step - loss: 0.0325 - val_loss: 0.0837\n",
            "Epoch 155/1000\n",
            "4/4 [==============================] - 0s 14ms/step - loss: 0.0314 - val_loss: 0.0797\n",
            "Epoch 156/1000\n",
            "4/4 [==============================] - 0s 14ms/step - loss: 0.0358 - val_loss: 0.0634\n",
            "Epoch 157/1000\n",
            "4/4 [==============================] - 0s 17ms/step - loss: 0.0316 - val_loss: 0.0908\n",
            "Epoch 158/1000\n",
            "4/4 [==============================] - 0s 23ms/step - loss: 0.0329 - val_loss: 0.0794\n",
            "Epoch 159/1000\n",
            "4/4 [==============================] - 0s 15ms/step - loss: 0.0331 - val_loss: 0.0625\n",
            "Epoch 160/1000\n",
            "4/4 [==============================] - 0s 14ms/step - loss: 0.0299 - val_loss: 0.0883\n",
            "Epoch 161/1000\n",
            "4/4 [==============================] - 0s 13ms/step - loss: 0.0322 - val_loss: 0.0649\n",
            "Epoch 162/1000\n",
            "4/4 [==============================] - 0s 14ms/step - loss: 0.0297 - val_loss: 0.0623\n",
            "Epoch 163/1000\n",
            "4/4 [==============================] - 0s 14ms/step - loss: 0.0300 - val_loss: 0.0631\n",
            "Epoch 164/1000\n",
            "4/4 [==============================] - 0s 14ms/step - loss: 0.0298 - val_loss: 0.0652\n",
            "Epoch 165/1000\n",
            "4/4 [==============================] - 0s 15ms/step - loss: 0.0298 - val_loss: 0.0640\n",
            "Epoch 166/1000\n",
            "4/4 [==============================] - 0s 15ms/step - loss: 0.0315 - val_loss: 0.0649\n",
            "Epoch 167/1000\n",
            "4/4 [==============================] - 0s 14ms/step - loss: 0.0330 - val_loss: 0.0661\n",
            "Epoch 168/1000\n",
            "4/4 [==============================] - 0s 14ms/step - loss: 0.0302 - val_loss: 0.0662\n",
            "Epoch 169/1000\n",
            "1/4 [======>.......................] - ETA: 0s - loss: 0.0270INFO:tensorflow:Assets written to: models/model_lstm/assets\n"
          ]
        },
        {
          "output_type": "stream",
          "name": "stderr",
          "text": [
            "INFO:tensorflow:Assets written to: models/model_lstm/assets\n",
            "WARNING:absl:<keras.layers.recurrent.LSTMCell object at 0x7fef85314110> has the same name 'LSTMCell' as a built-in Keras object. Consider renaming <class 'keras.layers.recurrent.LSTMCell'> to avoid naming conflicts when loading with `tf.keras.models.load_model`. If renaming is not possible, pass the object in the `custom_objects` parameter of the load function.\n",
            "WARNING:absl:<keras.layers.recurrent.LSTMCell object at 0x7fef85345510> has the same name 'LSTMCell' as a built-in Keras object. Consider renaming <class 'keras.layers.recurrent.LSTMCell'> to avoid naming conflicts when loading with `tf.keras.models.load_model`. If renaming is not possible, pass the object in the `custom_objects` parameter of the load function.\n"
          ]
        },
        {
          "output_type": "stream",
          "name": "stdout",
          "text": [
            "\b\b\b\b\b\b\b\b\b\b\b\b\b\b\b\b\b\b\b\b\b\b\b\b\b\b\b\b\b\b\b\b\b\b\b\b\b\b\b\b\b\b\b\b\b\b\b\b\b\b\b\b\b\b\b\b\b\b\b\b\b\r4/4 [==============================] - 4s 1s/step - loss: 0.0306 - val_loss: 0.0620\n",
            "Epoch 170/1000\n",
            "4/4 [==============================] - 0s 17ms/step - loss: 0.0306 - val_loss: 0.0623\n",
            "Epoch 171/1000\n",
            "1/4 [======>.......................] - ETA: 0s - loss: 0.0258INFO:tensorflow:Assets written to: models/model_lstm/assets\n"
          ]
        },
        {
          "output_type": "stream",
          "name": "stderr",
          "text": [
            "INFO:tensorflow:Assets written to: models/model_lstm/assets\n",
            "WARNING:absl:<keras.layers.recurrent.LSTMCell object at 0x7fef85314110> has the same name 'LSTMCell' as a built-in Keras object. Consider renaming <class 'keras.layers.recurrent.LSTMCell'> to avoid naming conflicts when loading with `tf.keras.models.load_model`. If renaming is not possible, pass the object in the `custom_objects` parameter of the load function.\n",
            "WARNING:absl:<keras.layers.recurrent.LSTMCell object at 0x7fef85345510> has the same name 'LSTMCell' as a built-in Keras object. Consider renaming <class 'keras.layers.recurrent.LSTMCell'> to avoid naming conflicts when loading with `tf.keras.models.load_model`. If renaming is not possible, pass the object in the `custom_objects` parameter of the load function.\n"
          ]
        },
        {
          "output_type": "stream",
          "name": "stdout",
          "text": [
            "\b\b\b\b\b\b\b\b\b\b\b\b\b\b\b\b\b\b\b\b\b\b\b\b\b\b\b\b\b\b\b\b\b\b\b\b\b\b\b\b\b\b\b\b\b\b\b\b\b\b\b\b\b\b\b\b\b\b\b\b\b\r4/4 [==============================] - 4s 1s/step - loss: 0.0295 - val_loss: 0.0618\n",
            "Epoch 172/1000\n",
            "4/4 [==============================] - 0s 15ms/step - loss: 0.0280 - val_loss: 0.0619\n",
            "Epoch 173/1000\n",
            "4/4 [==============================] - 0s 15ms/step - loss: 0.0283 - val_loss: 0.0630\n",
            "Epoch 174/1000\n",
            "4/4 [==============================] - 0s 14ms/step - loss: 0.0297 - val_loss: 0.0619\n",
            "Epoch 175/1000\n",
            "4/4 [==============================] - 0s 14ms/step - loss: 0.0293 - val_loss: 0.0651\n",
            "Epoch 176/1000\n",
            "4/4 [==============================] - 0s 14ms/step - loss: 0.0295 - val_loss: 0.0661\n",
            "Epoch 177/1000\n",
            "4/4 [==============================] - 0s 16ms/step - loss: 0.0293 - val_loss: 0.0638\n",
            "Epoch 178/1000\n",
            "4/4 [==============================] - 0s 14ms/step - loss: 0.0286 - val_loss: 0.0871\n",
            "Epoch 179/1000\n",
            "4/4 [==============================] - 0s 15ms/step - loss: 0.0340 - val_loss: 0.0670\n",
            "Epoch 180/1000\n",
            "4/4 [==============================] - 0s 15ms/step - loss: 0.0295 - val_loss: 0.0799\n",
            "Epoch 181/1000\n",
            "4/4 [==============================] - 0s 14ms/step - loss: 0.0315 - val_loss: 0.0647\n",
            "Epoch 182/1000\n",
            "4/4 [==============================] - 0s 14ms/step - loss: 0.0302 - val_loss: 0.0625\n",
            "Epoch 183/1000\n",
            "4/4 [==============================] - 0s 17ms/step - loss: 0.0312 - val_loss: 0.0625\n",
            "Epoch 184/1000\n",
            "4/4 [==============================] - 0s 15ms/step - loss: 0.0299 - val_loss: 0.0724\n",
            "Epoch 185/1000\n",
            "4/4 [==============================] - 0s 15ms/step - loss: 0.0351 - val_loss: 0.0622\n",
            "Epoch 186/1000\n",
            "4/4 [==============================] - 0s 14ms/step - loss: 0.0333 - val_loss: 0.0710\n",
            "Epoch 187/1000\n",
            "4/4 [==============================] - 0s 15ms/step - loss: 0.0328 - val_loss: 0.0621\n",
            "Epoch 188/1000\n",
            "4/4 [==============================] - 0s 18ms/step - loss: 0.0319 - val_loss: 0.0630\n",
            "Epoch 189/1000\n",
            "4/4 [==============================] - 0s 14ms/step - loss: 0.0292 - val_loss: 0.0679\n",
            "Epoch 190/1000\n",
            "4/4 [==============================] - 0s 15ms/step - loss: 0.0288 - val_loss: 0.0783\n",
            "Epoch 191/1000\n",
            "4/4 [==============================] - 0s 14ms/step - loss: 0.0336 - val_loss: 0.0638\n",
            "Epoch 192/1000\n",
            "4/4 [==============================] - 0s 15ms/step - loss: 0.0296 - val_loss: 0.0771\n",
            "Epoch 193/1000\n",
            "4/4 [==============================] - 0s 16ms/step - loss: 0.0306 - val_loss: 0.0777\n",
            "Epoch 194/1000\n",
            "4/4 [==============================] - 0s 14ms/step - loss: 0.0358 - val_loss: 0.0783\n",
            "Epoch 195/1000\n",
            "4/4 [==============================] - 0s 15ms/step - loss: 0.0302 - val_loss: 0.1139\n",
            "Epoch 196/1000\n",
            "4/4 [==============================] - 0s 18ms/step - loss: 0.0408 - val_loss: 0.0801\n",
            "Epoch 197/1000\n",
            "4/4 [==============================] - 0s 14ms/step - loss: 0.0305 - val_loss: 0.1213\n",
            "Epoch 198/1000\n",
            "4/4 [==============================] - 0s 14ms/step - loss: 0.0412 - val_loss: 0.0708\n",
            "Epoch 199/1000\n",
            "4/4 [==============================] - 0s 15ms/step - loss: 0.0305 - val_loss: 0.1078\n",
            "Epoch 200/1000\n",
            "1/4 [======>.......................] - ETA: 0s - loss: 0.0385INFO:tensorflow:Assets written to: models/model_lstm/assets\n"
          ]
        },
        {
          "output_type": "stream",
          "name": "stderr",
          "text": [
            "INFO:tensorflow:Assets written to: models/model_lstm/assets\n",
            "WARNING:absl:<keras.layers.recurrent.LSTMCell object at 0x7fef85314110> has the same name 'LSTMCell' as a built-in Keras object. Consider renaming <class 'keras.layers.recurrent.LSTMCell'> to avoid naming conflicts when loading with `tf.keras.models.load_model`. If renaming is not possible, pass the object in the `custom_objects` parameter of the load function.\n",
            "WARNING:absl:<keras.layers.recurrent.LSTMCell object at 0x7fef85345510> has the same name 'LSTMCell' as a built-in Keras object. Consider renaming <class 'keras.layers.recurrent.LSTMCell'> to avoid naming conflicts when loading with `tf.keras.models.load_model`. If renaming is not possible, pass the object in the `custom_objects` parameter of the load function.\n"
          ]
        },
        {
          "output_type": "stream",
          "name": "stdout",
          "text": [
            "\b\b\b\b\b\b\b\b\b\b\b\b\b\b\b\b\b\b\b\b\b\b\b\b\b\b\b\b\b\b\b\b\b\b\b\b\b\b\b\b\b\b\b\b\b\b\b\b\b\b\b\b\b\b\b\b\b\b\b\b\b\r4/4 [==============================] - 4s 1s/step - loss: 0.0343 - val_loss: 0.0616\n",
            "Epoch 201/1000\n",
            "4/4 [==============================] - 0s 17ms/step - loss: 0.0291 - val_loss: 0.0758\n",
            "Epoch 202/1000\n",
            "4/4 [==============================] - 0s 15ms/step - loss: 0.0306 - val_loss: 0.0659\n",
            "Epoch 203/1000\n",
            "4/4 [==============================] - 0s 15ms/step - loss: 0.0289 - val_loss: 0.0626\n",
            "Epoch 204/1000\n",
            "4/4 [==============================] - 0s 16ms/step - loss: 0.0282 - val_loss: 0.0647\n",
            "Epoch 205/1000\n",
            "4/4 [==============================] - 0s 18ms/step - loss: 0.0289 - val_loss: 0.0648\n",
            "Epoch 206/1000\n",
            "4/4 [==============================] - 0s 17ms/step - loss: 0.0293 - val_loss: 0.0728\n",
            "Epoch 207/1000\n",
            "4/4 [==============================] - 0s 16ms/step - loss: 0.0296 - val_loss: 0.0647\n",
            "Epoch 208/1000\n",
            "4/4 [==============================] - 0s 17ms/step - loss: 0.0299 - val_loss: 0.0688\n",
            "Epoch 209/1000\n",
            "4/4 [==============================] - 0s 16ms/step - loss: 0.0291 - val_loss: 0.0700\n",
            "Epoch 210/1000\n",
            "4/4 [==============================] - 0s 17ms/step - loss: 0.0318 - val_loss: 0.0650\n",
            "Epoch 211/1000\n",
            "4/4 [==============================] - 0s 16ms/step - loss: 0.0298 - val_loss: 0.0756\n",
            "Epoch 212/1000\n",
            "4/4 [==============================] - 0s 16ms/step - loss: 0.0307 - val_loss: 0.0632\n",
            "Epoch 213/1000\n",
            "4/4 [==============================] - 0s 16ms/step - loss: 0.0295 - val_loss: 0.0676\n",
            "Epoch 214/1000\n",
            "4/4 [==============================] - 0s 16ms/step - loss: 0.0289 - val_loss: 0.0719\n",
            "Epoch 215/1000\n",
            "4/4 [==============================] - 0s 14ms/step - loss: 0.0315 - val_loss: 0.0639\n",
            "Epoch 216/1000\n",
            "4/4 [==============================] - 0s 14ms/step - loss: 0.0292 - val_loss: 0.0853\n",
            "Epoch 217/1000\n",
            "4/4 [==============================] - 0s 18ms/step - loss: 0.0309 - val_loss: 0.0620\n",
            "Epoch 218/1000\n",
            "4/4 [==============================] - 0s 14ms/step - loss: 0.0304 - val_loss: 0.0618\n",
            "Epoch 219/1000\n",
            "4/4 [==============================] - 0s 16ms/step - loss: 0.0317 - val_loss: 0.0685\n",
            "Epoch 220/1000\n",
            "4/4 [==============================] - 0s 14ms/step - loss: 0.0326 - val_loss: 0.0702\n",
            "Epoch 221/1000\n",
            "4/4 [==============================] - 0s 14ms/step - loss: 0.0350 - val_loss: 0.0860\n",
            "Epoch 222/1000\n",
            "4/4 [==============================] - 0s 16ms/step - loss: 0.0331 - val_loss: 0.0669\n",
            "Epoch 223/1000\n",
            "4/4 [==============================] - 0s 15ms/step - loss: 0.0313 - val_loss: 0.0737\n",
            "Epoch 224/1000\n",
            "4/4 [==============================] - 0s 14ms/step - loss: 0.0303 - val_loss: 0.0620\n",
            "Epoch 225/1000\n",
            "4/4 [==============================] - 0s 14ms/step - loss: 0.0294 - val_loss: 0.0622\n",
            "Epoch 226/1000\n",
            "4/4 [==============================] - 0s 14ms/step - loss: 0.0307 - val_loss: 0.0796\n",
            "Epoch 227/1000\n",
            "4/4 [==============================] - 0s 14ms/step - loss: 0.0301 - val_loss: 0.0662\n",
            "Epoch 228/1000\n",
            "4/4 [==============================] - 0s 16ms/step - loss: 0.0296 - val_loss: 0.0632\n",
            "Epoch 229/1000\n",
            "4/4 [==============================] - 0s 14ms/step - loss: 0.0299 - val_loss: 0.0685\n",
            "Epoch 230/1000\n",
            "4/4 [==============================] - 0s 18ms/step - loss: 0.0293 - val_loss: 0.0640\n",
            "Epoch 231/1000\n",
            "4/4 [==============================] - 0s 14ms/step - loss: 0.0299 - val_loss: 0.0624\n",
            "Epoch 232/1000\n",
            "4/4 [==============================] - 0s 16ms/step - loss: 0.0324 - val_loss: 0.0725\n",
            "Epoch 233/1000\n",
            "4/4 [==============================] - 0s 15ms/step - loss: 0.0299 - val_loss: 0.0775\n",
            "Epoch 234/1000\n",
            "4/4 [==============================] - 0s 15ms/step - loss: 0.0290 - val_loss: 0.0664\n",
            "Epoch 235/1000\n",
            "4/4 [==============================] - 0s 15ms/step - loss: 0.0305 - val_loss: 0.0662\n",
            "Epoch 236/1000\n",
            "4/4 [==============================] - 0s 14ms/step - loss: 0.0290 - val_loss: 0.0653\n",
            "Epoch 237/1000\n",
            "4/4 [==============================] - 0s 15ms/step - loss: 0.0290 - val_loss: 0.0637\n",
            "Epoch 238/1000\n",
            "4/4 [==============================] - 0s 16ms/step - loss: 0.0292 - val_loss: 0.0627\n",
            "Epoch 239/1000\n",
            "4/4 [==============================] - 0s 15ms/step - loss: 0.0284 - val_loss: 0.0666\n",
            "Epoch 240/1000\n",
            "4/4 [==============================] - 0s 20ms/step - loss: 0.0293 - val_loss: 0.0645\n"
          ]
        },
        {
          "output_type": "execute_result",
          "data": {
            "text/plain": [
              "<keras.callbacks.History at 0x7fef821b3850>"
            ]
          },
          "metadata": {},
          "execution_count": 35
        }
      ]
    },
    {
      "cell_type": "code",
      "source": [
        "model_3 = tf.keras.models.load_model(\"models/model_lstm\")\n",
        "model_3.evaluate(test_windows, test_labels)"
      ],
      "metadata": {
        "colab": {
          "base_uri": "https://localhost:8080/"
        },
        "id": "nvQwx96siCsj",
        "outputId": "00428f26-0598-4e1a-b100-97f30c23b742"
      },
      "execution_count": 36,
      "outputs": [
        {
          "output_type": "stream",
          "name": "stdout",
          "text": [
            "WARNING:tensorflow:Layer lstm will not use cuDNN kernels since it doesn't meet the criteria. It will use a generic GPU kernel as fallback when running on GPU.\n"
          ]
        },
        {
          "output_type": "stream",
          "name": "stderr",
          "text": [
            "WARNING:tensorflow:Layer lstm will not use cuDNN kernels since it doesn't meet the criteria. It will use a generic GPU kernel as fallback when running on GPU.\n"
          ]
        },
        {
          "output_type": "stream",
          "name": "stdout",
          "text": [
            "WARNING:tensorflow:Layer lstm will not use cuDNN kernels since it doesn't meet the criteria. It will use a generic GPU kernel as fallback when running on GPU.\n"
          ]
        },
        {
          "output_type": "stream",
          "name": "stderr",
          "text": [
            "WARNING:tensorflow:Layer lstm will not use cuDNN kernels since it doesn't meet the criteria. It will use a generic GPU kernel as fallback when running on GPU.\n"
          ]
        },
        {
          "output_type": "stream",
          "name": "stdout",
          "text": [
            "WARNING:tensorflow:Layer lstm will not use cuDNN kernels since it doesn't meet the criteria. It will use a generic GPU kernel as fallback when running on GPU.\n"
          ]
        },
        {
          "output_type": "stream",
          "name": "stderr",
          "text": [
            "WARNING:tensorflow:Layer lstm will not use cuDNN kernels since it doesn't meet the criteria. It will use a generic GPU kernel as fallback when running on GPU.\n"
          ]
        },
        {
          "output_type": "stream",
          "name": "stdout",
          "text": [
            "11/11 [==============================] - 0s 3ms/step - loss: 7211.0547\n"
          ]
        },
        {
          "output_type": "execute_result",
          "data": {
            "text/plain": [
              "7211.0546875"
            ]
          },
          "metadata": {},
          "execution_count": 36
        }
      ]
    },
    {
      "cell_type": "code",
      "source": [
        "# Make predictions with our LSTM model\n",
        "model_3_preds = make_prediction(model_3, test_windows)\n"
      ],
      "metadata": {
        "id": "CNuHf3VEiDfC"
      },
      "execution_count": 37,
      "outputs": []
    },
    {
      "cell_type": "code",
      "source": [
        "offset=len(test_windows)-100\n",
        "plt.figure(figsize=(10,7))\n",
        "plot_time_series(timesteps=X_test[-len(test_windows):], values=test_labels[:,0], format=\"-\", start=offset, label=\"Test Data\")\n",
        "plot_time_series(timesteps=X_test[-len(test_windows):], values=model_3_preds, format=\"-\", start=offset, label=\"Model-lstm prediction\")"
      ],
      "metadata": {
        "colab": {
          "base_uri": "https://localhost:8080/",
          "height": 442
        },
        "id": "zwi8dyMKiwSu",
        "outputId": "0eb88a2f-2da5-4374-da89-cbab8648126e"
      },
      "execution_count": 38,
      "outputs": [
        {
          "output_type": "display_data",
          "data": {
            "text/plain": [
              "<Figure size 720x504 with 1 Axes>"
            ],
            "image/png": "[encoded data removed]"
          },
          "metadata": {
            "needs_background": "light"
          }
        }
      ]
    },
    {
      "cell_type": "code",
      "source": [
        "model_3_results = evaluate_preds(y_true=tf.squeeze(test_labels), y_pred=model_3_preds)\n",
        "model_3_results"
      ],
      "metadata": {
        "colab": {
          "base_uri": "https://localhost:8080/"
        },
        "id": "CVS9-ivuittU",
        "outputId": "38eb206c-8514-4592-a26c-d6a05d672084"
      },
      "execution_count": 39,
      "outputs": [
        {
          "output_type": "execute_result",
          "data": {
            "text/plain": [
              "{'mae': 7211.0547, 'mape': 33.133076, 'mse': 86421220.0, 'rmse': 9296.301}"
            ]
          },
          "metadata": {},
          "execution_count": 39
        }
      ]
    },
    {
      "cell_type": "markdown",
      "source": [
        "## Multivariate Models"
      ],
      "metadata": {
        "id": "nV2NDO_Mk-55"
      }
    },
    {
      "cell_type": "code",
      "source": [
        "!wget https://raw.githubusercontent.com/mlee687/CS470_AI-auto-trading/main/daily_multi.csv"
      ],
      "metadata": {
        "colab": {
          "base_uri": "https://localhost:8080/"
        },
        "id": "3-zqc04-k-qR",
        "outputId": "d1f7bb9e-3062-42ed-d4c8-ee75dc8c2417"
      },
      "execution_count": 40,
      "outputs": [
        {
          "output_type": "stream",
          "name": "stdout",
          "text": [
            "--2022-06-05 07:47:20--  https://raw.githubusercontent.com/mlee687/CS470_AI-auto-trading/main/daily_multi.csv\n",
            "Resolving raw.githubusercontent.com (raw.githubusercontent.com)... 185.199.109.133, 185.199.108.133, 185.199.110.133, ...\n",
            "Connecting to raw.githubusercontent.com (raw.githubusercontent.com)|185.199.109.133|:443... connected.\n",
            "HTTP request sent, awaiting response... 200 OK\n",
            "Length: 150707 (147K) [text/plain]\n",
            "Saving to: ‘daily_multi.csv.1’\n",
            "\n",
            "daily_multi.csv.1   100%[===================>] 147.17K  --.-KB/s    in 0.01s   \n",
            "\n",
            "2022-06-05 07:47:20 (9.62 MB/s) - ‘daily_multi.csv.1’ saved [150707/150707]\n",
            "\n"
          ]
        }
      ]
    },
    {
      "cell_type": "code",
      "source": [
        "# Parse dates and set date column to index\n",
        "df = pd.read_csv(\"/content/daily_multi.csv\", parse_dates=[\"Timestamp\"])\n",
        "df.rename(columns = {\"Daily_Close\": \"Price\"}, inplace = True)\n",
        "df['Timestamp'] = pd.to_datetime(df['Timestamp'].dt.date)\n",
        "btc_df = df.set_index('Timestamp')\n",
        "btc_df.head(), btc_df.tail()"
      ],
      "metadata": {
        "colab": {
          "base_uri": "https://localhost:8080/"
        },
        "id": "L6wW0lJZlF7V",
        "outputId": "d57b1fd2-0dc0-45cd-fa6b-2cc8aebcfa91"
      },
      "execution_count": 41,
      "outputs": [
        {
          "output_type": "execute_result",
          "data": {
            "text/plain": [
              "(            BTC_Volume  CURRENCY_Volume  Daily_Open   Price  Daily_High  \\\n",
              " Timestamp                                                                 \n",
              " 2014-01-01   54.537393      41030.73303      732.00  754.90      757.99   \n",
              " 2014-01-02  473.353037     370482.78250      732.00  784.19      798.70   \n",
              " 2014-01-03   22.080903      17831.05554      784.19  809.40      818.99   \n",
              " 2014-01-04  513.010428     425028.52890      784.19  828.79      830.00   \n",
              " 2014-01-05    4.497195       4069.64165      828.79  905.00      948.00   \n",
              " \n",
              "             Daily_Low  \n",
              " Timestamp              \n",
              " 2014-01-01     729.01  \n",
              " 2014-01-02     729.01  \n",
              " 2014-01-03     767.62  \n",
              " 2014-01-04     767.62  \n",
              " 2014-01-05     826.07  ,\n",
              "             BTC_Volume  CURRENCY_Volume  Daily_Open     Price  Daily_High  \\\n",
              " Timestamp                                                                   \n",
              " 2021-03-26    1.432076     7.886414e+04    52704.74  52734.30    55114.86   \n",
              " 2021-03-27   35.303980     1.975370e+06    54511.41  54508.16    56686.15   \n",
              " 2021-03-28   47.089763     2.622254e+06    55852.64  55871.93    56470.00   \n",
              " 2021-03-29   29.981372     1.728355e+06    57817.09  57788.15    58402.68   \n",
              " 2021-03-30   67.667610     3.968835e+06    59072.35  59069.29    59388.66   \n",
              " \n",
              "             Daily_Low  \n",
              " Timestamp              \n",
              " 2021-03-26   52489.10  \n",
              " 2021-03-27   53948.35  \n",
              " 2021-03-28   54677.51  \n",
              " 2021-03-29   57091.37  \n",
              " 2021-03-30   58402.82  )"
            ]
          },
          "metadata": {},
          "execution_count": 41
        }
      ]
    },
    {
      "cell_type": "code",
      "source": [
        "#  Windows the dataset directly from the pandas dataframe\n",
        "\"\"\"\n",
        "  [0,1,2,3,4,5,6,BTC_Volume,CURRENCY_Volume,Daily_Open,Price,Daily_High,Daily_Low] -> [7]\n",
        "  [1,2,3,4,5,6,7,BTC_Volume,CURRENCY_Volume,Daily_Open,Price,Daily_High,Daily_Low] -> [8]\n",
        "\"\"\"\n",
        "btc_windowed_df = btc_df.copy() # copy is needed to avoid pandas warning\n",
        "\n",
        "# Adds windowed columns\n",
        "for i in range(WINDOW_SIZE):\n",
        "  btc_windowed_df[f\"Price+{i+1}\"] = btc_df[\"Price\"].shift(periods=i+1)\n",
        "btc_windowed_df.head(10)"
      ],
      "metadata": {
        "colab": {
          "base_uri": "https://localhost:8080/",
          "height": 394
        },
        "id": "CjbaM5tMlJfL",
        "outputId": "6846abd3-1f1b-4f3d-9a47-33686d78b370"
      },
      "execution_count": 42,
      "outputs": [
        {
          "output_type": "execute_result",
          "data": {
            "text/plain": [
              "             BTC_Volume  CURRENCY_Volume  Daily_Open   Price  Daily_High  \\\n",
              "Timestamp                                                                  \n",
              "2014-01-01    54.537393     4.103073e+04      732.00  754.90      757.99   \n",
              "2014-01-02   473.353037     3.704828e+05      732.00  784.19      798.70   \n",
              "2014-01-03    22.080903     1.783106e+04      784.19  809.40      818.99   \n",
              "2014-01-04   513.010428     4.250285e+05      784.19  828.79      830.00   \n",
              "2014-01-05     4.497195     4.069642e+03      828.79  905.00      948.00   \n",
              "2014-01-06   241.609301     2.206829e+05      905.00  919.24      995.00   \n",
              "2014-01-07  1886.630033     1.515490e+06      915.80  785.00      943.00   \n",
              "2014-01-09   667.490877     5.533121e+05      823.94  824.76      848.00   \n",
              "2014-01-10     7.394014     6.315893e+03      825.50  852.61      861.40   \n",
              "2014-01-11   245.935738     2.196137e+05      851.63  896.59      909.96   \n",
              "\n",
              "            Daily_Low  Price+1  Price+2  Price+3  Price+4  Price+5  Price+6  \\\n",
              "Timestamp                                                                     \n",
              "2014-01-01     729.01      NaN      NaN      NaN      NaN      NaN      NaN   \n",
              "2014-01-02     729.01   754.90      NaN      NaN      NaN      NaN      NaN   \n",
              "2014-01-03     767.62   784.19   754.90      NaN      NaN      NaN      NaN   \n",
              "2014-01-04     767.62   809.40   784.19   754.90      NaN      NaN      NaN   \n",
              "2014-01-05     826.07   828.79   809.40   784.19   754.90      NaN      NaN   \n",
              "2014-01-06     876.00   905.00   828.79   809.40   784.19   754.90      NaN   \n",
              "2014-01-07     785.00   919.24   905.00   828.79   809.40   784.19   754.90   \n",
              "2014-01-09     779.78   785.00   919.24   905.00   828.79   809.40   784.19   \n",
              "2014-01-10     799.41   824.76   785.00   919.24   905.00   828.79   809.40   \n",
              "2014-01-11     849.51   852.61   824.76   785.00   919.24   905.00   828.79   \n",
              "\n",
              "            Price+7  \n",
              "Timestamp            \n",
              "2014-01-01      NaN  \n",
              "2014-01-02      NaN  \n",
              "2014-01-03      NaN  \n",
              "2014-01-04      NaN  \n",
              "2014-01-05      NaN  \n",
              "2014-01-06      NaN  \n",
              "2014-01-07      NaN  \n",
              "2014-01-09   754.90  \n",
              "2014-01-10   784.19  \n",
              "2014-01-11   809.40  "
            ],
            "text/html": [
              "\n",
              "  <div id=\"df-bd20b3eb-4fbd-4f61-b6a1-96de8791ad3d\">\n",
              "    <div class=\"colab-df-container\">\n",
              "      <div>\n",
              "<style scoped>\n",
              "    .dataframe tbody tr th:only-of-type {\n",
              "        vertical-align: middle;\n",
              "    }\n",
              "\n",
              "    .dataframe tbody tr th {\n",
              "        vertical-align: top;\n",
              "    }\n",
              "\n",
              "    .dataframe thead th {\n",
              "        text-align: right;\n",
              "    }\n",
              "</style>\n",
              "<table border=\"1\" class=\"dataframe\">\n",
              "  <thead>\n",
              "    <tr style=\"text-align: right;\">\n",
              "      <th></th>\n",
              "      <th>BTC_Volume</th>\n",
              "      <th>CURRENCY_Volume</th>\n",
              "      <th>Daily_Open</th>\n",
              "      <th>Price</th>\n",
              "      <th>Daily_High</th>\n",
              "      <th>Daily_Low</th>\n",
              "      <th>Price+1</th>\n",
              "      <th>Price+2</th>\n",
              "      <th>Price+3</th>\n",
              "      <th>Price+4</th>\n",
              "      <th>Price+5</th>\n",
              "      <th>Price+6</th>\n",
              "      <th>Price+7</th>\n",
              "    </tr>\n",
              "    <tr>\n",
              "      <th>Timestamp</th>\n",
              "      <th></th>\n",
              "      <th></th>\n",
              "      <th></th>\n",
              "      <th></th>\n",
              "      <th></th>\n",
              "      <th></th>\n",
              "      <th></th>\n",
              "      <th></th>\n",
              "      <th></th>\n",
              "      <th></th>\n",
              "      <th></th>\n",
              "      <th></th>\n",
              "      <th></th>\n",
              "    </tr>\n",
              "  </thead>\n",
              "  <tbody>\n",
              "    <tr>\n",
              "      <th>2014-01-01</th>\n",
              "      <td>54.537393</td>\n",
              "      <td>4.103073e+04</td>\n",
              "      <td>732.00</td>\n",
              "      <td>754.90</td>\n",
              "      <td>757.99</td>\n",
              "      <td>729.01</td>\n",
              "      <td>NaN</td>\n",
              "      <td>NaN</td>\n",
              "      <td>NaN</td>\n",
              "      <td>NaN</td>\n",
              "      <td>NaN</td>\n",
              "      <td>NaN</td>\n",
              "      <td>NaN</td>\n",
              "    </tr>\n",
              "    <tr>\n",
              "      <th>2014-01-02</th>\n",
              "      <td>473.353037</td>\n",
              "      <td>3.704828e+05</td>\n",
              "      <td>732.00</td>\n",
              "      <td>784.19</td>\n",
              "      <td>798.70</td>\n",
              "      <td>729.01</td>\n",
              "      <td>754.90</td>\n",
              "      <td>NaN</td>\n",
              "      <td>NaN</td>\n",
              "      <td>NaN</td>\n",
              "      <td>NaN</td>\n",
              "      <td>NaN</td>\n",
              "      <td>NaN</td>\n",
              "    </tr>\n",
              "    <tr>\n",
              "      <th>2014-01-03</th>\n",
              "      <td>22.080903</td>\n",
              "      <td>1.783106e+04</td>\n",
              "      <td>784.19</td>\n",
              "      <td>809.40</td>\n",
              "      <td>818.99</td>\n",
              "      <td>767.62</td>\n",
              "      <td>784.19</td>\n",
              "      <td>754.90</td>\n",
              "      <td>NaN</td>\n",
              "      <td>NaN</td>\n",
              "      <td>NaN</td>\n",
              "      <td>NaN</td>\n",
              "      <td>NaN</td>\n",
              "    </tr>\n",
              "    <tr>\n",
              "      <th>2014-01-04</th>\n",
              "      <td>513.010428</td>\n",
              "      <td>4.250285e+05</td>\n",
              "      <td>784.19</td>\n",
              "      <td>828.79</td>\n",
              "      <td>830.00</td>\n",
              "      <td>767.62</td>\n",
              "      <td>809.40</td>\n",
              "      <td>784.19</td>\n",
              "      <td>754.90</td>\n",
              "      <td>NaN</td>\n",
              "      <td>NaN</td>\n",
              "      <td>NaN</td>\n",
              "      <td>NaN</td>\n",
              "    </tr>\n",
              "    <tr>\n",
              "      <th>2014-01-05</th>\n",
              "      <td>4.497195</td>\n",
              "      <td>4.069642e+03</td>\n",
              "      <td>828.79</td>\n",
              "      <td>905.00</td>\n",
              "      <td>948.00</td>\n",
              "      <td>826.07</td>\n",
              "      <td>828.79</td>\n",
              "      <td>809.40</td>\n",
              "      <td>784.19</td>\n",
              "      <td>754.90</td>\n",
              "      <td>NaN</td>\n",
              "      <td>NaN</td>\n",
              "      <td>NaN</td>\n",
              "    </tr>\n",
              "    <tr>\n",
              "      <th>2014-01-06</th>\n",
              "      <td>241.609301</td>\n",
              "      <td>2.206829e+05</td>\n",
              "      <td>905.00</td>\n",
              "      <td>919.24</td>\n",
              "      <td>995.00</td>\n",
              "      <td>876.00</td>\n",
              "      <td>905.00</td>\n",
              "      <td>828.79</td>\n",
              "      <td>809.40</td>\n",
              "      <td>784.19</td>\n",
              "      <td>754.90</td>\n",
              "      <td>NaN</td>\n",
              "      <td>NaN</td>\n",
              "    </tr>\n",
              "    <tr>\n",
              "      <th>2014-01-07</th>\n",
              "      <td>1886.630033</td>\n",
              "      <td>1.515490e+06</td>\n",
              "      <td>915.80</td>\n",
              "      <td>785.00</td>\n",
              "      <td>943.00</td>\n",
              "      <td>785.00</td>\n",
              "      <td>919.24</td>\n",
              "      <td>905.00</td>\n",
              "      <td>828.79</td>\n",
              "      <td>809.40</td>\n",
              "      <td>784.19</td>\n",
              "      <td>754.90</td>\n",
              "      <td>NaN</td>\n",
              "    </tr>\n",
              "    <tr>\n",
              "      <th>2014-01-09</th>\n",
              "      <td>667.490877</td>\n",
              "      <td>5.533121e+05</td>\n",
              "      <td>823.94</td>\n",
              "      <td>824.76</td>\n",
              "      <td>848.00</td>\n",
              "      <td>779.78</td>\n",
              "      <td>785.00</td>\n",
              "      <td>919.24</td>\n",
              "      <td>905.00</td>\n",
              "      <td>828.79</td>\n",
              "      <td>809.40</td>\n",
              "      <td>784.19</td>\n",
              "      <td>754.90</td>\n",
              "    </tr>\n",
              "    <tr>\n",
              "      <th>2014-01-10</th>\n",
              "      <td>7.394014</td>\n",
              "      <td>6.315893e+03</td>\n",
              "      <td>825.50</td>\n",
              "      <td>852.61</td>\n",
              "      <td>861.40</td>\n",
              "      <td>799.41</td>\n",
              "      <td>824.76</td>\n",
              "      <td>785.00</td>\n",
              "      <td>919.24</td>\n",
              "      <td>905.00</td>\n",
              "      <td>828.79</td>\n",
              "      <td>809.40</td>\n",
              "      <td>784.19</td>\n",
              "    </tr>\n",
              "    <tr>\n",
              "      <th>2014-01-11</th>\n",
              "      <td>245.935738</td>\n",
              "      <td>2.196137e+05</td>\n",
              "      <td>851.63</td>\n",
              "      <td>896.59</td>\n",
              "      <td>909.96</td>\n",
              "      <td>849.51</td>\n",
              "      <td>852.61</td>\n",
              "      <td>824.76</td>\n",
              "      <td>785.00</td>\n",
              "      <td>919.24</td>\n",
              "      <td>905.00</td>\n",
              "      <td>828.79</td>\n",
              "      <td>809.40</td>\n",
              "    </tr>\n",
              "  </tbody>\n",
              "</table>\n",
              "</div>\n",
              "      <button class=\"colab-df-convert\" onclick=\"convertToInteractive('df-bd20b3eb-4fbd-4f61-b6a1-96de8791ad3d')\"\n",
              "              title=\"Convert this dataframe to an interactive table.\"\n",
              "              style=\"display:none;\">\n",
              "        \n",
              "  <svg xmlns=\"http://www.w3.org/2000/svg\" height=\"24px\"viewBox=\"0 0 24 24\"\n",
              "       width=\"24px\">\n",
              "    <path d=\"M0 0h24v24H0V0z\" fill=\"none\"/>\n",
              "    <path d=\"M18.56 5.44l.94 2.06.94-2.06 2.06-.94-2.06-.94-.94-2.06-.94 2.06-2.06.94zm-11 1L8.5 8.5l.94-2.06 2.06-.94-2.06-.94L8.5 2.5l-.94 2.06-2.06.94zm10 10l.94 2.06.94-2.06 2.06-.94-2.06-.94-.94-2.06-.94 2.06-2.06.94z\"/><path d=\"M17.41 7.96l-1.37-1.37c-.4-.4-.92-.59-1.43-.59-.52 0-1.04.2-1.43.59L10.3 9.45l-7.72 7.72c-.78.78-.78 2.05 0 2.83L4 21.41c.39.39.9.59 1.41.59.51 0 1.02-.2 1.41-.59l7.78-7.78 2.81-2.81c.8-.78.8-2.07 0-2.86zM5.41 20L4 18.59l7.72-7.72 1.47 1.35L5.41 20z\"/>\n",
              "  </svg>\n",
              "      </button>\n",
              "      \n",
              "  <style>\n",
              "    .colab-df-container {\n",
              "      display:flex;\n",
              "      flex-wrap:wrap;\n",
              "      gap: 12px;\n",
              "    }\n",
              "\n",
              "    .colab-df-convert {\n",
              "      background-color: #E8F0FE;\n",
              "      border: none;\n",
              "      border-radius: 50%;\n",
              "      cursor: pointer;\n",
              "      display: none;\n",
              "      fill: #1967D2;\n",
              "      height: 32px;\n",
              "      padding: 0 0 0 0;\n",
              "      width: 32px;\n",
              "    }\n",
              "\n",
              "    .colab-df-convert:hover {\n",
              "      background-color: #E2EBFA;\n",
              "      box-shadow: 0px 1px 2px rgba(60, 64, 67, 0.3), 0px 1px 3px 1px rgba(60, 64, 67, 0.15);\n",
              "      fill: #174EA6;\n",
              "    }\n",
              "\n",
              "    [theme=dark] .colab-df-convert {\n",
              "      background-color: #3B4455;\n",
              "      fill: #D2E3FC;\n",
              "    }\n",
              "\n",
              "    [theme=dark] .colab-df-convert:hover {\n",
              "      background-color: #434B5C;\n",
              "      box-shadow: 0px 1px 3px 1px rgba(0, 0, 0, 0.15);\n",
              "      filter: drop-shadow(0px 1px 2px rgba(0, 0, 0, 0.3));\n",
              "      fill: #FFFFFF;\n",
              "    }\n",
              "  </style>\n",
              "\n",
              "      <script>\n",
              "        const buttonEl =\n",
              "          document.querySelector('#df-bd20b3eb-4fbd-4f61-b6a1-96de8791ad3d button.colab-df-convert');\n",
              "        buttonEl.style.display =\n",
              "          google.colab.kernel.accessAllowed ? 'block' : 'none';\n",
              "\n",
              "        async function convertToInteractive(key) {\n",
              "          const element = document.querySelector('#df-bd20b3eb-4fbd-4f61-b6a1-96de8791ad3d');\n",
              "          const dataTable =\n",
              "            await google.colab.kernel.invokeFunction('convertToInteractive',\n",
              "                                                     [key], {});\n",
              "          if (!dataTable) return;\n",
              "\n",
              "          const docLinkHtml = 'Like what you see? Visit the ' +\n",
              "            '<a target=\"_blank\" href=https://colab.research.google.com/notebooks/data_table.ipynb>data table notebook</a>'\n",
              "            + ' to learn more about interactive tables.';\n",
              "          element.innerHTML = '';\n",
              "          dataTable['output_type'] = 'display_data';\n",
              "          await google.colab.output.renderOutput(dataTable, element);\n",
              "          const docLink = document.createElement('div');\n",
              "          docLink.innerHTML = docLinkHtml;\n",
              "          element.appendChild(docLink);\n",
              "        }\n",
              "      </script>\n",
              "    </div>\n",
              "  </div>\n",
              "  "
            ]
          },
          "metadata": {},
          "execution_count": 42
        }
      ]
    },
    {
      "cell_type": "code",
      "source": [
        "# Removing the rows with the missing values\n",
        "# Create X (windows) and Y (horizons) features\n",
        "x = btc_windowed_df.dropna().drop(\"Price\", axis=1).astype(np.float32) # windows\n",
        "y = btc_windowed_df.dropna()[\"Price\"].astype(np.float32) # labels\n",
        "x.head(), y.head()"
      ],
      "metadata": {
        "colab": {
          "base_uri": "https://localhost:8080/"
        },
        "id": "FJ4JwsKPlO2G",
        "outputId": "0b826049-ed2e-4ac1-ecc3-f0000105fa63"
      },
      "execution_count": 43,
      "outputs": [
        {
          "output_type": "execute_result",
          "data": {
            "text/plain": [
              "(            BTC_Volume  CURRENCY_Volume  Daily_Open  Daily_High   Daily_Low  \\\n",
              " Timestamp                                                                     \n",
              " 2014-01-09  667.490906    553312.125000  823.940002  848.000000  779.780029   \n",
              " 2014-01-10    7.394014      6315.893066  825.500000  861.400024  799.409973   \n",
              " 2014-01-11  245.935730    219613.734375  851.630005  909.960022  849.510010   \n",
              " 2014-01-12  166.956573    141199.734375  895.000000  905.000000  826.460022   \n",
              " 2014-01-13   56.784340     46610.644531  844.039978  844.049988  783.109985   \n",
              " \n",
              "                Price+1     Price+2     Price+3     Price+4     Price+5  \\\n",
              " Timestamp                                                                \n",
              " 2014-01-09  785.000000  919.239990  905.000000  828.789978  809.400024   \n",
              " 2014-01-10  824.760010  785.000000  919.239990  905.000000  828.789978   \n",
              " 2014-01-11  852.609985  824.760010  785.000000  919.239990  905.000000   \n",
              " 2014-01-12  896.590027  852.609985  824.760010  785.000000  919.239990   \n",
              " 2014-01-13  844.049988  896.590027  852.609985  824.760010  785.000000   \n",
              " \n",
              "                Price+6     Price+7  \n",
              " Timestamp                           \n",
              " 2014-01-09  784.190002  754.900024  \n",
              " 2014-01-10  809.400024  784.190002  \n",
              " 2014-01-11  828.789978  809.400024  \n",
              " 2014-01-12  905.000000  828.789978  \n",
              " 2014-01-13  919.239990  905.000000  , Timestamp\n",
              " 2014-01-09    824.760010\n",
              " 2014-01-10    852.609985\n",
              " 2014-01-11    896.590027\n",
              " 2014-01-12    844.049988\n",
              " 2014-01-13    823.000000\n",
              " Name: Price, dtype: float32)"
            ]
          },
          "metadata": {},
          "execution_count": 43
        }
      ]
    },
    {
      "cell_type": "code",
      "source": [
        "# 70% train, 15% validation, 15% test\n",
        "boundary1 = int(0.7 * len(x))\n",
        "boundary2 = int(0.85 * len(x))\n",
        "x_train, y_train = x[:boundary1], y[:boundary1]\n",
        "x_val, y_val = x[boundary1:boundary2], y[boundary1:boundary2]\n",
        "x_test, y_test = x[boundary2:], y[boundary2:]\n",
        "len(x_train), len(x_val), len(x_test)"
      ],
      "metadata": {
        "colab": {
          "base_uri": "https://localhost:8080/"
        },
        "id": "Z0nY8dV9lnwG",
        "outputId": "b3b65107-4943-4b18-e014-a33443a1868d"
      },
      "execution_count": 44,
      "outputs": [
        {
          "output_type": "execute_result",
          "data": {
            "text/plain": [
              "(1560, 334, 335)"
            ]
          },
          "metadata": {},
          "execution_count": 44
        }
      ]
    },
    {
      "cell_type": "code",
      "source": [
        "# Make model_1_multi\n",
        "model_1_multi = tf.keras.Sequential([\n",
        "  layers.Dense(128, activation=\"relu\"),\n",
        "  layers.Dense(HORIZON)\n",
        "], name='model_1_multivariate')\n",
        "\n",
        "model_1_multi.compile(\n",
        "    loss = \"mae\",\n",
        "    optimizer=tf.keras.optimizers.Adam(),\n",
        "    metrics = \"mae\"\n",
        ")\n",
        "\n",
        "model_1_multi.fit(x=x_train,\n",
        "            y=y_train,\n",
        "            epochs=1000,\n",
        "            verbose=1,\n",
        "            batch_size=BATCH_SIZE,\n",
        "            validation_data=(x_val, y_val),\n",
        "            callbacks=[create_model_checkpoint(model_name=model_1_multi.name), early_stopping()]\n",
        "            )"
      ],
      "metadata": {
        "colab": {
          "base_uri": "https://localhost:8080/"
        },
        "id": "EW36q4sIl7Sh",
        "outputId": "abe2156e-2c45-4f63-c2ff-7bc789e851a2"
      },
      "execution_count": 45,
      "outputs": [
        {
          "output_type": "stream",
          "name": "stdout",
          "text": [
            "Epoch 1/1000\n",
            "1/4 [======>.......................] - ETA: 0s - loss: 55477.7344 - mae: 55477.7344INFO:tensorflow:Assets written to: models/model_1_multivariate/assets\n"
          ]
        },
        {
          "output_type": "stream",
          "name": "stderr",
          "text": [
            "INFO:tensorflow:Assets written to: models/model_1_multivariate/assets\n"
          ]
        },
        {
          "output_type": "stream",
          "name": "stdout",
          "text": [
            "\b\b\b\b\b\b\b\b\b\b\b\b\b\b\b\b\b\b\b\b\b\b\b\b\b\b\b\b\b\b\b\b\b\b\b\b\b\b\b\b\b\b\b\b\b\b\b\b\b\b\b\b\b\b\b\b\b\b\b\b\b\b\b\b\b\b\b\b\b\b\b\b\b\b\b\b\b\b\b\b\b\b\b\r4/4 [==============================] - 1s 182ms/step - loss: 48389.1914 - mae: 48389.1914 - val_loss: 38317.8203 - val_mae: 38317.8203\n",
            "Epoch 2/1000\n",
            "4/4 [==============================] - 0s 10ms/step - loss: 11318.4912 - mae: 11318.4912 - val_loss: 41855.3359 - val_mae: 41855.3359\n",
            "Epoch 3/1000\n",
            "4/4 [==============================] - 0s 9ms/step - loss: 21724.5234 - mae: 21724.5234 - val_loss: 47217.1914 - val_mae: 47217.1914\n",
            "Epoch 4/1000\n",
            "1/4 [======>.......................] - ETA: 0s - loss: 19911.3379 - mae: 19911.3379INFO:tensorflow:Assets written to: models/model_1_multivariate/assets\n"
          ]
        },
        {
          "output_type": "stream",
          "name": "stderr",
          "text": [
            "INFO:tensorflow:Assets written to: models/model_1_multivariate/assets\n"
          ]
        },
        {
          "output_type": "stream",
          "name": "stdout",
          "text": [
            "\b\b\b\b\b\b\b\b\b\b\b\b\b\b\b\b\b\b\b\b\b\b\b\b\b\b\b\b\b\b\b\b\b\b\b\b\b\b\b\b\b\b\b\b\b\b\b\b\b\b\b\b\b\b\b\b\b\b\b\b\b\b\b\b\b\b\b\b\b\b\b\b\b\b\b\b\b\b\b\b\b\b\b\r4/4 [==============================] - 0s 141ms/step - loss: 18563.2266 - mae: 18563.2266 - val_loss: 14064.5020 - val_mae: 14064.5020\n",
            "Epoch 5/1000\n",
            "4/4 [==============================] - 0s 12ms/step - loss: 6398.6719 - mae: 6398.6719 - val_loss: 24923.8438 - val_mae: 24923.8438\n",
            "Epoch 6/1000\n",
            "4/4 [==============================] - 0s 9ms/step - loss: 12841.9961 - mae: 12841.9961 - val_loss: 18541.6504 - val_mae: 18541.6504\n",
            "Epoch 7/1000\n",
            "4/4 [==============================] - 0s 15ms/step - loss: 6467.6152 - mae: 6467.6152 - val_loss: 15456.7363 - val_mae: 15456.7363\n",
            "Epoch 8/1000\n",
            "1/4 [======>.......................] - ETA: 0s - loss: 6600.9150 - mae: 6600.9150INFO:tensorflow:Assets written to: models/model_1_multivariate/assets\n"
          ]
        },
        {
          "output_type": "stream",
          "name": "stderr",
          "text": [
            "INFO:tensorflow:Assets written to: models/model_1_multivariate/assets\n"
          ]
        },
        {
          "output_type": "stream",
          "name": "stdout",
          "text": [
            "\b\b\b\b\b\b\b\b\b\b\b\b\b\b\b\b\b\b\b\b\b\b\b\b\b\b\b\b\b\b\b\b\b\b\b\b\b\b\b\b\b\b\b\b\b\b\b\b\b\b\b\b\b\b\b\b\b\b\b\b\b\b\b\b\b\b\b\b\b\b\b\b\b\b\b\b\b\b\b\b\b\r4/4 [==============================] - 0s 133ms/step - loss: 7932.6475 - mae: 7932.6475 - val_loss: 13792.2031 - val_mae: 13792.2031\n",
            "Epoch 9/1000\n",
            "1/4 [======>.......................] - ETA: 0s - loss: 5879.0015 - mae: 5879.0015INFO:tensorflow:Assets written to: models/model_1_multivariate/assets\n"
          ]
        },
        {
          "output_type": "stream",
          "name": "stderr",
          "text": [
            "INFO:tensorflow:Assets written to: models/model_1_multivariate/assets\n"
          ]
        },
        {
          "output_type": "stream",
          "name": "stdout",
          "text": [
            "\b\b\b\b\b\b\b\b\b\b\b\b\b\b\b\b\b\b\b\b\b\b\b\b\b\b\b\b\b\b\b\b\b\b\b\b\b\b\b\b\b\b\b\b\b\b\b\b\b\b\b\b\b\b\b\b\b\b\b\b\b\b\b\b\b\b\b\b\b\b\b\b\b\b\b\b\b\b\b\b\b\r4/4 [==============================] - 0s 134ms/step - loss: 3893.0894 - mae: 3893.0894 - val_loss: 9045.3867 - val_mae: 9045.3867\n",
            "Epoch 10/1000\n",
            "1/4 [======>.......................] - ETA: 0s - loss: 4413.7788 - mae: 4413.7788INFO:tensorflow:Assets written to: models/model_1_multivariate/assets\n"
          ]
        },
        {
          "output_type": "stream",
          "name": "stderr",
          "text": [
            "INFO:tensorflow:Assets written to: models/model_1_multivariate/assets\n"
          ]
        },
        {
          "output_type": "stream",
          "name": "stdout",
          "text": [
            "\b\b\b\b\b\b\b\b\b\b\b\b\b\b\b\b\b\b\b\b\b\b\b\b\b\b\b\b\b\b\b\b\b\b\b\b\b\b\b\b\b\b\b\b\b\b\b\b\b\b\b\b\b\b\b\b\b\b\b\b\b\b\b\b\b\b\b\b\b\b\b\b\b\b\b\b\b\b\b\b\b\r4/4 [==============================] - 0s 135ms/step - loss: 3414.0198 - mae: 3414.0198 - val_loss: 7175.6465 - val_mae: 7175.6465\n",
            "Epoch 11/1000\n",
            "1/4 [======>.......................] - ETA: 0s - loss: 3163.8674 - mae: 3163.8674INFO:tensorflow:Assets written to: models/model_1_multivariate/assets\n"
          ]
        },
        {
          "output_type": "stream",
          "name": "stderr",
          "text": [
            "INFO:tensorflow:Assets written to: models/model_1_multivariate/assets\n"
          ]
        },
        {
          "output_type": "stream",
          "name": "stdout",
          "text": [
            "\b\b\b\b\b\b\b\b\b\b\b\b\b\b\b\b\b\b\b\b\b\b\b\b\b\b\b\b\b\b\b\b\b\b\b\b\b\b\b\b\b\b\b\b\b\b\b\b\b\b\b\b\b\b\b\b\b\b\b\b\b\b\b\b\b\b\b\b\b\b\b\b\b\b\b\b\b\b\b\b\b\r4/4 [==============================] - 0s 135ms/step - loss: 3216.6206 - mae: 3216.6206 - val_loss: 3443.3362 - val_mae: 3443.3362\n",
            "Epoch 12/1000\n",
            "1/4 [======>.......................] - ETA: 0s - loss: 1177.2584 - mae: 1177.2584INFO:tensorflow:Assets written to: models/model_1_multivariate/assets\n"
          ]
        },
        {
          "output_type": "stream",
          "name": "stderr",
          "text": [
            "INFO:tensorflow:Assets written to: models/model_1_multivariate/assets\n"
          ]
        },
        {
          "output_type": "stream",
          "name": "stdout",
          "text": [
            "\b\b\b\b\b\b\b\b\b\b\b\b\b\b\b\b\b\b\b\b\b\b\b\b\b\b\b\b\b\b\b\b\b\b\b\b\b\b\b\b\b\b\b\b\b\b\b\b\b\b\b\b\b\b\b\b\b\b\b\b\b\b\b\b\b\b\b\b\b\b\b\b\b\b\b\b\b\b\b\b\b\r4/4 [==============================] - 0s 136ms/step - loss: 2453.2639 - mae: 2453.2639 - val_loss: 1811.5060 - val_mae: 1811.5060\n",
            "Epoch 13/1000\n",
            "4/4 [==============================] - 0s 10ms/step - loss: 1225.0338 - mae: 1225.0338 - val_loss: 4862.3711 - val_mae: 4862.3711\n",
            "Epoch 14/1000\n",
            "4/4 [==============================] - 0s 10ms/step - loss: 2553.4519 - mae: 2553.4519 - val_loss: 3516.4768 - val_mae: 3516.4768\n",
            "Epoch 15/1000\n",
            "4/4 [==============================] - 0s 10ms/step - loss: 1972.2817 - mae: 1972.2817 - val_loss: 5055.7002 - val_mae: 5055.7002\n",
            "Epoch 16/1000\n",
            "1/4 [======>.......................] - ETA: 0s - loss: 2551.5671 - mae: 2551.5671INFO:tensorflow:Assets written to: models/model_1_multivariate/assets\n"
          ]
        },
        {
          "output_type": "stream",
          "name": "stderr",
          "text": [
            "INFO:tensorflow:Assets written to: models/model_1_multivariate/assets\n"
          ]
        },
        {
          "output_type": "stream",
          "name": "stdout",
          "text": [
            "\b\b\b\b\b\b\b\b\b\b\b\b\b\b\b\b\b\b\b\b\b\b\b\b\b\b\b\b\b\b\b\b\b\b\b\b\b\b\b\b\b\b\b\b\b\b\b\b\b\b\b\b\b\b\b\b\b\b\b\b\b\b\b\b\b\b\b\b\b\b\b\b\b\b\b\b\b\b\b\b\b\r4/4 [==============================] - 0s 132ms/step - loss: 3024.9016 - mae: 3024.9016 - val_loss: 1661.9293 - val_mae: 1661.9293\n",
            "Epoch 17/1000\n",
            "1/4 [======>.......................] - ETA: 0s - loss: 854.8640 - mae: 854.8640INFO:tensorflow:Assets written to: models/model_1_multivariate/assets\n"
          ]
        },
        {
          "output_type": "stream",
          "name": "stderr",
          "text": [
            "INFO:tensorflow:Assets written to: models/model_1_multivariate/assets\n"
          ]
        },
        {
          "output_type": "stream",
          "name": "stdout",
          "text": [
            "\b\b\b\b\b\b\b\b\b\b\b\b\b\b\b\b\b\b\b\b\b\b\b\b\b\b\b\b\b\b\b\b\b\b\b\b\b\b\b\b\b\b\b\b\b\b\b\b\b\b\b\b\b\b\b\b\b\b\b\b\b\b\b\b\b\b\b\b\b\b\b\b\b\b\b\b\b\b\b\r4/4 [==============================] - 0s 143ms/step - loss: 1645.6654 - mae: 1645.6654 - val_loss: 1123.5212 - val_mae: 1123.5212\n",
            "Epoch 18/1000\n",
            "4/4 [==============================] - 0s 10ms/step - loss: 706.6478 - mae: 706.6478 - val_loss: 2444.2036 - val_mae: 2444.2036\n",
            "Epoch 19/1000\n",
            "4/4 [==============================] - 0s 10ms/step - loss: 1449.1758 - mae: 1449.1758 - val_loss: 3075.8914 - val_mae: 3075.8914\n",
            "Epoch 20/1000\n",
            "4/4 [==============================] - 0s 9ms/step - loss: 1208.8733 - mae: 1208.8733 - val_loss: 4441.6982 - val_mae: 4441.6982\n",
            "Epoch 21/1000\n",
            "4/4 [==============================] - 0s 9ms/step - loss: 1568.9657 - mae: 1568.9657 - val_loss: 4247.2378 - val_mae: 4247.2378\n",
            "Epoch 22/1000\n",
            "1/4 [======>.......................] - ETA: 0s - loss: 2221.8352 - mae: 2221.8352INFO:tensorflow:Assets written to: models/model_1_multivariate/assets\n"
          ]
        },
        {
          "output_type": "stream",
          "name": "stderr",
          "text": [
            "INFO:tensorflow:Assets written to: models/model_1_multivariate/assets\n"
          ]
        },
        {
          "output_type": "stream",
          "name": "stdout",
          "text": [
            "\b\b\b\b\b\b\b\b\b\b\b\b\b\b\b\b\b\b\b\b\b\b\b\b\b\b\b\b\b\b\b\b\b\b\b\b\b\b\b\b\b\b\b\b\b\b\b\b\b\b\b\b\b\b\b\b\b\b\b\b\b\b\b\b\b\b\b\b\b\b\b\b\b\b\b\b\b\b\b\b\b\r4/4 [==============================] - 0s 135ms/step - loss: 1369.1914 - mae: 1369.1914 - val_loss: 681.6713 - val_mae: 681.6713\n",
            "Epoch 23/1000\n",
            "4/4 [==============================] - 0s 10ms/step - loss: 855.1816 - mae: 855.1816 - val_loss: 1054.7615 - val_mae: 1054.7615\n",
            "Epoch 24/1000\n",
            "4/4 [==============================] - 0s 10ms/step - loss: 333.4292 - mae: 333.4292 - val_loss: 839.3978 - val_mae: 839.3978\n",
            "Epoch 25/1000\n",
            "1/4 [======>.......................] - ETA: 0s - loss: 285.0031 - mae: 285.0031INFO:tensorflow:Assets written to: models/model_1_multivariate/assets\n"
          ]
        },
        {
          "output_type": "stream",
          "name": "stderr",
          "text": [
            "INFO:tensorflow:Assets written to: models/model_1_multivariate/assets\n"
          ]
        },
        {
          "output_type": "stream",
          "name": "stdout",
          "text": [
            "\b\b\b\b\b\b\b\b\b\b\b\b\b\b\b\b\b\b\b\b\b\b\b\b\b\b\b\b\b\b\b\b\b\b\b\b\b\b\b\b\b\b\b\b\b\b\b\b\b\b\b\b\b\b\b\b\b\b\b\b\b\b\b\b\b\b\b\b\b\b\b\b\b\b\b\b\b\b\b\r4/4 [==============================] - 0s 135ms/step - loss: 268.3176 - mae: 268.3176 - val_loss: 605.5013 - val_mae: 605.5013\n",
            "Epoch 26/1000\n",
            "4/4 [==============================] - 0s 10ms/step - loss: 295.6295 - mae: 295.6295 - val_loss: 1165.4869 - val_mae: 1165.4869\n",
            "Epoch 27/1000\n",
            "4/4 [==============================] - 0s 9ms/step - loss: 411.0539 - mae: 411.0539 - val_loss: 1218.4263 - val_mae: 1218.4263\n",
            "Epoch 28/1000\n",
            "4/4 [==============================] - 0s 10ms/step - loss: 599.0131 - mae: 599.0131 - val_loss: 1345.1171 - val_mae: 1345.1171\n",
            "Epoch 29/1000\n",
            "4/4 [==============================] - 0s 9ms/step - loss: 618.1591 - mae: 618.1591 - val_loss: 1569.3265 - val_mae: 1569.3265\n",
            "Epoch 30/1000\n",
            "1/4 [======>.......................] - ETA: 0s - loss: 855.2781 - mae: 855.2781INFO:tensorflow:Assets written to: models/model_1_multivariate/assets\n"
          ]
        },
        {
          "output_type": "stream",
          "name": "stderr",
          "text": [
            "INFO:tensorflow:Assets written to: models/model_1_multivariate/assets\n"
          ]
        },
        {
          "output_type": "stream",
          "name": "stdout",
          "text": [
            "\b\b\b\b\b\b\b\b\b\b\b\b\b\b\b\b\b\b\b\b\b\b\b\b\b\b\b\b\b\b\b\b\b\b\b\b\b\b\b\b\b\b\b\b\b\b\b\b\b\b\b\b\b\b\b\b\b\b\b\b\b\b\b\b\b\b\b\b\b\b\b\b\b\b\b\b\b\b\b\r4/4 [==============================] - 1s 226ms/step - loss: 660.6970 - mae: 660.6970 - val_loss: 497.5327 - val_mae: 497.5327\n",
            "Epoch 31/1000\n",
            "4/4 [==============================] - 0s 10ms/step - loss: 344.5258 - mae: 344.5258 - val_loss: 2349.6711 - val_mae: 2349.6711\n",
            "Epoch 32/1000\n",
            "4/4 [==============================] - 0s 10ms/step - loss: 738.9167 - mae: 738.9167 - val_loss: 2109.3679 - val_mae: 2109.3679\n",
            "Epoch 33/1000\n",
            "4/4 [==============================] - 0s 9ms/step - loss: 928.9587 - mae: 928.9587 - val_loss: 1320.3224 - val_mae: 1320.3224\n",
            "Epoch 34/1000\n",
            "4/4 [==============================] - 0s 15ms/step - loss: 1194.3906 - mae: 1194.3906 - val_loss: 1272.8743 - val_mae: 1272.8743\n",
            "Epoch 35/1000\n",
            "4/4 [==============================] - 0s 10ms/step - loss: 570.8466 - mae: 570.8466 - val_loss: 637.6711 - val_mae: 637.6711\n",
            "Epoch 36/1000\n",
            "4/4 [==============================] - 0s 9ms/step - loss: 400.1757 - mae: 400.1757 - val_loss: 550.2669 - val_mae: 550.2669\n",
            "Epoch 37/1000\n",
            "4/4 [==============================] - 0s 9ms/step - loss: 259.7230 - mae: 259.7230 - val_loss: 684.7356 - val_mae: 684.7356\n",
            "Epoch 38/1000\n",
            "4/4 [==============================] - 0s 9ms/step - loss: 580.5831 - mae: 580.5831 - val_loss: 1891.1499 - val_mae: 1891.1499\n",
            "Epoch 39/1000\n",
            "4/4 [==============================] - 0s 10ms/step - loss: 585.2482 - mae: 585.2482 - val_loss: 3096.7158 - val_mae: 3096.7158\n",
            "Epoch 40/1000\n",
            "4/4 [==============================] - 0s 9ms/step - loss: 1621.7697 - mae: 1621.7697 - val_loss: 551.5715 - val_mae: 551.5715\n",
            "Epoch 41/1000\n",
            "4/4 [==============================] - 0s 15ms/step - loss: 287.5676 - mae: 287.5676 - val_loss: 523.0718 - val_mae: 523.0718\n",
            "Epoch 42/1000\n",
            "4/4 [==============================] - 0s 16ms/step - loss: 257.3393 - mae: 257.3393 - val_loss: 598.3331 - val_mae: 598.3331\n",
            "Epoch 43/1000\n",
            "4/4 [==============================] - 0s 9ms/step - loss: 455.2908 - mae: 455.2908 - val_loss: 3359.5090 - val_mae: 3359.5090\n",
            "Epoch 44/1000\n",
            "4/4 [==============================] - 0s 10ms/step - loss: 1199.0503 - mae: 1199.0503 - val_loss: 2625.4399 - val_mae: 2625.4399\n",
            "Epoch 45/1000\n",
            "4/4 [==============================] - 0s 9ms/step - loss: 859.6591 - mae: 859.6591 - val_loss: 1528.9690 - val_mae: 1528.9690\n",
            "Epoch 46/1000\n",
            "4/4 [==============================] - 0s 10ms/step - loss: 663.8539 - mae: 663.8539 - val_loss: 851.3499 - val_mae: 851.3499\n",
            "Epoch 47/1000\n",
            "4/4 [==============================] - 0s 11ms/step - loss: 293.7313 - mae: 293.7313 - val_loss: 2360.2661 - val_mae: 2360.2661\n",
            "Epoch 48/1000\n",
            "4/4 [==============================] - 0s 9ms/step - loss: 927.9387 - mae: 927.9387 - val_loss: 4062.6406 - val_mae: 4062.6406\n",
            "Epoch 49/1000\n",
            "4/4 [==============================] - 0s 10ms/step - loss: 1326.3396 - mae: 1326.3396 - val_loss: 2479.3835 - val_mae: 2479.3835\n",
            "Epoch 50/1000\n",
            "4/4 [==============================] - 0s 9ms/step - loss: 998.0018 - mae: 998.0018 - val_loss: 3560.5322 - val_mae: 3560.5322\n",
            "Epoch 51/1000\n",
            "4/4 [==============================] - 0s 9ms/step - loss: 1418.4178 - mae: 1418.4178 - val_loss: 6994.7671 - val_mae: 6994.7671\n",
            "Epoch 52/1000\n",
            "4/4 [==============================] - 0s 15ms/step - loss: 2197.2432 - mae: 2197.2432 - val_loss: 6951.0254 - val_mae: 6951.0254\n",
            "Epoch 53/1000\n",
            "4/4 [==============================] - 0s 13ms/step - loss: 3059.9019 - mae: 3059.9019 - val_loss: 5337.6919 - val_mae: 5337.6919\n",
            "Epoch 54/1000\n",
            "4/4 [==============================] - 0s 10ms/step - loss: 3819.7708 - mae: 3819.7708 - val_loss: 3269.4170 - val_mae: 3269.4170\n",
            "Epoch 55/1000\n",
            "4/4 [==============================] - 0s 17ms/step - loss: 1519.0450 - mae: 1519.0450 - val_loss: 3057.5955 - val_mae: 3057.5955\n",
            "Epoch 56/1000\n",
            "4/4 [==============================] - 0s 9ms/step - loss: 3012.1865 - mae: 3012.1865 - val_loss: 3942.4949 - val_mae: 3942.4949\n",
            "Epoch 57/1000\n",
            "4/4 [==============================] - 0s 9ms/step - loss: 1354.9213 - mae: 1354.9213 - val_loss: 1642.9484 - val_mae: 1642.9484\n",
            "Epoch 58/1000\n",
            "4/4 [==============================] - 0s 10ms/step - loss: 1144.5752 - mae: 1144.5752 - val_loss: 1243.3888 - val_mae: 1243.3888\n",
            "Epoch 59/1000\n",
            "4/4 [==============================] - 0s 9ms/step - loss: 574.5765 - mae: 574.5765 - val_loss: 1647.5675 - val_mae: 1647.5675\n",
            "Epoch 60/1000\n",
            "4/4 [==============================] - 0s 9ms/step - loss: 609.3689 - mae: 609.3689 - val_loss: 1638.9337 - val_mae: 1638.9337\n",
            "Epoch 61/1000\n",
            "4/4 [==============================] - 0s 10ms/step - loss: 482.8274 - mae: 482.8274 - val_loss: 1547.8872 - val_mae: 1547.8872\n",
            "Epoch 62/1000\n",
            "4/4 [==============================] - 0s 9ms/step - loss: 414.9315 - mae: 414.9315 - val_loss: 883.7219 - val_mae: 883.7219\n",
            "Epoch 63/1000\n",
            "1/4 [======>.......................] - ETA: 0s - loss: 463.7249 - mae: 463.7249INFO:tensorflow:Assets written to: models/model_1_multivariate/assets\n"
          ]
        },
        {
          "output_type": "stream",
          "name": "stderr",
          "text": [
            "INFO:tensorflow:Assets written to: models/model_1_multivariate/assets\n"
          ]
        },
        {
          "output_type": "stream",
          "name": "stdout",
          "text": [
            "\b\b\b\b\b\b\b\b\b\b\b\b\b\b\b\b\b\b\b\b\b\b\b\b\b\b\b\b\b\b\b\b\b\b\b\b\b\b\b\b\b\b\b\b\b\b\b\b\b\b\b\b\b\b\b\b\b\b\b\b\b\b\b\b\b\b\b\b\b\b\b\b\b\b\b\b\b\b\b\r4/4 [==============================] - 0s 138ms/step - loss: 732.3511 - mae: 732.3511 - val_loss: 443.5806 - val_mae: 443.5806\n",
            "Epoch 64/1000\n",
            "4/4 [==============================] - 0s 10ms/step - loss: 237.1191 - mae: 237.1191 - val_loss: 998.4561 - val_mae: 998.4561\n",
            "Epoch 65/1000\n",
            "4/4 [==============================] - 0s 10ms/step - loss: 596.9795 - mae: 596.9795 - val_loss: 1188.1720 - val_mae: 1188.1720\n",
            "Epoch 66/1000\n",
            "1/4 [======>.......................] - ETA: 0s - loss: 496.4555 - mae: 496.4555INFO:tensorflow:Assets written to: models/model_1_multivariate/assets\n"
          ]
        },
        {
          "output_type": "stream",
          "name": "stderr",
          "text": [
            "INFO:tensorflow:Assets written to: models/model_1_multivariate/assets\n"
          ]
        },
        {
          "output_type": "stream",
          "name": "stdout",
          "text": [
            "\b\b\b\b\b\b\b\b\b\b\b\b\b\b\b\b\b\b\b\b\b\b\b\b\b\b\b\b\b\b\b\b\b\b\b\b\b\b\b\b\b\b\b\b\b\b\b\b\b\b\b\b\b\b\b\b\b\b\b\b\b\b\b\b\b\b\b\b\b\b\b\b\b\b\b\b\b\b\b\r4/4 [==============================] - 0s 133ms/step - loss: 558.5856 - mae: 558.5856 - val_loss: 377.9834 - val_mae: 377.9834\n",
            "Epoch 67/1000\n",
            "1/4 [======>.......................] - ETA: 0s - loss: 163.0237 - mae: 163.0237INFO:tensorflow:Assets written to: models/model_1_multivariate/assets\n"
          ]
        },
        {
          "output_type": "stream",
          "name": "stderr",
          "text": [
            "INFO:tensorflow:Assets written to: models/model_1_multivariate/assets\n"
          ]
        },
        {
          "output_type": "stream",
          "name": "stdout",
          "text": [
            "\b\b\b\b\b\b\b\b\b\b\b\b\b\b\b\b\b\b\b\b\b\b\b\b\b\b\b\b\b\b\b\b\b\b\b\b\b\b\b\b\b\b\b\b\b\b\b\b\b\b\b\b\b\b\b\b\b\b\b\b\b\b\b\b\b\b\b\b\b\b\b\b\b\b\b\b\b\b\b\r4/4 [==============================] - 0s 133ms/step - loss: 333.1736 - mae: 333.1736 - val_loss: 367.2018 - val_mae: 367.2018\n",
            "Epoch 68/1000\n",
            "4/4 [==============================] - 0s 16ms/step - loss: 207.8920 - mae: 207.8920 - val_loss: 466.6317 - val_mae: 466.6317\n",
            "Epoch 69/1000\n",
            "4/4 [==============================] - 0s 9ms/step - loss: 194.1213 - mae: 194.1213 - val_loss: 3399.9993 - val_mae: 3399.9993\n",
            "Epoch 70/1000\n",
            "4/4 [==============================] - 0s 9ms/step - loss: 1697.6438 - mae: 1697.6438 - val_loss: 2654.2759 - val_mae: 2654.2759\n",
            "Epoch 71/1000\n",
            "4/4 [==============================] - 0s 11ms/step - loss: 950.6274 - mae: 950.6274 - val_loss: 1583.0077 - val_mae: 1583.0077\n",
            "Epoch 72/1000\n",
            "4/4 [==============================] - 0s 10ms/step - loss: 378.6343 - mae: 378.6343 - val_loss: 1000.0692 - val_mae: 1000.0692\n",
            "Epoch 73/1000\n",
            "4/4 [==============================] - 0s 10ms/step - loss: 228.8229 - mae: 228.8229 - val_loss: 1077.0049 - val_mae: 1077.0049\n",
            "Epoch 74/1000\n",
            "4/4 [==============================] - 0s 12ms/step - loss: 317.9379 - mae: 317.9379 - val_loss: 1528.2253 - val_mae: 1528.2253\n",
            "Epoch 75/1000\n",
            "4/4 [==============================] - 0s 10ms/step - loss: 380.4076 - mae: 380.4076 - val_loss: 473.7660 - val_mae: 473.7660\n",
            "Epoch 76/1000\n",
            "4/4 [==============================] - 0s 9ms/step - loss: 517.0195 - mae: 517.0195 - val_loss: 4075.5076 - val_mae: 4075.5076\n",
            "Epoch 77/1000\n",
            "4/4 [==============================] - 0s 10ms/step - loss: 1492.2280 - mae: 1492.2280 - val_loss: 6105.5757 - val_mae: 6105.5757\n",
            "Epoch 78/1000\n",
            "4/4 [==============================] - 0s 15ms/step - loss: 2782.0745 - mae: 2782.0745 - val_loss: 4084.3555 - val_mae: 4084.3555\n",
            "Epoch 79/1000\n",
            "4/4 [==============================] - 0s 9ms/step - loss: 2420.0684 - mae: 2420.0684 - val_loss: 3383.4072 - val_mae: 3383.4072\n",
            "Epoch 80/1000\n",
            "4/4 [==============================] - 0s 10ms/step - loss: 2567.1235 - mae: 2567.1235 - val_loss: 2671.4514 - val_mae: 2671.4514\n",
            "Epoch 81/1000\n",
            "4/4 [==============================] - 0s 9ms/step - loss: 2624.5239 - mae: 2624.5239 - val_loss: 1173.0604 - val_mae: 1173.0604\n",
            "Epoch 82/1000\n",
            "4/4 [==============================] - 0s 10ms/step - loss: 2231.8645 - mae: 2231.8645 - val_loss: 6126.7646 - val_mae: 6126.7646\n",
            "Epoch 83/1000\n",
            "4/4 [==============================] - 0s 10ms/step - loss: 1967.4335 - mae: 1967.4335 - val_loss: 5577.6465 - val_mae: 5577.6465\n",
            "Epoch 84/1000\n",
            "4/4 [==============================] - 0s 9ms/step - loss: 1686.1932 - mae: 1686.1932 - val_loss: 4131.4170 - val_mae: 4131.4170\n",
            "Epoch 85/1000\n",
            "4/4 [==============================] - 0s 9ms/step - loss: 1430.2546 - mae: 1430.2546 - val_loss: 3595.7737 - val_mae: 3595.7737\n",
            "Epoch 86/1000\n",
            "4/4 [==============================] - 0s 10ms/step - loss: 1339.5221 - mae: 1339.5221 - val_loss: 5208.3379 - val_mae: 5208.3379\n",
            "Epoch 87/1000\n",
            "4/4 [==============================] - 0s 9ms/step - loss: 1483.9362 - mae: 1483.9362 - val_loss: 654.5748 - val_mae: 654.5748\n",
            "Epoch 88/1000\n",
            "4/4 [==============================] - 0s 10ms/step - loss: 954.4121 - mae: 954.4121 - val_loss: 2694.9368 - val_mae: 2694.9368\n",
            "Epoch 89/1000\n",
            "4/4 [==============================] - 0s 9ms/step - loss: 1010.4956 - mae: 1010.4956 - val_loss: 4636.7441 - val_mae: 4636.7441\n",
            "Epoch 90/1000\n",
            "4/4 [==============================] - 0s 10ms/step - loss: 1695.3751 - mae: 1695.3751 - val_loss: 6235.4609 - val_mae: 6235.4609\n",
            "Epoch 91/1000\n",
            "4/4 [==============================] - 0s 9ms/step - loss: 2860.0940 - mae: 2860.0940 - val_loss: 3521.9397 - val_mae: 3521.9397\n",
            "Epoch 92/1000\n",
            "4/4 [==============================] - 0s 11ms/step - loss: 2193.3777 - mae: 2193.3777 - val_loss: 3702.2163 - val_mae: 3702.2163\n",
            "Epoch 93/1000\n",
            "4/4 [==============================] - 0s 10ms/step - loss: 2849.1853 - mae: 2849.1853 - val_loss: 1233.5225 - val_mae: 1233.5225\n",
            "Epoch 94/1000\n",
            "4/4 [==============================] - 0s 9ms/step - loss: 1939.5585 - mae: 1939.5585 - val_loss: 3888.8765 - val_mae: 3888.8765\n",
            "Epoch 95/1000\n",
            "4/4 [==============================] - 0s 9ms/step - loss: 1176.6263 - mae: 1176.6263 - val_loss: 1645.1909 - val_mae: 1645.1909\n",
            "Epoch 96/1000\n",
            "4/4 [==============================] - 0s 9ms/step - loss: 1130.4779 - mae: 1130.4779 - val_loss: 2596.3511 - val_mae: 2596.3511\n",
            "Epoch 97/1000\n",
            "4/4 [==============================] - 0s 9ms/step - loss: 915.2643 - mae: 915.2643 - val_loss: 486.2223 - val_mae: 486.2223\n",
            "Epoch 98/1000\n",
            "4/4 [==============================] - 0s 16ms/step - loss: 985.5996 - mae: 985.5996 - val_loss: 5368.8203 - val_mae: 5368.8203\n",
            "Epoch 99/1000\n",
            "4/4 [==============================] - 0s 11ms/step - loss: 4063.4307 - mae: 4063.4307 - val_loss: 2430.7725 - val_mae: 2430.7725\n",
            "Epoch 100/1000\n",
            "4/4 [==============================] - 0s 10ms/step - loss: 2938.2776 - mae: 2938.2776 - val_loss: 6826.0996 - val_mae: 6826.0996\n",
            "Epoch 101/1000\n",
            "4/4 [==============================] - 0s 9ms/step - loss: 2369.6978 - mae: 2369.6978 - val_loss: 11571.1982 - val_mae: 11571.1982\n",
            "Epoch 102/1000\n",
            "4/4 [==============================] - 0s 9ms/step - loss: 5506.6641 - mae: 5506.6641 - val_loss: 737.0394 - val_mae: 737.0394\n",
            "Epoch 103/1000\n",
            "4/4 [==============================] - 0s 9ms/step - loss: 1505.1116 - mae: 1505.1116 - val_loss: 786.1093 - val_mae: 786.1093\n",
            "Epoch 104/1000\n",
            "4/4 [==============================] - 0s 10ms/step - loss: 1159.5795 - mae: 1159.5795 - val_loss: 834.8220 - val_mae: 834.8220\n",
            "Epoch 105/1000\n",
            "4/4 [==============================] - 0s 10ms/step - loss: 458.8560 - mae: 458.8560 - val_loss: 3821.7881 - val_mae: 3821.7881\n",
            "Epoch 106/1000\n",
            "4/4 [==============================] - 0s 10ms/step - loss: 2305.9673 - mae: 2305.9673 - val_loss: 2605.7410 - val_mae: 2605.7410\n",
            "Epoch 107/1000\n",
            "4/4 [==============================] - 0s 10ms/step - loss: 2009.0299 - mae: 2009.0299 - val_loss: 1683.4003 - val_mae: 1683.4003\n"
          ]
        },
        {
          "output_type": "execute_result",
          "data": {
            "text/plain": [
              "<keras.callbacks.History at 0x7feefdd85550>"
            ]
          },
          "metadata": {},
          "execution_count": 45
        }
      ]
    },
    {
      "cell_type": "code",
      "source": [
        "model_1_multi = tf.keras.models.load_model(\"models/model_1_multivariate\")\n",
        "model_1_multi.evaluate(x_test, y_test)"
      ],
      "metadata": {
        "colab": {
          "base_uri": "https://localhost:8080/"
        },
        "id": "N1KqVji6l98A",
        "outputId": "7ed9f04f-783f-4def-f28f-a6b6e26fc9e4"
      },
      "execution_count": 46,
      "outputs": [
        {
          "output_type": "stream",
          "name": "stdout",
          "text": [
            "11/11 [==============================] - 0s 2ms/step - loss: 1006.6785 - mae: 1006.6785\n"
          ]
        },
        {
          "output_type": "execute_result",
          "data": {
            "text/plain": [
              "[1006.6785278320312, 1006.6785278320312]"
            ]
          },
          "metadata": {},
          "execution_count": 46
        }
      ]
    },
    {
      "cell_type": "code",
      "source": [
        "# Make predictions\n",
        "model_1_multi_preds = tf.squeeze(model_1_multi.predict(x_test))\n"
      ],
      "metadata": {
        "id": "D_0qfelRmEjc"
      },
      "execution_count": 47,
      "outputs": []
    },
    {
      "cell_type": "code",
      "source": [
        "offset=len(x_test)-100\n",
        "plt.figure(figsize=(10,7))\n",
        "plot_time_series(timesteps=X_test[-len(test_windows):], values=test_labels[:,0], format=\"-\", start=offset, label=\"Test Data\")\n",
        "plot_time_series(timesteps=x_test.index.to_numpy(), values=model_1_multi_preds, format=\"-\", start=offset, label=\"Model-1-multi prediction\")"
      ],
      "metadata": {
        "colab": {
          "base_uri": "https://localhost:8080/",
          "height": 442
        },
        "id": "oiobHpP1mFPM",
        "outputId": "b55c40bb-ddc0-439c-ca24-cebff41afa2a"
      },
      "execution_count": 63,
      "outputs": [
        {
          "output_type": "display_data",
          "data": {
            "text/plain": [
              "<Figure size 720x504 with 1 Axes>"
            ],
            "image/png": "[encoded data removed]"
          },
          "metadata": {
            "needs_background": "light"
          }
        }
      ]
    },
    {
      "cell_type": "code",
      "source": [
        "model_1_multi_results = evaluate_preds(y_true=y_test, y_pred=model_1_multi_preds)\n",
        "model_1_multi_results"
      ],
      "metadata": {
        "colab": {
          "base_uri": "https://localhost:8080/"
        },
        "id": "BtnTiPU6mAyZ",
        "outputId": "1c7e5264-8819-4e22-c112-47f389b4640b"
      },
      "execution_count": 49,
      "outputs": [
        {
          "output_type": "execute_result",
          "data": {
            "text/plain": [
              "{'mae': 1006.6785, 'mape': 4.208973, 'mse': 2745920.5, 'rmse': 1657.0819}"
            ]
          },
          "metadata": {},
          "execution_count": 49
        }
      ]
    },
    {
      "cell_type": "markdown",
      "source": [
        "## Model_CONV1D_Multivariate"
      ],
      "metadata": {
        "id": "yYuZwuHRp6XB"
      }
    },
    {
      "cell_type": "code",
      "source": [
        "tf.random.set_seed(42)\n",
        "\n",
        "# Create Conv1D model\n",
        "model_2_multi = tf.keras.Sequential([\n",
        "\n",
        "  layers.Lambda(lambda k: tf.expand_dims(k, axis=1)), # firstly adjust the size of our input data\n",
        "  \n",
        "  layers.Conv1D(filters=256, kernel_size=8, strides=1, padding=\"causal\", activation=\"relu\"),\n",
        "  # layers.BatchNormalization(),\n",
        "  # layers.Activation(activation='relu'),\n",
        "\n",
        "  # layers.Conv1D(filters=128, kernel_size=5, strides=1, padding=\"causal\", activation=\"relu\"),\n",
        "  # layers.BatchNormalization(),\n",
        "  # layers.Activation(activation='relu'),\n",
        "\n",
        "  # layers.Conv1D(filters=64, kernel_size=3, strides=1, padding=\"causal\", activation=\"relu\"),\n",
        "  # layers.BatchNormalization(),\n",
        "  # layers.Activation(activation='relu'),\n",
        "\n",
        "  layers.GlobalAveragePooling1D(),\n",
        "  layers.Dense(HORIZON, activation=\"relu\")\n",
        "\n",
        "], name=\"model_conv1D_multi\")\n",
        "\n",
        "# Compile model\n",
        "model_2_multi.compile(loss=\"mae\",\n",
        "                optimizer=tf.keras.optimizers.Adam())\n",
        "\n",
        "# Fit model\n",
        "model_2_multi.fit(x_train, #if faced data cardinality error, do tf.stack(train_windows) or np.array(train_windows)\n",
        "            y_train, \n",
        "            batch_size=BATCH_SIZE, \n",
        "            epochs=1000, \n",
        "            verbose=1,\n",
        "            validation_data=(x_val, y_val),\n",
        "            callbacks=[create_model_checkpoint(model_name=model_2_multi.name), early_stopping()]\n",
        "            )"
      ],
      "metadata": {
        "colab": {
          "base_uri": "https://localhost:8080/"
        },
        "id": "_V6FnG97rlpw",
        "outputId": "31ab6308-3b8c-4f74-e113-2abbe4f24681"
      },
      "execution_count": 50,
      "outputs": [
        {
          "output_type": "stream",
          "name": "stdout",
          "text": [
            "Epoch 1/1000\n",
            "1/4 [======>.......................] - ETA: 1s - loss: 44071.9805INFO:tensorflow:Assets written to: models/model_conv1D_multi/assets\n"
          ]
        },
        {
          "output_type": "stream",
          "name": "stderr",
          "text": [
            "INFO:tensorflow:Assets written to: models/model_conv1D_multi/assets\n"
          ]
        },
        {
          "output_type": "stream",
          "name": "stdout",
          "text": [
            "\b\b\b\b\b\b\b\b\b\b\b\b\b\b\b\b\b\b\b\b\b\b\b\b\b\b\b\b\b\b\b\b\b\b\b\b\b\b\b\b\b\b\b\b\b\b\b\b\b\b\b\b\b\b\b\b\b\b\b\b\b\b\b\b\b\r4/4 [==============================] - 1s 229ms/step - loss: 36892.1250 - val_loss: 21385.2734\n",
            "Epoch 2/1000\n",
            "1/4 [======>.......................] - ETA: 0s - loss: 10952.2637INFO:tensorflow:Assets written to: models/model_conv1D_multi/assets\n"
          ]
        },
        {
          "output_type": "stream",
          "name": "stderr",
          "text": [
            "INFO:tensorflow:Assets written to: models/model_conv1D_multi/assets\n"
          ]
        },
        {
          "output_type": "stream",
          "name": "stdout",
          "text": [
            "\b\b\b\b\b\b\b\b\b\b\b\b\b\b\b\b\b\b\b\b\b\b\b\b\b\b\b\b\b\b\b\b\b\b\b\b\b\b\b\b\b\b\b\b\b\b\b\b\b\b\b\b\b\b\b\b\b\b\b\b\b\b\b\b\b\r4/4 [==============================] - 1s 179ms/step - loss: 5836.1636 - val_loss: 8713.3115\n",
            "Epoch 3/1000\n",
            "1/4 [======>.......................] - ETA: 0s - loss: 3186.4292INFO:tensorflow:Assets written to: models/model_conv1D_multi/assets\n"
          ]
        },
        {
          "output_type": "stream",
          "name": "stderr",
          "text": [
            "INFO:tensorflow:Assets written to: models/model_conv1D_multi/assets\n"
          ]
        },
        {
          "output_type": "stream",
          "name": "stdout",
          "text": [
            "\b\b\b\b\b\b\b\b\b\b\b\b\b\b\b\b\b\b\b\b\b\b\b\b\b\b\b\b\b\b\b\b\b\b\b\b\b\b\b\b\b\b\b\b\b\b\b\b\b\b\b\b\b\b\b\b\b\b\b\b\b\b\b\b\r4/4 [==============================] - 1s 177ms/step - loss: 3174.4844 - val_loss: 8709.9521\n",
            "Epoch 4/1000\n",
            "1/4 [======>.......................] - ETA: 0s - loss: 2925.1487INFO:tensorflow:Assets written to: models/model_conv1D_multi/assets\n"
          ]
        },
        {
          "output_type": "stream",
          "name": "stderr",
          "text": [
            "INFO:tensorflow:Assets written to: models/model_conv1D_multi/assets\n"
          ]
        },
        {
          "output_type": "stream",
          "name": "stdout",
          "text": [
            "\b\b\b\b\b\b\b\b\b\b\b\b\b\b\b\b\b\b\b\b\b\b\b\b\b\b\b\b\b\b\b\b\b\b\b\b\b\b\b\b\b\b\b\b\b\b\b\b\b\b\b\b\b\b\b\b\b\b\b\b\b\b\b\b\r4/4 [==============================] - 1s 176ms/step - loss: 3172.7913 - val_loss: 8696.1357\n",
            "Epoch 5/1000\n",
            "1/4 [======>.......................] - ETA: 0s - loss: 3354.6492INFO:tensorflow:Assets written to: models/model_conv1D_multi/assets\n"
          ]
        },
        {
          "output_type": "stream",
          "name": "stderr",
          "text": [
            "INFO:tensorflow:Assets written to: models/model_conv1D_multi/assets\n"
          ]
        },
        {
          "output_type": "stream",
          "name": "stdout",
          "text": [
            "\b\b\b\b\b\b\b\b\b\b\b\b\b\b\b\b\b\b\b\b\b\b\b\b\b\b\b\b\b\b\b\b\b\b\b\b\b\b\b\b\b\b\b\b\b\b\b\b\b\b\b\b\b\b\b\b\b\b\b\b\b\b\b\b\r4/4 [==============================] - 1s 180ms/step - loss: 3168.3381 - val_loss: 8673.4375\n",
            "Epoch 6/1000\n",
            "1/4 [======>.......................] - ETA: 0s - loss: 3396.6150INFO:tensorflow:Assets written to: models/model_conv1D_multi/assets\n"
          ]
        },
        {
          "output_type": "stream",
          "name": "stderr",
          "text": [
            "INFO:tensorflow:Assets written to: models/model_conv1D_multi/assets\n"
          ]
        },
        {
          "output_type": "stream",
          "name": "stdout",
          "text": [
            "\b\b\b\b\b\b\b\b\b\b\b\b\b\b\b\b\b\b\b\b\b\b\b\b\b\b\b\b\b\b\b\b\b\b\b\b\b\b\b\b\b\b\b\b\b\b\b\b\b\b\b\b\b\b\b\b\b\b\b\b\b\b\b\b\r4/4 [==============================] - 1s 172ms/step - loss: 3162.2261 - val_loss: 8635.7246\n",
            "Epoch 7/1000\n",
            "1/4 [======>.......................] - ETA: 0s - loss: 3250.4768INFO:tensorflow:Assets written to: models/model_conv1D_multi/assets\n"
          ]
        },
        {
          "output_type": "stream",
          "name": "stderr",
          "text": [
            "INFO:tensorflow:Assets written to: models/model_conv1D_multi/assets\n"
          ]
        },
        {
          "output_type": "stream",
          "name": "stdout",
          "text": [
            "\b\b\b\b\b\b\b\b\b\b\b\b\b\b\b\b\b\b\b\b\b\b\b\b\b\b\b\b\b\b\b\b\b\b\b\b\b\b\b\b\b\b\b\b\b\b\b\b\b\b\b\b\b\b\b\b\b\b\b\b\b\b\b\b\r4/4 [==============================] - 1s 175ms/step - loss: 3150.9285 - val_loss: 8574.8516\n",
            "Epoch 8/1000\n",
            "1/4 [======>.......................] - ETA: 0s - loss: 3140.3052INFO:tensorflow:Assets written to: models/model_conv1D_multi/assets\n"
          ]
        },
        {
          "output_type": "stream",
          "name": "stderr",
          "text": [
            "INFO:tensorflow:Assets written to: models/model_conv1D_multi/assets\n"
          ]
        },
        {
          "output_type": "stream",
          "name": "stdout",
          "text": [
            "\b\b\b\b\b\b\b\b\b\b\b\b\b\b\b\b\b\b\b\b\b\b\b\b\b\b\b\b\b\b\b\b\b\b\b\b\b\b\b\b\b\b\b\b\b\b\b\b\b\b\b\b\b\b\b\b\b\b\b\b\b\b\b\b\r4/4 [==============================] - 1s 180ms/step - loss: 3133.6560 - val_loss: 8471.4775\n",
            "Epoch 9/1000\n",
            "1/4 [======>.......................] - ETA: 0s - loss: 3142.5562INFO:tensorflow:Assets written to: models/model_conv1D_multi/assets\n"
          ]
        },
        {
          "output_type": "stream",
          "name": "stderr",
          "text": [
            "INFO:tensorflow:Assets written to: models/model_conv1D_multi/assets\n"
          ]
        },
        {
          "output_type": "stream",
          "name": "stdout",
          "text": [
            "\b\b\b\b\b\b\b\b\b\b\b\b\b\b\b\b\b\b\b\b\b\b\b\b\b\b\b\b\b\b\b\b\b\b\b\b\b\b\b\b\b\b\b\b\b\b\b\b\b\b\b\b\b\b\b\b\b\b\b\b\b\b\b\b\r4/4 [==============================] - 1s 265ms/step - loss: 3105.8501 - val_loss: 8279.1094\n",
            "Epoch 10/1000\n",
            "1/4 [======>.......................] - ETA: 0s - loss: 2962.9246INFO:tensorflow:Assets written to: models/model_conv1D_multi/assets\n"
          ]
        },
        {
          "output_type": "stream",
          "name": "stderr",
          "text": [
            "INFO:tensorflow:Assets written to: models/model_conv1D_multi/assets\n"
          ]
        },
        {
          "output_type": "stream",
          "name": "stdout",
          "text": [
            "\b\b\b\b\b\b\b\b\b\b\b\b\b\b\b\b\b\b\b\b\b\b\b\b\b\b\b\b\b\b\b\b\b\b\b\b\b\b\b\b\b\b\b\b\b\b\b\b\b\b\b\b\b\b\b\b\b\b\b\b\b\b\b\b\r4/4 [==============================] - 1s 180ms/step - loss: 3062.1841 - val_loss: 8051.8525\n",
            "Epoch 11/1000\n",
            "1/4 [======>.......................] - ETA: 0s - loss: 3015.8645INFO:tensorflow:Assets written to: models/model_conv1D_multi/assets\n"
          ]
        },
        {
          "output_type": "stream",
          "name": "stderr",
          "text": [
            "INFO:tensorflow:Assets written to: models/model_conv1D_multi/assets\n"
          ]
        },
        {
          "output_type": "stream",
          "name": "stdout",
          "text": [
            "\b\b\b\b\b\b\b\b\b\b\b\b\b\b\b\b\b\b\b\b\b\b\b\b\b\b\b\b\b\b\b\b\b\b\b\b\b\b\b\b\b\b\b\b\b\b\b\b\b\b\b\b\b\b\b\b\b\b\b\b\b\b\b\b\r4/4 [==============================] - 1s 184ms/step - loss: 3033.2810 - val_loss: 7876.7515\n",
            "Epoch 12/1000\n",
            "1/4 [======>.......................] - ETA: 0s - loss: 2895.9629INFO:tensorflow:Assets written to: models/model_conv1D_multi/assets\n"
          ]
        },
        {
          "output_type": "stream",
          "name": "stderr",
          "text": [
            "INFO:tensorflow:Assets written to: models/model_conv1D_multi/assets\n"
          ]
        },
        {
          "output_type": "stream",
          "name": "stdout",
          "text": [
            "\b\b\b\b\b\b\b\b\b\b\b\b\b\b\b\b\b\b\b\b\b\b\b\b\b\b\b\b\b\b\b\b\b\b\b\b\b\b\b\b\b\b\b\b\b\b\b\b\b\b\b\b\b\b\b\b\b\b\b\b\b\b\b\b\r4/4 [==============================] - 1s 179ms/step - loss: 2989.6663 - val_loss: 7634.3877\n",
            "Epoch 13/1000\n",
            "1/4 [======>.......................] - ETA: 0s - loss: 2814.9385INFO:tensorflow:Assets written to: models/model_conv1D_multi/assets\n"
          ]
        },
        {
          "output_type": "stream",
          "name": "stderr",
          "text": [
            "INFO:tensorflow:Assets written to: models/model_conv1D_multi/assets\n"
          ]
        },
        {
          "output_type": "stream",
          "name": "stdout",
          "text": [
            "\b\b\b\b\b\b\b\b\b\b\b\b\b\b\b\b\b\b\b\b\b\b\b\b\b\b\b\b\b\b\b\b\b\b\b\b\b\b\b\b\b\b\b\b\b\b\b\b\b\b\b\b\b\b\b\b\b\b\b\b\b\b\b\b\r4/4 [==============================] - 1s 177ms/step - loss: 2892.7629 - val_loss: 7120.2866\n",
            "Epoch 14/1000\n",
            "1/4 [======>.......................] - ETA: 0s - loss: 2735.7173INFO:tensorflow:Assets written to: models/model_conv1D_multi/assets\n"
          ]
        },
        {
          "output_type": "stream",
          "name": "stderr",
          "text": [
            "INFO:tensorflow:Assets written to: models/model_conv1D_multi/assets\n"
          ]
        },
        {
          "output_type": "stream",
          "name": "stdout",
          "text": [
            "\b\b\b\b\b\b\b\b\b\b\b\b\b\b\b\b\b\b\b\b\b\b\b\b\b\b\b\b\b\b\b\b\b\b\b\b\b\b\b\b\b\b\b\b\b\b\b\b\b\b\b\b\b\b\b\b\b\b\b\b\b\b\b\b\r4/4 [==============================] - 1s 180ms/step - loss: 2752.6699 - val_loss: 5724.1113\n",
            "Epoch 15/1000\n",
            "1/4 [======>.......................] - ETA: 0s - loss: 2337.3621INFO:tensorflow:Assets written to: models/model_conv1D_multi/assets\n"
          ]
        },
        {
          "output_type": "stream",
          "name": "stderr",
          "text": [
            "INFO:tensorflow:Assets written to: models/model_conv1D_multi/assets\n"
          ]
        },
        {
          "output_type": "stream",
          "name": "stdout",
          "text": [
            "\b\b\b\b\b\b\b\b\b\b\b\b\b\b\b\b\b\b\b\b\b\b\b\b\b\b\b\b\b\b\b\b\b\b\b\b\b\b\b\b\b\b\b\b\b\b\b\b\b\b\b\b\b\b\b\b\b\b\b\b\b\b\b\b\r4/4 [==============================] - 1s 181ms/step - loss: 2057.4058 - val_loss: 5271.9722\n",
            "Epoch 16/1000\n",
            "4/4 [==============================] - 0s 11ms/step - loss: 2415.9131 - val_loss: 6351.0874\n",
            "Epoch 17/1000\n",
            "4/4 [==============================] - 0s 13ms/step - loss: 2645.5806 - val_loss: 6609.5562\n",
            "Epoch 18/1000\n",
            "4/4 [==============================] - 0s 12ms/step - loss: 2690.0195 - val_loss: 6601.7021\n",
            "Epoch 19/1000\n",
            "4/4 [==============================] - 0s 11ms/step - loss: 2678.7507 - val_loss: 6478.4829\n",
            "Epoch 20/1000\n",
            "4/4 [==============================] - 0s 10ms/step - loss: 2641.2820 - val_loss: 6304.6841\n",
            "Epoch 21/1000\n",
            "4/4 [==============================] - 0s 11ms/step - loss: 2579.4500 - val_loss: 5963.7935\n",
            "Epoch 22/1000\n",
            "4/4 [==============================] - 0s 9ms/step - loss: 2445.2385 - val_loss: 5398.8945\n",
            "Epoch 23/1000\n",
            "1/4 [======>.......................] - ETA: 0s - loss: 2332.0830INFO:tensorflow:Assets written to: models/model_conv1D_multi/assets\n"
          ]
        },
        {
          "output_type": "stream",
          "name": "stderr",
          "text": [
            "INFO:tensorflow:Assets written to: models/model_conv1D_multi/assets\n"
          ]
        },
        {
          "output_type": "stream",
          "name": "stdout",
          "text": [
            "\b\b\b\b\b\b\b\b\b\b\b\b\b\b\b\b\b\b\b\b\b\b\b\b\b\b\b\b\b\b\b\b\b\b\b\b\b\b\b\b\b\b\b\b\b\b\b\b\b\b\b\b\b\b\b\b\b\b\b\b\b\b\b\b\r4/4 [==============================] - 1s 183ms/step - loss: 2144.5073 - val_loss: 4632.3276\n",
            "Epoch 24/1000\n",
            "4/4 [==============================] - 0s 10ms/step - loss: 1984.0836 - val_loss: 4903.8208\n",
            "Epoch 25/1000\n",
            "4/4 [==============================] - 0s 12ms/step - loss: 2327.5859 - val_loss: 5860.0635\n",
            "Epoch 26/1000\n",
            "4/4 [==============================] - 0s 10ms/step - loss: 2497.9089 - val_loss: 5465.0391\n",
            "Epoch 27/1000\n",
            "1/4 [======>.......................] - ETA: 0s - loss: 2422.1509INFO:tensorflow:Assets written to: models/model_conv1D_multi/assets\n"
          ]
        },
        {
          "output_type": "stream",
          "name": "stderr",
          "text": [
            "INFO:tensorflow:Assets written to: models/model_conv1D_multi/assets\n"
          ]
        },
        {
          "output_type": "stream",
          "name": "stdout",
          "text": [
            "\b\b\b\b\b\b\b\b\b\b\b\b\b\b\b\b\b\b\b\b\b\b\b\b\b\b\b\b\b\b\b\b\b\b\b\b\b\b\b\b\b\b\b\b\b\b\b\b\b\b\b\b\b\b\b\b\b\b\b\b\b\b\b\b\r4/4 [==============================] - 1s 176ms/step - loss: 2302.4128 - val_loss: 3774.3040\n",
            "Epoch 28/1000\n",
            "4/4 [==============================] - 0s 10ms/step - loss: 1764.8145 - val_loss: 4673.8481\n",
            "Epoch 29/1000\n",
            "1/4 [======>.......................] - ETA: 0s - loss: 1791.8525INFO:tensorflow:Assets written to: models/model_conv1D_multi/assets\n"
          ]
        },
        {
          "output_type": "stream",
          "name": "stderr",
          "text": [
            "INFO:tensorflow:Assets written to: models/model_conv1D_multi/assets\n"
          ]
        },
        {
          "output_type": "stream",
          "name": "stdout",
          "text": [
            "\b\b\b\b\b\b\b\b\b\b\b\b\b\b\b\b\b\b\b\b\b\b\b\b\b\b\b\b\b\b\b\b\b\b\b\b\b\b\b\b\b\b\b\b\b\b\b\b\b\b\b\b\b\b\b\b\b\b\b\b\b\b\b\b\r4/4 [==============================] - 1s 181ms/step - loss: 1477.4435 - val_loss: 1326.5745\n",
            "Epoch 30/1000\n",
            "4/4 [==============================] - 0s 10ms/step - loss: 2481.8303 - val_loss: 5333.9609\n",
            "Epoch 31/1000\n",
            "4/4 [==============================] - 0s 9ms/step - loss: 2540.0510 - val_loss: 7003.4189\n",
            "Epoch 32/1000\n",
            "4/4 [==============================] - 0s 9ms/step - loss: 2792.1885 - val_loss: 6854.3555\n",
            "Epoch 33/1000\n",
            "4/4 [==============================] - 0s 9ms/step - loss: 2713.7642 - val_loss: 6075.0137\n",
            "Epoch 34/1000\n",
            "4/4 [==============================] - 0s 9ms/step - loss: 2490.3799 - val_loss: 5128.8716\n",
            "Epoch 35/1000\n",
            "4/4 [==============================] - 0s 10ms/step - loss: 2202.2683 - val_loss: 4207.3369\n",
            "Epoch 36/1000\n",
            "4/4 [==============================] - 0s 10ms/step - loss: 1687.4310 - val_loss: 3895.6880\n",
            "Epoch 37/1000\n",
            "4/4 [==============================] - 0s 9ms/step - loss: 1446.9153 - val_loss: 2552.5425\n",
            "Epoch 38/1000\n",
            "4/4 [==============================] - 0s 9ms/step - loss: 1563.8674 - val_loss: 4919.8984\n",
            "Epoch 39/1000\n",
            "4/4 [==============================] - 0s 9ms/step - loss: 2557.5464 - val_loss: 7731.3662\n",
            "Epoch 40/1000\n",
            "4/4 [==============================] - 0s 9ms/step - loss: 2976.1863 - val_loss: 8051.6782\n",
            "Epoch 41/1000\n",
            "4/4 [==============================] - 0s 11ms/step - loss: 3029.4092 - val_loss: 8089.6499\n",
            "Epoch 42/1000\n",
            "4/4 [==============================] - 0s 11ms/step - loss: 3030.8022 - val_loss: 8010.1431\n",
            "Epoch 43/1000\n",
            "4/4 [==============================] - 0s 10ms/step - loss: 3008.8672 - val_loss: 7863.8438\n",
            "Epoch 44/1000\n",
            "4/4 [==============================] - 0s 10ms/step - loss: 2971.3984 - val_loss: 7659.0474\n",
            "Epoch 45/1000\n",
            "4/4 [==============================] - 0s 10ms/step - loss: 2928.3020 - val_loss: 7430.6855\n",
            "Epoch 46/1000\n",
            "4/4 [==============================] - 0s 10ms/step - loss: 2878.9651 - val_loss: 7248.4731\n",
            "Epoch 47/1000\n",
            "4/4 [==============================] - 0s 10ms/step - loss: 2833.0798 - val_loss: 7111.6069\n",
            "Epoch 48/1000\n",
            "4/4 [==============================] - 0s 10ms/step - loss: 2791.7695 - val_loss: 6982.7979\n",
            "Epoch 49/1000\n",
            "4/4 [==============================] - 0s 9ms/step - loss: 2760.5911 - val_loss: 6871.6562\n",
            "Epoch 50/1000\n",
            "4/4 [==============================] - 0s 12ms/step - loss: 2738.5112 - val_loss: 6780.2266\n",
            "Epoch 51/1000\n",
            "4/4 [==============================] - 0s 10ms/step - loss: 2721.5320 - val_loss: 6698.0000\n",
            "Epoch 52/1000\n",
            "4/4 [==============================] - 0s 10ms/step - loss: 2700.2222 - val_loss: 6612.1787\n",
            "Epoch 53/1000\n",
            "4/4 [==============================] - 0s 10ms/step - loss: 2672.8538 - val_loss: 6463.5068\n",
            "Epoch 54/1000\n",
            "4/4 [==============================] - 0s 10ms/step - loss: 2625.9695 - val_loss: 6206.9170\n",
            "Epoch 55/1000\n",
            "4/4 [==============================] - 0s 10ms/step - loss: 2547.8374 - val_loss: 5874.4912\n",
            "Epoch 56/1000\n",
            "4/4 [==============================] - 0s 10ms/step - loss: 2423.8718 - val_loss: 5275.6450\n",
            "Epoch 57/1000\n",
            "4/4 [==============================] - 0s 11ms/step - loss: 2111.3486 - val_loss: 4365.7485\n",
            "Epoch 58/1000\n",
            "4/4 [==============================] - 0s 11ms/step - loss: 1869.4727 - val_loss: 4077.0303\n",
            "Epoch 59/1000\n",
            "4/4 [==============================] - 0s 10ms/step - loss: 2076.0598 - val_loss: 4398.7612\n",
            "Epoch 60/1000\n",
            "4/4 [==============================] - 0s 10ms/step - loss: 1782.0071 - val_loss: 2932.6719\n",
            "Epoch 61/1000\n",
            "4/4 [==============================] - 0s 11ms/step - loss: 1745.4994 - val_loss: 5975.0229\n",
            "Epoch 62/1000\n",
            "4/4 [==============================] - 0s 10ms/step - loss: 2584.7415 - val_loss: 6342.9424\n",
            "Epoch 63/1000\n",
            "4/4 [==============================] - 0s 12ms/step - loss: 2621.8018 - val_loss: 6144.5767\n",
            "Epoch 64/1000\n",
            "4/4 [==============================] - 0s 10ms/step - loss: 2552.5583 - val_loss: 5849.3359\n",
            "Epoch 65/1000\n",
            "4/4 [==============================] - 0s 10ms/step - loss: 2468.9834 - val_loss: 5532.4414\n",
            "Epoch 66/1000\n",
            "4/4 [==============================] - 0s 10ms/step - loss: 2319.6694 - val_loss: 5073.4351\n",
            "Epoch 67/1000\n",
            "4/4 [==============================] - 0s 10ms/step - loss: 2041.5272 - val_loss: 4970.5391\n",
            "Epoch 68/1000\n",
            "4/4 [==============================] - 0s 10ms/step - loss: 1711.6182 - val_loss: 3512.1143\n",
            "Epoch 69/1000\n",
            "4/4 [==============================] - 0s 13ms/step - loss: 1419.1750 - val_loss: 3742.1167\n"
          ]
        },
        {
          "output_type": "execute_result",
          "data": {
            "text/plain": [
              "<keras.callbacks.History at 0x7feefd051750>"
            ]
          },
          "metadata": {},
          "execution_count": 50
        }
      ]
    },
    {
      "cell_type": "code",
      "source": [
        "model_2_multi = tf.keras.models.load_model(\"models/model_conv1D_multi\")\n",
        "model_2_multi.evaluate(x_test, y_test)"
      ],
      "metadata": {
        "colab": {
          "base_uri": "https://localhost:8080/"
        },
        "id": "d4CHIsT3r_-Z",
        "outputId": "0e17c2d6-74c4-4b81-995d-e1ee6381b2ab"
      },
      "execution_count": 51,
      "outputs": [
        {
          "output_type": "stream",
          "name": "stdout",
          "text": [
            "11/11 [==============================] - 0s 4ms/step - loss: 2438.9148\n"
          ]
        },
        {
          "output_type": "execute_result",
          "data": {
            "text/plain": [
              "2438.914794921875"
            ]
          },
          "metadata": {},
          "execution_count": 51
        }
      ]
    },
    {
      "cell_type": "code",
      "source": [
        "# Model predictions\n",
        "model_2_multi_preds = make_prediction(model_2_multi, x_test)"
      ],
      "metadata": {
        "id": "YAfkVEkxsV4C"
      },
      "execution_count": 52,
      "outputs": []
    },
    {
      "cell_type": "code",
      "source": [
        "offset=len(x_test)-100\n",
        "plt.figure(figsize=(10,7))\n",
        "plot_time_series(timesteps=X_test[-len(test_windows):], values=test_labels[:,0], format=\"-\", start=offset, label=\"Test Data\")\n",
        "plot_time_series(timesteps=x_test.index.to_numpy(), values=model_2_multi_preds, format=\"-\", start=offset, label=\"Model-2-conv1D-multivariate prediction\")"
      ],
      "metadata": {
        "colab": {
          "base_uri": "https://localhost:8080/",
          "height": 446
        },
        "id": "rDyM2QT9sraI",
        "outputId": "bd628706-6ec5-4851-9328-73a93717af44"
      },
      "execution_count": 53,
      "outputs": [
        {
          "output_type": "display_data",
          "data": {
            "text/plain": [
              "<Figure size 720x504 with 1 Axes>"
            ],
            "image/png": "[encoded data removed]"
          },
          "metadata": {
            "needs_background": "light"
          }
        }
      ]
    },
    {
      "cell_type": "code",
      "source": [
        "# Evaluate predictions\n",
        "model_2_results = evaluate_preds(y_true=tf.squeeze(y_test), y_pred=model_2_multi_preds)\n",
        "model_2_results"
      ],
      "metadata": {
        "colab": {
          "base_uri": "https://localhost:8080/"
        },
        "id": "3IGGYljNsgeL",
        "outputId": "998ba32a-5e04-4080-9b63-6f205c6f3e2d"
      },
      "execution_count": 54,
      "outputs": [
        {
          "output_type": "execute_result",
          "data": {
            "text/plain": [
              "{'mae': 2438.9148, 'mape': 12.282925, 'mse': 15021800.0, 'rmse': 3875.7966}"
            ]
          },
          "metadata": {},
          "execution_count": 54
        }
      ]
    },
    {
      "cell_type": "markdown",
      "source": [
        "## LSTM Multivariate Model"
      ],
      "metadata": {
        "id": "b6DF5Kwds3lT"
      }
    },
    {
      "cell_type": "code",
      "source": [
        "# See improving a model section of the bit-predict notebook\n",
        "tf.random.set_seed(42)\n",
        "\n",
        "# Make an LSTM model with the functional API\n",
        "inputs=layers.Input(shape=x_train.shape[1])\n",
        "x = layers.Lambda(lambda x: tf.expand_dims(x, axis=1))(inputs)\n",
        "x = layers.Bidirectional(layers.LSTM(128, activation=\"relu\"))(x)\n",
        "x = layers.Dense(32, activation=\"relu\")(x)\n",
        "output = layers.Dense(HORIZON)(x)\n",
        "model_3_multi = tf.keras.Model(inputs=inputs, outputs=output, name=\"model_lstm_multi\")\n",
        "\n",
        "# Compile\n",
        "model_3_multi.compile(loss=\"mae\",\n",
        "                optimizer=tf.keras.optimizers.Adam())\n",
        "\n",
        "# Fit\n",
        "model_3_multi.fit(x_train,\n",
        "            y_train,\n",
        "            epochs=1000,\n",
        "            verbose=1,\n",
        "            batch_size=BATCH_SIZE,\n",
        "            validation_data=(x_val, y_val),\n",
        "            callbacks=[create_model_checkpoint(model_name=model_3_multi.name), early_stopping()]\n",
        "            )\n",
        "\n"
      ],
      "metadata": {
        "colab": {
          "base_uri": "https://localhost:8080/"
        },
        "outputId": "120e1f8c-1acd-4419-c52e-be28a635f002",
        "id": "Oawuh1CQtmBH"
      },
      "execution_count": 55,
      "outputs": [
        {
          "output_type": "stream",
          "name": "stdout",
          "text": [
            "WARNING:tensorflow:Layer lstm_1 will not use cuDNN kernels since it doesn't meet the criteria. It will use a generic GPU kernel as fallback when running on GPU.\n"
          ]
        },
        {
          "output_type": "stream",
          "name": "stderr",
          "text": [
            "WARNING:tensorflow:Layer lstm_1 will not use cuDNN kernels since it doesn't meet the criteria. It will use a generic GPU kernel as fallback when running on GPU.\n"
          ]
        },
        {
          "output_type": "stream",
          "name": "stdout",
          "text": [
            "WARNING:tensorflow:Layer lstm_1 will not use cuDNN kernels since it doesn't meet the criteria. It will use a generic GPU kernel as fallback when running on GPU.\n"
          ]
        },
        {
          "output_type": "stream",
          "name": "stderr",
          "text": [
            "WARNING:tensorflow:Layer lstm_1 will not use cuDNN kernels since it doesn't meet the criteria. It will use a generic GPU kernel as fallback when running on GPU.\n"
          ]
        },
        {
          "output_type": "stream",
          "name": "stdout",
          "text": [
            "WARNING:tensorflow:Layer lstm_1 will not use cuDNN kernels since it doesn't meet the criteria. It will use a generic GPU kernel as fallback when running on GPU.\n"
          ]
        },
        {
          "output_type": "stream",
          "name": "stderr",
          "text": [
            "WARNING:tensorflow:Layer lstm_1 will not use cuDNN kernels since it doesn't meet the criteria. It will use a generic GPU kernel as fallback when running on GPU.\n"
          ]
        },
        {
          "output_type": "stream",
          "name": "stdout",
          "text": [
            "Epoch 1/1000\n",
            "1/4 [======>.......................] - ETA: 6s - loss: 2868.6040INFO:tensorflow:Assets written to: models/model_lstm_multi/assets\n"
          ]
        },
        {
          "output_type": "stream",
          "name": "stderr",
          "text": [
            "INFO:tensorflow:Assets written to: models/model_lstm_multi/assets\n",
            "WARNING:absl:<keras.layers.recurrent.LSTMCell object at 0x7fef76422210> has the same name 'LSTMCell' as a built-in Keras object. Consider renaming <class 'keras.layers.recurrent.LSTMCell'> to avoid naming conflicts when loading with `tf.keras.models.load_model`. If renaming is not possible, pass the object in the `custom_objects` parameter of the load function.\n",
            "WARNING:absl:<keras.layers.recurrent.LSTMCell object at 0x7feefddb8890> has the same name 'LSTMCell' as a built-in Keras object. Consider renaming <class 'keras.layers.recurrent.LSTMCell'> to avoid naming conflicts when loading with `tf.keras.models.load_model`. If renaming is not possible, pass the object in the `custom_objects` parameter of the load function.\n"
          ]
        },
        {
          "output_type": "stream",
          "name": "stdout",
          "text": [
            "\b\b\b\b\b\b\b\b\b\b\b\b\b\b\b\b\b\b\b\b\b\b\b\b\b\b\b\b\b\b\b\b\b\b\b\b\b\b\b\b\b\b\b\b\b\b\b\b\b\b\b\b\b\b\b\b\b\b\b\b\b\b\b\b\r4/4 [==============================] - 7s 1s/step - loss: 4529.4863 - val_loss: 11977.6777\n",
            "Epoch 2/1000\n",
            "1/4 [======>.......................] - ETA: 0s - loss: 5608.8418INFO:tensorflow:Assets written to: models/model_lstm_multi/assets\n"
          ]
        },
        {
          "output_type": "stream",
          "name": "stderr",
          "text": [
            "INFO:tensorflow:Assets written to: models/model_lstm_multi/assets\n",
            "WARNING:absl:<keras.layers.recurrent.LSTMCell object at 0x7fef76422210> has the same name 'LSTMCell' as a built-in Keras object. Consider renaming <class 'keras.layers.recurrent.LSTMCell'> to avoid naming conflicts when loading with `tf.keras.models.load_model`. If renaming is not possible, pass the object in the `custom_objects` parameter of the load function.\n",
            "WARNING:absl:<keras.layers.recurrent.LSTMCell object at 0x7feefddb8890> has the same name 'LSTMCell' as a built-in Keras object. Consider renaming <class 'keras.layers.recurrent.LSTMCell'> to avoid naming conflicts when loading with `tf.keras.models.load_model`. If renaming is not possible, pass the object in the `custom_objects` parameter of the load function.\n"
          ]
        },
        {
          "output_type": "stream",
          "name": "stdout",
          "text": [
            "\b\b\b\b\b\b\b\b\b\b\b\b\b\b\b\b\b\b\b\b\b\b\b\b\b\b\b\b\b\b\b\b\b\b\b\b\b\b\b\b\b\b\b\b\b\b\b\b\b\b\b\b\b\b\b\b\b\b\b\b\b\b\b\b\r4/4 [==============================] - 4s 1s/step - loss: 5179.3447 - val_loss: 6361.9424\n",
            "Epoch 3/1000\n",
            "1/4 [======>.......................] - ETA: 0s - loss: 2130.0825INFO:tensorflow:Assets written to: models/model_lstm_multi/assets\n"
          ]
        },
        {
          "output_type": "stream",
          "name": "stderr",
          "text": [
            "INFO:tensorflow:Assets written to: models/model_lstm_multi/assets\n",
            "WARNING:absl:<keras.layers.recurrent.LSTMCell object at 0x7fef76422210> has the same name 'LSTMCell' as a built-in Keras object. Consider renaming <class 'keras.layers.recurrent.LSTMCell'> to avoid naming conflicts when loading with `tf.keras.models.load_model`. If renaming is not possible, pass the object in the `custom_objects` parameter of the load function.\n",
            "WARNING:absl:<keras.layers.recurrent.LSTMCell object at 0x7feefddb8890> has the same name 'LSTMCell' as a built-in Keras object. Consider renaming <class 'keras.layers.recurrent.LSTMCell'> to avoid naming conflicts when loading with `tf.keras.models.load_model`. If renaming is not possible, pass the object in the `custom_objects` parameter of the load function.\n"
          ]
        },
        {
          "output_type": "stream",
          "name": "stdout",
          "text": [
            "\b\b\b\b\b\b\b\b\b\b\b\b\b\b\b\b\b\b\b\b\b\b\b\b\b\b\b\b\b\b\b\b\b\b\b\b\b\b\b\b\b\b\b\b\b\b\b\b\b\b\b\b\b\b\b\b\b\b\b\b\b\b\b\b\r4/4 [==============================] - 4s 1s/step - loss: 2431.0398 - val_loss: 5550.3843\n",
            "Epoch 4/1000\n",
            "1/4 [======>.......................] - ETA: 0s - loss: 1815.9562INFO:tensorflow:Assets written to: models/model_lstm_multi/assets\n"
          ]
        },
        {
          "output_type": "stream",
          "name": "stderr",
          "text": [
            "INFO:tensorflow:Assets written to: models/model_lstm_multi/assets\n",
            "WARNING:absl:<keras.layers.recurrent.LSTMCell object at 0x7fef76422210> has the same name 'LSTMCell' as a built-in Keras object. Consider renaming <class 'keras.layers.recurrent.LSTMCell'> to avoid naming conflicts when loading with `tf.keras.models.load_model`. If renaming is not possible, pass the object in the `custom_objects` parameter of the load function.\n",
            "WARNING:absl:<keras.layers.recurrent.LSTMCell object at 0x7feefddb8890> has the same name 'LSTMCell' as a built-in Keras object. Consider renaming <class 'keras.layers.recurrent.LSTMCell'> to avoid naming conflicts when loading with `tf.keras.models.load_model`. If renaming is not possible, pass the object in the `custom_objects` parameter of the load function.\n"
          ]
        },
        {
          "output_type": "stream",
          "name": "stdout",
          "text": [
            "\b\b\b\b\b\b\b\b\b\b\b\b\b\b\b\b\b\b\b\b\b\b\b\b\b\b\b\b\b\b\b\b\b\b\b\b\b\b\b\b\b\b\b\b\b\b\b\b\b\b\b\b\b\b\b\b\b\b\b\b\b\b\b\b\r4/4 [==============================] - 5s 1s/step - loss: 1688.2921 - val_loss: 4487.2148\n",
            "Epoch 5/1000\n",
            "4/4 [==============================] - 0s 18ms/step - loss: 1414.7744 - val_loss: 4736.6772\n",
            "Epoch 6/1000\n",
            "1/4 [======>.......................] - ETA: 0s - loss: 2251.1465INFO:tensorflow:Assets written to: models/model_lstm_multi/assets\n"
          ]
        },
        {
          "output_type": "stream",
          "name": "stderr",
          "text": [
            "INFO:tensorflow:Assets written to: models/model_lstm_multi/assets\n",
            "WARNING:absl:<keras.layers.recurrent.LSTMCell object at 0x7fef76422210> has the same name 'LSTMCell' as a built-in Keras object. Consider renaming <class 'keras.layers.recurrent.LSTMCell'> to avoid naming conflicts when loading with `tf.keras.models.load_model`. If renaming is not possible, pass the object in the `custom_objects` parameter of the load function.\n",
            "WARNING:absl:<keras.layers.recurrent.LSTMCell object at 0x7feefddb8890> has the same name 'LSTMCell' as a built-in Keras object. Consider renaming <class 'keras.layers.recurrent.LSTMCell'> to avoid naming conflicts when loading with `tf.keras.models.load_model`. If renaming is not possible, pass the object in the `custom_objects` parameter of the load function.\n"
          ]
        },
        {
          "output_type": "stream",
          "name": "stdout",
          "text": [
            "\b\b\b\b\b\b\b\b\b\b\b\b\b\b\b\b\b\b\b\b\b\b\b\b\b\b\b\b\b\b\b\b\b\b\b\b\b\b\b\b\b\b\b\b\b\b\b\b\b\b\b\b\b\b\b\b\b\b\b\b\b\b\b\b\r4/4 [==============================] - 4s 1s/step - loss: 1673.0389 - val_loss: 3713.0427\n",
            "Epoch 7/1000\n",
            "4/4 [==============================] - 0s 18ms/step - loss: 1358.0220 - val_loss: 5509.6909\n",
            "Epoch 8/1000\n",
            "4/4 [==============================] - 0s 21ms/step - loss: 1796.3082 - val_loss: 4443.1128\n",
            "Epoch 9/1000\n",
            "4/4 [==============================] - 0s 15ms/step - loss: 2008.7731 - val_loss: 5316.1621\n",
            "Epoch 10/1000\n",
            "1/4 [======>.......................] - ETA: 0s - loss: 2900.3154INFO:tensorflow:Assets written to: models/model_lstm_multi/assets\n"
          ]
        },
        {
          "output_type": "stream",
          "name": "stderr",
          "text": [
            "INFO:tensorflow:Assets written to: models/model_lstm_multi/assets\n",
            "WARNING:absl:<keras.layers.recurrent.LSTMCell object at 0x7fef76422210> has the same name 'LSTMCell' as a built-in Keras object. Consider renaming <class 'keras.layers.recurrent.LSTMCell'> to avoid naming conflicts when loading with `tf.keras.models.load_model`. If renaming is not possible, pass the object in the `custom_objects` parameter of the load function.\n",
            "WARNING:absl:<keras.layers.recurrent.LSTMCell object at 0x7feefddb8890> has the same name 'LSTMCell' as a built-in Keras object. Consider renaming <class 'keras.layers.recurrent.LSTMCell'> to avoid naming conflicts when loading with `tf.keras.models.load_model`. If renaming is not possible, pass the object in the `custom_objects` parameter of the load function.\n"
          ]
        },
        {
          "output_type": "stream",
          "name": "stdout",
          "text": [
            "\b\b\b\b\b\b\b\b\b\b\b\b\b\b\b\b\b\b\b\b\b\b\b\b\b\b\b\b\b\b\b\b\b\b\b\b\b\b\b\b\b\b\b\b\b\b\b\b\b\b\b\b\b\b\b\b\b\b\b\b\b\b\b\b\r4/4 [==============================] - 4s 1s/step - loss: 3738.0227 - val_loss: 3414.0645\n",
            "Epoch 11/1000\n",
            "4/4 [==============================] - 0s 16ms/step - loss: 1728.9033 - val_loss: 5038.9160\n",
            "Epoch 12/1000\n",
            "4/4 [==============================] - 0s 16ms/step - loss: 1564.9919 - val_loss: 5486.0840\n",
            "Epoch 13/1000\n",
            "1/4 [======>.......................] - ETA: 0s - loss: 3176.1614INFO:tensorflow:Assets written to: models/model_lstm_multi/assets\n"
          ]
        },
        {
          "output_type": "stream",
          "name": "stderr",
          "text": [
            "INFO:tensorflow:Assets written to: models/model_lstm_multi/assets\n",
            "WARNING:absl:<keras.layers.recurrent.LSTMCell object at 0x7fef76422210> has the same name 'LSTMCell' as a built-in Keras object. Consider renaming <class 'keras.layers.recurrent.LSTMCell'> to avoid naming conflicts when loading with `tf.keras.models.load_model`. If renaming is not possible, pass the object in the `custom_objects` parameter of the load function.\n",
            "WARNING:absl:<keras.layers.recurrent.LSTMCell object at 0x7feefddb8890> has the same name 'LSTMCell' as a built-in Keras object. Consider renaming <class 'keras.layers.recurrent.LSTMCell'> to avoid naming conflicts when loading with `tf.keras.models.load_model`. If renaming is not possible, pass the object in the `custom_objects` parameter of the load function.\n"
          ]
        },
        {
          "output_type": "stream",
          "name": "stdout",
          "text": [
            "\b\b\b\b\b\b\b\b\b\b\b\b\b\b\b\b\b\b\b\b\b\b\b\b\b\b\b\b\b\b\b\b\b\b\b\b\b\b\b\b\b\b\b\b\b\b\b\b\b\b\b\b\b\b\b\b\b\b\b\b\b\b\b\b\r4/4 [==============================] - 5s 2s/step - loss: 3278.1794 - val_loss: 2639.7961\n",
            "Epoch 14/1000\n",
            "1/4 [======>.......................] - ETA: 0s - loss: 1085.7469INFO:tensorflow:Assets written to: models/model_lstm_multi/assets\n"
          ]
        },
        {
          "output_type": "stream",
          "name": "stderr",
          "text": [
            "INFO:tensorflow:Assets written to: models/model_lstm_multi/assets\n",
            "WARNING:absl:<keras.layers.recurrent.LSTMCell object at 0x7fef76422210> has the same name 'LSTMCell' as a built-in Keras object. Consider renaming <class 'keras.layers.recurrent.LSTMCell'> to avoid naming conflicts when loading with `tf.keras.models.load_model`. If renaming is not possible, pass the object in the `custom_objects` parameter of the load function.\n",
            "WARNING:absl:<keras.layers.recurrent.LSTMCell object at 0x7feefddb8890> has the same name 'LSTMCell' as a built-in Keras object. Consider renaming <class 'keras.layers.recurrent.LSTMCell'> to avoid naming conflicts when loading with `tf.keras.models.load_model`. If renaming is not possible, pass the object in the `custom_objects` parameter of the load function.\n"
          ]
        },
        {
          "output_type": "stream",
          "name": "stdout",
          "text": [
            "\b\b\b\b\b\b\b\b\b\b\b\b\b\b\b\b\b\b\b\b\b\b\b\b\b\b\b\b\b\b\b\b\b\b\b\b\b\b\b\b\b\b\b\b\b\b\b\b\b\b\b\b\b\b\b\b\b\b\b\b\b\b\b\b\r4/4 [==============================] - 4s 1s/step - loss: 1967.2968 - val_loss: 2129.3342\n",
            "Epoch 15/1000\n",
            "4/4 [==============================] - 0s 15ms/step - loss: 1214.1866 - val_loss: 2278.1357\n",
            "Epoch 16/1000\n",
            "4/4 [==============================] - 0s 15ms/step - loss: 1196.5134 - val_loss: 3208.8398\n",
            "Epoch 17/1000\n",
            "1/4 [======>.......................] - ETA: 0s - loss: 1562.0369INFO:tensorflow:Assets written to: models/model_lstm_multi/assets\n"
          ]
        },
        {
          "output_type": "stream",
          "name": "stderr",
          "text": [
            "INFO:tensorflow:Assets written to: models/model_lstm_multi/assets\n",
            "WARNING:absl:<keras.layers.recurrent.LSTMCell object at 0x7fef76422210> has the same name 'LSTMCell' as a built-in Keras object. Consider renaming <class 'keras.layers.recurrent.LSTMCell'> to avoid naming conflicts when loading with `tf.keras.models.load_model`. If renaming is not possible, pass the object in the `custom_objects` parameter of the load function.\n",
            "WARNING:absl:<keras.layers.recurrent.LSTMCell object at 0x7feefddb8890> has the same name 'LSTMCell' as a built-in Keras object. Consider renaming <class 'keras.layers.recurrent.LSTMCell'> to avoid naming conflicts when loading with `tf.keras.models.load_model`. If renaming is not possible, pass the object in the `custom_objects` parameter of the load function.\n"
          ]
        },
        {
          "output_type": "stream",
          "name": "stdout",
          "text": [
            "\b\b\b\b\b\b\b\b\b\b\b\b\b\b\b\b\b\b\b\b\b\b\b\b\b\b\b\b\b\b\b\b\b\b\b\b\b\b\b\b\b\b\b\b\b\b\b\b\b\b\b\b\b\b\b\b\b\b\b\b\b\b\b\b\r4/4 [==============================] - 5s 2s/step - loss: 1714.1407 - val_loss: 2092.9675\n",
            "Epoch 18/1000\n",
            "1/4 [======>.......................] - ETA: 0s - loss: 980.9684INFO:tensorflow:Assets written to: models/model_lstm_multi/assets\n"
          ]
        },
        {
          "output_type": "stream",
          "name": "stderr",
          "text": [
            "INFO:tensorflow:Assets written to: models/model_lstm_multi/assets\n",
            "WARNING:absl:<keras.layers.recurrent.LSTMCell object at 0x7fef76422210> has the same name 'LSTMCell' as a built-in Keras object. Consider renaming <class 'keras.layers.recurrent.LSTMCell'> to avoid naming conflicts when loading with `tf.keras.models.load_model`. If renaming is not possible, pass the object in the `custom_objects` parameter of the load function.\n",
            "WARNING:absl:<keras.layers.recurrent.LSTMCell object at 0x7feefddb8890> has the same name 'LSTMCell' as a built-in Keras object. Consider renaming <class 'keras.layers.recurrent.LSTMCell'> to avoid naming conflicts when loading with `tf.keras.models.load_model`. If renaming is not possible, pass the object in the `custom_objects` parameter of the load function.\n"
          ]
        },
        {
          "output_type": "stream",
          "name": "stdout",
          "text": [
            "\b\b\b\b\b\b\b\b\b\b\b\b\b\b\b\b\b\b\b\b\b\b\b\b\b\b\b\b\b\b\b\b\b\b\b\b\b\b\b\b\b\b\b\b\b\b\b\b\b\b\b\b\b\b\b\b\b\b\b\b\b\b\b\r4/4 [==============================] - 4s 1s/step - loss: 1009.4000 - val_loss: 1985.5042\n",
            "Epoch 19/1000\n",
            "4/4 [==============================] - 0s 15ms/step - loss: 810.3458 - val_loss: 2421.0051\n",
            "Epoch 20/1000\n",
            "4/4 [==============================] - 0s 16ms/step - loss: 953.2903 - val_loss: 2955.9106\n",
            "Epoch 21/1000\n",
            "4/4 [==============================] - 0s 14ms/step - loss: 968.7694 - val_loss: 2240.9380\n",
            "Epoch 22/1000\n",
            "1/4 [======>.......................] - ETA: 0s - loss: 1050.4086INFO:tensorflow:Assets written to: models/model_lstm_multi/assets\n"
          ]
        },
        {
          "output_type": "stream",
          "name": "stderr",
          "text": [
            "INFO:tensorflow:Assets written to: models/model_lstm_multi/assets\n",
            "WARNING:absl:<keras.layers.recurrent.LSTMCell object at 0x7fef76422210> has the same name 'LSTMCell' as a built-in Keras object. Consider renaming <class 'keras.layers.recurrent.LSTMCell'> to avoid naming conflicts when loading with `tf.keras.models.load_model`. If renaming is not possible, pass the object in the `custom_objects` parameter of the load function.\n",
            "WARNING:absl:<keras.layers.recurrent.LSTMCell object at 0x7feefddb8890> has the same name 'LSTMCell' as a built-in Keras object. Consider renaming <class 'keras.layers.recurrent.LSTMCell'> to avoid naming conflicts when loading with `tf.keras.models.load_model`. If renaming is not possible, pass the object in the `custom_objects` parameter of the load function.\n"
          ]
        },
        {
          "output_type": "stream",
          "name": "stdout",
          "text": [
            "\b\b\b\b\b\b\b\b\b\b\b\b\b\b\b\b\b\b\b\b\b\b\b\b\b\b\b\b\b\b\b\b\b\b\b\b\b\b\b\b\b\b\b\b\b\b\b\b\b\b\b\b\b\b\b\b\b\b\b\b\b\b\b\b\r4/4 [==============================] - 7s 2s/step - loss: 864.4388 - val_loss: 1525.9181\n",
            "Epoch 23/1000\n",
            "4/4 [==============================] - 0s 32ms/step - loss: 1162.1151 - val_loss: 2482.6313\n",
            "Epoch 24/1000\n",
            "4/4 [==============================] - 0s 26ms/step - loss: 1386.0521 - val_loss: 2378.9963\n",
            "Epoch 25/1000\n",
            "4/4 [==============================] - 0s 32ms/step - loss: 1366.7357 - val_loss: 2127.2737\n",
            "Epoch 26/1000\n",
            "4/4 [==============================] - 0s 35ms/step - loss: 856.1796 - val_loss: 3269.8137\n",
            "Epoch 27/1000\n",
            "4/4 [==============================] - 0s 49ms/step - loss: 1126.2520 - val_loss: 4375.3433\n",
            "Epoch 28/1000\n",
            "4/4 [==============================] - 0s 25ms/step - loss: 1952.4976 - val_loss: 3072.8625\n",
            "Epoch 29/1000\n",
            "4/4 [==============================] - 0s 21ms/step - loss: 1932.0338 - val_loss: 2544.2249\n",
            "Epoch 30/1000\n",
            "4/4 [==============================] - 0s 64ms/step - loss: 2299.0027 - val_loss: 3561.8850\n",
            "Epoch 31/1000\n",
            "4/4 [==============================] - 0s 40ms/step - loss: 1335.9999 - val_loss: 6191.5308\n",
            "Epoch 32/1000\n",
            "4/4 [==============================] - 0s 43ms/step - loss: 2442.2432 - val_loss: 2017.0972\n",
            "Epoch 33/1000\n",
            "4/4 [==============================] - ETA: 0s - loss: 878.9987INFO:tensorflow:Assets written to: models/model_lstm_multi/assets\n"
          ]
        },
        {
          "output_type": "stream",
          "name": "stderr",
          "text": [
            "INFO:tensorflow:Assets written to: models/model_lstm_multi/assets\n",
            "WARNING:absl:<keras.layers.recurrent.LSTMCell object at 0x7fef76422210> has the same name 'LSTMCell' as a built-in Keras object. Consider renaming <class 'keras.layers.recurrent.LSTMCell'> to avoid naming conflicts when loading with `tf.keras.models.load_model`. If renaming is not possible, pass the object in the `custom_objects` parameter of the load function.\n",
            "WARNING:absl:<keras.layers.recurrent.LSTMCell object at 0x7feefddb8890> has the same name 'LSTMCell' as a built-in Keras object. Consider renaming <class 'keras.layers.recurrent.LSTMCell'> to avoid naming conflicts when loading with `tf.keras.models.load_model`. If renaming is not possible, pass the object in the `custom_objects` parameter of the load function.\n"
          ]
        },
        {
          "output_type": "stream",
          "name": "stdout",
          "text": [
            "\b\b\b\b\b\b\b\b\b\b\b\b\b\b\b\b\b\b\b\b\b\b\b\b\b\b\b\b\b\b\b\b\b\b\b\b\b\b\b\b\b\b\b\b\b\b\b\b\b\b\b\b\b\b\b\b\b\b\b\b\b\b\b\r4/4 [==============================] - 5s 2s/step - loss: 878.9987 - val_loss: 913.4656\n",
            "Epoch 34/1000\n",
            "4/4 [==============================] - 0s 15ms/step - loss: 478.7905 - val_loss: 929.0237\n",
            "Epoch 35/1000\n",
            "4/4 [==============================] - 0s 15ms/step - loss: 337.6022 - val_loss: 1577.8375\n",
            "Epoch 36/1000\n",
            "4/4 [==============================] - 0s 15ms/step - loss: 598.5446 - val_loss: 2535.5693\n",
            "Epoch 37/1000\n",
            "4/4 [==============================] - 0s 20ms/step - loss: 859.0247 - val_loss: 1889.7261\n",
            "Epoch 38/1000\n",
            "4/4 [==============================] - 0s 23ms/step - loss: 724.0966 - val_loss: 1735.6759\n",
            "Epoch 39/1000\n",
            "4/4 [==============================] - 0s 25ms/step - loss: 520.4045 - val_loss: 1289.9880\n",
            "Epoch 40/1000\n",
            "4/4 [==============================] - ETA: 0s - loss: 684.1042INFO:tensorflow:Assets written to: models/model_lstm_multi/assets\n"
          ]
        },
        {
          "output_type": "stream",
          "name": "stderr",
          "text": [
            "INFO:tensorflow:Assets written to: models/model_lstm_multi/assets\n",
            "WARNING:absl:<keras.layers.recurrent.LSTMCell object at 0x7fef76422210> has the same name 'LSTMCell' as a built-in Keras object. Consider renaming <class 'keras.layers.recurrent.LSTMCell'> to avoid naming conflicts when loading with `tf.keras.models.load_model`. If renaming is not possible, pass the object in the `custom_objects` parameter of the load function.\n",
            "WARNING:absl:<keras.layers.recurrent.LSTMCell object at 0x7feefddb8890> has the same name 'LSTMCell' as a built-in Keras object. Consider renaming <class 'keras.layers.recurrent.LSTMCell'> to avoid naming conflicts when loading with `tf.keras.models.load_model`. If renaming is not possible, pass the object in the `custom_objects` parameter of the load function.\n"
          ]
        },
        {
          "output_type": "stream",
          "name": "stdout",
          "text": [
            "\b\b\b\b\b\b\b\b\b\b\b\b\b\b\b\b\b\b\b\b\b\b\b\b\b\b\b\b\b\b\b\b\b\b\b\b\b\b\b\b\b\b\b\b\b\b\b\b\b\b\b\b\b\b\b\b\b\b\b\b\b\b\b\r4/4 [==============================] - 7s 2s/step - loss: 684.1042 - val_loss: 855.4771\n",
            "Epoch 41/1000\n",
            "1/4 [======>.......................] - ETA: 0s - loss: 372.5596INFO:tensorflow:Assets written to: models/model_lstm_multi/assets\n"
          ]
        },
        {
          "output_type": "stream",
          "name": "stderr",
          "text": [
            "INFO:tensorflow:Assets written to: models/model_lstm_multi/assets\n",
            "WARNING:absl:<keras.layers.recurrent.LSTMCell object at 0x7fef76422210> has the same name 'LSTMCell' as a built-in Keras object. Consider renaming <class 'keras.layers.recurrent.LSTMCell'> to avoid naming conflicts when loading with `tf.keras.models.load_model`. If renaming is not possible, pass the object in the `custom_objects` parameter of the load function.\n",
            "WARNING:absl:<keras.layers.recurrent.LSTMCell object at 0x7feefddb8890> has the same name 'LSTMCell' as a built-in Keras object. Consider renaming <class 'keras.layers.recurrent.LSTMCell'> to avoid naming conflicts when loading with `tf.keras.models.load_model`. If renaming is not possible, pass the object in the `custom_objects` parameter of the load function.\n"
          ]
        },
        {
          "output_type": "stream",
          "name": "stdout",
          "text": [
            "\b\b\b\b\b\b\b\b\b\b\b\b\b\b\b\b\b\b\b\b\b\b\b\b\b\b\b\b\b\b\b\b\b\b\b\b\b\b\b\b\b\b\b\b\b\b\b\b\b\b\b\b\b\b\b\b\b\b\b\b\b\b\b\r4/4 [==============================] - 5s 2s/step - loss: 452.1675 - val_loss: 488.8212\n",
            "Epoch 42/1000\n",
            "4/4 [==============================] - 0s 22ms/step - loss: 257.7048 - val_loss: 1041.8455\n",
            "Epoch 43/1000\n",
            "4/4 [==============================] - 0s 38ms/step - loss: 362.7446 - val_loss: 1316.0815\n",
            "Epoch 44/1000\n",
            "4/4 [==============================] - 0s 41ms/step - loss: 501.6019 - val_loss: 840.7852\n",
            "Epoch 45/1000\n",
            "4/4 [==============================] - 0s 37ms/step - loss: 750.8894 - val_loss: 764.1462\n",
            "Epoch 46/1000\n",
            "4/4 [==============================] - 0s 28ms/step - loss: 916.4821 - val_loss: 1150.5900\n",
            "Epoch 47/1000\n",
            "4/4 [==============================] - 0s 33ms/step - loss: 895.2776 - val_loss: 730.1218\n",
            "Epoch 48/1000\n",
            "4/4 [==============================] - 0s 46ms/step - loss: 1084.8998 - val_loss: 1961.0013\n",
            "Epoch 49/1000\n",
            "4/4 [==============================] - 0s 42ms/step - loss: 651.2800 - val_loss: 491.8752\n",
            "Epoch 50/1000\n",
            "4/4 [==============================] - 0s 22ms/step - loss: 496.9294 - val_loss: 1516.1637\n",
            "Epoch 51/1000\n",
            "4/4 [==============================] - 0s 45ms/step - loss: 557.2936 - val_loss: 677.9718\n",
            "Epoch 52/1000\n",
            "4/4 [==============================] - 0s 28ms/step - loss: 547.0386 - val_loss: 2206.4421\n",
            "Epoch 53/1000\n",
            "4/4 [==============================] - 0s 32ms/step - loss: 1217.6437 - val_loss: 2206.7961\n",
            "Epoch 54/1000\n",
            "4/4 [==============================] - 0s 30ms/step - loss: 1438.9348 - val_loss: 930.7233\n",
            "Epoch 55/1000\n",
            "4/4 [==============================] - 0s 30ms/step - loss: 629.0820 - val_loss: 1786.8918\n",
            "Epoch 56/1000\n",
            "4/4 [==============================] - 0s 33ms/step - loss: 1025.4019 - val_loss: 2535.1760\n",
            "Epoch 57/1000\n",
            "1/4 [======>.......................] - ETA: 0s - loss: 1123.8413INFO:tensorflow:Assets written to: models/model_lstm_multi/assets\n"
          ]
        },
        {
          "output_type": "stream",
          "name": "stderr",
          "text": [
            "INFO:tensorflow:Assets written to: models/model_lstm_multi/assets\n",
            "WARNING:absl:<keras.layers.recurrent.LSTMCell object at 0x7fef76422210> has the same name 'LSTMCell' as a built-in Keras object. Consider renaming <class 'keras.layers.recurrent.LSTMCell'> to avoid naming conflicts when loading with `tf.keras.models.load_model`. If renaming is not possible, pass the object in the `custom_objects` parameter of the load function.\n",
            "WARNING:absl:<keras.layers.recurrent.LSTMCell object at 0x7feefddb8890> has the same name 'LSTMCell' as a built-in Keras object. Consider renaming <class 'keras.layers.recurrent.LSTMCell'> to avoid naming conflicts when loading with `tf.keras.models.load_model`. If renaming is not possible, pass the object in the `custom_objects` parameter of the load function.\n"
          ]
        },
        {
          "output_type": "stream",
          "name": "stdout",
          "text": [
            "\b\b\b\b\b\b\b\b\b\b\b\b\b\b\b\b\b\b\b\b\b\b\b\b\b\b\b\b\b\b\b\b\b\b\b\b\b\b\b\b\b\b\b\b\b\b\b\b\b\b\b\b\b\b\b\b\b\b\b\b\b\b\b\b\r4/4 [==============================] - 7s 2s/step - loss: 1670.8362 - val_loss: 447.6185\n",
            "Epoch 58/1000\n",
            "4/4 [==============================] - 0s 21ms/step - loss: 986.3433 - val_loss: 1073.8560\n",
            "Epoch 59/1000\n",
            "4/4 [==============================] - 0s 17ms/step - loss: 873.3256 - val_loss: 1877.5825\n",
            "Epoch 60/1000\n",
            "1/4 [======>.......................] - ETA: 0s - loss: 1007.1634INFO:tensorflow:Assets written to: models/model_lstm_multi/assets\n"
          ]
        },
        {
          "output_type": "stream",
          "name": "stderr",
          "text": [
            "INFO:tensorflow:Assets written to: models/model_lstm_multi/assets\n",
            "WARNING:absl:<keras.layers.recurrent.LSTMCell object at 0x7fef76422210> has the same name 'LSTMCell' as a built-in Keras object. Consider renaming <class 'keras.layers.recurrent.LSTMCell'> to avoid naming conflicts when loading with `tf.keras.models.load_model`. If renaming is not possible, pass the object in the `custom_objects` parameter of the load function.\n",
            "WARNING:absl:<keras.layers.recurrent.LSTMCell object at 0x7feefddb8890> has the same name 'LSTMCell' as a built-in Keras object. Consider renaming <class 'keras.layers.recurrent.LSTMCell'> to avoid naming conflicts when loading with `tf.keras.models.load_model`. If renaming is not possible, pass the object in the `custom_objects` parameter of the load function.\n"
          ]
        },
        {
          "output_type": "stream",
          "name": "stdout",
          "text": [
            "\b\b\b\b\b\b\b\b\b\b\b\b\b\b\b\b\b\b\b\b\b\b\b\b\b\b\b\b\b\b\b\b\b\b\b\b\b\b\b\b\b\b\b\b\b\b\b\b\b\b\b\b\b\b\b\b\b\b\b\b\b\b\b\b\r4/4 [==============================] - 5s 2s/step - loss: 605.5591 - val_loss: 433.5727\n",
            "Epoch 61/1000\n",
            "4/4 [==============================] - 0s 15ms/step - loss: 553.3885 - val_loss: 1005.2070\n",
            "Epoch 62/1000\n",
            "4/4 [==============================] - 0s 17ms/step - loss: 394.5183 - val_loss: 651.1603\n",
            "Epoch 63/1000\n",
            "4/4 [==============================] - 0s 14ms/step - loss: 505.9504 - val_loss: 1845.9446\n",
            "Epoch 64/1000\n",
            "4/4 [==============================] - 0s 16ms/step - loss: 1094.7174 - val_loss: 1774.9933\n",
            "Epoch 65/1000\n",
            "4/4 [==============================] - 0s 15ms/step - loss: 978.3024 - val_loss: 924.6085\n",
            "Epoch 66/1000\n",
            "4/4 [==============================] - 0s 16ms/step - loss: 392.6264 - val_loss: 1173.2958\n",
            "Epoch 67/1000\n",
            "4/4 [==============================] - 0s 14ms/step - loss: 689.6511 - val_loss: 2023.5211\n",
            "Epoch 68/1000\n",
            "4/4 [==============================] - 0s 14ms/step - loss: 849.9657 - val_loss: 2043.4557\n",
            "Epoch 69/1000\n",
            "4/4 [==============================] - 0s 15ms/step - loss: 563.5179 - val_loss: 815.1577\n",
            "Epoch 70/1000\n",
            "4/4 [==============================] - 0s 15ms/step - loss: 332.9902 - val_loss: 491.1161\n",
            "Epoch 71/1000\n",
            "4/4 [==============================] - 0s 15ms/step - loss: 366.1603 - val_loss: 1468.9441\n",
            "Epoch 72/1000\n",
            "4/4 [==============================] - 0s 18ms/step - loss: 524.9724 - val_loss: 641.9464\n",
            "Epoch 73/1000\n",
            "4/4 [==============================] - 0s 15ms/step - loss: 273.5957 - val_loss: 962.1542\n",
            "Epoch 74/1000\n",
            "4/4 [==============================] - 0s 16ms/step - loss: 328.3755 - val_loss: 1168.1263\n",
            "Epoch 75/1000\n",
            "4/4 [==============================] - 0s 14ms/step - loss: 495.3995 - val_loss: 907.4997\n",
            "Epoch 76/1000\n",
            "4/4 [==============================] - 0s 20ms/step - loss: 537.1685 - val_loss: 804.7006\n",
            "Epoch 77/1000\n",
            "4/4 [==============================] - 0s 14ms/step - loss: 344.6546 - val_loss: 578.6531\n",
            "Epoch 78/1000\n",
            "4/4 [==============================] - 0s 15ms/step - loss: 294.6275 - val_loss: 654.2650\n",
            "Epoch 79/1000\n",
            "4/4 [==============================] - 0s 15ms/step - loss: 321.2191 - val_loss: 891.8685\n",
            "Epoch 80/1000\n",
            "4/4 [==============================] - 0s 16ms/step - loss: 401.7660 - val_loss: 761.6255\n",
            "Epoch 81/1000\n",
            "4/4 [==============================] - 0s 16ms/step - loss: 578.2364 - val_loss: 1567.2759\n",
            "Epoch 82/1000\n",
            "4/4 [==============================] - 0s 18ms/step - loss: 788.1957 - val_loss: 953.8429\n",
            "Epoch 83/1000\n",
            "1/4 [======>.......................] - ETA: 0s - loss: 428.6614INFO:tensorflow:Assets written to: models/model_lstm_multi/assets\n"
          ]
        },
        {
          "output_type": "stream",
          "name": "stderr",
          "text": [
            "INFO:tensorflow:Assets written to: models/model_lstm_multi/assets\n",
            "WARNING:absl:<keras.layers.recurrent.LSTMCell object at 0x7fef76422210> has the same name 'LSTMCell' as a built-in Keras object. Consider renaming <class 'keras.layers.recurrent.LSTMCell'> to avoid naming conflicts when loading with `tf.keras.models.load_model`. If renaming is not possible, pass the object in the `custom_objects` parameter of the load function.\n",
            "WARNING:absl:<keras.layers.recurrent.LSTMCell object at 0x7feefddb8890> has the same name 'LSTMCell' as a built-in Keras object. Consider renaming <class 'keras.layers.recurrent.LSTMCell'> to avoid naming conflicts when loading with `tf.keras.models.load_model`. If renaming is not possible, pass the object in the `custom_objects` parameter of the load function.\n"
          ]
        },
        {
          "output_type": "stream",
          "name": "stdout",
          "text": [
            "\b\b\b\b\b\b\b\b\b\b\b\b\b\b\b\b\b\b\b\b\b\b\b\b\b\b\b\b\b\b\b\b\b\b\b\b\b\b\b\b\b\b\b\b\b\b\b\b\b\b\b\b\b\b\b\b\b\b\b\b\b\b\b\r4/4 [==============================] - 4s 1s/step - loss: 435.4957 - val_loss: 371.0258\n",
            "Epoch 84/1000\n",
            "4/4 [==============================] - 0s 16ms/step - loss: 270.5594 - val_loss: 1860.6793\n",
            "Epoch 85/1000\n",
            "4/4 [==============================] - 0s 15ms/step - loss: 660.7503 - val_loss: 1239.3572\n",
            "Epoch 86/1000\n",
            "4/4 [==============================] - 0s 16ms/step - loss: 448.3549 - val_loss: 376.5845\n",
            "Epoch 87/1000\n",
            "4/4 [==============================] - 0s 14ms/step - loss: 166.0439 - val_loss: 647.1119\n",
            "Epoch 88/1000\n",
            "4/4 [==============================] - 0s 15ms/step - loss: 331.4604 - val_loss: 635.3721\n",
            "Epoch 89/1000\n",
            "4/4 [==============================] - 0s 15ms/step - loss: 304.6950 - val_loss: 681.2859\n",
            "Epoch 90/1000\n",
            "1/4 [======>.......................] - ETA: 0s - loss: 358.7999INFO:tensorflow:Assets written to: models/model_lstm_multi/assets\n"
          ]
        },
        {
          "output_type": "stream",
          "name": "stderr",
          "text": [
            "INFO:tensorflow:Assets written to: models/model_lstm_multi/assets\n",
            "WARNING:absl:<keras.layers.recurrent.LSTMCell object at 0x7fef76422210> has the same name 'LSTMCell' as a built-in Keras object. Consider renaming <class 'keras.layers.recurrent.LSTMCell'> to avoid naming conflicts when loading with `tf.keras.models.load_model`. If renaming is not possible, pass the object in the `custom_objects` parameter of the load function.\n",
            "WARNING:absl:<keras.layers.recurrent.LSTMCell object at 0x7feefddb8890> has the same name 'LSTMCell' as a built-in Keras object. Consider renaming <class 'keras.layers.recurrent.LSTMCell'> to avoid naming conflicts when loading with `tf.keras.models.load_model`. If renaming is not possible, pass the object in the `custom_objects` parameter of the load function.\n"
          ]
        },
        {
          "output_type": "stream",
          "name": "stdout",
          "text": [
            "\b\b\b\b\b\b\b\b\b\b\b\b\b\b\b\b\b\b\b\b\b\b\b\b\b\b\b\b\b\b\b\b\b\b\b\b\b\b\b\b\b\b\b\b\b\b\b\b\b\b\b\b\b\b\b\b\b\b\b\b\b\b\b\r4/4 [==============================] - 5s 2s/step - loss: 285.5378 - val_loss: 345.1914\n",
            "Epoch 91/1000\n",
            "4/4 [==============================] - 0s 15ms/step - loss: 182.8548 - val_loss: 596.1575\n",
            "Epoch 92/1000\n",
            "4/4 [==============================] - 0s 16ms/step - loss: 256.6458 - val_loss: 370.0836\n",
            "Epoch 93/1000\n",
            "4/4 [==============================] - 0s 14ms/step - loss: 355.7997 - val_loss: 1470.4465\n",
            "Epoch 94/1000\n",
            "4/4 [==============================] - 0s 16ms/step - loss: 546.9531 - val_loss: 393.0889\n",
            "Epoch 95/1000\n",
            "4/4 [==============================] - 0s 15ms/step - loss: 585.1376 - val_loss: 2247.5637\n",
            "Epoch 96/1000\n",
            "4/4 [==============================] - 0s 21ms/step - loss: 1620.1654 - val_loss: 1063.3142\n",
            "Epoch 97/1000\n",
            "4/4 [==============================] - 0s 14ms/step - loss: 930.0489 - val_loss: 1488.1515\n",
            "Epoch 98/1000\n",
            "4/4 [==============================] - 0s 17ms/step - loss: 650.2675 - val_loss: 1693.9937\n",
            "Epoch 99/1000\n",
            "4/4 [==============================] - 0s 15ms/step - loss: 1294.6559 - val_loss: 1695.0427\n",
            "Epoch 100/1000\n",
            "4/4 [==============================] - 0s 15ms/step - loss: 1720.6627 - val_loss: 826.3055\n",
            "Epoch 101/1000\n",
            "4/4 [==============================] - 0s 15ms/step - loss: 1706.0227 - val_loss: 6736.5464\n",
            "Epoch 102/1000\n",
            "4/4 [==============================] - 0s 17ms/step - loss: 2757.2446 - val_loss: 2468.3967\n",
            "Epoch 103/1000\n",
            "4/4 [==============================] - 0s 15ms/step - loss: 1732.8088 - val_loss: 1514.4761\n",
            "Epoch 104/1000\n",
            "4/4 [==============================] - 0s 16ms/step - loss: 1134.8705 - val_loss: 3720.8169\n",
            "Epoch 105/1000\n",
            "4/4 [==============================] - 0s 14ms/step - loss: 1195.9470 - val_loss: 2573.8523\n",
            "Epoch 106/1000\n",
            "4/4 [==============================] - 0s 15ms/step - loss: 839.3966 - val_loss: 1796.7703\n",
            "Epoch 107/1000\n",
            "4/4 [==============================] - 0s 15ms/step - loss: 682.6581 - val_loss: 1930.3840\n",
            "Epoch 108/1000\n",
            "4/4 [==============================] - 0s 17ms/step - loss: 699.4556 - val_loss: 1978.9680\n",
            "Epoch 109/1000\n",
            "4/4 [==============================] - 0s 15ms/step - loss: 721.6698 - val_loss: 2965.1924\n",
            "Epoch 110/1000\n",
            "4/4 [==============================] - 0s 15ms/step - loss: 963.6152 - val_loss: 3283.2942\n",
            "Epoch 111/1000\n",
            "4/4 [==============================] - 0s 15ms/step - loss: 1469.8892 - val_loss: 1958.1737\n",
            "Epoch 112/1000\n",
            "4/4 [==============================] - 0s 15ms/step - loss: 1248.3887 - val_loss: 826.5908\n",
            "Epoch 113/1000\n",
            "4/4 [==============================] - 0s 16ms/step - loss: 872.3179 - val_loss: 1487.0837\n",
            "Epoch 114/1000\n",
            "1/4 [======>.......................] - ETA: 0s - loss: 708.0364INFO:tensorflow:Assets written to: models/model_lstm_multi/assets\n"
          ]
        },
        {
          "output_type": "stream",
          "name": "stderr",
          "text": [
            "INFO:tensorflow:Assets written to: models/model_lstm_multi/assets\n",
            "WARNING:absl:<keras.layers.recurrent.LSTMCell object at 0x7fef76422210> has the same name 'LSTMCell' as a built-in Keras object. Consider renaming <class 'keras.layers.recurrent.LSTMCell'> to avoid naming conflicts when loading with `tf.keras.models.load_model`. If renaming is not possible, pass the object in the `custom_objects` parameter of the load function.\n",
            "WARNING:absl:<keras.layers.recurrent.LSTMCell object at 0x7feefddb8890> has the same name 'LSTMCell' as a built-in Keras object. Consider renaming <class 'keras.layers.recurrent.LSTMCell'> to avoid naming conflicts when loading with `tf.keras.models.load_model`. If renaming is not possible, pass the object in the `custom_objects` parameter of the load function.\n"
          ]
        },
        {
          "output_type": "stream",
          "name": "stdout",
          "text": [
            "\b\b\b\b\b\b\b\b\b\b\b\b\b\b\b\b\b\b\b\b\b\b\b\b\b\b\b\b\b\b\b\b\b\b\b\b\b\b\b\b\b\b\b\b\b\b\b\b\b\b\b\b\b\b\b\b\b\b\b\b\b\b\b\r4/4 [==============================] - 4s 1s/step - loss: 1065.2172 - val_loss: 326.8764\n",
            "Epoch 115/1000\n",
            "4/4 [==============================] - 0s 15ms/step - loss: 546.6393 - val_loss: 1345.7195\n",
            "Epoch 116/1000\n",
            "4/4 [==============================] - 0s 16ms/step - loss: 737.3591 - val_loss: 1292.3591\n",
            "Epoch 117/1000\n",
            "4/4 [==============================] - 0s 14ms/step - loss: 474.7088 - val_loss: 1848.0043\n",
            "Epoch 118/1000\n",
            "4/4 [==============================] - 0s 17ms/step - loss: 554.9268 - val_loss: 528.6464\n",
            "Epoch 119/1000\n",
            "4/4 [==============================] - 0s 16ms/step - loss: 430.6241 - val_loss: 811.8534\n",
            "Epoch 120/1000\n",
            "4/4 [==============================] - 0s 16ms/step - loss: 350.9203 - val_loss: 1245.3625\n",
            "Epoch 121/1000\n",
            "4/4 [==============================] - 0s 14ms/step - loss: 399.9885 - val_loss: 446.0163\n",
            "Epoch 122/1000\n",
            "4/4 [==============================] - 0s 14ms/step - loss: 188.5014 - val_loss: 569.3323\n",
            "Epoch 123/1000\n",
            "4/4 [==============================] - 0s 14ms/step - loss: 260.4350 - val_loss: 1160.0635\n",
            "Epoch 124/1000\n",
            "4/4 [==============================] - 0s 14ms/step - loss: 448.1589 - val_loss: 1305.3003\n",
            "Epoch 125/1000\n",
            "4/4 [==============================] - 0s 15ms/step - loss: 517.6439 - val_loss: 380.8226\n",
            "Epoch 126/1000\n",
            "4/4 [==============================] - 0s 16ms/step - loss: 435.9730 - val_loss: 1412.2046\n",
            "Epoch 127/1000\n",
            "4/4 [==============================] - 0s 16ms/step - loss: 637.8773 - val_loss: 1829.2938\n",
            "Epoch 128/1000\n",
            "4/4 [==============================] - 0s 14ms/step - loss: 719.1136 - val_loss: 2351.7703\n",
            "Epoch 129/1000\n",
            "4/4 [==============================] - 0s 16ms/step - loss: 926.3898 - val_loss: 1994.0986\n",
            "Epoch 130/1000\n",
            "4/4 [==============================] - 0s 16ms/step - loss: 852.2237 - val_loss: 2027.3427\n",
            "Epoch 131/1000\n",
            "4/4 [==============================] - 0s 14ms/step - loss: 728.7603 - val_loss: 2365.0400\n",
            "Epoch 132/1000\n",
            "4/4 [==============================] - 0s 15ms/step - loss: 1008.9163 - val_loss: 1260.6521\n",
            "Epoch 133/1000\n",
            "4/4 [==============================] - 0s 15ms/step - loss: 430.9373 - val_loss: 384.9315\n",
            "Epoch 134/1000\n",
            "1/4 [======>.......................] - ETA: 0s - loss: 147.6927INFO:tensorflow:Assets written to: models/model_lstm_multi/assets\n"
          ]
        },
        {
          "output_type": "stream",
          "name": "stderr",
          "text": [
            "INFO:tensorflow:Assets written to: models/model_lstm_multi/assets\n",
            "WARNING:absl:<keras.layers.recurrent.LSTMCell object at 0x7fef76422210> has the same name 'LSTMCell' as a built-in Keras object. Consider renaming <class 'keras.layers.recurrent.LSTMCell'> to avoid naming conflicts when loading with `tf.keras.models.load_model`. If renaming is not possible, pass the object in the `custom_objects` parameter of the load function.\n",
            "WARNING:absl:<keras.layers.recurrent.LSTMCell object at 0x7feefddb8890> has the same name 'LSTMCell' as a built-in Keras object. Consider renaming <class 'keras.layers.recurrent.LSTMCell'> to avoid naming conflicts when loading with `tf.keras.models.load_model`. If renaming is not possible, pass the object in the `custom_objects` parameter of the load function.\n"
          ]
        },
        {
          "output_type": "stream",
          "name": "stdout",
          "text": [
            "\b\b\b\b\b\b\b\b\b\b\b\b\b\b\b\b\b\b\b\b\b\b\b\b\b\b\b\b\b\b\b\b\b\b\b\b\b\b\b\b\b\b\b\b\b\b\b\b\b\b\b\b\b\b\b\b\b\b\b\b\b\b\b\r4/4 [==============================] - 4s 1s/step - loss: 214.3114 - val_loss: 307.2808\n",
            "Epoch 135/1000\n",
            "4/4 [==============================] - 0s 17ms/step - loss: 245.2889 - val_loss: 778.7956\n",
            "Epoch 136/1000\n",
            "4/4 [==============================] - 0s 14ms/step - loss: 335.5235 - val_loss: 647.6013\n",
            "Epoch 137/1000\n",
            "4/4 [==============================] - 0s 16ms/step - loss: 277.6288 - val_loss: 432.8982\n",
            "Epoch 138/1000\n",
            "4/4 [==============================] - 0s 14ms/step - loss: 411.6747 - val_loss: 1323.5358\n",
            "Epoch 139/1000\n",
            "4/4 [==============================] - 0s 14ms/step - loss: 605.8640 - val_loss: 1801.4344\n",
            "Epoch 140/1000\n",
            "4/4 [==============================] - 0s 15ms/step - loss: 707.6815 - val_loss: 2121.6138\n",
            "Epoch 141/1000\n",
            "4/4 [==============================] - 0s 15ms/step - loss: 732.9773 - val_loss: 2776.1863\n",
            "Epoch 142/1000\n",
            "4/4 [==============================] - 0s 16ms/step - loss: 1249.9042 - val_loss: 1621.3490\n",
            "Epoch 143/1000\n",
            "4/4 [==============================] - 0s 14ms/step - loss: 826.3146 - val_loss: 677.7729\n",
            "Epoch 144/1000\n",
            "4/4 [==============================] - 0s 15ms/step - loss: 240.2410 - val_loss: 1354.9467\n",
            "Epoch 145/1000\n",
            "4/4 [==============================] - 0s 15ms/step - loss: 588.9130 - val_loss: 620.0241\n",
            "Epoch 146/1000\n",
            "4/4 [==============================] - 0s 16ms/step - loss: 367.4219 - val_loss: 472.2885\n",
            "Epoch 147/1000\n",
            "4/4 [==============================] - 0s 15ms/step - loss: 258.0154 - val_loss: 559.1860\n",
            "Epoch 148/1000\n",
            "4/4 [==============================] - 0s 15ms/step - loss: 202.0662 - val_loss: 808.6935\n",
            "Epoch 149/1000\n",
            "4/4 [==============================] - 0s 15ms/step - loss: 308.1993 - val_loss: 1390.0157\n",
            "Epoch 150/1000\n",
            "4/4 [==============================] - 0s 14ms/step - loss: 576.7486 - val_loss: 467.7584\n",
            "Epoch 151/1000\n",
            "4/4 [==============================] - 0s 17ms/step - loss: 653.0344 - val_loss: 1515.5427\n",
            "Epoch 152/1000\n",
            "4/4 [==============================] - 0s 15ms/step - loss: 981.5182 - val_loss: 1264.5857\n",
            "Epoch 153/1000\n",
            "4/4 [==============================] - 0s 15ms/step - loss: 719.6947 - val_loss: 1119.1295\n",
            "Epoch 154/1000\n",
            "4/4 [==============================] - 0s 14ms/step - loss: 429.0520 - val_loss: 310.5839\n",
            "Epoch 155/1000\n",
            "4/4 [==============================] - 0s 15ms/step - loss: 247.7033 - val_loss: 1124.4186\n",
            "Epoch 156/1000\n",
            "4/4 [==============================] - 0s 14ms/step - loss: 480.4731 - val_loss: 1031.3668\n",
            "Epoch 157/1000\n",
            "4/4 [==============================] - 0s 15ms/step - loss: 473.3627 - val_loss: 1657.0969\n",
            "Epoch 158/1000\n",
            "4/4 [==============================] - 0s 20ms/step - loss: 1120.1825 - val_loss: 1428.2972\n",
            "Epoch 159/1000\n",
            "4/4 [==============================] - 0s 14ms/step - loss: 1029.5861 - val_loss: 1331.1248\n",
            "Epoch 160/1000\n",
            "4/4 [==============================] - 0s 15ms/step - loss: 905.5458 - val_loss: 1877.1476\n",
            "Epoch 161/1000\n",
            "4/4 [==============================] - 0s 15ms/step - loss: 1355.3263 - val_loss: 1132.7217\n",
            "Epoch 162/1000\n",
            "4/4 [==============================] - 0s 14ms/step - loss: 805.8143 - val_loss: 402.7685\n",
            "Epoch 163/1000\n",
            "4/4 [==============================] - 0s 14ms/step - loss: 1169.6031 - val_loss: 4121.1147\n",
            "Epoch 164/1000\n",
            "4/4 [==============================] - 0s 15ms/step - loss: 1380.6372 - val_loss: 3347.0911\n",
            "Epoch 165/1000\n",
            "4/4 [==============================] - 0s 16ms/step - loss: 1578.4154 - val_loss: 1078.4308\n",
            "Epoch 166/1000\n",
            "4/4 [==============================] - 0s 16ms/step - loss: 798.2082 - val_loss: 1371.8888\n",
            "Epoch 167/1000\n",
            "4/4 [==============================] - 0s 17ms/step - loss: 743.0986 - val_loss: 1066.8259\n",
            "Epoch 168/1000\n",
            "4/4 [==============================] - 0s 15ms/step - loss: 457.4686 - val_loss: 2260.2207\n",
            "Epoch 169/1000\n",
            "4/4 [==============================] - 0s 14ms/step - loss: 854.6642 - val_loss: 1029.4349\n",
            "Epoch 170/1000\n",
            "4/4 [==============================] - 0s 15ms/step - loss: 326.6634 - val_loss: 357.4167\n",
            "Epoch 171/1000\n",
            "4/4 [==============================] - 0s 16ms/step - loss: 277.6449 - val_loss: 1265.8818\n",
            "Epoch 172/1000\n",
            "4/4 [==============================] - 0s 14ms/step - loss: 447.3707 - val_loss: 922.8718\n",
            "Epoch 173/1000\n",
            "4/4 [==============================] - 0s 14ms/step - loss: 337.5024 - val_loss: 1293.3312\n",
            "Epoch 174/1000\n",
            "4/4 [==============================] - 0s 19ms/step - loss: 785.1193 - val_loss: 2422.2073\n"
          ]
        },
        {
          "output_type": "execute_result",
          "data": {
            "text/plain": [
              "<keras.callbacks.History at 0x7fef76422550>"
            ]
          },
          "metadata": {},
          "execution_count": 55
        }
      ]
    },
    {
      "cell_type": "code",
      "source": [
        "model_3_multi = tf.keras.models.load_model(\"models/model_lstm_multi\")\n",
        "model_3_multi.evaluate(x_test, y_test)"
      ],
      "metadata": {
        "colab": {
          "base_uri": "https://localhost:8080/"
        },
        "outputId": "401f972a-7cbf-4c80-8f0b-6a737cda71cc",
        "id": "jAqW5gyRtmBI"
      },
      "execution_count": 56,
      "outputs": [
        {
          "output_type": "stream",
          "name": "stdout",
          "text": [
            "WARNING:tensorflow:Layer lstm_1 will not use cuDNN kernels since it doesn't meet the criteria. It will use a generic GPU kernel as fallback when running on GPU.\n"
          ]
        },
        {
          "output_type": "stream",
          "name": "stderr",
          "text": [
            "WARNING:tensorflow:Layer lstm_1 will not use cuDNN kernels since it doesn't meet the criteria. It will use a generic GPU kernel as fallback when running on GPU.\n"
          ]
        },
        {
          "output_type": "stream",
          "name": "stdout",
          "text": [
            "WARNING:tensorflow:Layer lstm_1 will not use cuDNN kernels since it doesn't meet the criteria. It will use a generic GPU kernel as fallback when running on GPU.\n"
          ]
        },
        {
          "output_type": "stream",
          "name": "stderr",
          "text": [
            "WARNING:tensorflow:Layer lstm_1 will not use cuDNN kernels since it doesn't meet the criteria. It will use a generic GPU kernel as fallback when running on GPU.\n"
          ]
        },
        {
          "output_type": "stream",
          "name": "stdout",
          "text": [
            "WARNING:tensorflow:Layer lstm_1 will not use cuDNN kernels since it doesn't meet the criteria. It will use a generic GPU kernel as fallback when running on GPU.\n"
          ]
        },
        {
          "output_type": "stream",
          "name": "stderr",
          "text": [
            "WARNING:tensorflow:Layer lstm_1 will not use cuDNN kernels since it doesn't meet the criteria. It will use a generic GPU kernel as fallback when running on GPU.\n"
          ]
        },
        {
          "output_type": "stream",
          "name": "stdout",
          "text": [
            "11/11 [==============================] - 1s 3ms/step - loss: 818.8691\n"
          ]
        },
        {
          "output_type": "execute_result",
          "data": {
            "text/plain": [
              "818.869140625"
            ]
          },
          "metadata": {},
          "execution_count": 56
        }
      ]
    },
    {
      "cell_type": "code",
      "source": [
        "# Make predictions with our LSTM model\n",
        "model_3_multi_preds = make_prediction(model_3_multi, x_test)"
      ],
      "metadata": {
        "id": "wiBvaMFOtmBI"
      },
      "execution_count": 57,
      "outputs": []
    },
    {
      "cell_type": "code",
      "source": [
        "offset=len(x_test)-100\n",
        "plt.figure(figsize=(10,7))\n",
        "plot_time_series(timesteps=X_test[-len(test_windows):], values=test_labels[:,0], format=\"-\", start=offset, label=\"Test Data\")\n",
        "plot_time_series(timesteps=x_test.index.to_numpy(), values=model_3_multi_preds, format=\"-\", start=offset, label=\"Model-3-LSTM-multivariate prediction\")"
      ],
      "metadata": {
        "colab": {
          "base_uri": "https://localhost:8080/",
          "height": 442
        },
        "outputId": "55549062-d307-41a8-fcf4-1b05287b279a",
        "id": "uY5yFqqWtmBJ"
      },
      "execution_count": 58,
      "outputs": [
        {
          "output_type": "display_data",
          "data": {
            "text/plain": [
              "<Figure size 720x504 with 1 Axes>"
            ],
            "image/png": "[encoded data removed]"
          },
          "metadata": {
            "needs_background": "light"
          }
        }
      ]
    },
    {
      "cell_type": "code",
      "source": [
        "model_3_results_multi = evaluate_preds(y_true=tf.squeeze(y_test), y_pred=model_3_multi_preds)\n",
        "model_3_results_multi"
      ],
      "metadata": {
        "colab": {
          "base_uri": "https://localhost:8080/"
        },
        "outputId": "92eedbb9-64b8-4861-f60f-f1dade09efca",
        "id": "h496sU9utmBJ"
      },
      "execution_count": 59,
      "outputs": [
        {
          "output_type": "execute_result",
          "data": {
            "text/plain": [
              "{'mae': 818.8692, 'mape': 3.2820106, 'mse': 1942826.8, 'rmse': 1393.8531}"
            ]
          },
          "metadata": {},
          "execution_count": 59
        }
      ]
    },
    {
      "cell_type": "code",
      "source": [
        "# Testing with random\n",
        "model_3_multi.predict(tf.expand_dims([1,2,3,4,5,6,7,8,9,10,12,12], axis=0))"
      ],
      "metadata": {
        "colab": {
          "base_uri": "https://localhost:8080/"
        },
        "id": "P_KQWTwGwekq",
        "outputId": "4cf55782-6085-4a1a-c67c-6b51fe969645"
      },
      "execution_count": 61,
      "outputs": [
        {
          "output_type": "execute_result",
          "data": {
            "text/plain": [
              "array([[4.990819]], dtype=float32)"
            ]
          },
          "metadata": {},
          "execution_count": 61
        }
      ]
    },
    {
      "cell_type": "code",
      "source": [
        ""
      ],
      "metadata": {
        "id": "Y9jP2EIHx8CC"
      },
      "execution_count": 61,
      "outputs": []
    }
  ]
}